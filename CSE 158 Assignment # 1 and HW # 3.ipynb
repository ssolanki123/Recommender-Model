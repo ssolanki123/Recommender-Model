{
 "cells": [
  {
   "cell_type": "code",
   "execution_count": 50,
   "metadata": {
    "collapsed": false
   },
   "outputs": [],
   "source": [
    "import gzip\n",
    "import numpy\n",
    "import urllib\n",
    "import scipy.optimize\n",
    "import random\n",
    "from collections import defaultdict\n",
    "from sklearn.metrics import mean_absolute_error\n",
    "from sklearn import tree\n",
    "import nltk\n",
    "import string\n",
    "from nltk.stem.porter import *\n",
    "from sklearn import linear_model\n",
    "from sklearn import svm\n",
    "import math\n",
    "from sklearn.ensemble import RandomForestRegressor\n",
    "from sklearn.ensemble import RandomForestClassifier"
   ]
  },
  {
   "cell_type": "code",
   "execution_count": 2,
   "metadata": {
    "collapsed": true
   },
   "outputs": [],
   "source": [
    "def readGz(f):\n",
    "  for l in gzip.open(f):\n",
    "    yield eval(l)"
   ]
  },
  {
   "cell_type": "code",
   "execution_count": 66,
   "metadata": {
    "collapsed": false
   },
   "outputs": [],
   "source": [
    "### Helpfulness baseline: similar to the above. Compute the global average helpfulness rate, and the average helpfulness rate for each user\n",
    "\n",
    "allHelpful = []\n",
    "wordsReview = []\n",
    "rating = []\n",
    "summary = []\n",
    "userHelpful = defaultdict(list)\n",
    "\n",
    "for l in readGz(\"train.json.gz\"):\n",
    "  user,item = l['reviewerID'],l['itemID']\n",
    "  allHelpful.append(l['helpful'])\n",
    "  userHelpful[user].append(l['helpful'])\n",
    "  rating.append(l['rating'])\n",
    "  wordsReview.append(l['reviewText']) \n",
    "  summary.append(l['summary'])\n",
    "\n",
    "allHelpful = [d for d in allHelpful[:]]\n",
    "allwordsReview = [d for d in wordsReview[:]]\n",
    "allRating = [d for d in rating[:]]\n",
    "allSummary = [d for d in summary[:]]\n",
    "\n",
    "trainingHelpful = [d for d in allHelpful[0:(len(allHelpful)/2)]]\n",
    "trainingwordsReview = [d for d in wordsReview[0:len(wordsReview)/2]]\n",
    "trainingRating = [d for d in rating[0:len(rating)/2]]\n",
    "trainingSummary = [d for d in summary[0:len(summary)/2]]\n",
    "\n",
    "validationHelpful = [d for d in allHelpful[(len(allHelpful)/2):len(allHelpful)]]\n",
    "validationwordsReview = [d for d in wordsReview[len(wordsReview)/2:len(wordsReview)]]\n",
    "validationRating = [d for d in rating[len(rating)/2:len(rating)]]\n",
    "validationSummary = [d for d in summary[len(summary)/2:len(summary)]]\n"
   ]
  },
  {
   "cell_type": "code",
   "execution_count": 107,
   "metadata": {
    "collapsed": false
   },
   "outputs": [
    {
     "name": "stdout",
     "output_type": "stream",
     "text": [
      "0.85040619252\n",
      "0.853527624877\n",
      "0.664070799349\n",
      "[ 0.224258    0.00135352 -0.01353531]\n",
      "=========================\n",
      "0.409520148467\n",
      "=========================\n",
      "[ 0.21432598  0.00142808 -0.01240441]\n",
      "=========================\n",
      "0.417198260867\n",
      "=========================\n"
     ]
    }
   ],
   "source": [
    "#For question 1 on Hw 3 / Compute averagetrainRate to determine alpha = nHelpful/outOf\n",
    "averagetrainRate = sum([x['nHelpful'] for x in trainingHelpful]) * 1.0 / sum([x['outOf'] for x in trainingHelpful])\n",
    "print(averagetrainRate)\n",
    "\n",
    "#For question 2 on HW 3 /Compute averagevalidationRate to determine alpha = nHelpful/outOf\n",
    "averagevalidationRate = sum([x['nHelpful'] for x in validationHelpful]) * 1.0 / sum([x['outOf'] for x in validationHelpful])\n",
    "print(averagevalidationRate)\n",
    "\n",
    "sumValidation = 0\n",
    "for x in validationHelpful:\n",
    "    if(x['outOf'] != 0):\n",
    "        sumValidation += abs((x['nHelpful'] * 1.0/ x['outOf']) - averagevalidationRate)\n",
    "    else:\n",
    "        sumValidation += averagevalidationRate\n",
    "MAE = (sumValidation * 1.0) / len(validationHelpful) \n",
    "print(MAE)\n",
    "\n",
    "#For question 3 on HW 3/ Fit a predictor of the form \n",
    "#Function Definition that creates a data entry (row vector) consisting of alpha/words in review/review's rating in stars\n",
    "def feature(wordsInReview, reviewRating,):\n",
    "  feat = [1,len(wordsInReview.split()),reviewRating,]\n",
    "  return feat\n",
    "#********************************************************************************************************\n",
    "#For all 200,000 reviews in training data                                                               *\n",
    "def feature2(wordsInReview, reviewRating,summary):                                                      # \n",
    "  feat = [1,len(wordsInReview.split())**10,reviewRating**10]                                            # \n",
    "  return feat                                            \n",
    "XAll = [feature2(x,y,z) for x,y,z in zip(allwordsReview,allRating,allSummary)]\n",
    "YAll = []\n",
    "\n",
    "for i in allHelpful:\n",
    "    if(i['outOf'] != 0):\n",
    "        YAll.append(i['nHelpful'] * 1.0/i['outOf'])\n",
    "    else:\n",
    "        YAll.append(0)\n",
    "#*************************************************************************************************************\n",
    "XValidation = [feature(x,y) for x,y in zip(validationwordsReview,validationRating)]\n",
    "YValidation = []\n",
    "for i in validationHelpful:\n",
    "    if(i['outOf'] != 0):\n",
    "        YValidation.append(i['nHelpful'] * 1.0/i['outOf'])\n",
    "    else:\n",
    "        YValidation.append(0)\n",
    "\n",
    "theta,residuals,rank,s = numpy.linalg.lstsq(XValidation,YValidation)\n",
    "print(theta)\n",
    "alpha = 0.224258\n",
    "beta1 = 0.00135352\n",
    "beta2 = -0.01353531\n",
    "\n",
    "\n",
    "yValidationPredictions = []\n",
    "for d,e in zip(XValidation,validationHelpful):\n",
    "    yValidationPredictions.append(((d[0] * alpha) + (d[1] * beta1) + (d[2] * beta2))*e['outOf'])\n",
    "for i,j in zip(YValidation,validationHelpful):\n",
    "    i = i * j['outOf'] \n",
    "print(\"=========================\")\n",
    "print(mean_absolute_error(YValidation, yValidationPredictions))\n",
    "print(\"=========================\")\n",
    "\n",
    "XTraining = [feature(x,y) for x,y in zip(trainingwordsReview,trainingRating)]\n",
    "YTraining = []\n",
    "for i in trainingHelpful:\n",
    "    if(i['outOf'] != 0):\n",
    "        YTraining.append(i['nHelpful'] * 1.0 / i['outOf'])\n",
    "    else:\n",
    "        YTraining.append(0)\n",
    "        \n",
    "theta,residuals,rank,s = numpy.linalg.lstsq(XTraining,YTraining)\n",
    "print(theta)\n",
    "alpha = 0.21432598\n",
    "beta1 =  0.00142808\n",
    "beta2 = -0.01240441\n",
    "yTrainingPredictions = []\n",
    "for d,e in zip(XTraining,trainingHelpful):\n",
    "    yTrainingPredictions.append(((d[0] * alpha) + (d[1] * beta1) + (d[2] * beta2)) * e['outOf']) \n",
    "for i,j in zip(YTraining,trainingHelpful):\n",
    "    i = i * j['outOf']\n",
    "print(\"=========================\")\n",
    "print(mean_absolute_error(YTraining, yTrainingPredictions))\n",
    "print(\"=========================\")\n",
    "\n",
    "\n",
    "\n",
    "#averageRate = sum([x['nHelpful'] for x in allHelpful]) * 1.0 / (sum([x['outOf'] for x in allHelpful]))\n",
    "#print(averageRate)\n",
    "#userRate = {}\n",
    "#for u in userHelpful:\n",
    "#  totalU = sum([x['outOf'] for x in userHelpful[u]])\n",
    "#  if totalU > 0:\n",
    "#    userRate[u] = sum([x['nHelpful'] for x in userHelpful[u]]) * 1.0 / totalU\n",
    "#  else:\n",
    "#    userRate[u] = averageRate\n",
    "\n"
   ]
  },
  {
   "cell_type": "code",
   "execution_count": 101,
   "metadata": {
    "collapsed": false
   },
   "outputs": [
    {
     "name": "stdout",
     "output_type": "stream",
     "text": [
      "200000\n"
     ]
    }
   ],
   "source": [
    "print(len(YAll))"
   ]
  },
  {
   "cell_type": "code",
   "execution_count": 108,
   "metadata": {
    "collapsed": false
   },
   "outputs": [
    {
     "data": {
      "text/plain": [
       "RandomForestRegressor(bootstrap=True, criterion='mse', max_depth=None,\n",
       "           max_features='auto', max_leaf_nodes=None, min_samples_leaf=1,\n",
       "           min_samples_split=2, min_weight_fraction_leaf=0.0,\n",
       "           n_estimators=1000, n_jobs=1, oob_score=False, random_state=None,\n",
       "           verbose=0, warm_start=False)"
      ]
     },
     "execution_count": 108,
     "metadata": {},
     "output_type": "execute_result"
    }
   ],
   "source": [
    "\n",
    "regressor = RandomForestRegressor(n_estimators=1000)\n",
    "regressor.fit(XAll, YAll)\n"
   ]
  },
  {
   "cell_type": "code",
   "execution_count": 111,
   "metadata": {
    "collapsed": false
   },
   "outputs": [
    {
     "name": "stdout",
     "output_type": "stream",
     "text": [
      "14000\n"
     ]
    }
   ],
   "source": [
    "\n",
    "count = 0 \n",
    "userHelpful = defaultdict(list)\n",
    "rating = []\n",
    "wordsReview = []\n",
    "testHelpful = []\n",
    "summary = []\n",
    "for l in readGz(\"test_Helpful.json.gz\"):\n",
    "  count += 1\n",
    "  user,item = l['reviewerID'],l['itemID']\n",
    "  userHelpful[user].append(item)\n",
    "  rating.append(l['rating'])\n",
    "  wordsReview.append(l['reviewText']) \n",
    "  testHelpful.append(l)\n",
    "  summary.append(l['summary'])\n",
    "\n",
    "testwordsReview = [d for d in wordsReview[:]]\n",
    "testRating = [d for d in rating[:]]\n",
    "testSummary = [d for d in summary[:]]\n",
    "\n",
    "XTest = [feature2(x,y,z) for x,y,z in zip(testwordsReview, testRating, testSummary)]\n",
    "\n",
    "alpha = 0.224258\n",
    "beta1 = 0.00135352\n",
    "beta2 = -0.01353531\n",
    "\n",
    "yTestPredictions = []\n",
    "for d in XTest:\n",
    "    yTestPredictions.append((d[0] * alpha) + (d[1] * beta1) + (d[2] * beta2))\n",
    "\n",
    "    allUsersTestSet = []\n",
    "for a,b in zip(readGz(\"test_Helpful.json.gz\"),yTestPredictions):\n",
    "     allUsersTestSet.append([a['reviewerID'],a['itemID'],b])\n",
    "    \n",
    "\n",
    "hold = regressor.predict(XTest)\n",
    "print(len(hold))\n",
    "\n",
    "\n"
   ]
  },
  {
   "cell_type": "code",
   "execution_count": 116,
   "metadata": {
    "collapsed": false
   },
   "outputs": [],
   "source": [
    "predictions = open(\"predictions_Helpful.txt\", 'w')\n",
    "counter = 0\n",
    "for l in open(\"pairs_Helpful.txt\"):\n",
    "  if l.startswith(\"userID\"):\n",
    "    #header\n",
    "    predictions.write(l)\n",
    "    continue\n",
    "  u,i,outOf = l.strip().split('-')\n",
    "  outOf = int(outOf)\n",
    "    \n",
    "  predictions.write(u + '-' + i + '-' + str(outOf) + ',' + str(outOf*hold[counter]) + '\\n')  #Need to multiply by outOf\n",
    "  counter += 1\n",
    "  #for x in allUsersTestSet:\n",
    "  #   if(x[0] == u) and (x[1] == i):\n",
    "  #          predictions.write(u + '-' + i + '-' + str(outOf) + ',' + str(outOf*x[2]) + '\\n')\n",
    "  #          break\n",
    "\n",
    "predictions.close()"
   ]
  },
  {
   "cell_type": "code",
   "execution_count": 8,
   "metadata": {
    "collapsed": false
   },
   "outputs": [],
   "source": [
    "#Question 5 on HW # 3 (Category Prediction)\n",
    "### Category prediction baseline: Just consider some of the most common words from each category\n",
    "allCategoryReviews = []\n",
    "userCategory = defaultdict(list)\n",
    "\n",
    "for l in readGz(\"train.json.gz\"):\n",
    "  user,item = l['reviewerID'],l['itemID']\n",
    "  allCategoryReviews.append(l)\n",
    "  if(user not in userCategory):\n",
    "     userCategory[user].append([0,0,0,0,0])\n",
    "\n",
    "\n",
    "trainingCategory = [d for d in allHelpful[0:(len(allCategoryReviews)/2)]]\n",
    "\n",
    "validationCategory = [d for d in allHelpful[(len(allCategoryReviews)/2):len(allCategoryReviews)]]\n"
   ]
  },
  {
   "cell_type": "code",
   "execution_count": 9,
   "metadata": {
    "collapsed": false
   },
   "outputs": [],
   "source": [
    "\n",
    "counter = 0\n",
    "\n",
    "for d in readGz(\"train.json.gz\"):\n",
    "    if(counter >= 100000):\n",
    "        break\n",
    "    else:\n",
    "        listxs = userCategory.get(d['reviewerID'])\n",
    "        if(d['categoryID'] == 0):\n",
    "            listxs[0][0] = listxs[0][0] + 1\n",
    "        elif(d['categoryID'] == 1):\n",
    "            listxs[0][1] = listxs[0][1] + 1\n",
    "        elif(d['categoryID'] == 2):\n",
    "            listxs[0][2] = listxs[0][2] + 1\n",
    "        elif(d['categoryID'] == 3):\n",
    "            listxs[0][3] = listxs[0][3] + 1\n",
    "        elif(d['categoryID'] == 4):\n",
    "            listxs[0][4] = listxs[0][4] + 1\n",
    "        userCategory[d['reviewerID']] = listxs\n",
    "        counter += 1\n",
    "\n"
   ]
  },
  {
   "cell_type": "code",
   "execution_count": 10,
   "metadata": {
    "collapsed": false
   },
   "outputs": [
    {
     "name": "stdout",
     "output_type": "stream",
     "text": [
      "[1, 0, 0, 0, 2]\n"
     ]
    }
   ],
   "source": [
    "print(userCategory['U127983630'][0])\n",
    "counter = 0\n",
    "categoricalReview = []\n",
    "ActualCategory = []\n",
    "for d in readGz(\"train.json.gz\"):\n",
    "    if(counter < 100000):\n",
    "        counter += 1\n",
    "        continue\n",
    "    else:\n",
    "        category1 = userCategory[d['reviewerID']][0][0] \n",
    "        category2 = userCategory[d['reviewerID']][0][1]\n",
    "        category3 = userCategory[d['reviewerID']][0][2]\n",
    "        category4 = userCategory[d['reviewerID']][0][3]\n",
    "        category5 = userCategory[d['reviewerID']][0][4]\n",
    "        catDict = {0 : category1, 1 : category2, 2 : category3, 3 : category4, 4 : category5}\n",
    "        categoricalReview.append(max(catDict, key=lambda k: catDict[k]))\n",
    "\n",
    "        ActualCategory.append(d['categoryID'])\n",
    "\n",
    "        "
   ]
  },
  {
   "cell_type": "code",
   "execution_count": 11,
   "metadata": {
    "collapsed": false
   },
   "outputs": [
    {
     "name": "stdout",
     "output_type": "stream",
     "text": [
      "0.2749\n"
     ]
    }
   ],
   "source": [
    "print(mean_absolute_error(categoricalReview, ActualCategory))"
   ]
  },
  {
   "cell_type": "code",
   "execution_count": 12,
   "metadata": {
    "collapsed": false
   },
   "outputs": [],
   "source": [
    "#Question 6\n",
    "\n",
    "### Ignore capitalization and remove punctuation\n",
    "\n",
    "wordCount = defaultdict(int)\n",
    "punctuation = set(string.punctuation)\n",
    "counter = 0\n",
    "for d in readGz(\"train.json.gz\"):\n",
    "  if(counter >= 100000):\n",
    "    break\n",
    "  else:\n",
    "    ### Just take the most popular words...\n",
    "    r = ''.join([c for c in d['reviewText'].lower() if not c in punctuation])\n",
    "    counter += 1\n",
    "    for w in r.split():\n",
    "        wordCount[w] += 1\n",
    "\n",
    "counts = [(wordCount[w], w) for w in wordCount]\n",
    "counts.sort()\n",
    "counts.reverse()\n",
    "\n",
    "words = [x[1] for x in counts[:500]]\n",
    "sumTotalWords = 0;\n",
    "for d in counts[:500]:\n",
    "    sumTotalWords += d[0]\n",
    "\n",
    "fW = {}\n",
    "for d in counts[:500]:\n",
    "    fW[d[1]] = d[0] * 1.0 / sumTotalWords\n",
    "#frequencyWords = {}\n",
    "#for d in words:\n",
    "    "
   ]
  },
  {
   "cell_type": "code",
   "execution_count": 13,
   "metadata": {
    "collapsed": false
   },
   "outputs": [
    {
     "name": "stdout",
     "output_type": "stream",
     "text": [
      "defaultdict(<type 'int'>, {'all': 0, 'chain': 0, 'go': 0, 'everything': 0, 'to': 0, 'under': 0, 'worth': 0, 'sizing': 0, '7': 0, 'outside': 0, 'very': 0, 'every': 0, 'fall': 0, 'room': 0, 'durable': 0, 'did': 0, 'large': 0, 'item': 0, 'small': 0, 'havent': 0, 'clothes': 0, 'smaller': 0, 'says': 0, 'boots': 0, 'second': 0, 'design': 0, 'shirts': 0, 'uncomfortable': 0, 'casual': 0, 'blue': 0, 'what': 0, 'pleased': 0, 'wouldnt': 0, 'goes': 0, 'new': 0, 'ever': 0, 'can': 0, 'body': 0, 'toes': 0, 'never': 0, 'here': 0, 'water': 0, 'others': 0, 'sexy': 0, 'box': 0, 'great': 0, 'daughter': 0, 'my': 0, 'larger': 0, 'arent': 0, 'usually': 0, 'narrow': 0, 'makes': 0, 'thats': 0, 'love': 0, 'extra': 0, 'highly': 0, 'snug': 0, 'bra': 0, 'use': 0, 'from': 0, 'would': 0, 'two': 0, 'next': 0, 'few': 0, 'recommend': 0, 'type': 0, 'tell': 0, 'more': 0, 'warm': 0, 'excellent': 0, 'hold': 0, 'glad': 0, 'me': 0, 'wore': 0, 'this': 0, 'work': 0, 'worn': 0, 'reviews': 0, 'wallet': 0, 'thin': 0, 'didnt': 0, 'beautiful': 0, 'want': 0, 'give': 0, 'awesome': 0, 'lightweight': 0, 'high': 0, 'something': 0, 'purchased': 0, 'times': 0, 'dress': 0, 'returned': 0, 'end': 0, 'winter': 0, 'skirt': 0, 'comfort': 0, 'how': 0, 'hot': 0, 'instead': 0, 'product': 0, 'tried': 0, 'may': 0, 'overall': 0, 'after': 0, 'wrong': 0, 'stars': 0, 'fits': 0, 'such': 0, 'arch': 0, 'a': 0, 'purchase': 0, 'short': 0, 'waist': 0, 'light': 0, 'straps': 0, 'feels': 0, 'so': 0, 'necklace': 0, 'leggings': 0, 'order': 0, 'cute': 0, 'shoes': 0, 'over': 0, 'years': 0, 'isnt': 0, 'through': 0, 'looks': 0, 'cold': 0, 'still': 0, 'its': 0, 'before': 0, 'perfect': 0, 'style': 0, 'fit': 0, 'actually': 0, 'better': 0, 'cool': 0, 'might': 0, 'then': 0, 'them': 0, 'good': 0, 'return': 0, 'material': 0, 'band': 0, 'they': 0, 'half': 0, 'foot': 0, 'now': 0, 'day': 0, 'bigger': 0, 'wont': 0, 'easily': 0, 'always': 0, 'nicely': 0, 'weather': 0, 'found': 0, 'went': 0, 'side': 0, 'heavy': 0, 'weight': 0, 'house': 0, 'hard': 0, 'expect': 0, 'year': 0, 'ring': 0, 'really': 0, 'try': 0, 'since': 0, 'washed': 0, 'looking': 0, 'wide': 0, 'got': 0, 'red': 0, 'guess': 0, 'quite': 0, 'reason': 0, 'put': 0, 'wanted': 0, 'pairs': 0, 'could': 0, 'days': 0, 'keep': 0, 'thing': 0, 'length': 0, 'place': 0, 'think': 0, 'first': 0, 'already': 0, 'dont': 0, 'feel': 0, 'one': 0, 'feet': 0, 'wash': 0, 'fast': 0, 'another': 0, 'thick': 0, 'quality': 0, 'size': 0, 'little': 0, 'needed': 0, 'ordering': 0, 'top': 0, 'comfy': 0, 'least': 0, 'anyone': 0, 'their': 0, '2': 0, 'too': 0, 'white': 0, 'perfectly': 0, 'store': 0, 'toe': 0, 'lot': 0, 'that': 0, 'exactly': 0, 'took': 0, 'part': 0, 'than': 0, 'loved': 0, 'kind': 0, '12': 0, 'compliments': 0, 'loves': 0, 'were': 0, 'and': 0, 'wasnt': 0, 'mine': 0, 'comfortable': 0, 'say': 0, 'medium': 0, 'have': 0, 'need': 0, 'seem': 0, 'any': 0, 'shorts': 0, 'able': 0, 'also': 0, 'take': 0, 'which': 0, 'even': 0, 'sure': 0, 'though': 0, 'price': 0, 'who': 0, 'most': 0, 'regular': 0, 'pair': 0, 'extremely': 0, 'why': 0, 'especially': 0, 'sturdy': 0, 'looked': 0, 'definitely': 0, 'normally': 0, 'review': 0, 'came': 0, 'walking': 0, 'gold': 0, 'show': 0, 'cheap': 0, 'colors': 0, 'shoe': 0, 'fine': 0, 'find': 0, 'with': 0, 'enough': 0, 'should': 0, 'only': 0, 'going': 0, 'black': 0, 'pretty': 0, '8': 0, 'wearing': 0, 'do': 0, 'his': 0, 'get': 0, 'watch': 0, 'legs': 0, 'amazon': 0, 'ones': 0, 'him': 0, 'runs': 0, 'leather': 0, 'bag': 0, 'bad': 0, 'she': 0, 'bought': 0, 'where': 0, 'husband': 0, 'set': 0, 'see': 0, 'decided': 0, 'are': 0, 'best': 0, 'said': 0, 'away': 0, '3': 0, 'between': 0, 'probably': 0, 'pants': 0, 'we': 0, 'loose': 0, 'wears': 0, 'sole': 0, 'however': 0, 'wear': 0, 'come': 0, 'bras': 0, 'both': 0, 'last': 0, 'brown': 0, 'many': 0, 'ill': 0, 'comes': 0, 'liked': 0, 'color': 0, 'seems': 0, 'jeans': 0, 'walk': 0, 'expensive': 0, 'belt': 0, 'stretch': 0, 'three': 0, 'been': 0, 'quickly': 0, 'much': 0, 'expected': 0, 'dry': 0, 'received': 0, 'sleeves': 0, 'those': 0, 'myself': 0, 'look': 0, 'these': 0, 'will': 0, 'while': 0, 'slippers': 0, 'ive': 0, 'almost': 0, 'is': 0, 'it': 0, 'cant': 0, 'someone': 0, 'im': 0, 'in': 0, 'id': 0, 'if': 0, 'different': 0, 'shirt': 0, 'things': 0, 'make': 0, 'same': 0, '9': 0, 'several': 0, 'used': 0, 'running': 0, 'arrived': 0, 'sandals': 0, 'off': 0, 'i': 0, 'youre': 0, 'well': 0, 'thought': 0, 'person': 0, 'without': 0, 'the': 0, 'summer': 0, 'just': 0, 'less': 0, 'being': 0, 'money': 0, 'front': 0, 'shape': 0, 'yet': 0, 'cut': 0, 'had': 0, 'silver': 0, '4': 0, 'easy': 0, 'has': 0, 'hat': 0, 'gave': 0, 'real': 0, 'around': 0, 'read': 0, 'big': 0, 'couple': 0, 'dark': 0, 'know': 0, 'bit': 0, 'strap': 0, 'disappointed': 0, 'like': 0, 'gift': 0, 'sizes': 0, 'bracelet': 0, 'theyre': 0, 'either': 0, 'stylish': 0, 'nice': 0, 'soft': 0, 'heel': 0, 'because': 0, 'old': 0, 'deal': 0, 'people': 0, 'absolutely': 0, 'some': 0, 'back': 0, 'for': 0, 'bottom': 0, 'normal': 0, 'when': 0, 'does': 0, 'earrings': 0, 'christmas': 0, 'be': 0, 'run': 0, 'although': 0, 'super': 0, 'by': 0, 'on': 0, 'about': 0, 'works': 0, 'ok': 0, 'anything': 0, 'getting': 0, 'of': 0, 'months': 0, 'favorite': 0, 'shipping': 0, 'plus': 0, 'pockets': 0, 'slightly': 0, 'or': 0, 'own': 0, 'into': 0, 'socks': 0, 'son': 0, 'down': 0, 'nothing': 0, 'doesnt': 0, 'couldnt': 0, 'your': 0, 'fabric': 0, 'her': 0, 'area': 0, 'support': 0, 'there': 0, 'long': 0, 'width': 0, 'low': 0, 'way': 0, 'was': 0, 'happy': 0, 'buy': 0, 'slip': 0, 'brand': 0, '6': 0, 'but': 0, 'true': 0, 'buying': 0, 'he': 0, 'made': 0, 'wish': 0, 'inside': 0, 'up': 0, 'problem': 0, 'piece': 0, 'ordered': 0, 'am': 0, 'watches': 0, 'an': 0, 'as': 0, 'right': 0, 'at': 0, 'cotton': 0, 'again': 0, 'maybe': 0, 'no': 0, 'not': 0, 'boot': 0, 'tight': 0, 'other': 0, '5': 0, 'you': 0, 'out': 0, '10': 0, 'picture': 0, 'felt': 0, 'stay': 0, 'longer': 0, 'wife': 0, 'jacket': 0, 'fact': 0, 'time': 0, 'far': 0, 'having': 0, 'once': 0})\n",
      "[(-0.0013385977179753612, 'he'), (-0.0010356459552676757, 'for'), (-0.000847858623421461, 'watch'), (-0.0007513947693853842, 'the'), (-0.0006745720070973071, 'of'), (-0.000631337982299229, 'good'), (-0.0005119283806440094, 'these'), (-0.0004962978736594298, 'husband'), (-0.0004552967657338766, 'his'), (-0.00043242309064309495, 'well'), (-0.000423923232320544, 'quality'), (-0.00036376181762031736, 'socks'), (-0.00035528769059063066, 'him'), (-0.00033320100254785725, 'son'), (-0.0003170160736251352, 'we'), (-0.00030595828434906995, 'shirt'), (-0.0003006046789689556, 'has'), (-0.0003001013625251771, 'are'), (-0.0002776734613638074, 'and'), (-0.00027252188031151505, 'time'), (-0.0002590963373004032, 'as'), (-0.0002562041585686707, 'great'), (-0.0002559822950504928, 'my'), (-0.0002528575282770033, 'you'), (-0.00024158602916390644, 'belt'), (-0.0002396939023735986, 'is'), (-0.00023547016358645368, 'shirts'), (-0.00023426881372604937, 'years'), (-0.0002337943751220755, 'pants'), (-0.00023197902462187767, 'to'), (-0.00022640236934660593, 'that'), (-0.00022472298507292255, 'loves'), (-0.00021237023985501256, 'old'), (-0.00019519300186174413, 'wallet'), (-0.00018774708409578138, 'use'), (-0.00018359996107550954, 'bought'), (-0.00018263590149826493, 'price'), (-0.00018082714264997315, 'new'), (-0.00017937661301739376, 'last'), (-0.00017742437876162268, 'shorts'), (-0.00017440381722792124, 'pair'), (-0.00017050169568780233, 'year'), (-0.00016895605451409772, 'made'), (-0.0001651573654977031, 'watches'), (-0.00016340168542672198, 'buy'), (-0.00015318943059866575, 'wears'), (-0.00014729022528049782, 'fit'), (-0.00014697147306293548, 'after'), (-0.00014496011722300254, 'about'), (-0.00013966061995806687, 'warm'), (-0.00013586705558598505, 'a'), (-0.00013474035999219355, 'from'), (-0.0001346528406176068, 'months'), (-0.000133917286888659, 'at'), (-0.00013170396873836367, 'durable'), (-0.0001306929673254415, 'when'), (-0.00012642658206131637, 'running'), (-0.0001251354995186909, 'some'), (-0.00012503265581246132, 'hat'), (-0.00012332268774360787, 'better'), (-0.00011350982215289148, 'product'), (-0.00011301831569668092, 'out'), (-0.00011265486421774469, 'now'), (-0.00011021614527330435, 'jacket'), (-0.00010740731395891302, 'jeans'), (-0.00010478280488226748, 'work'), (-0.00010474657686439508, 'their'), (-0.00010306408360899987, 'been'), (-0.00010274439181735687, 'leather'), (-9.886367301717664e-05, 'used'), (-9.848529186318655e-05, 'pockets'), (-9.608626504591436e-05, 'heavy'), (-9.533918721787234e-05, 'who'), (-9.43339676190007e-05, 'cotton'), (-9.405341670225655e-05, 'band'), (-9.391756272798444e-05, 'seems'), (-9.381776554257025e-05, 'same'), (-9.335980597333766e-05, 'seem'), (-9.28646266135911e-05, 'than'), (-8.90615797776027e-05, 'excellent'), (-8.867776756614834e-05, 'amazon'), (-8.609253302819045e-05, 'will'), (-8.578434436753101e-05, 'wash'), (-8.45722743545445e-05, 'best'), (-8.434370800913013e-05, 'brand'), (-8.298621857238774e-05, 'cold'), (-8.158595925721263e-05, 'nice'), (-8.133218360453488e-05, 'cool'), (-8.074250445304983e-05, 'few'), (-7.927197947787327e-05, 'feel'), (-7.925724396372564e-05, 'by'), (-7.670599290555621e-05, 'they'), (-7.589712262479596e-05, 'says'), (-7.53415333140002e-05, 'your'), (-7.431492560852409e-05, 'light'), (-7.429107150004209e-05, 'waist'), (-7.28020712752875e-05, 'far'), (-7.136467559860785e-05, '3'), (-6.6352999927037e-05, 'water'), (-6.552144924522335e-05, 'dry'), (-6.51434627478222e-05, 'while'), (-6.494079892428685e-05, 'only'), (-6.417176710403672e-05, 'hold'), (-6.37892139928012e-05, 'money'), (-6.365145160369765e-05, 'be'), (-6.354866839458563e-05, 'thick'), (-6.327351097007981e-05, 'ive'), (-6.319931141374148e-05, 'easy'), (-5.9379315755970987e-05, 'works'), (-5.796830702154538e-05, 'always'), (-5.753113210808791e-05, 'first'), (-5.589154239491389e-05, 'weight'), (-5.537480369954828e-05, 'what'), (-5.404856637692063e-05, 'buying'), (-5.289876886603118e-05, 'over'), (-5.262475151128986e-05, 'two'), (-5.2445309078738925e-05, 'set'), (-5.0763843197430825e-05, 'one'), (-5.018944447758534e-05, 'second'), (-4.895670883927792e-05, 'less'), (-4.8605265879811074e-05, 'say'), (-4.70173099813803e-05, 'other'), (-4.6748709050768885e-05, 'weather'), (-4.6406935937905874e-05, 'days'), (-4.6273339171271034e-05, 'should'), (-4.490321483233812e-05, 'keep'), (-4.430247307024159e-05, 'christmas'), (-4.428340900316846e-05, '2'), (-4.375197235888126e-05, 'couple'), (-4.317410123118288e-05, 'washed'), (-4.303088681650413e-05, 'ones'), (-4.2467304347804146e-05, 'feels'), (-4.1548159160951755e-05, 'again'), (-4.016857376965531e-05, 'both'), (-3.9749636044867276e-05, 'winter'), (-3.926975175009499e-05, 'review'), (-3.6813361502589055e-05, 'any'), (-3.6717945068660395e-05, 'expensive'), (-3.641541722781646e-05, 'most'), (-3.528983921532991e-05, '4'), (-3.513036722970278e-05, 'on'), (-3.325909148362916e-05, 'looking'), (-3.299434931890253e-05, 'casual'), (-3.2306787731611344e-05, 'hard'), (-3.2218798569983776e-05, 'store'), (-3.167615735273925e-05, 'those'), (-3.129189828613593e-05, 'here'), (-3.119940934256818e-05, 'before'), (-3.1191773276026944e-05, 'then'), (-3.0822026295996424e-05, 'purchased'), (-2.970139492059913e-05, 'design'), (-2.9295866777845553e-05, 'deal'), (-2.9211237328393607e-05, 'said'), (-2.914303471512295e-05, 'getting'), (-2.8753553385295718e-05, 'quickly'), (-2.769421103791152e-05, '5'), (-2.7071216725580772e-05, 'expect'), (-2.6712569921387452e-05, 'easily'), (-2.6211364351904926e-05, 'times'), (-2.558908422230048e-05, 'or'), (-2.529704677168746e-05, 'outside'), (-2.467598184229913e-05, 'sole'), (-2.4047980395761233e-05, 'more'), (-2.4046349570845367e-05, 'since'), (-2.3737705756479428e-05, 'pairs'), (-2.3098284607967444e-05, 'come'), (-2.268601410897078e-05, 'still'), (-2.264494385112941e-05, 'slippers'), (-2.2627466708969755e-05, 'three'), (-2.2375493110222402e-05, 'needed'), (-2.2024154547875627e-05, 'ever'), (-2.195914041776628e-05, 'highly'), (-2.186610022192933e-05, 'thing'), (-2.149414823282179e-05, 'hot'), (-2.1439578629160044e-05, '10'), (-2.1183038416578272e-05, 'next'), (-2.1074882683339013e-05, 'dark'), (-2.0775148669067295e-05, 'sturdy'), (-1.996953807435845e-05, 'regular'), (-1.995343906287196e-05, 'take'), (-1.9897439129977013e-05, 'into'), (-1.962462867689433e-05, 'wrong'), (-1.923828363166821e-05, 'ok'), (-1.879973058753774e-05, 'almost'), (-1.8680988365504542e-05, 'which'), (-1.859012391207637e-05, '6'), (-1.84491291398089e-05, 'no'), (-1.7823207337117346e-05, 'theyre'), (-1.7625751143471487e-05, 'find'), (-1.732155491248569e-05, 'type'), (-1.654479726190825e-05, 'read'), (-1.6274795268731985e-05, 'extra'), (-1.6009412087950232e-05, 'found'), (-1.5934504683662374e-05, 'where'), (-1.578642509712314e-05, 'get'), (-1.55782194842264e-05, 'id'), (-1.491137572081616e-05, 'gift'), (-1.4777279900472155e-05, 'several'), (-1.4674897682726007e-05, 'never'), (-1.4556349621599074e-05, 'tell'), (-1.4535437636811754e-05, 'an'), (-1.407932598529335e-05, 'stay'), (-1.3613678150959426e-05, 'room'), (-1.356091889978577e-05, 'having'), (-1.3158579240193393e-05, 'fast'), (-1.2866980346172183e-05, 'people'), (-1.28138410717438e-05, 'being'), (-1.242029218179126e-05, 'wont'), (-1.2051424278724794e-05, '12'), (-1.2034550587394538e-05, 'longer'), (-1.1934582172965771e-05, 'normal'), (-1.190776300889697e-05, 'fact'), (-1.1875393756909569e-05, 'comes'), (-1.1349402803420843e-05, 'least'), (-1.1303899595533642e-05, 'overall'), (-1.1174646015158548e-05, 'fine'), (-1.1168924698225528e-05, 'why'), (-1.0766428442952826e-05, 'run'), (-1.0168390743642806e-05, 'lot'), (-9.935861235223415e-06, 'liked'), (-9.547102386679805e-06, 'know'), (-9.238458572313865e-06, 'slightly'), (-8.74506029838705e-06, 'through'), (-8.684493751657629e-06, 'nothing'), (-7.923626318326153e-06, 'happy'), (-7.05052095829634e-06, 'sizing'), (-6.87383478709168e-06, 'ill'), (-6.775244503336186e-06, 'may'), (-6.723587756700985e-06, 'sure'), (-6.629445056325527e-06, 'quite'), (-6.3015137473118425e-06, 'legs'), (-6.173519267155584e-06, 'others'), (-5.943142569253177e-06, 'thats'), (-5.772334310661807e-06, 'although'), (-5.733260267657206e-06, 'away'), (-5.1171941739181675e-06, 'reason'), (-5.1044548746075145e-06, 'need'), (-4.8652874070651084e-06, 'there'), (-4.138480547754902e-06, 'how'), (-3.968707961807803e-06, 'awesome'), (-3.953815851980057e-06, 'stars'), (-3.914190556706147e-06, 'lightweight'), (-3.895506512887801e-06, 'youre'), (-3.741519747066705e-06, 'side'), (-3.7001884964248306e-06, 'guess'), (-3.5236735542346987e-06, 'every'), (-3.1077008850333024e-06, 'own'), (-2.70651592853958e-06, 'either'), (-2.3233739998088088e-06, 'big'), (-2.1853296497936076e-06, 'much'), (-2.043791923814686e-06, 'instead'), (-1.5819360234714161e-06, 'anyone'), (-1.3408538063206313e-06, 'day'), (-1.0358306969309805e-06, 'especially'), (-7.880290554290628e-07, 'arent'), (-6.214595859773677e-07, 'probably'), (-5.279203364312547e-07, 'house'), (-2.8880506744899306e-07, 'yet'), (2.05092260186987e-07, 'bad'), (2.965977296704998e-07, 'clothes'), (3.689430335181848e-07, 'can'), (7.010233678856215e-07, 'things'), (8.029065319226049e-07, 'doesnt'), (1.1687049822821458e-06, 'once'), (1.2066243221881467e-06, 'inside'), (1.6675489470073805e-06, 'end'), (1.8903939754886774e-06, 'makes'), (2.248712954987307e-06, 'worth'), (2.7034694077244462e-06, 'around'), (2.711671359869087e-06, 'kind'), (3.0074422111357312e-06, 'purchase'), (3.129268519210058e-06, 'long'), (3.274107424028165e-06, 'if'), (3.32894435526687e-06, 'might'), (3.3950463565806874e-06, 'soft'), (3.5994976007124426e-06, 'pleased'), (3.6487405440300993e-06, 'already'), (3.6647434569535633e-06, 'shoes'), (4.0241420090994e-06, 'see'), (4.080916621838058e-06, 'problem'), (4.831354162055865e-06, 'went'), (5.245576975886849e-06, 'up'), (5.505282739738031e-06, 'without'), (5.811892774041424e-06, 'snug'), (6.556228974071321e-06, 'brown'), (6.617175544055577e-06, 'favorite'), (6.797929275385438e-06, 'mine'), (6.884264680205186e-06, 'nicely'), (7.242583659703762e-06, 'decided'), (7.753406877230142e-06, 'extremely'), (7.887540262800034e-06, 'material'), (8.132168054475063e-06, 'isnt'), (8.51554804411444e-06, 'between'), (8.52668578517758e-06, 'recommend'), (9.815316959259877e-06, 'off'), (1.04078192039855e-05, 'such'), (1.0424022612592334e-05, 'put'), (1.0797628358507477e-05, 'sleeves'), (1.1013112946582084e-05, 'runs'), (1.1940616681259332e-05, 'blue'), (1.2811070177063105e-05, 'worn'), (1.3236437066733737e-05, 'many'), (1.3552113496811675e-05, 'exactly'), (1.3599873912336041e-05, 'myself'), (1.4444886374744177e-05, 'daughter'), (1.4592943029391946e-05, 'fall'), (1.4915480846167464e-05, 'comfort'), (1.5028255391801124e-05, 'havent'), (1.5065675677997906e-05, 'actually'), (1.5067158205791251e-05, 'something'), (1.5119537433710127e-05, 'low'), (1.618174043956078e-05, 'sizes'), (1.666352485060708e-05, 'also'), (1.6915028662313676e-05, 'loose'), (1.7015757123251896e-05, 'want'), (1.723773770810356e-05, 'couldnt'), (1.7540868999776785e-05, 'does'), (1.8068133686818604e-05, 'plus'), (1.8074257958898034e-05, 'were'), (1.8136716323344042e-05, 'try'), (1.8499207260087944e-05, 'expected'), (1.8522956971449983e-05, 'someone'), (1.875333366935239e-05, 'maybe'), (1.9015148343718054e-05, 'took'), (1.9040537178553708e-05, 'anything'), (1.990649089241741e-05, 'arrived'), (2.058669203930185e-05, 'real'), (2.0680886938237398e-05, 'box'), (2.171561513062987e-05, 'place'), (2.177831985454207e-05, 'able'), (2.2621797590596825e-05, 'stylish'), (2.3100840373631e-05, 'large'), (2.3850465668779047e-05, 'shipping'), (2.3924203736633938e-05, 'go'), (2.4663987956163782e-05, 'white'), (2.4751254636507566e-05, 'different'), (2.5513671429526572e-05, 'thin'), (2.66541937504009e-05, 'item'), (2.6864955128960927e-05, 'piece'), (2.716760200025919e-05, 'body'), (2.7240199998349848e-05, 'goes'), (2.734604632539185e-05, 'felt'), (2.7383086588333853e-05, 'strap'), (2.7511945512120016e-05, 'right'), (2.7820038074216537e-05, 'another'), (2.843765352764327e-05, 'width'), (2.8478366694121432e-05, 'make'), (2.8906646440818827e-05, 'going'), (3.054222079242779e-05, 'front'), (3.1107114559906536e-05, 'cant'), (3.1126193260313975e-05, 'wouldnt'), (3.124605262021983e-05, 'everything'), (3.156650445837244e-05, 'cut'), (3.170883979608714e-05, 'larger'), (3.187404576819987e-05, 'bracelet'), (3.212145275311275e-05, 'however'), (3.252196742688294e-05, 'wearing'), (3.2974861328571685e-05, 'got'), (3.323191522819704e-05, 'half'), (3.337738685051301e-05, 'stretch'), (3.393464455145063e-05, 'came'), (3.3983060616364375e-05, 'length'), (3.437947016478337e-05, 'gold'), (3.494026710546862e-05, 'had'), (3.549064048781719e-05, 'person'), (3.559533211176054e-05, 'ordering'), (3.568985483539094e-05, 'tried'), (3.613237104252643e-05, 'show'), (3.61573652207731e-05, 'black'), (3.689335750631207e-05, 'uncomfortable'), (3.801271514815638e-05, 'bigger'), (3.836567820064262e-05, 'do'), (3.9178507273411925e-05, 'perfectly'), (3.9188296150470254e-05, 'gave'), (3.936226362555436e-05, 'shoe'), (4.0168231311626414e-05, 'returned'), (4.0204772520859196e-05, 'cheap'), (4.0818149185146144e-05, 'part'), (4.100357392743066e-05, 'area'), (4.105121531250064e-05, 'wanted'), (4.120971649359612e-05, 'wasnt'), (4.1581221627554586e-05, 'toe'), (4.234594782677074e-05, 'glad'), (4.24935951914957e-05, 'looks'), (4.294740573537476e-05, 'all'), (4.3374626877535445e-05, 'looked'), (4.455658484617172e-05, 'wife'), (4.5418247572335656e-05, 'walking'), (4.570100349815694e-05, 'shape'), (4.606876889668484e-05, 'under'), (4.6763482130142355e-05, 'normally'), (4.7549015917025105e-05, 'even'), (4.7915536848668647e-05, 'give'), (4.796681357204901e-05, 'loved'), (4.856271309417636e-05, 'absolutely'), (4.870899696156209e-05, 'could'), (5.305108724171052e-05, 'bottom'), (5.343407257476086e-05, 'though'), (5.3731288388594964e-05, 'slip'), (5.4234788730940595e-05, 'enough'), (5.514807063851379e-05, 'received'), (5.6366160526459715e-05, 'dont'), (5.6639812491280674e-05, 'her'), (5.677599429024715e-05, 'down'), (5.722823254254673e-05, 'tight'), (5.818058849312453e-05, 'red'), (5.9166677193028686e-05, 'disappointed'), (6.018365261712679e-05, 'toes'), (6.030801175897272e-05, 'fabric'), (6.062511851828397e-05, 'summer'), (6.234603016729424e-05, 'definitely'), (6.252764834225417e-05, 'bit'), (6.281102235223873e-05, 'wore'), (6.286119657108059e-05, 'thought'), (6.301854304907747e-05, '9'), (6.372325395383345e-05, 'arch'), (6.494582069182782e-05, 'boot'), (6.512112873235932e-05, 'high'), (6.85054695696919e-05, 'way'), (6.888753826055235e-05, 'wish'), (6.964912817516739e-05, 'smaller'), (6.969023599823459e-05, 'short'), (6.970161180020645e-05, 'medium'), (6.998672933078496e-05, 'return'), (7.069929972965691e-05, 'walk'), (7.073303247898317e-05, 'think'), (7.314520788548941e-05, '7'), (7.445735071002482e-05, 'reviews'), (7.48389954776281e-05, 'little'), (7.656164234867485e-05, 'style'), (7.725553066750997e-05, 'with'), (7.758956135292978e-05, 'narrow'), (7.902530327280144e-05, 'usually'), (8.55064160483446e-05, 'silver'), (8.771507148624307e-05, 'sandals'), (9.149646288804988e-05, 'fits'), (9.187787592952095e-05, 'true'), (9.48750072779975e-05, 'chain'), (9.903753609514078e-05, 'wide'), (9.961990700477923e-05, 'did'), (9.977795695972902e-05, 'in'), (0.0001028007571401725, 'super'), (0.00010740212926091495, 'sexy'), (0.00010802895307246234, 'order'), (0.00011075048014128389, 'necklace'), (0.00011365174820068304, 'didnt'), (0.00011720289656837581, 'heel'), (0.00011748750041191101, 'feet'), (0.00012009928482257994, 'compliments'), (0.00012201056785096404, 'ring'), (0.00012633495756137842, 'skirt'), (0.0001268640262661316, 'its'), (0.0001312855154339506, '8'), (0.0001327898399903478, 'foot'), (0.000134495978559985, 'comfy'), (0.00014097343502910732, 'like'), (0.00014469486137123276, 'leggings'), (0.0001463503120349846, 'colors'), (0.0001492157989316607, 'perfect'), (0.00015410059726094774, 'picture'), (0.00015855798028716766, 'straps'), (0.00016293596442571714, 'really'), (0.0001655134648347904, 'boots'), (0.00016635991592498997, 'just'), (0.00016889553383115166, 'look'), (0.00016968552349997355, 'very'), (0.00017236334111627978, 'bag'), (0.00017459292317229956, 'back'), (0.00017658940983429714, 'comfortable'), (0.00018541188743885148, 'support'), (0.00018689292377237015, 'earrings'), (0.00018696785410854963, 'because'), (0.00020340166424542058, 'bras'), (0.0002117073841502795, 'not'), (0.00021877877952813755, 'have'), (0.0002245057652628115, 'pretty'), (0.0002254917056655932, 'would'), (0.00023246995645049336, 'too'), (0.00023366228577890655, 'them'), (0.00023493635070407487, 'beautiful'), (0.00024686767756198504, 'she'), (0.0002700115029430658, 'small'), (0.0002800329873641639, 'this'), (0.00028882373476900574, 'me'), (0.00028904011306737833, 'im'), (0.00029580958405522146, 'ordered'), (0.0003197013434094163, 'top'), (0.0003197244082047204, 'color'), (0.0003475668993248543, 'dress'), (0.0004099466622414752, 'am'), (0.0004168939009369498, 'was'), (0.00044531466417614815, 'cute'), (0.000466257307255415, 'size'), (0.0004916509417612434, 'but'), (0.0005366622371963704, 'so'), (0.0006010308863098907, 'wear'), (0.0007048942474472801, 'bra'), (0.0008761400120075348, 'love'), (0.0014487103175858315, 'it'), (0.0035664264168868004, 'i')]\n"
     ]
    }
   ],
   "source": [
    "wordCountWomen = defaultdict(int)\n",
    "punctuation = set(string.punctuation)\n",
    "counter = 0\n",
    "for d in counts[:500]:\n",
    "    wordCountWomen[d[1]] = 0 \n",
    "print(wordCountWomen)\n",
    "for d in readGz(\"train.json.gz\"):\n",
    "  if(counter >= 100000):\n",
    "    break\n",
    "  else:\n",
    "    counter += 1\n",
    "    if(d['categoryID'] == 0):\n",
    "        r = ''.join([c for c in d['reviewText'].lower() if not c in punctuation])\n",
    "        for w in r.split():\n",
    "            if(wordCountWomen.has_key(w)):\n",
    "                wordCountWomen[w] += 1\n",
    "                \n",
    "wordCountWomenT = [(wordCountWomen[w], w) for w in wordCountWomen]\n",
    "wordCountWomenT.sort()\n",
    "wordCountWomenT.reverse()\n",
    "\n",
    "sumTotalWords2 = 0;\n",
    "for d in wordCountWomenT:\n",
    "    sumTotalWords2 += d[0]\n",
    "    \n",
    "fWWomen = {}\n",
    "for d in wordCountWomenT:\n",
    "    fWWomen[d[1]] = d[0] * 1.0 / sumTotalWords2\n",
    "\n",
    "frequencyWordWomenCategory = defaultdict(int)\n",
    "for d in counts[:500]:\n",
    "    frequencyWordWomenCategory[d[1]] = fWWomen[d[1]] - fW[d[1]]\n",
    "\n",
    "womenCounts = [(frequencyWordWomenCategory[w], w) for w in frequencyWordWomenCategory]\n",
    "womenCounts = sorted(womenCounts, key=lambda x: x[0])\n",
    "print(womenCounts)\n",
    "catDict = {'Women': 0, 'Men': 1, 'Girls': 2, 'Boys': 3, 'Baby': 4}\n",
    "\n",
    "\n",
    "\n",
    "\n",
    "\n",
    "\n",
    "\n"
   ]
  },
  {
   "cell_type": "code",
   "execution_count": 14,
   "metadata": {
    "collapsed": false
   },
   "outputs": [
    {
     "name": "stdout",
     "output_type": "stream",
     "text": [
      "[(-0.007997242946658212, 'i'), (-0.0038223204422464657, 'it'), (-0.002332963293780616, 'love'), (-0.0017208595291963464, 'bra'), (-0.0015779990897627529, 'so'), (-0.0015384736424706915, 'cute'), (-0.0013496191373385613, 'size'), (-0.0013067561367297786, 'wear'), (-0.001252993866617115, 'she'), (-0.001212793454802111, 'but'), (-0.0011527194118167465, 'was'), (-0.00092994616757517, 'dress'), (-0.0009188575418925065, 'am'), (-0.0008325650322960963, 'small'), (-0.0007859564813043131, 'her'), (-0.0007847419423473611, 'top'), (-0.0007737644737451932, 'color'), (-0.0007393741195582885, 'ordered'), (-0.000722801367130415, 'them'), (-0.0006541817653842826, 'too'), (-0.0006353885453598204, 'this'), (-0.0006192222198308543, 'pretty'), (-0.000598697323171729, 'beautiful'), (-0.0005973233872021743, 'im'), (-0.0005874075836940643, 'would'), (-0.0005295033573775626, 'little'), (-0.0005194280427789611, 'because'), (-0.0005011718362175693, 'colors'), (-0.0004962177439919181, 'bras'), (-0.00047828756496034075, 'daughter'), (-0.00047767363210782275, 'me'), (-0.0004652960995575893, 'earrings'), (-0.00046497618321996326, 'perfect'), (-0.0004621561615897559, 'bag'), (-0.0004425715849775925, 'just'), (-0.0004378465143821345, 'not'), (-0.0004370862920836764, 'very'), (-0.0004050203116382849, 'really'), (-0.0004039241542920805, 'picture'), (-0.0003982781841589697, 'support'), (-0.00039135280271870214, 'straps'), (-0.00037774463380318415, 'back'), (-0.00037370159486450015, 'boots'), (-0.0003645239101578567, '8'), (-0.0003617090089162698, 'leggings'), (-0.00034948993538571184, 'comfy'), (-0.0003357042640368014, 'skirt'), (-0.0003342658064073139, 'super'), (-0.0003301658300035788, 'look'), (-0.0003093880811712316, 'didnt'), (-0.00030342950690331503, 'compliments'), (-0.0002994061514916444, 'necklace'), (-0.0002778067626204653, 'foot'), (-0.0002747595171654592, 'have'), (-0.0002651086825936665, 'its'), (-0.00026105918177252185, 'order'), (-0.00025587721663441896, 'heel'), (-0.00025573077824866475, 'sexy'), (-0.0002481155179390376, 'ring'), (-0.00024741560004289337, 'fits'), (-0.00024410024635233553, 'chain'), (-0.0002440422742474317, 'did'), (-0.0002282260439214446, 'true'), (-0.00022794028657665698, 'feet'), (-0.00022595481131924052, 'like'), (-0.00021458311973607605, '7'), (-0.0002124812967679385, 'silver'), (-0.00020748291885009653, 'wide'), (-0.00020365571475897956, 'wish'), (-0.00019945558469978085, 'soft'), (-0.0001992896381321493, 'sandals'), (-0.00019508368630378613, 'fabric'), (-0.00019074706921305, 'think'), (-0.00018620709370247148, '9'), (-0.00018461224633301308, 'loved'), (-0.0001800994244664407, 'reviews'), (-0.0001784927582135175, 'definitely'), (-0.00017806890932564818, 'smaller'), (-0.0001772348979626224, 'usually'), (-0.0001745487506178764, 'summer'), (-0.000172462788445688, 'narrow'), (-0.00016007537478284243, 'short'), (-0.00015800518573403505, 'thought'), (-0.0001570960876488841, 'disappointed'), (-0.00015630517839838138, 'way'), (-0.00015349067168335048, 'red'), (-0.00014961366698486615, 'wore'), (-0.00014828249986852593, 'walk'), (-0.0001442926020691497, 'high'), (-0.00014396378644812298, 'medium'), (-0.00014337129057397796, 'though'), (-0.0001408160276730251, 'return'), (-0.00013933550257086663, 'bit'), (-0.0001389417707633512, 'style'), (-0.0001388374262555887, 'up'), (-0.0001374245351895263, 'received'), (-0.00013512864761150325, 'toes'), (-0.0001348195593537739, 'boot'), (-0.00013454188583395476, 'tight'), (-0.00013349825591908238, 'bottom'), (-0.0001321254596929113, 'slip'), (-0.0001304475294489272, 'arch'), (-0.00012917963017124742, 'bigger'), (-0.00012755892681533927, 'perfectly'), (-0.00012629333342974755, 'absolutely'), (-0.000125918741682874, 'comfortable'), (-0.00012590263530018464, 'could'), (-0.00012422310054465623, 'looked'), (-0.0001158227965899752, 'got'), (-0.00011571420841927126, 'enough'), (-0.00011506066292598597, 'put'), (-0.00011337142240298121, 'all'), (-0.00011234105796894563, 'glad'), (-0.0001085987166090346, 'give'), (-0.00010602359483593231, 'part'), (-0.00010568231176153776, 'with'), (-0.00010528404686805715, 'big'), (-0.00010451582841719998, 'under'), (-0.00010429098918270097, 'were'), (-0.00010407311146074958, 'dont'), (-0.00010278262648695584, 'normally'), (-9.926437914471628e-05, 'gave'), (-9.882062754841358e-05, 'shape'), (-9.832125357557911e-05, 'cheap'), (-9.810515571030817e-05, 'down'), (-9.757458618098332e-05, 'wasnt'), (-9.706747907345224e-05, 'wife'), (-9.666056945766845e-05, 'even'), (-9.596370267043997e-05, 'cant'), (-9.563914814331734e-05, 'area'), (-9.535965093053402e-05, 'came'), (-9.30635880073751e-05, 'wanted'), (-8.982040143887867e-05, 'off'), (-8.898887131307689e-05, 'stretch'), (-8.75090475914625e-05, 'able'), (-8.725349499959679e-05, 'ordering'), (-8.702970783591328e-05, 'bracelet'), (-8.451093622520705e-05, 'looks'), (-8.391430230940411e-05, 'they'), (-8.355300193093658e-05, 'returned'), (-8.20177311779263e-05, 'uncomfortable'), (-8.090431027468525e-05, 'item'), (-8.063498359753854e-05, 'show'), (-8.031903047418625e-05, 'on'), (-7.771892046595666e-05, 'person'), (-7.711638556502707e-05, 'however'), (-7.674020673757297e-05, 'sizes'), (-7.586265489918414e-05, 'everything'), (-7.53930034801478e-05, 'larger'), (-7.522866142406026e-05, 'white'), (-7.428835035145579e-05, 'had'), (-7.428375599824281e-05, 'arrived'), (-7.356672348487721e-05, 'piece'), (-7.261186670484313e-05, 'wouldnt'), (-7.168477727679095e-05, 'clothes'), (-7.16349766694235e-05, 'thin'), (-7.142322757062482e-05, 'strap'), (-7.006025118981845e-05, 'front'), (-6.965226309789822e-05, 'gold'), (-6.964694147657338e-05, 'in'), (-6.667657951358425e-05, 'walking'), (-6.496714685912179e-05, 'goes'), (-6.432333353863326e-05, 'fall'), (-6.407360271593206e-05, 'cut'), (-6.110409159105443e-05, 'half'), (-6.0852011039981124e-05, 'go'), (-6.059702831980729e-05, 'body'), (-5.903363952454335e-05, 'make'), (-5.896055184051799e-05, 'tried'), (-5.622677827164075e-05, 'toe'), (-5.5079680574685345e-05, 'length'), (-5.4325104700257123e-05, 'took'), (-5.423306127508298e-05, 'also'), (-5.3806134872977146e-05, 'width'), (-5.317805083958566e-05, 'anything'), (-5.270861860196918e-05, 'shipping'), (-5.217543632656831e-05, 'going'), (-4.969156892552825e-05, 'couldnt'), (-4.874431377133886e-05, 'different'), (-4.804074848926607e-05, 'right'), (-4.673982996213191e-05, 'felt'), (-4.5790926460114226e-05, 'runs'), (-4.496069399186878e-05, 'actually'), (-4.482816120024761e-05, 'place'), (-4.4124595918175035e-05, 'expected'), (-4.2738200951858896e-05, 'stylish'), (-4.225877352374168e-05, 'plus'), (-4.2157041762054884e-05, 'wearing'), (-4.033715340764069e-05, '6'), (-4.007925108740298e-05, 'another'), (-3.834826737667896e-05, 'such'), (-3.790051770417597e-05, 'real'), (-3.787674842839435e-05, 'nicely'), (-3.7203256390391695e-05, 'havent'), (-3.4150530882136364e-05, 'sleeves'), (-3.259931166060896e-05, 'maybe'), (-3.254590750359726e-05, 'someone'), (-3.2174717555911655e-05, 'recommend'), (-3.2109976714559166e-05, 'box'), (-3.0948798078335015e-05, 'does'), (-3.057666116336498e-05, 'loose'), (-3.052103878683316e-05, 'something'), (-2.870405260151955e-05, 'material'), (-2.7938999337466866e-05, 'do'), (-2.780290683248492e-05, 'black'), (-2.48337902341633e-05, 'favorite'), (-2.4542298792779266e-05, 'many'), (-2.4409502983453908e-05, 'happy'), (-2.271606263379273e-05, 'low'), (-2.2599215292984658e-05, 'already'), (-2.2587001882963965e-05, 'see'), (-2.241879325952823e-05, 'try'), (-2.2395067820030548e-05, 'exactly'), (-2.0869748421236897e-05, 'isnt'), (-1.9734688789166312e-05, 'between'), (-1.9280942002362932e-05, 'blue'), (-1.8621048704505405e-05, 'doesnt'), (-1.8488559749168067e-05, 'snug'), (-1.8103990242757583e-05, 'purchase'), (-1.653534955002085e-05, 'myself'), (-1.4012229172842474e-05, 'can'), (-1.1800608049013011e-05, 'yet'), (-1.170722312999876e-05, 'want'), (-1.099227732730113e-05, 'gift'), (-1.038200929167493e-05, 'without'), (-1.0346596477564388e-05, 'room'), (-9.686966197410723e-06, 'decided'), (-9.518538392555066e-06, 'once'), (-8.625125758217214e-06, 'legs'), (-7.737534893043877e-06, 'side'), (-6.618336056922263e-06, 'went'), (-5.366122230055642e-06, 'sure'), (-5.001849958634374e-06, 'things'), (-4.631361391492744e-06, 'pleased'), (-3.7756236270694967e-06, 'extremely'), (-2.770440204259792e-06, 'long'), (-2.224448241826087e-06, 'kind'), (-2.0064390110229903e-06, '12'), (-1.0478033362085952e-06, 'mine'), (-9.089227400150245e-07, 'makes'), (-3.682703476215617e-07, 'stay'), (9.25309571371991e-07, 'instead'), (2.177348053102686e-06, 'especially'), (3.7582021558600588e-06, 'house'), (4.085632446762738e-06, 'large'), (4.281433077044246e-06, 'run'), (4.483362330478342e-06, 'worth'), (5.186445413426968e-06, 'arent'), (6.5424338763649635e-06, 'much'), (7.359751554045419e-06, 'might'), (9.229835042382927e-06, 'comfort'), (9.251517607496412e-06, 'either'), (9.629958490754579e-06, 'bad'), (9.885423410052358e-06, 'brown'), (1.0261909091494373e-05, 'inside'), (1.0305405730573383e-05, 'end'), (1.0598677028637697e-05, 'sizing'), (1.0927887176220277e-05, 'how'), (1.131588488713928e-05, 'problem'), (1.3459249292539798e-05, '4'), (1.3661397727393653e-05, 'probably'), (1.380192667141541e-05, 'anyone'), (1.4140649810374885e-05, 'awesome'), (1.704280734782384e-05, 'guess'), (1.725282042622635e-05, 'although'), (1.8061238820506328e-05, 'through'), (1.8362769288675146e-05, 'around'), (1.839987428689776e-05, 'stars'), (1.9511164643186776e-05, 'lightweight'), (2.043451901274267e-05, 'into'), (2.087271185758472e-05, 'there'), (2.178176610645173e-05, 'worn'), (2.2187535978852022e-05, 'next'), (2.3263282012178405e-05, 'liked'), (2.3811974393256503e-05, 'others'), (2.391318011953547e-05, 'quite'), (2.4093470644139968e-05, '2'), (2.4511234745140924e-05, 'reason'), (2.4907623135016362e-05, '5'), (2.558102750045097e-05, 'own'), (2.5821420676911365e-05, 'still'), (2.6498428591990365e-05, 'every'), (2.6529974838752544e-05, 'wont'), (2.794639921285466e-05, 'longer'), (2.815632461868929e-05, 'away'), (3.088445176353805e-05, 'know'), (3.190053350784843e-05, 'thats'), (3.231052063786883e-05, 'slightly'), (3.266910264897768e-05, 'youre'), (3.291692210614678e-05, 'fine'), (3.318016399642506e-05, 'nothing'), (3.342976331027433e-05, 'comes'), (3.41270684603426e-05, 'fact'), (3.455695829879637e-05, 'sturdy'), (3.557943168396309e-05, 'theyre'), (3.563266049583886e-05, 'why'), (3.6367640515821737e-05, 'having'), (3.665087278710138e-05, 'tell'), (3.721546980041244e-05, 'fast'), (3.748292894831094e-05, 'least'), (3.8116922423434767e-05, 'ill'), (3.949371672580618e-05, 'extra'), (4.007839179268665e-05, 'since'), (4.100644561898627e-05, 'get'), (4.123913206607085e-05, 'being'), (4.256425823182669e-05, 'ok'), (4.258798367132437e-05, 'three'), (4.271491387520111e-05, 'several'), (4.278026842452964e-05, 'almost'), (4.4935539385962885e-05, 'overall'), (4.494353553836342e-05, 'come'), (4.55794842153034e-05, 'may'), (4.703353962303618e-05, 'take'), (4.781006108028191e-05, 'needed'), (5.120972506131717e-05, 'lot'), (5.204534093588713e-05, 'normal'), (5.456336732976544e-05, 'said'), (5.503875284539842e-05, '10'), (5.630860732489418e-05, 'id'), (5.6348149724057e-05, 'read'), (5.770400667814285e-05, 'which'), (5.895330090494532e-05, 'old'), (6.094405446515521e-05, 'hot'), (6.221586414646723e-05, 'wrong'), (6.227535309034731e-05, 'people'), (6.28915305677059e-05, 'where'), (6.292707489066848e-05, 'regular'), (6.437317798228462e-05, 'type'), (6.570443277119278e-05, 'expect'), (6.604120070833605e-05, 'quickly'), (6.750716267210155e-05, 'set'), (6.884654512226223e-05, 'never'), (6.95179942858808e-05, 'highly'), (6.962724000084434e-05, 'find'), (6.973782720964795e-05, 'times'), (6.975021596480478e-05, 'day'), (7.058583183937469e-05, 'before'), (7.117419812846743e-05, 'found'), (7.161581917781805e-05, 'easily'), (7.376131413017054e-05, 'getting'), (7.395533490377198e-05, 'dark'), (7.529063160516443e-05, 'design'), (7.739041169891784e-05, 'outside'), (7.756514347206185e-05, 'purchased'), (8.011449693128231e-05, 'thing'), (8.02751916014414e-05, 'need'), (8.0585884370715e-05, 'pairs'), (8.249351122011512e-05, 'deal'), (8.291059982814056e-05, 'my'), (8.317895365043455e-05, 'washed'), (8.368619226681762e-05, '3'), (8.511739896073251e-05, 'no'), (8.846434273433647e-05, 'here'), (8.864072285530867e-05, 'ones'), (9.398643377248614e-05, 'shoe'), (9.487896968114458e-05, 'hard'), (9.660239560230785e-05, 'those'), (9.706587456190794e-05, 'store'), (9.741250618069996e-05, 'christmas'), (9.802468558185837e-05, 'slippers'), (9.818716010869764e-05, 'winter'), (0.00010238689564134033, 'sole'), (0.0001025040936724203, 'again'), (0.00010308428846397659, 'ever'), (0.00010528358209989657, 'any'), (0.00011105778009444067, 'expensive'), (0.00011134601867645233, 'an'), (0.00011271385242817532, 'weather'), (0.00011341315661634373, 'review'), (0.00011500604878398604, 'both'), (0.0001153746698218794, 'then'), (0.00011677101614241222, 'couple'), (0.00012054108101802112, 'should'), (0.00012314623219890938, 'two'), (0.00012446736028846493, 'buying'), (0.0001264366943012653, 'keep'), (0.00012646008648145492, 'will'), (0.00012725688774272597, 'most'), (0.00012763477618525556, 'if'), (0.00013048065380191287, 'other'), (0.00013623251168708346, 'casual'), (0.00013665824553516382, 'one'), (0.00013759324344304966, 'more'), (0.00013796002335701512, 'wash'), (0.00013815630618642068, 'always'), (0.0001398421010739534, 'easy'), (0.00014078096554918636, 'days'), (0.00014208440914982866, 'less'), (0.00014257183273034646, 'year'), (0.00014493907197199826, 'hold'), (0.00014615148038199814, 'feels'), (0.00014631013217777315, 'say'), (0.00015199781909328285, 'over'), (0.000153413892777113, 'thick'), (0.00015430378953437446, 'first'), (0.0001555382924670074, 'be'), (0.0001566012816239417, 'second'), (0.00015793253641284985, 'months'), (0.00016106065549721833, 'weight'), (0.0001644308599421595, 'looking'), (0.00017175410277499477, 'money'), (0.0001737914040831996, 'only'), (0.00017479092365101702, 'works'), (0.00017998931945676082, 'who'), (0.0001806943139052417, 'water'), (0.00018470215921123515, 'while'), (0.00018771905097350345, 'or'), (0.0001883102755954125, 'what'), (0.00019309150357716797, 'dry'), (0.0001962729829822642, 'says'), (0.0001966609104515787, 'nice'), (0.0001998586715845005, 'cotton'), (0.00020473602874019811, 'brand'), (0.00020703200399078904, 'seem'), (0.00020821073560707462, 'far'), (0.00021318916698019922, 'few'), (0.00021445098147101062, 'waist'), (0.00021852804789368094, 'by'), (0.00022095422363848424, 'shoes'), (0.00022664789023733119, 'cool'), (0.00023164800417556933, 'cold'), (0.00024611542673258686, 'seems'), (0.0002475020408803229, 'excellent'), (0.00024905925721615066, 'best'), (0.0002555491900665041, 'light'), (0.00025809467695837634, 'their'), (0.0002612602955675234, 'used'), (0.0002612883697734932, 'now'), (0.00026653017454574815, 'ive'), (0.00026767861373654377, 'hat'), (0.00026894277795572717, 'amazon'), (0.0002692498671753564, 'same'), (0.0002769200923172555, 'wears'), (0.00028423212997460176, 'band'), (0.00028483648856849546, 'product'), (0.0002871555053090037, 'than'), (0.0002874769210546425, 'heavy'), (0.00029319011326633, 'pockets'), (0.00029684598738349095, 'your'), (0.00030535009237956366, 'been'), (0.00030869947355410766, 'jacket'), (0.00030886526220756704, 'out'), (0.00030964740368352034, 'fit'), (0.0003211659720152788, 'durable'), (0.00032292573131251635, 'feel'), (0.00032918267086179745, 'when'), (0.00034114487671196977, 'jeans'), (0.00034406790135609955, 'bought'), (0.0003451661454129723, 'leather'), (0.000347719935311233, 'better'), (0.00035309372043438106, 'at'), (0.00035441548863723274, 'loves'), (0.000368233626794869, 'some'), (0.0003733049608878841, 'after'), (0.0003807560106502761, 'from'), (0.00038360957756534584, 'running'), (0.00038618761893851206, 'made'), (0.0003900481491330716, 'warm'), (0.00039166520510305154, 'buy'), (0.00039189903129351923, 'about'), (0.00040784548800128564, 'is'), (0.0004095713080048589, 'work'), (0.0004101422966590264, 'price'), (0.00045294319557785375, 'we'), (0.0004599619181008519, 'last'), (0.0004693006043316422, 'use'), (0.0004730323806293608, 'watches'), (0.0004938192215212078, 'shorts'), (0.0004972740695159351, 'son'), (0.0004981736984459932, 'new'), (0.0005115201507668154, 'are'), (0.0005604414235051754, 'great'), (0.0005677766859364247, 'and'), (0.0005745692287665903, 'wallet'), (0.000605288856274917, 'shirts'), (0.0006458286403165357, 'pants'), (0.0006492061395333334, 'years'), (0.000659950044962737, 'pair'), (0.0006944404212962531, 'belt'), (0.0007149347530200773, 'to'), (0.0007236829693378936, 'has'), (0.0007294207811457225, 'as'), (0.0007347430824517472, 'time'), (0.000751477660836558, 'him'), (0.000769926029098908, 'that'), (0.000799948719060653, 'a'), (0.0008555249775781051, 'shirt'), (0.0008567075757617392, 'socks'), (0.0009356752818500541, 'quality'), (0.000977578612144171, 'well'), (0.0009973030163198124, 'you'), (0.0010235183531237318, 'his'), (0.0010947077629604937, 'these'), (0.0014176805860051283, 'husband'), (0.0016768425919125541, 'good'), (0.0019702102160688816, 'of'), (0.002049275568170115, 'for'), (0.0022030486381998463, 'the'), (0.0023899503730489243, 'watch'), (0.0032372968786342155, 'he')]\n"
     ]
    }
   ],
   "source": [
    "wordCountMen = defaultdict(int)\n",
    "punctuation = set(string.punctuation)\n",
    "counter = 0\n",
    "for d in counts[:500]:\n",
    "    wordCountMen[d[1]] = 0 \n",
    "for d in readGz(\"train.json.gz\"):\n",
    "  if(counter >= 100000):\n",
    "    break\n",
    "  else:\n",
    "    counter += 1\n",
    "    if(d['categoryID'] == 1):\n",
    "        r = ''.join([c for c in d['reviewText'].lower() if not c in punctuation])\n",
    "        for w in r.split():\n",
    "            if(wordCountMen.has_key(w)):\n",
    "                wordCountMen[w] += 1\n",
    "                \n",
    "wordCountMenT = [(wordCountMen[w], w) for w in wordCountMen]\n",
    "wordCountMenT.sort()\n",
    "wordCountMenT.reverse()\n",
    "\n",
    "sumTotalWords3 = 0;\n",
    "for d in wordCountMenT:\n",
    "    sumTotalWords3 += d[0]\n",
    "    \n",
    "fWMen = {}\n",
    "for d in wordCountMenT:\n",
    "    fWMen[d[1]] = d[0] * 1.0 / sumTotalWords3\n",
    "\n",
    "frequencyWordMenCategory = defaultdict(int)\n",
    "for d in counts[:500]:\n",
    "    frequencyWordMenCategory[d[1]] = fWMen[d[1]] - fW[d[1]]\n",
    "\n",
    "menCounts = [(frequencyWordMenCategory[w], w) for w in frequencyWordMenCategory]\n",
    "menCounts = sorted(menCounts, key=lambda x: x[0])\n",
    "print(menCounts)\n",
    "\n"
   ]
  },
  {
   "cell_type": "code",
   "execution_count": 15,
   "metadata": {
    "collapsed": false
   },
   "outputs": [
    {
     "name": "stdout",
     "output_type": "stream",
     "text": [
      "[(-0.01112654058841095, 'i'), (-0.002849959298239311, 'in'), (-0.0027837641045285032, 'comfortable'), (-0.0026117440147816343, 'have'), (-0.0020803568325772044, 'you'), (-0.002029791449250352, 'me'), (-0.0017890995318877306, 'a'), (-0.0016857461748908988, 'wear'), (-0.0016820386301751866, 'bra'), (-0.0016600005064384867, 'not'), (-0.0016331073736411943, 'of'), (-0.0015869946536746225, 'im'), (-0.0014759328173267281, 'that'), (-0.0014451210068290856, 'shoe'), (-0.0013878826526485283, 'am'), (-0.0013722699505175247, 'these'), (-0.0013434445822436895, 'pair'), (-0.0012205629285745867, 'shoes'), (-0.0011696880704215634, 'if'), (-0.0011042095690659143, 'the'), (-0.0010873229974409362, 'he'), (-0.0010837707433576354, 'but'), (-0.0010723386343843286, 'your'), (-0.0010331963117241995, 'feet'), (-0.0010270286290979484, 'are'), (-0.000982584475467176, 'love'), (-0.0009671355000166229, 'feel'), (-0.0009081379914758304, 'shirt'), (-0.0008892059471571251, 'support'), (-0.000888541874050301, 'good'), (-0.0008652480955112245, 'work'), (-0.0008591757896458576, 'jeans'), (-0.0008316803562552664, 'do'), (-0.0008133901469385155, 'pants'), (-0.0008085832264130539, 'ive'), (-0.0007902594128489449, 'or'), (-0.0006996285653000057, 'back'), (-0.0006848839976743119, 'as'), (-0.0006766715945576865, 'wide'), (-0.0006708534153463709, 'more'), (-0.0006620681743921024, 'like'), (-0.0006497461869887245, 'large'), (-0.0006285350277437192, 'look'), (-0.0005961900212737251, 'top'), (-0.0005773080422105843, 'than'), (-0.0005721004115897708, 'ring'), (-0.0005441859834398243, 'day'), (-0.0005431320722000296, 'husband'), (-0.0005330244621287765, 'foot'), (-0.0005274434543831983, 'style'), (-0.0005203014235145738, 'wearing'), (-0.0005152087488081356, 'other'), (-0.0005038411893781672, 'enough'), (-0.0005011583992758663, 'need'), (-0.0004971053045860845, 'too'), (-0.0004962177439919181, 'bras'), (-0.0004955724497292062, 'looking'), (-0.0004844173527595648, 'comfort'), (-0.00047685682131169325, 'toe'), (-0.00047593812737070965, 'heel'), (-0.00047494367080853494, 'better'), (-0.0004461169730590115, 'find'), (-0.00043120886680370367, 'down'), (-0.000430713615243049, 'tight'), (-0.0004296527854817391, 'boots'), (-0.00042830274227869487, 'much'), (-0.00041616208398882683, 'walking'), (-0.00040759671819650843, 'from'), (-0.0003987093700106783, 'medium'), (-0.00039602608572826916, 'walk'), (-0.00038358583621439426, 'most'), (-0.0003630295137187923, 'with'), (-0.0003529242214834445, 'found'), (-0.00034903550071885845, 'worn'), (-0.00034465844691513263, 'ever'), (-0.0003423990991931608, 'arch'), (-0.0003400669539306472, 'shape'), (-0.00033921957498988067, 'wallet'), (-0.00033879415588911873, 'running'), (-0.00032956734095515236, 'they'), (-0.00032296834405304346, 'him'), (-0.0003198576639494395, 'return'), (-0.0003195669679673806, 'material'), (-0.0003189374874681312, 'high'), (-0.0003185140450878021, 'usually'), (-0.0003158981223647444, 'different'), (-0.000315336991785063, 'casual'), (-0.00031441780366397103, 'his'), (-0.0003100962510969997, 'long'), (-0.00030931573953547637, 'an'), (-0.0003078472811573004, 'narrow'), (-0.00030593907245522414, 'feels'), (-0.00030431068777282623, 'then'), (-0.0002982904238834562, 'dont'), (-0.00029689525722593005, 'half'), (-0.00029165550489808345, 'some'), (-0.0002913112843997027, 'waist'), (-0.0002885591560176174, 'sexy'), (-0.0002864365081347814, 'thing'), (-0.000286293878134347, 'while'), (-0.000285657973293691, 'under'), (-0.0002841727127918356, 'fabric'), (-0.00028349134338122393, 'size'), (-0.0002806911264640077, 'really'), (-0.00028000614472800396, 'leather'), (-0.0002773837976635396, 'after'), (-0.00027583759994373946, 'short'), (-0.00027181217934001747, 'shirts'), (-0.00026333147141083756, 'comfy'), (-0.0002627639164897494, 'true'), (-0.0002561909230825376, 'over'), (-0.00025351307478131886, 'felt'), (-0.00025046580279620067, 'there'), (-0.000247418036630974, 'color'), (-0.00024545482087225167, 'length'), (-0.0002425516614278924, 'right'), (-0.00024185234846875068, 'weight'), (-0.00024121545526787822, 'never'), (-0.00024029873804732736, 'thick'), (-0.0002376144654047018, 'heavy'), (-0.00023740348548469952, 'returned'), (-0.00023665920213571025, 'just'), (-0.00023634117318306505, 'tried'), (-0.0002361545611530005, 'fit'), (-0.00023535264678218898, 'id'), (-0.0002343646145614209, 'sole'), (-0.00022941852329628245, 'people'), (-0.00022919469469346687, 'even'), (-0.00022800606033496884, 'away'), (-0.00022764454353280095, 'way'), (-0.00022736175443247323, 'been'), (-0.0002270873663939852, 'cool'), (-0.00022539063179201943, 'boot'), (-0.00022496620105147392, 'belt'), (-0.00022495285818855196, 'also'), (-0.00022468440031136262, 'maybe'), (-0.00022213485078743998, 'black'), (-0.00022163366906548677, 'bit'), (-0.00022001615634546974, 'make'), (-0.00021691190058327242, 'bad'), (-0.00021394434466021094, 'design'), (-0.0002136595788394505, 'larger'), (-0.00020779331109300363, 'light'), (-0.00020679094764909775, 'ordered'), (-0.00020419182704971913, 'quite'), (-0.00020157985776752705, 'second'), (-0.00019719736798261105, 'may'), (-0.00019486818780074664, 'place'), (-0.00019437293624009213, 'overall'), (-0.00019267175401715237, 'warm'), (-0.0001902757064560447, 'normal'), (-0.00019004743023225525, 'no'), (-0.00018991418965387682, 'order'), (-0.00018942783333517, 'show'), (-0.00018554010093080038, 'straps'), (-0.00018335107984882918, 'leggings'), (-0.00018306829074850157, 'son'), (-0.0001821476200870851, 'try'), (-0.00017727383218238017, 'shorts'), (-0.00017713367308248688, 'type'), (-0.00017628579996161218, 'reason'), (-0.00017599806906020245, 'going'), (-0.0001749431694601912, 'wrong'), (-0.00017494267528008297, 'slippers'), (-0.00017077314213560205, 'ill'), (-0.00017077017705495283, 'say'), (-0.00017027986729538033, 'brown'), (-0.00016956622311310038, 'use'), (-0.000169149205074178, 'although'), (-0.00016639361743133523, 'body'), (-0.00016406147216882158, 'own'), (-0.00016278521486653573, 'expected'), (-0.0001622235901067461, 'pairs'), (-0.00016222062502609677, 'new'), (-0.0001591119216429257, 'thin'), (-0.00015685356228117023, 'sandals'), (-0.00015289747995723252, 'real'), (-0.00015233140757646906, 'loose'), (-0.000151485016995919, 'person'), (-0.00015113190125559062, 'deal'), (-0.00014922270419329787, 'inside'), (-0.00014759629623133292, 'used'), (-0.000145759896709582, 'side'), (-0.00014476692268773183, 'lot'), (-0.00014420678046826686, 'youre'), (-0.00013989708822389265, 'pockets'), (-0.00013982577322367546, 'everything'), (-0.00013806068870214172, 'mine'), (-0.0001303590097941605, 'dark'), (-0.00012915505585230818, 'hard'), (-0.0001286632635524111, 'width'), (-0.00012837108503002746, 'around'), (-0.00012781143699067078, 'reviews'), (-0.00012682142804946984, 'amazon'), (-0.0001263034442038377, 'at'), (-0.00012562439262913246, 'regular'), (-0.0001255535718090235, 'toes'), (-0.00012505733188815263, 'where'), (-0.00012406781712705997, 'probably'), (-0.00012343438318694497, 'end'), (-0.0001228683108061815, 'here'), (-0.00012265303632984052, 'them'), (-0.00012089076382432087, 'wife'), (-0.00012081944882410368, 'less'), (-0.00012053517718345146, 'brand'), (-0.00011905238758213715, 'blue'), (-0.00011622746165950999, 'stylish'), (-0.00011431974713754193, 'hot'), (-0.00011035822883241403, 'many'), (-0.0001091532865303451, 'first'), (-0.00010873775103174745, 'awesome'), (-0.00010824249947109294, 'house'), (-0.0001078190570907638, 'dry'), (-0.00010690085732988828, 'lightweight'), (-0.0001035796914863903, 'extremely'), (-0.00010357820894606564, 'cut'), (-0.00010322657574606187, 'instead'), (-0.00010195427188464161, 'works'), (-0.00010181065352399081, 'band'), (-0.00010145753778366244, 'wish'), (-0.00010124013352225342, 'now'), (-9.870491522146897e-05, 'arent'), (-9.863360022125176e-05, 'plus'), (-9.85351053150829e-05, 'all'), (-9.700916897971957e-05, 'gold'), (-9.672440315895909e-05, 'highly'), (-9.42530871567686e-05, 'wouldnt'), (-9.41783128957939e-05, 'sure'), (-9.411095133644241e-05, 'snug'), (-9.213291017447364e-05, 'expensive'), (-9.107306877338022e-05, 'stretch'), (-8.902321843108597e-05, 'earrings'), (-8.824320104967105e-05, 'theyre'), (-8.535041938758422e-05, 'nothing'), (-8.513548602671634e-05, 'best'), (-8.478187610627978e-05, 'being'), (-8.294794748506983e-05, 'either'), (-8.287416158431161e-05, 'their'), (-8.08267821425585e-05, 'days'), (-7.998088574211659e-05, 'someone'), (-7.927366590124342e-05, 'area'), (-7.88492351606978e-05, 'bottom'), (-7.757742547938578e-05, 'stars'), (-7.637248317731707e-05, 'run'), (-7.593718047439095e-05, 'about'), (-7.510265021643783e-05, 'problem'), (-7.482183783654302e-05, 'excellent'), (-7.256100757424658e-05, 'low'), (-6.980047813032176e-05, 'keep'), (-6.77586877343931e-05, 'so'), (-6.753717696748418e-05, 'any'), (-6.457703374604585e-05, 'others'), (-6.358702480484496e-05, 'normally'), (-6.09730788022202e-05, 'times'), (-5.962847158036638e-05, 'makes'), (-5.48205626946885e-05, 'does'), (-5.348336817445761e-05, 'cold'), (-5.108188463215965e-05, 'washed'), (-5.0375653151502845e-05, 'fast'), (-4.938613839041025e-05, 'already'), (-4.931432921008482e-05, 'front'), (-4.7122343047464594e-05, 'wore'), (-4.581841165911867e-05, 'would'), (-4.4771418940838924e-05, 'out'), (-4.344657892331341e-05, 'years'), (-4.3166260723526834e-05, 'several'), (-4.288544834363207e-05, 'stay'), (-4.1542817842211044e-05, 'things'), (-4.048297644111768e-05, 'wasnt'), (-4.0342323161116154e-05, 'myself'), (-3.941868741905044e-05, 'however'), (-3.8429666838065975e-05, 'few'), (-3.841978323590196e-05, 'only'), (-3.7154397895996496e-05, 'did'), (-3.6803753056209153e-05, 'cant'), (-3.658832551523298e-05, 'go'), (-3.574786509598143e-05, 'getting'), (-3.553787353619562e-05, 'guess'), (-3.4900980335323155e-05, 'especially'), (-3.299375999346333e-05, 'least'), (-3.2637679172485686e-05, 'before'), (-3.0022744809644398e-05, 'every'), (-2.952699906888165e-05, 'definitely'), (-2.7830758647024172e-05, 'product'), (-2.7226634397928273e-05, 'great'), (-2.6345992325276955e-05, 'want'), (-2.578189666494629e-05, 'same'), (-2.5066275762233164e-05, 'which'), (-2.3594852303408017e-05, 'thats'), (-2.33140399235132e-05, 'uncomfortable'), (-2.24661668026385e-05, 'three'), (-2.2324030982312417e-05, 'part'), (-2.1051727120892155e-05, 'longer'), (-2.0839758840673493e-05, 'wont'), (-2.0410880479154e-05, 'though'), (-1.9634322358496378e-05, 'since'), (-1.9143518418815908e-05, 'those'), (-1.87205702185949e-05, 'read'), (-1.7519581357391826e-05, 'glad'), (-1.6105141675645373e-05, 'might'), (-1.5187930274986386e-05, 'absolutely'), (-1.4975961994767725e-05, 'jacket'), (-1.3775467313672835e-05, 'watches'), (-1.3351036573127273e-05, 'red'), (-1.0580623527038212e-05, 'what'), (-1.0171018189738894e-05, 'isnt'), (-1.0030364909737475e-05, 'such'), (-8.404945307988784e-06, 'store'), (-6.921661526566284e-06, 'comes'), (-5.648369304929652e-06, 'box'), (-4.234917983399569e-06, 'summer'), (-3.458854042850349e-06, 'anyone'), (1.2039539418522908e-06, 'expect'), (2.620864524139721e-06, 'give'), (4.671703226650451e-06, 'by'), (4.739064786001891e-06, 'seems'), (5.867750286771354e-06, 'legs'), (8.69005224422327e-06, 'very'), (1.3569923374860844e-05, 'extra'), (1.4912059696173686e-05, 'ordering'), (1.6470611918679014e-05, 'without'), (1.6678132577923797e-05, 'slightly'), (1.8797321200002336e-05, 'havent'), (1.964618268109346e-05, 'once'), (2.0920957443054753e-05, 'easy'), (2.098930736262278e-05, '10'), (2.134439982338389e-05, 'smaller'), (2.692491338885381e-05, 'ones'), (3.2716901054434153e-05, 'slip'), (3.3564774175308854e-05, 'why'), (3.3707898355851413e-05, 'come'), (3.405903737574694e-05, 'outside'), (3.4907898856838065e-05, 'disappointed'), (3.491086393748728e-05, 'thought'), (3.6956266658807655e-05, 'water'), (3.8722833720666004e-05, 'runs'), (4.1549736363725954e-05, 'went'), (4.571877532809864e-05, 'pleased'), (4.7362479593850756e-05, 'were'), (4.953272183171021e-05, 'sleeves'), (5.0241424212908096e-05, 'yet'), (5.07386524939954e-05, 'beautiful'), (5.208820151693123e-05, 'still'), (5.209709675887877e-05, 'get'), (5.299750603585899e-05, 'buying'), (5.511669465793753e-05, 'exactly'), (5.914853960306619e-05, 'purchased'), (6.0061797562859594e-05, 'kind'), (6.126229224395454e-05, 'decided'), (6.126278642406272e-05, 'gave'), (6.29614977464614e-05, 'should'), (6.331609602711432e-05, 'purchase'), (6.839839295128051e-05, 'goes'), (7.037742247346571e-05, 'ok'), (7.200432461553906e-05, '12'), (7.362677913663843e-05, 'couldnt'), (7.482826217794974e-05, 'hat'), (7.539532291892957e-05, 'needed'), (7.5677617839149e-05, 'sizes'), (7.581777693904234e-05, '9'), (7.765417646079321e-05, 'fact'), (8.048750344525984e-05, 'another'), (8.154289722537948e-05, 'both'), (8.500916396985293e-05, 'didnt'), (8.50750429888797e-05, 'money'), (8.556782364899318e-05, 'review'), (8.620521102997388e-05, 'sizing'), (9.01850139991057e-05, 'when'), (9.376623665795355e-05, 'white'), (9.6168708560468e-05, 'received'), (9.696404552523739e-05, 'can'), (9.737216832221215e-05, 'know'), (0.00010104447318560572, 'through'), (0.00010140351908723253, 'think'), (0.00010352221352920299, 'could'), (0.00010415119984834401, 'couple'), (0.00010584842863041802, 'wash'), (0.00011065090153490582, 'between'), (0.00011107533227545132, 'shipping'), (0.00011114565891545209, 'silver'), (0.0001119276530172999, 'doesnt'), (0.00011284140515720149, 'quickly'), (0.00011333715089796424, 'bigger'), (0.00011503734476068757, 'two'), (0.00011934160102387148, 'weather'), (0.0001247131113897719, 'item'), (0.00012775395903348336, 'last'), (0.00012845771961359908, 'liked'), (0.00012853595313533123, 'soft'), (0.00012881132953403564, 'compliments'), (0.00013870598296485375, 'wanted'), (0.00013877433288442167, 'almost'), (0.00013990697182605677, 'something'), (0.00014166958544704948, 'favorite'), (0.00014277439723798992, 'be'), (0.00014407749333075412, 'again'), (0.00014817225221426045, 'far'), (0.00014880815705491655, 'worth'), (0.00015050192657623315, 'having'), (0.00016075809680921906, 'recommend'), (0.00016102902558694964, 'clothes'), (0.00016187689870782434, 'fall'), (0.00016187788706804082, 'easily'), (0.00016226510123583567, 'its'), (0.00017319043944136257, 'socks'), (0.00017403386494126345, 'fine'), (0.00017516156208181654, 'winter'), (0.00017573949478517708, 'fits'), (0.00018258094606957837, 'anything'), (0.0001878088380748281, 'cotton'), (0.0001880341492179684, 'looks'), (0.0001912225686631964, 'had'), (0.00019240131941952997, '7'), (0.00019416788648138832, 'strap'), (0.00020144809972947328, 'actually'), (0.00021105749315942254, 'cheap'), (0.0002137422599821564, 'came'), (0.00021486946294260127, 'says'), (0.00021607539360488646, 'always'), (0.0002250449287533141, 'able'), (0.000225186570393532, 'hold'), (0.00023218053528053194, 'piece'), (0.00023437054472271937, 'tell'), (0.00023538575684943887, 'nice'), (0.00023543137448402916, 'took'), (0.00024398043233277698, 'durable'), (0.00024681030005648604, 'super'), (0.0002497050584390058, 'looked'), (0.0002521788453417374, 'take'), (0.00025436984314414126, 'into'), (0.0002589593594081939, 'chain'), (0.0002591733044088454, 'bag'), (0.00026263561771245323, '8'), (0.00026560218527529823, 'months'), (0.0002664530234768222, 'picture'), (0.0002697751776805366, 'see'), (0.0002719617278619667, 'arrived'), (0.000277897828068306, 'said'), (0.0002810045547310443, 'next'), (0.00028609228763640075, 'nicely'), (0.00028637903017759406, 'perfectly'), (0.00030687308597956227, 'off'), (0.0003087743761601236, 'seem'), (0.00030926666264012885, 'christmas'), (0.0003152022686663599, 'set'), (0.0003453874106807671, 'buy'), (0.00038398046308381166, 'one'), (0.00039837206803381266, 'how'), (0.000401050904695248, 'room'), (0.0004014946084600138, 'because'), (0.00040846880614268515, 'sturdy'), (0.000414833784710544, 'happy'), (0.00041625563709391314, 'got'), (0.0004393458484146109, 'skirt'), (0.0004860526559634776, '5'), (0.0005149620348557067, 'made'), (0.0005442082215446936, 'colors'), (0.0005586889319788068, 'who'), (0.0005772000048177244, 'gift'), (0.0005815082145217738, '4'), (0.0005901280931906307, '6'), (0.0006025624125432071, 'bracelet'), (0.000621710872763105, 'necklace'), (0.0006639093626503003, 'time'), (0.0006944774592623666, 'to'), (0.0007012098498074884, 'pretty'), (0.0007122366479998337, 'has'), (0.0007207881767491227, 'perfect'), (0.0007366857977655233, 'small'), (0.0007496733408160496, '2'), (0.0007626732383692813, 'loved'), (0.0007715337477646328, 'will'), (0.0007831628465502756, '3'), (0.0007920749037415161, 'watch'), (0.0008204028906696273, 'put'), (0.0008488987107836917, 'up'), (0.00086111266079421, 'quality'), (0.0008622581484186587, 'well'), (0.0008917004896244012, 'big'), (0.0009707017442075897, 'price'), (0.0009807953641711772, 'on'), (0.0011977128538002756, 'dress'), (0.0012388007897860698, 'this'), (0.0013429259511533137, 'bought'), (0.0014134901387214797, 'wears'), (0.0016537872411638462, 'was'), (0.001806448419937122, 'and'), (0.0024285532023525006, 'cute'), (0.0024378213403647184, 'little'), (0.002587328998429613, 'is'), (0.002652740374382776, 'we'), (0.003033579024016167, 'loves'), (0.003384670799418726, 'year'), (0.0038295961730385906, 'old'), (0.004922127483331285, 'my'), (0.006223931093942068, 'for'), (0.006445001996822915, 'it'), (0.007365325087812149, 'daughter'), (0.008567339726975067, 'her'), (0.010265577051930985, 'she')]\n"
     ]
    }
   ],
   "source": [
    "wordCountGirls = defaultdict(int)\n",
    "punctuation = set(string.punctuation)\n",
    "counter = 0\n",
    "for d in counts[:500]:\n",
    "    wordCountGirls[d[1]] = 0 \n",
    "for d in readGz(\"train.json.gz\"):\n",
    "  if(counter >= 100000):\n",
    "    break\n",
    "  else:\n",
    "    counter += 1\n",
    "    if(d['categoryID'] == 2):\n",
    "        r = ''.join([c for c in d['reviewText'].lower() if not c in punctuation])\n",
    "        for w in r.split():\n",
    "            if(wordCountGirls.has_key(w)):\n",
    "                wordCountGirls[w] += 1\n",
    "                \n",
    "wordCountGirlsT = [(wordCountGirls[w], w) for w in wordCountGirls]\n",
    "wordCountGirlsT.sort()\n",
    "wordCountGirlsT.reverse()\n",
    "\n",
    "sumTotalWords4 = 0;\n",
    "for d in wordCountGirlsT:\n",
    "    sumTotalWords4 += d[0]\n",
    "    \n",
    "fWGirls = {}\n",
    "for d in wordCountGirlsT:\n",
    "    fWGirls[d[1]] = d[0] * 1.0 / sumTotalWords4\n",
    "\n",
    "frequencyWordGirlsCategory = defaultdict(int)\n",
    "for d in counts[:500]:\n",
    "    frequencyWordGirlsCategory[d[1]] = fWGirls[d[1]] - fW[d[1]]\n",
    "\n",
    "girlsCounts = [(frequencyWordGirlsCategory[w], w) for w in frequencyWordGirlsCategory]\n",
    "girlsCounts = sorted(girlsCounts, key=lambda x: x[0])\n",
    "print(girlsCounts)\n",
    "\n"
   ]
  },
  {
   "cell_type": "code",
   "execution_count": 16,
   "metadata": {
    "collapsed": false
   },
   "outputs": [
    {
     "name": "stdout",
     "output_type": "stream",
     "text": [
      "[(-0.019991919773250336, 'i'), (-0.0033665917806088904, 'have'), (-0.0032948529991819984, 'it'), (-0.0031357562318454794, 'you'), (-0.003008042819446494, 'me'), (-0.002771910837328088, 'comfortable'), (-0.002762053607517882, 'shoes'), (-0.0024767710385153185, 'a'), (-0.0022068053119916565, 'wear'), (-0.002185403745368672, 'this'), (-0.002000348843634185, 'like'), (-0.0017906032975634535, 'am'), (-0.001758595950841394, 'im'), (-0.0017233021181778275, 'bra'), (-0.0016065102330187712, 'love'), (-0.0015980295920834688, 'shoe'), (-0.0015974998305268017, 'pair'), (-0.0014417050088229512, 'its'), (-0.0014017464644344969, 'work'), (-0.0013646543798195832, 'or'), (-0.0013325391619656989, 'feet'), (-0.0013196291944708692, 'to'), (-0.0013113496545622948, 'that'), (-0.0012666182090293678, 'look'), (-0.001194876744891363, 'in'), (-0.0011741995841572266, 'color'), (-0.001164459637702583, 'of'), (-0.0011591584300312003, 'but'), (-0.0011082766760246608, 'watch'), (-0.0010646109374815344, 'top'), (-0.0010105653463112763, 'very'), (-0.0009923298903360058, 'ive'), (-0.000980148466470895, 'with'), (-0.0009325545170265803, 'support'), (-0.0009061650799800338, 'back'), (-0.0009023516970716925, 'if'), (-0.0008411994165996033, 'would'), (-0.0007972130201901958, 'foot'), (-0.0007754866579600607, 'feel'), (-0.0007660534101799712, 'ring'), (-0.0007643592099073379, 'ordered'), (-0.0007374377832898098, 'beautiful'), (-0.0007372270881606281, 'do'), (-0.0007336249460176271, 'more'), (-0.0007236599360149556, 'light'), (-0.0006832820929734132, 'than'), (-0.000681523808870689, 'the'), (-0.0006410981771955821, 'leather'), (-0.0006406751954984224, 'some'), (-0.000635587274727976, 'down'), (-0.0006086671667311645, 'wide'), (-0.0005990232692915734, 'looking'), (-0.0005977506411560231, 'walking'), (-0.0005877940885138109, 'as'), (-0.0005782503778301432, 'pretty'), (-0.0005741162006464808, 'husband'), (-0.0005547228535891478, 'dont'), (-0.0005337362205299833, 'heel'), (-0.000528224954304938, 'sandals'), (-0.0005222898424588151, 'earrings'), (-0.0005178390542103816, 'need'), (-0.0005117974807925104, 'ever'), (-0.0005007771308870542, 'because'), (-0.0004962177439919181, 'bras'), (-0.000489330389058447, 'an'), (-0.0004866799898363156, 'day'), (-0.0004826518195276028, 'straps'), (-0.0004738575685264016, 'when'), (-0.0004731171118405528, 'just'), (-0.00046686138759782867, 'even'), (-0.0004618797465204107, 'go'), (-0.0004538241788875428, 'walk'), (-0.00043962362273360827, 'looks'), (-0.00043866924257130553, 'dress'), (-0.00043358127633117923, 'toe'), (-0.0004329452350814836, 'casual'), (-0.00042414861965692837, 'compliments'), (-0.0004226653418618765, 'want'), (-0.00042043942483634096, 'give'), (-0.0004185333017531689, 'from'), (-0.0004069791889592157, 'boot'), (-0.0004018918592946077, 'slippers'), (-0.00039500550469409416, 'really'), (-0.0003935196805969686, 'style'), (-0.00039182375247649975, 'picture'), (-0.00038758402311468715, 'toes'), (-0.0003836625871958017, 'arch'), (-0.00038048306299252155, 'wallet'), (-0.00037603232021376793, 'lot'), (-0.0003691433283718211, 'keep'), (-0.0003690367758607131, 'leggings'), (-0.0003544116920405026, 'black'), (-0.0003520797226703381, 'high'), (-0.0003491118484595174, 'people'), (-0.0003466745087899219, 'length'), (-0.000346250390350765, 'comfort'), (-0.0003427527091135974, 'silver'), (-0.00034243514318554847, 'never'), (-0.00033628924527088393, 'your'), (-0.00033501748105925185, 'what'), (-0.00033438021212819913, 'return'), (-0.00032982264402025825, 'sexy'), (-0.000318164434077911, 'extremely'), (-0.00031784645892274306, 'skirt'), (-0.00031498490987463086, 'necklace'), (-0.0003125472519172762, 'chain'), (-0.0003120174448909292, 'narrow'), (-0.0003107459080276965, 'every'), (-0.0003094755079064613, 'other'), (-0.00030661223101051307, 'sole'), (-0.00030565830554500915, 'slip'), (-0.00030523432351489194, 'bracelet'), (-0.0003035387136821822, 'winter'), (-0.0002991936594906187, 'reviews'), (-0.00029802772027521623, 'problem'), (-0.00029421229123128, 'tried'), (-0.0002897610482860477, 'usually'), (-0.00028933683890753096, 'bottom'), (-0.000287005824400644, 'another'), (-0.0002827666406749899, 'first'), (-0.0002817058898802989, 'brown'), (-0.0002807520553541548, 'returned'), (-0.000277467433669523, 'way'), (-0.0002772553744499447, 'boots'), (-0.0002761948964733329, 'loose'), (-0.0002735456339931987, 'then'), (-0.000269730750585421, 'right'), (-0.00026750547013540383, 'bit'), (-0.0002673980537003783, 'wife'), (-0.00026209952874010976, 'most'), (-0.0002558464417388188, 'though'), (-0.0002505465981578335, 'person'), (-0.000242809733195012, 'watches'), (-0.00024206818523684584, 'best'), (-0.0002409023824304831, 'short'), (-0.0002397370797905989, 'order'), (-0.00023952442946518202, 'summer'), (-0.000236027293864173, 'going'), (-0.00023496763434179924, 'tight'), (-0.00023454306120584346, 'expensive'), (-0.00023390706542582767, 'width'), (-0.00023369555184240783, 'something'), (-0.00022913925688550392, 'fits'), (-0.000227654296712296, 'try'), (-0.0002263825779703438, 'smaller'), (-0.00022553434109202992, 'uncomfortable'), (-0.00022521727533045982, 'did'), (-0.00022511049547095234, 'disappointed'), (-0.0002244745906302963, 'ordering'), (-0.00022405110876665786, 'same'), (-0.00022235518064618901, 'cheap'), (-0.00022193088032831246, 'myself'), (-0.00021800948987910694, 'body'), (-0.00021747986473147948, 'band'), (-0.00021652630302341483, 'cant'), (-0.0002164197505123068, 'felt'), (-0.00021514794083099477, 'dry'), (-0.00021112054350683993, 'decided'), (-0.00021037895007899388, 'makes'), (-0.00020878893789411438, 'low'), (-0.00020508115263360343, 'no'), (-0.00020190003699152722, 'normally'), (-0.00020105207293129283, 'area'), (-0.00020041621356031665, 'real'), (-0.0001988272926477545, 'enough'), (-0.00019734269623198584, 'snug'), (-0.00019607075014163412, 'gold'), (-0.000192467925953435, 'worn'), (-0.00019003072269287917, 'large'), (-0.0001871685825389286, 'new'), (-0.00018430671520305723, 'feels'), (-0.00018218848743062647, 'also'), (-0.00018017322006459323, 'others'), (-0.000179220931507565, 'much'), (-0.00017508639056646412, 'wanted'), (-0.00017508602680902497, 'shape'), (-0.0001745563107220378, 'used'), (-0.0001738143990064325, 'far'), (-0.0001731784941657764, 'worth'), (-0.00017296625306747841, 'lightweight'), (-0.00017286042807124874, 'box'), (-0.00017286024619252917, 'someone'), (-0.00016999969747737457, 'around'), (-0.00016830304184202737, 'easily'), (-0.0001665014251343683, 'yet'), (-0.00016353386921130693, 'running'), (-0.0001623685211017431, 'does'), (-0.00016162615468933887, 'exactly'), (-0.00015971875845512996, 'definitely'), (-0.00015802301221338056, 'many'), (-0.00015781072564540263, 'thats'), (-0.00015706885939947726, 'id'), (-0.00015547889268427767, 'stylish'), (-0.0001552671062827786, 'cut'), (-0.0001542071739423254, 'second'), (-0.00015399520566210673, 'stars'), (-0.00015346517128736036, 'fact'), (-0.00014795404147135467, 'wouldnt'), (-0.00014700016147553067, 'normal'), (-0.00014413879430613804, 'might'), (-0.00014413856695773866, 'arent'), (-0.0001437147213366611, 'wasnt'), (-0.00014276084134083708, 'shipping'), (-0.00013438838982511862, 'found'), (-0.00013301025498109814, 'reason'), (-0.00013216315484478156, 'how'), (-0.0001297247693725486, 'goes'), (-0.0001278171912596202, 'half'), (-0.00012781710032026047, 'slightly'), (-0.0001271815137673637, 'larger'), (-0.0001263334587677694, 'days'), (-0.00012177598159918829, 'least'), (-0.00012145846114081918, 'say'), (-0.00012124667473932017, 'make'), (-0.00012114039504629141, 'comfy'), (-0.00012039898349716486, 'better'), (-0.00011933832364183352, 'show'), (-0.00011806705959668015, 'different'), (-0.00011743060911986546, 'havent'), (-0.00011668878834361992, 'own'), (-0.00011647682006340126, 'works'), (-0.0001154168877229481, 'mine'), (-0.00011372118695087861, 'water'), (-0.00011213149305375837, 'gave'), (-0.00011202571352720854, 'weight'), (-0.00011160154961837172, 'having'), (-0.00011128361993288367, 'youre'), (-0.00011075385837621668, 'where'), (-0.00010979988744103282, 'heavy'), (-0.00010916434635781594, 'know'), (-0.00010916416447909639, 'thing'), (-0.00010640875871497312, 'amazon'), (-0.00010418261434103825, 'piece'), (-9.941339624063787e-05, 'stretch'), (-9.739990219211991e-05, 'probably'), (-9.686982234769365e-05, 'maybe'), (-9.559864924189995e-05, 'use'), (-9.453817126528821e-05, 'everything'), (-9.337232298924563e-05, 'overall'), (-9.263191177307645e-05, 'only'), (-9.252463174709037e-05, 'take'), (-9.252440439869099e-05, 'plus'), (-9.178281097084494e-05, 'came'), (-9.104108113395918e-05, 'run'), (-9.08295220808594e-05, 'think'), (-9.061696269480231e-05, 'wore'), (-8.966303722929845e-05, 'received'), (-8.95599404138617e-05, 'one'), (-8.701359287044451e-05, 'thought'), (-8.574182865881243e-05, 'under'), (-8.57413739620135e-05, 'review'), (-8.542348974620534e-05, 'absolutely'), (-8.393980272403438e-05, 'pairs'), (-8.224392007324537e-05, 'end'), (-8.171406757721849e-05, 'less'), (-7.726300651070565e-05, 'actually'), (-7.578132015444985e-05, 'had'), (-7.56731762045457e-05, 'hard'), (-7.41892618339753e-05, 'front'), (-7.090418545254481e-05, 'see'), (-6.624051953029494e-05, 'belt'), (-6.549883516308896e-05, 'fine'), (-6.147116502085485e-05, 'liked'), (-6.083571487699763e-05, 'true'), (-6.0517967070229184e-05, 'over'), (-5.9563405029206895e-05, 'part'), (-5.617236724250697e-05, 'however'), (-5.596203587076437e-05, 'get'), (-5.595994426548938e-05, 'read'), (-5.5006291618064896e-05, 'may'), (-5.225074944490197e-05, 'gift'), (-4.938892757871049e-05, 'strap'), (-4.705741290534477e-05, 'almost'), (-4.504364603874749e-05, 'ill'), (-4.5043555099387716e-05, 'stay'), (-4.154655590741835e-05, 'without'), (-4.101656700235192e-05, 'theyre'), (-3.985080966566895e-05, 'perfectly'), (-3.974443903328063e-05, 'longer'), (-3.889647497304615e-05, 'pockets'), (-3.66707852959101e-05, 'why'), (-3.5930101261661806e-05, 'wearing'), (-3.5718132981443036e-05, 'recommend'), (-3.561089842513685e-05, 'guess'), (-3.4551602660202086e-05, 'few'), (-3.4127211402965887e-05, 'glad'), (-3.306732453219264e-05, 'although'), (-3.09478690784053e-05, 'several'), (-2.8616490814079238e-05, 'doesnt'), (-2.8404158776421475e-05, 'blue'), (-2.7662110651776445e-05, 'between'), (-2.4694645668074796e-05, 'especially'), (-2.1726998805653543e-05, 'outside'), (-1.9501354598197432e-05, 'hot'), (-1.8653663356042282e-05, 'looked'), (-1.822972679560496e-05, 'money'), (-1.7805835704847416e-05, 'white'), (-1.4414206812308952e-05, 'isnt'), (-1.134059854461842e-05, 'place'), (-1.0704739173642269e-05, 'things'), (-9.326968087060804e-06, 'house'), (-8.797252000073644e-06, 'wish'), (-5.935839361001049e-06, 'while'), (1.0559764783028619e-07, 'kind'), (2.1169546213933594e-07, 'type'), (1.2714913935528644e-06, 'favorite'), (2.967010286902827e-06, 'both'), (2.967237635302265e-06, 'away'), (3.179251385200814e-06, 'fast'), (4.239001846934401e-06, 'took'), (5.404213547458665e-06, 'find'), (6.252359486412637e-06, 'easy'), (8.372406046038515e-06, 'regular'), (8.58441979593701e-06, 'wrong'), (9.644170257670651e-06, 'excellent'), (1.2929701335900065e-05, 'anyone'), (1.7381035220492282e-05, 'couple'), (1.8652708492764643e-05, 'highly'), (1.9712777242257443e-05, 'tell'), (2.1193554204915546e-05, 'at'), (2.140834160528724e-05, 'item'), (2.5011347672205825e-05, 'by'), (2.691897125481433e-05, 'didnt'), (2.8615354072082048e-05, 'store'), (2.9992988749623795e-05, 'bag'), (3.031110031383145e-05, '9'), (3.0522977654690226e-05, 'bad'), (3.253683546064728e-05, 'dark'), (3.433817935022702e-05, 'medium'), (3.433836122894657e-05, 'those'), (3.465651826283406e-05, 'weather'), (4.3876888369106994e-05, 'side'), (4.557272555021617e-05, 'pleased'), (4.6632612420989474e-05, 'nicely'), (4.843100078137652e-05, 'too'), (4.864637928758675e-05, 'nothing'), (4.8858302098125526e-05, 'jacket'), (5.1401966930429515e-05, 'instead'), (5.150742816922003e-05, 'expected'), (5.489728374424288e-05, 'can'), (5.58532098756619e-05, 'went'), (5.701914909106437e-05, 'couldnt'), (5.723107190160314e-05, 'either'), (6.030449829057423e-05, 'design'), (6.517990514464338e-05, 'comes'), (6.645148747755597e-05, '8'), (6.750855522817678e-05, 'all'), (6.78292130944576e-05, 'through'), (7.10088737067774e-05, 'anything'), (7.11149715210864e-05, 'red'), (7.196052568828699e-05, 'out'), (7.832171116980177e-05, 'ones'), (8.139536490717224e-05, 'once'), (8.150132631244174e-05, 'extra'), (8.468089598540166e-05, 'ok'), (8.764827002974364e-05, 'brand'), (8.796647253331101e-05, 'quickly'), (8.966044545754507e-05, 'time'), (9.453735281105024e-05, 'wont'), (9.506738718579667e-05, 'such'), (9.6975010768405e-05, 'shorts'), (9.951872107038883e-05, 'awesome'), (0.00010026013261951532, 'always'), (0.00010545324181067319, 'fabric'), (0.00011011704414196283, 'times'), (0.00011637022208261345, 'fall'), (0.00011742969972626776, 'quite'), (0.00011901980285050693, 'deal'), (0.0001224107042281672, 'since'), (0.00012378897548122743, 'cold'), (0.00012421300298102452, 'hat'), (0.00012664966060542166, 'there'), (0.00012781650921442193, 'sleeves'), (0.00012866379122945804, 'product'), (0.00013110144918681275, 'purchase'), (0.00013152547668660996, 'thin'), (0.00013693100885478525, 'here'), (0.00013915610742608287, 'warm'), (0.00014837738692595345, 'sturdy'), (0.00014964828721366783, 'off'), (0.00015060303113340957, 'already'), (0.00015632612922963397, 'legs'), (0.00016681749056298096, 'cute'), (0.00017656898631631768, 'inside'), (0.0001807023450457419, 'sizes'), (0.00018483497626028793, 'been'), (0.00018706093875550341, 'again'), (0.00019130075905667574, 'arrived'), (0.00020232242758284826, 'any'), (0.00020317052805212277, 'put'), (0.0002118616822378872, 'sizing'), (0.00021355756488867622, 'expect'), (0.0002153589087782558, 'should'), (0.00021599517737635104, 'runs'), (0.00022320187155538658, 'seems'), (0.00022394251011995537, 'which'), (0.00022648726622457628, 'being'), (0.00022691033886109574, 'still'), (0.00023019682480260285, 'buying'), (0.00023920563585577606, 'cotton'), (0.0002467299869022203, 'two'), (0.0002495913540716129, 'could'), (0.00025287747625568093, 'getting'), (0.0002579648968596487, 'three'), (0.00026835134259036374, 'says'), (0.0002728024491265565, 'come'), (0.00027354181454008813, 'nice'), (0.00027820779941601227, 'cool'), (0.0002853086685988181, 'room'), (0.0002858384756251651, 'seem'), (0.0002906068752713273, 'material'), (0.0003007822621154216, 'daughter'), (0.00031477207767049433, 'said'), (0.0003180577906274433, '7'), (0.00032219119482654736, 'durable'), (0.00032346254981106056, 'years'), (0.0003267474897834515, 'she'), (0.0003282243563536378, 'not'), (0.000331517799156169, 'set'), (0.0003322593925840152, 'before'), (0.000344545550173039, 'on'), (0.00034879305485011156, '10'), (0.00035684803137714063, 'clothes'), (0.00037306344566998977, 'bigger'), (0.0003804822445382835, 'needed'), (0.00038090627203808073, 'months'), (0.0003847211554458582, 'purchased'), (0.0003874774251338992, 'christmas'), (0.00039023296730706215, 'washed'), (0.0004099451534434811, 'now'), (0.000421710052305976, 'thick'), (0.00042245187308222133, '12'), (0.00042520768807346364, 'next'), (0.00043198930895006456, 'long'), (0.00043538207458460027, 'hold'), (0.00043622976582675553, '5'), (0.00046325515318363774, 'colors'), (0.0004765039209470232, 'able'), (0.000489327615407974, 'sure'), (0.0004920833849295363, 'loved'), (0.0004930357189562441, 'perfect'), (0.0004965346278747689, 'their'), (0.0005113721346719968, 'happy'), (0.000518684108211103, 'got'), (0.0005236652036523623, 'about'), (0.000541471812341768, 'super'), (0.0006048166805640298, 'and'), (0.0006112082852613946, 'made'), (0.0006129035768063455, 'price'), (0.0006175639689116434, 'be'), (0.0006520126566351286, 'soft'), (0.0006552987333495165, 'waist'), (0.0006851862608603498, 'into'), (0.0006860337702237853, 'pants'), (0.0007101976085325556, 'after'), (0.0007177235964874759, '6'), (0.0007458073702156951, 'were'), (0.0007902152023531468, 'buy'), (0.0008307009165265142, 'small'), (0.0008332389885881922, 'so'), (0.0008711880402599581, 'her'), (0.0008741557325920592, 'last'), (0.0008867666857882333, 'has'), (0.0009270352481378745, 'was'), (0.0009823579234723104, 'them'), (0.000994128960741591, 'big'), (0.000997309439808149, '3'), (0.0010073748184454643, 'will'), (0.001023910936074274, 'jeans'), (0.0010462738851902634, '2'), (0.001063867479796813, '4'), (0.0011710139215471618, 'good'), (0.0011825525291802724, 'is'), (0.0013349745919087389, 'wash'), (0.0013623162720426333, 'bought'), (0.001405030131255851, 'shirts'), (0.0014597129458874814, 'fit'), (0.0014617313051917473, 'who'), (0.0015184307967494883, 'little'), (0.0015889004966758609, 'they'), (0.0017112171980245695, 'shirt'), (0.0017759697563827842, 'great'), (0.0018095616589281355, 'these'), (0.001893401911471766, 'up'), (0.0019492582587553398, 'wears'), (0.002071764830119841, 'are'), (0.002165252981434892, 'socks'), (0.0022716584208632333, 'well'), (0.0026168464689805123, 'size'), (0.0026464196134408876, 'quality'), (0.0034739445523991525, 'loves'), (0.004239997189594566, 'we'), (0.004557207652737293, 'year'), (0.004928681813737281, 'his'), (0.004984111587218985, 'him'), (0.005338204076422963, 'old'), (0.006494796470539353, 'my'), (0.008146025281171643, 'for'), (0.009183199671715905, 'son'), (0.011061342049556559, 'he')]\n"
     ]
    }
   ],
   "source": [
    "wordCountBoys = defaultdict(int)\n",
    "punctuation = set(string.punctuation)\n",
    "counter = 0\n",
    "for d in counts[:500]:\n",
    "    wordCountBoys[d[1]] = 0 \n",
    "for d in readGz(\"train.json.gz\"):\n",
    "  if(counter >= 100000):\n",
    "    break\n",
    "  else:\n",
    "    counter += 1\n",
    "    if(d['categoryID'] == 3):\n",
    "        r = ''.join([c for c in d['reviewText'].lower() if not c in punctuation])\n",
    "        for w in r.split():\n",
    "            if(wordCountBoys.has_key(w)):\n",
    "                wordCountBoys[w] += 1\n",
    "                \n",
    "wordCountBoysT = [(wordCountBoys[w], w) for w in wordCountBoys]\n",
    "wordCountBoysT.sort()\n",
    "wordCountBoysT.reverse()\n",
    "\n",
    "sumTotalWords5 = 0;\n",
    "for d in wordCountBoysT:\n",
    "    sumTotalWords5 += d[0]\n",
    "    \n",
    "fWBoys = {}\n",
    "for d in wordCountBoysT:\n",
    "    fWBoys[d[1]] = d[0] * 1.0 / sumTotalWords5\n",
    "\n",
    "frequencyWordBoysCategory = defaultdict(int)\n",
    "for d in counts[:500]:\n",
    "    frequencyWordBoysCategory[d[1]] = fWBoys[d[1]] - fW[d[1]]\n",
    "\n",
    "boysCounts = [(frequencyWordBoysCategory[w], w) for w in frequencyWordBoysCategory]\n",
    "boysCounts = sorted(boysCounts, key=lambda x: x[0])\n",
    "print(boysCounts)"
   ]
  },
  {
   "cell_type": "code",
   "execution_count": 17,
   "metadata": {
    "collapsed": false
   },
   "outputs": [
    {
     "name": "stdout",
     "output_type": "stream",
     "text": [
      "defaultdict(<type 'int'>, {'all': 0, 'chain': 0, 'go': 0, 'everything': 0, 'to': 0, 'under': 0, 'worth': 0, 'sizing': 0, '7': 0, 'outside': 0, 'very': 0, 'every': 0, 'fall': 0, 'room': 0, 'durable': 0, 'did': 0, 'large': 0, 'item': 0, 'small': 0, 'havent': 0, 'clothes': 0, 'smaller': 0, 'says': 0, 'boots': 0, 'second': 0, 'design': 0, 'shirts': 0, 'uncomfortable': 0, 'casual': 0, 'blue': 0, 'what': 0, 'pleased': 0, 'wouldnt': 0, 'goes': 0, 'new': 0, 'ever': 0, 'can': 0, 'body': 0, 'toes': 0, 'never': 0, 'here': 0, 'water': 0, 'others': 0, 'sexy': 0, 'box': 0, 'great': 0, 'daughter': 0, 'my': 0, 'larger': 0, 'arent': 0, 'usually': 0, 'narrow': 0, 'makes': 0, 'thats': 0, 'love': 0, 'extra': 0, 'highly': 0, 'snug': 0, 'bra': 0, 'use': 0, 'from': 0, 'would': 0, 'two': 0, 'next': 0, 'few': 0, 'recommend': 0, 'type': 0, 'tell': 0, 'more': 0, 'warm': 0, 'excellent': 0, 'hold': 0, 'glad': 0, 'me': 0, 'wore': 0, 'this': 0, 'work': 0, 'worn': 0, 'reviews': 0, 'wallet': 0, 'thin': 0, 'didnt': 0, 'beautiful': 0, 'want': 0, 'give': 0, 'awesome': 0, 'lightweight': 0, 'high': 0, 'something': 0, 'purchased': 0, 'times': 0, 'dress': 0, 'returned': 0, 'end': 0, 'winter': 0, 'skirt': 0, 'comfort': 0, 'how': 0, 'hot': 0, 'instead': 0, 'product': 0, 'tried': 0, 'may': 0, 'overall': 0, 'after': 0, 'wrong': 0, 'stars': 0, 'fits': 0, 'such': 0, 'arch': 0, 'a': 0, 'purchase': 0, 'short': 0, 'waist': 0, 'light': 0, 'straps': 0, 'feels': 0, 'so': 0, 'necklace': 0, 'leggings': 0, 'order': 0, 'cute': 0, 'shoes': 0, 'over': 0, 'years': 0, 'isnt': 0, 'through': 0, 'looks': 0, 'cold': 0, 'still': 0, 'its': 0, 'before': 0, 'perfect': 0, 'style': 0, 'fit': 0, 'actually': 0, 'better': 0, 'cool': 0, 'might': 0, 'then': 0, 'them': 0, 'good': 0, 'return': 0, 'material': 0, 'band': 0, 'they': 0, 'half': 0, 'foot': 0, 'now': 0, 'day': 0, 'bigger': 0, 'wont': 0, 'easily': 0, 'always': 0, 'nicely': 0, 'weather': 0, 'found': 0, 'went': 0, 'side': 0, 'heavy': 0, 'weight': 0, 'house': 0, 'hard': 0, 'expect': 0, 'year': 0, 'ring': 0, 'really': 0, 'try': 0, 'since': 0, 'washed': 0, 'looking': 0, 'wide': 0, 'got': 0, 'red': 0, 'guess': 0, 'quite': 0, 'reason': 0, 'put': 0, 'wanted': 0, 'pairs': 0, 'could': 0, 'days': 0, 'keep': 0, 'thing': 0, 'length': 0, 'place': 0, 'think': 0, 'first': 0, 'already': 0, 'dont': 0, 'feel': 0, 'one': 0, 'feet': 0, 'wash': 0, 'fast': 0, 'another': 0, 'thick': 0, 'quality': 0, 'size': 0, 'little': 0, 'needed': 0, 'ordering': 0, 'top': 0, 'comfy': 0, 'least': 0, 'anyone': 0, 'their': 0, '2': 0, 'too': 0, 'white': 0, 'perfectly': 0, 'store': 0, 'toe': 0, 'lot': 0, 'that': 0, 'exactly': 0, 'took': 0, 'part': 0, 'than': 0, 'loved': 0, 'kind': 0, '12': 0, 'compliments': 0, 'loves': 0, 'were': 0, 'and': 0, 'wasnt': 0, 'mine': 0, 'comfortable': 0, 'say': 0, 'medium': 0, 'have': 0, 'need': 0, 'seem': 0, 'any': 0, 'shorts': 0, 'able': 0, 'also': 0, 'take': 0, 'which': 0, 'even': 0, 'sure': 0, 'though': 0, 'price': 0, 'who': 0, 'most': 0, 'regular': 0, 'pair': 0, 'extremely': 0, 'why': 0, 'especially': 0, 'sturdy': 0, 'looked': 0, 'definitely': 0, 'normally': 0, 'review': 0, 'came': 0, 'walking': 0, 'gold': 0, 'show': 0, 'cheap': 0, 'colors': 0, 'shoe': 0, 'fine': 0, 'find': 0, 'with': 0, 'enough': 0, 'should': 0, 'only': 0, 'going': 0, 'black': 0, 'pretty': 0, '8': 0, 'wearing': 0, 'do': 0, 'his': 0, 'get': 0, 'watch': 0, 'legs': 0, 'amazon': 0, 'ones': 0, 'him': 0, 'runs': 0, 'leather': 0, 'bag': 0, 'bad': 0, 'she': 0, 'bought': 0, 'where': 0, 'husband': 0, 'set': 0, 'see': 0, 'decided': 0, 'are': 0, 'best': 0, 'said': 0, 'away': 0, '3': 0, 'between': 0, 'probably': 0, 'pants': 0, 'we': 0, 'loose': 0, 'wears': 0, 'sole': 0, 'however': 0, 'wear': 0, 'come': 0, 'bras': 0, 'both': 0, 'last': 0, 'brown': 0, 'many': 0, 'ill': 0, 'comes': 0, 'liked': 0, 'color': 0, 'seems': 0, 'jeans': 0, 'walk': 0, 'expensive': 0, 'belt': 0, 'stretch': 0, 'three': 0, 'been': 0, 'quickly': 0, 'much': 0, 'expected': 0, 'dry': 0, 'received': 0, 'sleeves': 0, 'those': 0, 'myself': 0, 'look': 0, 'these': 0, 'will': 0, 'while': 0, 'slippers': 0, 'ive': 0, 'almost': 0, 'is': 0, 'it': 0, 'cant': 0, 'someone': 0, 'im': 0, 'in': 0, 'id': 0, 'if': 0, 'different': 0, 'shirt': 0, 'things': 0, 'make': 0, 'same': 0, '9': 0, 'several': 0, 'used': 0, 'running': 0, 'arrived': 0, 'sandals': 0, 'off': 0, 'i': 0, 'youre': 0, 'well': 0, 'thought': 0, 'person': 0, 'without': 0, 'the': 0, 'summer': 0, 'just': 0, 'less': 0, 'being': 0, 'money': 0, 'front': 0, 'shape': 0, 'yet': 0, 'cut': 0, 'had': 0, 'silver': 0, '4': 0, 'easy': 0, 'has': 0, 'hat': 0, 'gave': 0, 'real': 0, 'around': 0, 'read': 0, 'big': 0, 'couple': 0, 'dark': 0, 'know': 0, 'bit': 0, 'strap': 0, 'disappointed': 0, 'like': 0, 'gift': 0, 'sizes': 0, 'bracelet': 0, 'theyre': 0, 'either': 0, 'stylish': 0, 'nice': 0, 'soft': 0, 'heel': 0, 'because': 0, 'old': 0, 'deal': 0, 'people': 0, 'absolutely': 0, 'some': 0, 'back': 0, 'for': 0, 'bottom': 0, 'normal': 0, 'when': 0, 'does': 0, 'earrings': 0, 'christmas': 0, 'be': 0, 'run': 0, 'although': 0, 'super': 0, 'by': 0, 'on': 0, 'about': 0, 'works': 0, 'ok': 0, 'anything': 0, 'getting': 0, 'of': 0, 'months': 0, 'favorite': 0, 'shipping': 0, 'plus': 0, 'pockets': 0, 'slightly': 0, 'or': 0, 'own': 0, 'into': 0, 'socks': 0, 'son': 0, 'down': 0, 'nothing': 0, 'doesnt': 0, 'couldnt': 0, 'your': 0, 'fabric': 0, 'her': 0, 'area': 0, 'support': 0, 'there': 0, 'long': 0, 'width': 0, 'low': 0, 'way': 0, 'was': 0, 'happy': 0, 'buy': 0, 'slip': 0, 'brand': 0, '6': 0, 'but': 0, 'true': 0, 'buying': 0, 'he': 0, 'made': 0, 'wish': 0, 'inside': 0, 'up': 0, 'problem': 0, 'piece': 0, 'ordered': 0, 'am': 0, 'watches': 0, 'an': 0, 'as': 0, 'right': 0, 'at': 0, 'cotton': 0, 'again': 0, 'maybe': 0, 'no': 0, 'not': 0, 'boot': 0, 'tight': 0, 'other': 0, '5': 0, 'you': 0, 'out': 0, '10': 0, 'picture': 0, 'felt': 0, 'stay': 0, 'longer': 0, 'wife': 0, 'jacket': 0, 'fact': 0, 'time': 0, 'far': 0, 'having': 0, 'once': 0})\n"
     ]
    }
   ],
   "source": [
    "wordCountBaby = defaultdict(int)\n",
    "punctuation = set(string.punctuation)\n",
    "counter = 0\n",
    "for d in counts[:500]:\n",
    "    wordCountBaby[d[1]] = 0 \n",
    "print(wordCountBaby)\n",
    "for d in readGz(\"train.json.gz\"):\n",
    "  if(counter >= 100000):\n",
    "    break\n",
    "  else:\n",
    "    counter += 1\n",
    "    if(d['categoryID'] == 4):\n",
    "        r = ''.join([c for c in d['reviewText'].lower() if not c in punctuation])\n",
    "        for w in r.split():\n",
    "            if(wordCountBaby.has_key(w)):\n",
    "                wordCountBaby[w] += 1\n",
    "                \n",
    "wordCountBabyT = [(wordCountBaby[w], w) for w in wordCountBaby]\n",
    "wordCountBabyT.sort()\n",
    "wordCountBabyT.reverse()\n",
    "\n",
    "sumTotalWords6 = 0;\n",
    "for d in wordCountBabyT:\n",
    "    sumTotalWords6 += d[0]\n",
    "    \n",
    "fWBaby = {}\n",
    "for d in wordCountBabyT:\n",
    "    fWBaby[d[1]] = d[0] * 1.0 / sumTotalWords6\n",
    "\n",
    "frequencyWordBabyCategory = defaultdict(int)\n",
    "for d in counts[:500]:\n",
    "    frequencyWordBabyCategory[d[1]] = fWBaby[d[1]] - fW[d[1]]\n",
    "\n",
    "babyCounts = [(frequencyWordBabyCategory[w], w) for w in frequencyWordBabyCategory]\n",
    "babyCounts = sorted(babyCounts, key=lambda x: x[0])\n"
   ]
  },
  {
   "cell_type": "code",
   "execution_count": 18,
   "metadata": {
    "collapsed": false
   },
   "outputs": [],
   "source": [
    "xSVM = []\n",
    "ySVM = []\n",
    "counter = 0\n",
    "for d in readGz(\"train.json.gz\"):\n",
    "    if(counter >= 5000):\n",
    "        break\n",
    "    else:\n",
    "        svmWordCount = defaultdict(int)\n",
    "        for e in words:\n",
    "            svmWordCount[e] = 0\n",
    "        if(d['categoryID'] == 0):\n",
    "            r = ''.join([c for c in d['reviewText'].lower() if not c in punctuation])\n",
    "            for w in r.split():\n",
    "                if(svmWordCount.has_key(w)):\n",
    "                    svmWordCount[w] = 1\n",
    "            xSVM.append(svmWordCount.values())\n",
    "            ySVM.append(0)\n",
    "        elif(d['categoryID'] == 1):\n",
    "            r = ''.join([c for c in d['reviewText'].lower() if not c in punctuation])\n",
    "            for w in r.split():\n",
    "                if(svmWordCount.has_key(w)):\n",
    "                    svmWordCount[w] = 1\n",
    "            xSVM.append(svmWordCount.values())\n",
    "            ySVM.append(1)\n",
    "        counter += 1\n",
    "        \n",
    "\n",
    "          \n",
    "       "
   ]
  },
  {
   "cell_type": "code",
   "execution_count": 19,
   "metadata": {
    "collapsed": false
   },
   "outputs": [
    {
     "data": {
      "text/plain": [
       "SVC(C=100, cache_size=200, class_weight=None, coef0=0.0,\n",
       "  decision_function_shape=None, degree=3, gamma='auto', kernel='rbf',\n",
       "  max_iter=-1, probability=False, random_state=None, shrinking=True,\n",
       "  tol=0.001, verbose=False)"
      ]
     },
     "execution_count": 19,
     "metadata": {},
     "output_type": "execute_result"
    }
   ],
   "source": [
    "clf = svm.SVC(C=100)\n",
    "clf.fit(xSVM, ySVM)"
   ]
  },
  {
   "cell_type": "code",
   "execution_count": 20,
   "metadata": {
    "collapsed": false
   },
   "outputs": [],
   "source": [
    "xValidationSVM = []\n",
    "yValidationSVM = []\n",
    "counter = 0\n",
    "for d in readGz(\"train.json.gz\"):\n",
    "    if(counter < 5000):\n",
    "        svmWordCount = defaultdict(int)\n",
    "        for e in words:\n",
    "            svmWordCount[e] = 0\n",
    "        if(d['categoryID'] == 2):\n",
    "            r = ''.join([c for c in d['reviewText'].lower() if not c in punctuation])\n",
    "            for w in r.split():\n",
    "                if(svmWordCount.has_key(w)):\n",
    "                    svmWordCount[w] = 1\n",
    "            xValidationSVM.append(svmWordCount.values())\n",
    "            yValidationSVM.append(2)\n",
    "        elif(d['categoryID'] == 3):\n",
    "            r = ''.join([c for c in d['reviewText'].lower() if not c in punctuation])\n",
    "            for w in r.split():\n",
    "                if(svmWordCount.has_key(w)):\n",
    "                    svmWordCount[w] = 1\n",
    "            xValidationSVM.append(svmWordCount.values())\n",
    "            yValidationSVM.append(3)\n",
    "        elif(d['categoryID'] == 4):\n",
    "            r = ''.join([c for c in d['reviewText'].lower() if not c in punctuation])\n",
    "            for w in r.split():\n",
    "                if(svmWordCount.has_key(w)):\n",
    "                    svmWordCount[w] = 1\n",
    "            xValidationSVM.append(svmWordCount.values())\n",
    "            yValidationSVM.append(4)\n",
    "        counter += 1\n",
    "    else:\n",
    "        svmWordCount = defaultdict(int)\n",
    "        for e in words:\n",
    "            svmWordCount[e] = 0\n",
    "        if(d['categoryID'] == 0):\n",
    "            r = ''.join([c for c in d['reviewText'].lower() if not c in punctuation])\n",
    "            for w in r.split():\n",
    "                if(svmWordCount.has_key(w)):\n",
    "                    svmWordCount[w] = 1\n",
    "            xValidationSVM.append(svmWordCount.values())\n",
    "            yValidationSVM.append(0)\n",
    "        elif(d['categoryID'] == 1):\n",
    "            r = ''.join([c for c in d['reviewText'].lower() if not c in punctuation])\n",
    "            for w in r.split():\n",
    "                if(svmWordCount.has_key(w)):\n",
    "                    svmWordCount[w] = 1\n",
    "            xValidationSVM.append(svmWordCount.values())\n",
    "            yValidationSVM.append(1)\n",
    "        elif(d['categoryID'] == 2):\n",
    "            r = ''.join([c for c in d['reviewText'].lower() if not c in punctuation])\n",
    "            for w in r.split():\n",
    "                if(svmWordCount.has_key(w)):\n",
    "                    svmWordCount[w] = 1\n",
    "            xValidationSVM.append(svmWordCount.values())\n",
    "            yValidationSVM.append(2)\n",
    "        elif(d['categoryID'] == 3):\n",
    "            r = ''.join([c for c in d['reviewText'].lower() if not c in punctuation])\n",
    "            for w in r.split():\n",
    "                if(svmWordCount.has_key(w)):\n",
    "                    svmWordCount[w] = 1\n",
    "            xValidationSVM.append(svmWordCount.values())\n",
    "            yValidationSVM.append(3)\n",
    "        elif(d['categoryID'] == 4):\n",
    "            r = ''.join([c for c in d['reviewText'].lower() if not c in punctuation])\n",
    "            for w in r.split():\n",
    "                if(svmWordCount.has_key(w)):\n",
    "                    svmWordCount[w] = 1\n",
    "            xValidationSVM.append(svmWordCount.values())\n",
    "            yValidationSVM.append(4)\n",
    "\n",
    "        "
   ]
  },
  {
   "cell_type": "code",
   "execution_count": 21,
   "metadata": {
    "collapsed": false
   },
   "outputs": [
    {
     "name": "stdout",
     "output_type": "stream",
     "text": [
      "4818\n",
      "195182\n",
      "195182\n"
     ]
    }
   ],
   "source": [
    "print(len(xSVM))\n",
    "print(len(xValidationSVM))\n",
    "print(len(yValidationSVM))"
   ]
  },
  {
   "cell_type": "code",
   "execution_count": 22,
   "metadata": {
    "collapsed": false
   },
   "outputs": [],
   "source": [
    "test_predictions = clf.predict(xValidationSVM)\n",
    "test_labels = [a > 0 for a in test_predictions]\n",
    "test_correct = [(a == b) for a,b in zip(test_labels, yValidationSVM)]"
   ]
  },
  {
   "cell_type": "code",
   "execution_count": 23,
   "metadata": {
    "collapsed": false
   },
   "outputs": [
    {
     "name": "stdout",
     "output_type": "stream",
     "text": [
      "76.0608047873\n"
     ]
    }
   ],
   "source": [
    "print(sum(test_correct) * 1.0 / len(test_correct) * 100)"
   ]
  },
  {
   "cell_type": "code",
   "execution_count": 24,
   "metadata": {
    "collapsed": false
   },
   "outputs": [],
   "source": [
    "#Question 8\n",
    "xtrainingSVM8 = []\n",
    "ytrainingSVM8 = []\n",
    "counter = 0\n",
    "\n",
    "for d in readGz(\"train.json.gz\"):\n",
    "    if(counter < 20000):\n",
    "        svmWordCount = defaultdict(int)\n",
    "        for e in words:\n",
    "            svmWordCount[e] = 0\n",
    "        if(d['categoryID'] == 0):\n",
    "            r = ''.join([c for c in d['reviewText'].lower() if not c in punctuation])\n",
    "            for w in r.split():\n",
    "                if(svmWordCount.has_key(w)):\n",
    "                    svmWordCount[w] = 1\n",
    "            xtrainingSVM8.append(svmWordCount.values())\n",
    "            ytrainingSVM8.append(0)\n",
    "        elif(d['categoryID'] == 1):\n",
    "            r = ''.join([c for c in d['reviewText'].lower() if not c in punctuation])\n",
    "            for w in r.split():\n",
    "                if(svmWordCount.has_key(w)):\n",
    "                    svmWordCount[w] = 1\n",
    "            xtrainingSVM8.append(svmWordCount.values())\n",
    "            ytrainingSVM8.append(1)\n",
    "        elif(d['categoryID'] == 2):\n",
    "            r = ''.join([c for c in d['reviewText'].lower() if not c in punctuation])\n",
    "            for w in r.split():\n",
    "                if(svmWordCount.has_key(w)):\n",
    "                    svmWordCount[w] = 1\n",
    "            xtrainingSVM8.append(svmWordCount.values())\n",
    "            ytrainingSVM8.append(2)\n",
    "        elif(d['categoryID'] == 3):\n",
    "            r = ''.join([c for c in d['reviewText'].lower() if not c in punctuation])\n",
    "            for w in r.split():\n",
    "                if(svmWordCount.has_key(w)):\n",
    "                    svmWordCount[w] = 1\n",
    "            xtrainingSVM8.append(svmWordCount.values())\n",
    "            ytrainingSVM8.append(3)\n",
    "        elif(d['categoryID'] == 4):\n",
    "            r = ''.join([c for c in d['reviewText'].lower() if not c in punctuation])\n",
    "            for w in r.split():\n",
    "                if(svmWordCount.has_key(w)):\n",
    "                    svmWordCount[w] = 1\n",
    "            xtrainingSVM8.append(svmWordCount.values())\n",
    "            ytrainingSVM8.append(4)\n",
    "        counter += 1"
   ]
  },
  {
   "cell_type": "code",
   "execution_count": 25,
   "metadata": {
    "collapsed": false
   },
   "outputs": [],
   "source": [
    "xvalidationSVM8 = []\n",
    "yvalidationSVM8 = []\n",
    "counter = 0\n",
    "\n",
    "for d in readGz(\"train.json.gz\"):\n",
    "    if(counter < 20000):\n",
    "        counter += 1\n",
    "    elif(counter >= 20000 and counter < 40000):\n",
    "        svmWordCount = defaultdict(int)\n",
    "        for e in words:\n",
    "            svmWordCount[e] = 0\n",
    "        if(d['categoryID'] == 0):\n",
    "            r = ''.join([c for c in d['reviewText'].lower() if not c in punctuation])\n",
    "            for w in r.split():\n",
    "                if(svmWordCount.has_key(w)):\n",
    "                    svmWordCount[w] = 1\n",
    "            xvalidationSVM8.append(svmWordCount.values())\n",
    "            yvalidationSVM8.append(0)\n",
    "        elif(d['categoryID'] == 1):\n",
    "            r = ''.join([c for c in d['reviewText'].lower() if not c in punctuation])\n",
    "            for w in r.split():\n",
    "                if(svmWordCount.has_key(w)):\n",
    "                    svmWordCount[w] = 1\n",
    "            xvalidationSVM8.append(svmWordCount.values())\n",
    "            yvalidationSVM8.append(1)\n",
    "        elif(d['categoryID'] == 2):\n",
    "            r = ''.join([c for c in d['reviewText'].lower() if not c in punctuation])\n",
    "            for w in r.split():\n",
    "                if(svmWordCount.has_key(w)):\n",
    "                    svmWordCount[w] = 1\n",
    "            xvalidationSVM8.append(svmWordCount.values())\n",
    "            yvalidationSVM8.append(2)\n",
    "        elif(d['categoryID'] == 3):\n",
    "            r = ''.join([c for c in d['reviewText'].lower() if not c in punctuation])\n",
    "            for w in r.split():\n",
    "                if(svmWordCount.has_key(w)):\n",
    "                    svmWordCount[w] = 1\n",
    "            xvalidationSVM8.append(svmWordCount.values())\n",
    "            yvalidationSVM8.append(3)\n",
    "        elif(d['categoryID'] == 4):\n",
    "            r = ''.join([c for c in d['reviewText'].lower() if not c in punctuation])\n",
    "            for w in r.split():\n",
    "                if(svmWordCount.has_key(w)):\n",
    "                    svmWordCount[w] = 1\n",
    "            xvalidationSVM8.append(svmWordCount.values())\n",
    "            yvalidationSVM8.append(4)\n",
    "        counter += 1"
   ]
  },
  {
   "cell_type": "code",
   "execution_count": 26,
   "metadata": {
    "collapsed": false
   },
   "outputs": [
    {
     "data": {
      "text/plain": [
       "LinearSVC(C=100, class_weight=None, dual=True, fit_intercept=True,\n",
       "     intercept_scaling=1, loss='squared_hinge', max_iter=1000,\n",
       "     multi_class='ovr', penalty='l2', random_state=None, tol=0.0001,\n",
       "     verbose=0)"
      ]
     },
     "execution_count": 26,
     "metadata": {},
     "output_type": "execute_result"
    }
   ],
   "source": [
    "clf = svm.LinearSVC(C= 100)\n",
    "clf.fit(xtrainingSVM8, ytrainingSVM8)"
   ]
  },
  {
   "cell_type": "code",
   "execution_count": 27,
   "metadata": {
    "collapsed": false
   },
   "outputs": [],
   "source": [
    "test_decision = clf.decision_function(xvalidationSVM8)"
   ]
  },
  {
   "cell_type": "code",
   "execution_count": 28,
   "metadata": {
    "collapsed": false
   },
   "outputs": [],
   "source": [
    "\n",
    "resultvalidationSVM = []\n",
    "for d in test_decision:\n",
    "    d = list(d)\n",
    "    m = d.index(max(d))\n",
    "    if(m == 0):\n",
    "        resultvalidationSVM.append(0)\n",
    "    elif(m == 1):\n",
    "         resultvalidationSVM.append(1)\n",
    "    elif(m == 2):\n",
    "         resultvalidationSVM.append(2)\n",
    "    elif(m == 3):\n",
    "         resultvalidationSVM.append(3)\n",
    "    elif(m == 4):\n",
    "         resultvalidationSVM.append(4)\n"
   ]
  },
  {
   "cell_type": "code",
   "execution_count": 29,
   "metadata": {
    "collapsed": false
   },
   "outputs": [
    {
     "name": "stdout",
     "output_type": "stream",
     "text": [
      "[1, 0, 0, 0, 1, 0, 1, 0, 0, 0, 1, 0, 0, 1, 0, 0, 0, 0, 0, 0, 0, 0, 0, 0, 0, 0, 0, 0, 0, 0, 0, 1, 0, 0, 0, 0, 1, 3, 0, 1, 0, 0, 0, 0, 0, 0, 0, 0, 0, 0, 0, 0, 0, 0, 0, 0, 1, 0, 0, 0, 0, 0, 0, 0, 0, 1, 1, 0, 0, 0, 0, 0, 1, 0, 0, 0, 0, 0, 1, 0, 1, 0, 0, 0, 0, 1, 1, 0, 0, 0, 1, 0, 0, 0, 0, 0, 0, 0, 0, 0, 0, 0, 0, 0, 0, 0, 0, 0, 0, 0, 0, 0, 1, 0, 0, 0, 0, 0, 1, 1, 0, 0, 0, 0, 0, 0, 0, 0, 0, 0, 1, 1, 1, 1, 0, 0, 0, 0, 0, 0, 0, 0, 0, 0, 0, 0, 1, 0, 1, 0, 0, 0, 0, 1, 1, 1, 0, 0, 0, 2, 0, 1, 0, 0, 0, 1, 1, 1, 0, 1, 0, 0, 1, 0, 0, 0, 0, 0, 0, 0, 0, 0, 1, 0, 0, 0, 0, 0, 0, 0, 1, 0, 1, 1, 1, 0, 0, 3, 0, 0, 0, 1, 0, 1, 1, 0, 0, 0, 0, 1, 0, 0, 0, 0, 0, 0, 0, 0, 0, 0, 0, 1, 4, 0, 0, 0, 0, 0, 0, 0, 0, 4, 1, 1, 0, 0, 0, 0, 0, 0, 0, 1, 0, 0, 0, 0, 0, 1, 0, 0, 0, 0, 0, 0, 0, 0, 0, 0, 0, 1, 0, 0, 0, 0, 1, 2, 0, 1, 0, 0, 4, 0, 0, 0, 0, 0, 0, 1, 0, 0, 0, 0, 0, 0, 1, 0, 0, 0, 1, 0, 0, 0, 1, 1, 1, 1, 1, 1, 0, 1, 1, 0, 0, 0, 1, 1, 1, 0, 0, 0, 1, 0, 0, 0, 0, 1, 0, 0, 3, 1, 0, 1, 0, 1, 0, 0, 0, 0, 0, 1, 1, 0, 0, 1, 0, 0, 1, 1, 0, 0, 1, 2, 0, 0, 0, 0, 1, 0, 0, 1, 0, 1, 0, 0, 1, 0, 0, 0, 0, 1, 0, 0, 0, 1, 0, 1, 0, 0, 0, 0, 0, 2, 0, 0, 1, 0, 0, 0, 0, 0, 0, 0, 0, 0, 0, 1, 0, 0, 2, 1, 1, 0, 0, 0, 1, 1, 0, 1, 0, 0, 0, 0, 0, 0, 0, 0, 1, 0, 1, 1, 0, 0, 0, 0, 0, 0, 1, 0, 0, 0, 0, 1, 1, 1, 0, 0, 0, 0, 0, 0, 0, 0, 0, 0, 0, 0, 1, 1, 1, 0, 0, 1, 0, 0, 0, 0, 0, 0, 3, 0, 0, 0, 0, 0, 0, 1, 1, 0, 0, 0, 0, 0, 0, 0, 1, 0, 0, 0, 0, 0, 0, 0, 0, 0, 0, 0, 1, 0, 0, 0, 0, 0, 0, 1, 1, 0, 0, 0, 0, 0, 1, 0, 0, 0, 0, 4, 0, 1, 0, 0, 0, 0, 0, 1, 0, 0, 0, 1, 0, 1, 0, 0, 1, 0, 0, 0, 1, 0, 0, 1, 1, 0, 0, 0, 1, 1, 0, 0, 1, 1, 1, 0, 0, 1, 0, 0, 0, 1, 0, 0, 0, 0, 1, 0, 0, 1, 0, 0, 0, 0, 0, 0, 0, 2, 1, 0, 0, 0, 0, 0, 0, 1, 0, 1, 1, 0, 0, 1, 0, 1, 1, 1, 0, 0, 0, 0, 0, 1, 0, 0, 0, 0, 0, 0, 0, 0, 0, 0, 1, 0, 0, 1, 0, 1, 0, 1, 0, 1, 0, 0, 0, 0, 0, 0, 0, 0, 0, 0, 0, 0, 1, 0, 3, 0, 1, 0, 0, 0, 0, 0, 0, 0, 0, 0, 0, 0, 1, 1, 0, 4, 0, 0, 1, 1, 1, 0, 0, 1, 0, 0, 0, 0, 0, 0, 0, 0, 0, 1, 0, 0, 0, 1, 1, 0, 0, 0, 0, 0, 0, 1, 2, 0, 0, 0, 0, 0, 0, 0, 0, 0, 0, 0, 0, 0, 0, 0, 0, 0, 0, 0, 1, 0, 0, 1, 0, 0, 4, 0, 0, 0, 0, 1, 0, 0, 0, 0, 1, 0, 0, 0, 1, 0, 0, 0, 0, 0, 0, 0, 0, 0, 0, 0, 1, 0, 0, 0, 0, 1, 0, 0, 0, 0, 0, 0, 0, 0, 0, 0, 0, 1, 0, 0, 0, 0, 1, 0, 1, 1, 0, 0, 0, 0, 0, 0, 1, 0, 0, 0, 0, 0, 0, 0, 1, 0, 0, 0, 1, 1, 0, 0, 0, 0, 0, 0, 0, 0, 1, 0, 0, 1, 0, 0, 0, 0, 0, 0, 0, 0, 0, 0, 0, 0, 0, 0, 1, 4, 0, 1, 1, 0, 0, 0, 0, 0, 1, 0, 0, 0, 1, 0, 0, 1, 0, 0, 0, 1, 0, 0, 1, 1, 0, 1, 0, 1, 0, 0, 0, 0, 0, 0, 0, 0, 0, 1, 0, 0, 0, 0, 0, 0, 0, 0, 4, 0, 0, 0, 1, 0, 0, 0, 1, 0, 0, 0, 0, 0, 0, 0, 0, 0, 0, 0, 0, 0, 0, 0, 0, 0, 1, 0, 0, 1, 0, 0, 0, 0, 1, 0, 1, 0, 0, 0, 0, 0, 1, 0, 0, 0, 0, 0, 1, 0, 0, 0, 0, 0, 0, 1, 0, 0, 0, 1, 0, 0, 0, 0, 0, 0, 0, 0, 0, 1, 0, 1, 0, 0, 0, 0, 0, 1, 1, 0, 0, 0, 1, 0, 0, 0, 0, 0, 1, 0, 0, 0, 0, 3, 0, 0, 0, 0, 0, 0, 0, 0, 0, 0, 0, 1, 0, 0, 1, 0, 1, 1, 0, 0, 0, 0, 0, 1, 0, 0, 0, 1, 0, 0, 1, 1, 0, 1, 0, 0, 0, 0, 0, 0, 1, 1, 1, 1, 0, 0, 0, 0, 1, 0, 0, 0, 0, 1, 0, 0, 1, 0, 0, 0, 0, 0, 0, 0, 1, 1, 0, 0, 0, 0, 0, 0, 0, 0, 0, 0, 0, 0, 0, 0, 0, 0, 1, 0, 0, 0, 0, 0, 1, 0, 0, 0, 0, 0, 0, 0, 0, 1, 0, 0, 1, 0, 0, 1, 0, 0, 0, 0, 0, 0, 0, 0, 0, 0, 0, 0, 1, 1, 0, 0, 1, 0, 1, 1, 1, 0, 0, 0, 0, 0, 0, 0, 0, 0, 2, 0, 0, 0, 0, 0, 3, 1, 1, 0, 0, 0, 0, 1, 0, 0, 1, 0, 0, 0, 0, 1, 0, 0, 0, 0, 0, 0, 0, 1, 1, 0, 1, 0, 0, 0, 0, 2, 1, 4, 0, 0, 1, 0, 0, 0, 1, 0, 0, 0, 0, 0, 1, 0, 0, 0, 0, 0, 1, 0, 0, 0, 1, 0, 0, 2, 0, 0, 0, 0, 0, 0, 0, 0, 0, 0, 1, 0, 0, 1, 0, 0, 1, 0, 0, 0, 0, 0, 0, 0, 0, 0, 1, 1, 0, 0, 0, 0, 0, 1, 0, 0, 0, 0, 0, 1, 0, 0, 0, 1, 0, 0, 0, 0, 0, 1, 0, 0, 0, 0, 1, 0, 0, 0, 1, 1, 0, 0, 0, 0, 0, 1, 1, 0, 0, 0, 1, 0, 0, 1, 0, 0, 0, 1, 0, 0, 0, 0, 0, 0, 0, 0, 0, 1, 0, 1, 0, 0, 0, 0, 1, 0, 0, 0, 0, 0, 1, 1, 1, 1, 0, 1, 0, 0, 0, 0, 0, 0, 0, 0, 1, 1, 0, 0, 0, 0, 0, 0, 1, 0, 0, 0, 0, 0, 1, 1, 0, 0, 1, 1, 0, 0, 0, 1, 0, 0, 0, 0, 0, 0, 0, 0, 0, 4, 1, 0, 1, 0, 0, 1, 0, 0, 1, 1, 0, 0, 1, 0, 0, 0, 0, 1, 0, 0, 0, 0, 1, 0, 1, 0, 0, 1, 0, 0, 0, 0, 1, 0, 0, 0, 1, 1, 0, 0, 0, 0, 0, 1, 1, 0, 1, 0, 0, 0, 0, 0, 1, 0, 0, 0, 0, 1, 0, 1, 0, 0, 1, 0, 0, 0, 0, 0, 0, 0, 0, 1, 0, 0, 0, 0, 0, 0, 0, 0, 1, 0, 0, 0, 0, 0, 0, 0, 0, 0, 0, 0, 1, 0, 0, 0, 0, 0, 0, 0, 1, 0, 0, 1, 0, 0, 0, 0, 0, 1, 1, 0, 1, 0, 0, 1, 0, 0, 1, 0, 0, 0, 0, 0, 0, 1, 0, 0, 1, 0, 0, 0, 1, 0, 0, 0, 1, 0, 0, 0, 0, 0, 0, 1, 0, 0, 0, 1, 0, 0, 0, 0, 0, 0, 0, 1, 0, 0, 0, 0, 0, 0, 0, 0, 4, 0, 0, 1, 4, 0, 0, 0, 0, 0, 0, 1, 0, 0, 0, 0, 0, 0, 0, 0, 0, 0, 0, 0, 0, 0, 0, 0, 0, 0, 0, 0, 0, 0, 0, 0, 0, 0, 0, 0, 0, 0, 0, 0, 0, 1, 0, 1, 0, 0, 0, 0, 0, 0, 0, 4, 0, 1, 0, 0, 0, 0, 1, 0, 0, 0, 0, 0, 0, 0, 1, 0, 0, 0, 0, 1, 0, 0, 0, 0, 0, 0, 1, 1, 0, 0, 0, 0, 1, 0, 0, 0, 0, 0, 0, 0, 0, 0, 0, 1, 1, 0, 0, 4, 0, 0, 0, 0, 0, 0, 0, 1, 0, 0, 0, 0, 1, 0, 0, 0, 0, 0, 0, 1, 1, 1, 2, 0, 0, 0, 1, 0, 0, 0, 0, 0, 0, 0, 1, 0, 1, 1, 0, 0, 0, 1, 0, 0, 0, 1, 0, 1, 0, 1, 1, 0, 1, 1, 0, 1, 0, 0, 0, 0, 0, 0, 0, 1, 0, 0, 0, 0, 0, 1, 0, 0, 0, 1, 1, 0, 0, 1, 1, 0, 0, 0, 1, 0, 0, 0, 0, 0, 0, 1, 0, 0, 0, 0, 0, 1, 0, 1, 0, 0, 1, 1, 0, 0, 1, 0, 0, 0, 0, 1, 0, 0, 1, 0, 1, 1, 0, 0, 0, 1, 1, 3, 0, 0, 0, 4, 0, 0, 1, 0, 0, 0, 0, 1, 1, 0, 1, 0, 1, 0, 0, 0, 0, 0, 0, 0, 0, 0, 0, 0, 0, 2, 1, 0, 4, 0, 0, 0, 0, 0, 0, 0, 1, 0, 1, 0, 0, 1, 0, 0, 1, 1, 0, 0, 0, 0, 0, 0, 0, 0, 0, 1, 0, 0, 0, 1, 1, 0, 0, 0, 0, 0, 0, 0, 0, 0, 0, 0, 0, 0, 0, 1, 1, 4, 0, 0, 0, 0, 0, 0, 0, 1, 0, 0, 0, 0, 0, 0, 0, 0, 0, 0, 0, 0, 0, 0, 1, 1, 0, 1, 1, 0, 1, 0, 0, 0, 0, 0, 1, 1, 0, 0, 0, 0, 0, 1, 0, 0, 0, 1, 0, 0, 0, 0, 0, 1, 0, 0, 0, 0, 0, 0, 0, 1, 0, 0, 0, 0, 1, 0, 0, 0, 1, 0, 0, 0, 0, 0, 0, 0, 0, 0, 0, 0, 0, 0, 0, 0, 0, 0, 0, 1, 0, 0, 0, 1, 1, 0, 1, 0, 1, 0, 0, 0, 0, 1, 0, 0, 1, 0, 1, 0, 0, 0, 0, 0, 1, 0, 1, 0, 0, 0, 0, 1, 0, 0, 0, 0, 1, 1, 0, 1, 0, 0, 1, 0, 0, 0, 0, 0, 0, 0, 1, 0, 0, 0, 0, 0, 1, 0, 1, 0, 0, 0, 0, 0, 0, 0, 0, 0, 0, 0, 0, 0, 0, 0, 0, 0, 0, 0, 0, 1, 1, 0, 0, 0, 0, 0, 0, 0, 0, 0, 0, 1, 0, 0, 0, 0, 1, 0, 1, 0, 0, 0, 0, 0, 0, 0, 1, 1, 0, 1, 0, 0, 0, 0, 0, 0, 0, 1, 0, 0, 0, 1, 0, 0, 0, 1, 0, 0, 0, 0, 1, 0, 0, 0, 2, 0, 0, 0, 0, 0, 0, 1, 0, 0, 0, 0, 0, 0, 0, 0, 1, 1, 0, 1, 0, 0, 0, 0, 0, 1, 0, 0, 0, 0, 0, 0, 0, 1, 0, 0, 0, 0, 0, 0, 0, 0, 0, 1, 0, 0, 0, 1, 0, 0, 0, 1, 2, 0, 0, 0, 0, 0, 0, 0, 0, 0, 0, 0, 0, 1, 0, 0, 1, 0, 0, 0, 0, 1, 0, 0, 0, 0, 0, 0, 0, 1, 0, 0, 0, 0, 0, 0, 0, 0, 0, 1, 0, 0, 0, 0, 1, 1, 0, 0, 0, 0, 1, 0, 0, 1, 0, 0, 0, 0, 0, 0, 0, 0, 1, 1, 1, 0, 0, 0, 0, 0, 0, 0, 1, 0, 0, 0, 0, 0, 1, 0, 1, 0, 0, 0, 0, 1, 0, 0, 1, 0, 0, 0, 0, 0, 0, 1, 0, 0, 0, 1, 0, 0, 0, 0, 0, 0, 0, 0, 0, 0, 0, 0, 1, 0, 2, 0, 1, 0, 0, 0, 0, 0, 0, 1, 0, 0, 1, 0, 0, 0, 0, 0, 0, 0, 0, 0, 0, 0, 0, 0, 1, 0, 1, 0, 0, 1, 1, 0, 0, 0, 0, 0, 1, 0, 0, 0, 0, 1, 0, 0, 0, 0, 0, 0, 0, 0, 1, 0, 0, 0, 0, 0, 1, 0, 1, 0, 1, 0, 0, 0, 0, 0, 0, 1, 0, 0, 0, 0, 0, 0, 0, 0, 0, 0, 1, 0, 0, 1, 0, 0, 1, 0, 0, 0, 0, 1, 0, 0, 1, 0, 0, 0, 0, 0, 0, 1, 1, 0, 1, 0, 0, 1, 0, 0, 0, 0, 1, 0, 0, 0, 1, 0, 0, 0, 0, 0, 0, 0, 0, 0, 0, 0, 0, 0, 0, 0, 0, 1, 0, 0, 0, 0, 0, 0, 0, 1, 0, 0, 0, 0, 0, 0, 1, 0, 0, 0, 1, 0, 0, 2, 1, 1, 0, 0, 1, 0, 0, 0, 0, 0, 0, 0, 0, 0, 1, 0, 0, 0, 0, 0, 0, 0, 0, 0, 0, 0, 0, 0, 0, 0, 0, 1, 1, 0, 0, 0, 0, 0, 0, 1, 0, 0, 0, 0, 1, 0, 1, 1, 0, 0, 0, 1, 0, 0, 0, 1, 1, 0, 1, 0, 0, 0, 0, 0, 0, 1, 0, 0, 1, 1, 0, 2, 0, 0, 0, 0, 0, 0, 0, 0, 0, 0, 0, 0, 0, 0, 1, 1, 0, 0, 1, 1, 0, 0, 0, 1, 0, 1, 0, 0, 0, 0, 1, 0, 0, 0, 2, 0, 0, 0, 0, 0, 0, 0, 0, 0, 0, 0, 0, 0, 1, 1, 0, 0, 0, 1, 0, 1, 0, 0, 0, 0, 1, 1, 0, 0, 0, 0, 1, 0, 1, 0, 0, 0, 0, 0, 0, 1, 0, 0, 0, 0, 0, 0, 0, 1, 0, 1, 0, 0, 0, 0, 1, 0, 1, 0, 0, 0, 0, 0, 1, 1, 0, 1, 0, 0, 1, 0, 0, 0, 0, 0, 0, 0, 0, 0, 0, 0, 0, 0, 0, 0, 0, 0, 0, 0, 0, 0, 1, 0, 0, 0, 0, 0, 1, 1, 0, 1, 0, 0, 0, 0, 0, 0, 0, 1, 0, 0, 0, 0, 0, 0, 1, 0, 0, 0, 0, 0, 0, 0, 1, 0, 1, 1, 0, 0, 1, 0, 0, 0, 0, 2, 0, 0, 0, 0, 0, 0, 0, 0, 0, 0, 1, 0, 0, 0, 1, 0, 0, 0, 0, 0, 0, 0, 0, 0, 0, 0, 0, 1, 0, 0, 0, 4, 0, 0, 0, 1, 1, 1, 1, 0, 1, 1, 0, 0, 0, 1, 0, 0, 0, 0, 1, 0, 1, 0, 0, 0, 0, 0, 1, 0, 0, 0, 0, 0, 0, 0, 0, 0, 0, 0, 0, 0, 0, 0, 0, 0, 0, 0, 0, 0, 0, 1, 0, 0, 0, 0, 0, 0, 1, 0, 0, 0, 1, 0, 0, 0, 0, 1, 0, 0, 0, 0, 0, 0, 0, 0, 0, 1, 1, 0, 1, 0, 1, 0, 0, 0, 0, 0, 0, 0, 1, 0, 0, 0, 0, 1, 1, 0, 0, 0, 0, 0, 0, 0, 0, 0, 1, 0, 1, 0, 1, 0, 0, 0, 1, 1, 0, 1, 0, 0, 1, 0, 0, 0, 1, 0, 0, 0, 0, 0, 0, 0, 0, 0, 1, 0, 1, 0, 0, 0, 1, 0, 1, 1, 1, 0, 0, 0, 0, 0, 0, 0, 0, 0, 2, 0, 0, 0, 0, 0, 0, 0, 1, 0, 1, 1, 1, 3, 0, 1, 3, 0, 0, 0, 0, 0, 3, 1, 1, 0, 0, 0, 0, 1, 0, 0, 0, 1, 0, 0, 1, 0, 0, 0, 0, 1, 0, 0, 1, 0, 1, 0, 0, 0, 0, 0, 0, 0, 0, 0, 0, 0, 0, 0, 0, 0, 0, 0, 0, 0, 0, 0, 0, 0, 0, 1, 0, 0, 0, 0, 1, 0, 0, 1, 0, 0, 0, 0, 0, 0, 0, 0, 0, 0, 1, 0, 0, 0, 0, 0, 0, 0, 0, 0, 0, 0, 0, 0, 1, 0, 1, 0, 1, 1, 0, 0, 0, 0, 0, 0, 0, 0, 1, 1, 0, 0, 0, 0, 0, 1, 3, 0, 0, 0, 0, 0, 0, 0, 0, 0, 1, 0, 0, 0, 0, 0, 0, 0, 1, 0, 1, 0, 0, 0, 0, 1, 0, 0, 0, 0, 0, 0, 0, 0, 0, 1, 0, 1, 0, 2, 0, 0, 1, 0, 2, 1, 0, 1, 0, 0, 0, 0, 0, 0, 1, 1, 0, 1, 0, 1, 1, 0, 0, 0, 0, 0, 0, 0, 0, 0, 0, 0, 0, 0, 0, 0, 0, 0, 0, 1, 0, 1, 0, 0, 2, 0, 1, 0, 0, 0, 0, 0, 0, 1, 1, 0, 0, 0, 1, 0, 1, 0, 0, 0, 0, 0, 0, 0, 0, 0, 0, 0, 0, 0, 0, 0, 0, 0, 0, 0, 0, 0, 1, 0, 0, 1, 0, 0, 0, 0, 0, 0, 0, 0, 0, 0, 0, 0, 0, 1, 1, 0, 0, 0, 0, 0, 0, 0, 1, 1, 0, 0, 0, 0, 0, 0, 1, 1, 0, 0, 0, 0, 0, 0, 0, 0, 0, 0, 0, 1, 0, 0, 0, 0, 0, 0, 1, 0, 0, 0, 0, 0, 0, 0, 0, 1, 0, 0, 0, 0, 1, 0, 0, 0, 0, 0, 0, 3, 0, 1, 0, 1, 0, 0, 0, 0, 0, 0, 0, 2, 0, 1, 1, 0, 0, 0, 1, 0, 0, 0, 0, 0, 0, 0, 0, 1, 1, 0, 0, 0, 1, 0, 4, 0, 1, 1, 0, 0, 1, 0, 0, 0, 0, 0, 0, 0, 0, 0, 0, 0, 0, 0, 0, 0, 0, 0, 0, 1, 0, 0, 0, 0, 0, 0, 0, 0, 0, 0, 0, 0, 0, 0, 0, 1, 0, 0, 0, 1, 0, 0, 0, 0, 0, 0, 0, 0, 0, 0, 0, 0, 0, 0, 1, 0, 0, 0, 0, 0, 0, 0, 0, 0, 0, 0, 0, 0, 0, 0, 0, 0, 0, 1, 0, 0, 0, 0, 1, 0, 1, 1, 0, 0, 0, 0, 2, 1, 0, 0, 0, 0, 0, 1, 0, 0, 0, 0, 1, 0, 0, 2, 1, 0, 0, 1, 0, 0, 0, 0, 1, 0, 0, 0, 0, 0, 0, 0, 0, 0, 0, 1, 0, 0, 0, 0, 0, 0, 0, 0, 0, 0, 0, 0, 0, 0, 0, 0, 0, 1, 0, 1, 0, 0, 0, 0, 1, 0, 0, 0, 0, 1, 0, 0, 1, 0, 0, 1, 1, 0, 0, 0, 0, 0, 1, 0, 1, 0, 0, 0, 0, 0, 0, 0, 0, 1, 0, 0, 0, 0, 0, 0, 0, 0, 0, 0, 0, 1, 0, 0, 0, 0, 1, 0, 0, 1, 0, 0, 3, 1, 0, 0, 1, 0, 1, 0, 1, 0, 1, 1, 1, 0, 0, 0, 1, 1, 0, 0, 0, 1, 1, 1, 1, 0, 1, 0, 0, 0, 0, 1, 1, 0, 1, 0, 0, 0, 0, 0, 0, 0, 0, 0, 0, 0, 0, 0, 0, 0, 1, 0, 0, 1, 0, 0, 2, 0, 0, 1, 1, 0, 0, 0, 1, 1, 0, 0, 0, 0, 0, 0, 0, 0, 0, 0, 1, 0, 0, 1, 0, 1, 0, 0, 1, 0, 0, 0, 0, 0, 0, 1, 1, 0, 1, 0, 0, 0, 0, 0, 1, 1, 0, 0, 1, 1, 1, 0, 0, 0, 0, 0, 0, 0, 0, 2, 0, 1, 0, 1, 0, 3, 0, 0, 0, 0, 1, 0, 1, 0, 0, 0, 0, 0, 1, 1, 1, 0, 0, 0, 0, 1, 0, 0, 1, 0, 0, 0, 0, 0, 0, 0, 0, 0, 1, 0, 0, 0, 0, 0, 0, 0, 0, 1, 0, 0, 0, 0, 0, 0, 0, 0, 0, 0, 0, 0, 0, 0, 0, 0, 0, 1, 0, 0, 0, 0, 0, 0, 0, 0, 0, 0, 0, 0, 0, 0, 1, 1, 0, 0, 0, 0, 0, 0, 0, 0, 0, 0, 0, 0, 0, 0, 0, 0, 0, 1, 0, 0, 0, 0, 0, 1, 0, 0, 0, 0, 1, 0, 0, 0, 0, 0, 0, 0, 0, 0, 0, 0, 0, 0, 0, 0, 0, 0, 0, 0, 0, 0, 1, 0, 0, 0, 1, 0, 0, 0, 0, 0, 0, 1, 0, 0, 0, 0, 0, 0, 0, 0, 0, 0, 0, 3, 1, 0, 0, 0, 0, 1, 0, 0, 0, 1, 0, 1, 1, 0, 1, 0, 0, 0, 0, 0, 1, 1, 0, 0, 0, 0, 0, 0, 0, 0, 0, 1, 0, 0, 1, 0, 0, 0, 1, 0, 0, 0, 0, 0, 0, 0, 1, 0, 1, 0, 0, 0, 1, 1, 0, 1, 0, 0, 0, 0, 0, 4, 1, 0, 0, 0, 0, 0, 0, 0, 0, 0, 0, 0, 0, 0, 1, 0, 0, 0, 0, 0, 0, 1, 1, 0, 0, 1, 0, 0, 3, 1, 0, 0, 0, 0, 0, 0, 0, 1, 0, 0, 0, 0, 1, 0, 0, 0, 0, 0, 1, 0, 1, 0, 0, 1, 1, 1, 0, 0, 0, 1, 0, 0, 1, 0, 0, 0, 1, 0, 0, 0, 1, 0, 1, 1, 1, 0, 1, 1, 1, 0, 0, 0, 0, 1, 0, 0, 0, 0, 0, 0, 0, 0, 0, 1, 1, 0, 0, 0, 0, 0, 1, 1, 0, 0, 0, 0, 1, 0, 1, 1, 0, 0, 0, 0, 1, 0, 0, 0, 0, 1, 0, 0, 0, 0, 4, 0, 3, 0, 0, 0, 1, 0, 0, 0, 0, 0, 0, 0, 0, 1, 0, 0, 1, 0, 0, 0, 0, 1, 0, 0, 1, 0, 1, 0, 0, 0, 0, 1, 0, 0, 0, 0, 0, 0, 0, 0, 1, 0, 0, 1, 0, 1, 0, 0, 0, 0, 1, 0, 0, 0, 1, 0, 0, 0, 0, 1, 1, 1, 0, 0, 0, 0, 1, 0, 0, 0, 0, 0, 0, 1, 0, 0, 1, 0, 0, 0, 1, 0, 0, 0, 0, 0, 0, 0, 0, 1, 0, 0, 0, 0, 1, 1, 0, 0, 0, 1, 0, 0, 1, 0, 1, 1, 0, 0, 0, 1, 1, 0, 0, 0, 1, 1, 0, 4, 0, 0, 0, 0, 1, 0, 1, 0, 0, 0, 0, 0, 1, 0, 1, 0, 0, 1, 0, 0, 0, 1, 0, 0, 0, 0, 0, 0, 0, 0, 0, 0, 0, 0, 0, 0, 0, 0, 1, 0, 0, 0, 1, 0, 0, 0, 0, 0, 1, 1, 0, 0, 1, 1, 0, 0, 1, 1, 0, 0, 0, 0, 1, 0, 1, 0, 0, 0, 1, 0, 0, 0, 0, 0, 0, 1, 0, 0, 0, 0, 1, 0, 0, 0, 0, 1, 0, 0, 0, 0, 1, 1, 0, 0, 1, 0, 0, 0, 1, 0, 0, 0, 0, 1, 2, 0, 0, 1, 0, 0, 0, 0, 0, 0, 1, 0, 0, 0, 0, 0, 0, 0, 0, 0, 0, 0, 0, 0, 0, 0, 1, 0, 0, 0, 0, 0, 3, 0, 0, 0, 0, 0, 1, 0, 0, 0, 0, 0, 1, 0, 1, 0, 0, 0, 1, 0, 0, 0, 1, 0, 0, 1, 0, 0, 1, 0, 1, 0, 0, 0, 0, 1, 0, 0, 0, 0, 0, 0, 1, 0, 0, 0, 0, 0, 0, 0, 0, 1, 1, 1, 0, 0, 0, 0, 0, 1, 1, 1, 0, 0, 0, 0, 1, 1, 0, 0, 1, 1, 0, 0, 0, 0, 0, 0, 0, 0, 1, 0, 0, 1, 2, 0, 0, 0, 0, 0, 0, 0, 0, 0, 1, 0, 0, 0, 0, 0, 1, 0, 0, 1, 0, 0, 0, 1, 1, 1, 1, 0, 0, 0, 0, 0, 0, 0, 0, 0, 0, 0, 0, 0, 1, 0, 0, 0, 0, 0, 1, 0, 1, 0, 0, 1, 1, 1, 1, 0, 1, 0, 1, 0, 0, 0, 0, 0, 1, 0, 0, 0, 0, 0, 0, 1, 0, 0, 0, 1, 0, 0, 0, 0, 0, 0, 0, 1, 0, 0, 0, 1, 0, 1, 2, 0, 0, 1, 0, 0, 0, 0, 0, 0, 1, 1, 0, 0, 0, 0, 0, 0, 1, 0, 0, 0, 0, 0, 0, 0, 0, 0, 1, 0, 0, 0, 0, 0, 1, 0, 0, 0, 0, 0, 0, 0, 0, 0, 0, 0, 0, 0, 0, 0, 0, 0, 0, 0, 0, 0, 1, 0, 0, 0, 0, 1, 0, 0, 1, 0, 0, 1, 0, 0, 0, 1, 0, 0, 1, 0, 0, 0, 0, 0, 0, 0, 0, 1, 0, 0, 0, 0, 0, 0, 0, 0, 0, 1, 1, 0, 0, 0, 1, 0, 0, 0, 0, 0, 0, 0, 0, 0, 0, 1, 0, 0, 0, 1, 0, 0, 0, 0, 0, 1, 0, 1, 0, 0, 0, 0, 0, 1, 0, 0, 3, 0, 0, 0, 0, 0, 0, 3, 0, 0, 0, 0, 1, 1, 0, 0, 1, 0, 0, 0, 0, 0, 2, 0, 1, 0, 0, 0, 1, 0, 0, 0, 0, 0, 1, 0, 0, 0, 1, 0, 0, 0, 1, 1, 0, 0, 2, 0, 0, 0, 0, 0, 0, 0, 0, 0, 0, 0, 1, 0, 0, 0, 0, 0, 0, 0, 0, 0, 0, 0, 0, 0, 0, 0, 1, 0, 0, 0, 0, 0, 0, 0, 1, 0, 0, 0, 1, 0, 0, 0, 1, 1, 0, 0, 1, 1, 0, 0, 0, 0, 0, 0, 0, 0, 0, 0, 0, 0, 0, 1, 1, 0, 1, 0, 0, 0, 0, 0, 0, 0, 0, 1, 0, 0, 0, 0, 0, 0, 0, 0, 0, 0, 0, 0, 2, 1, 1, 0, 0, 0, 0, 1, 0, 0, 0, 1, 0, 1, 1, 1, 1, 0, 0, 0, 0, 0, 0, 1, 0, 1, 0, 0, 1, 0, 1, 0, 0, 0, 0, 0, 0, 0, 0, 0, 0, 1, 0, 0, 0, 3, 1, 0, 1, 0, 0, 1, 0, 0, 0, 0, 0, 0, 0, 1, 0, 1, 0, 0, 1, 0, 1, 0, 1, 0, 0, 1, 0, 0, 0, 1, 1, 0, 0, 0, 0, 0, 1, 0, 0, 0, 0, 0, 0, 1, 1, 1, 1, 0, 0, 0, 0, 1, 0, 0, 1, 0, 0, 0, 1, 1, 0, 0, 0, 0, 0, 0, 0, 1, 0, 0, 0, 1, 0, 0, 0, 0, 0, 1, 0, 0, 0, 0, 0, 0, 0, 1, 0, 0, 0, 0, 0, 1, 0, 1, 0, 1, 0, 0, 1, 1, 0, 0, 0, 0, 0, 0, 0, 0, 0, 1, 1, 1, 0, 0, 0, 1, 0, 0, 0, 0, 1, 1, 0, 0, 0, 1, 0, 0, 0, 0, 0, 0, 0, 0, 0, 0, 1, 0, 0, 1, 1, 0, 0, 0, 1, 0, 0, 1, 0, 0, 1, 0, 0, 0, 0, 4, 0, 0, 0, 0, 1, 1, 0, 0, 0, 0, 0, 1, 1, 0, 0, 0, 1, 1, 0, 0, 0, 0, 0, 0, 0, 1, 1, 0, 0, 0, 0, 0, 0, 0, 0, 1, 0, 0, 0, 4, 1, 0, 0, 1, 0, 0, 0, 0, 0, 0, 0, 0, 1, 0, 0, 0, 0, 1, 0, 0, 1, 0, 0, 0, 0, 0, 0, 0, 0, 0, 0, 1, 1, 0, 1, 0, 0, 0, 0, 0, 0, 1, 0, 0, 0, 0, 0, 0, 0, 0, 0, 0, 1, 0, 0, 0, 0, 0, 0, 0, 0, 0, 0, 0, 4, 1, 0, 0, 1, 1, 0, 0, 0, 0, 0, 0, 0, 0, 0, 0, 0, 0, 0, 0, 0, 0, 0, 0, 0, 0, 0, 1, 0, 0, 0, 0, 1, 0, 1, 0, 0, 0, 0, 0, 1, 0, 0, 1, 0, 0, 0, 1, 1, 1, 0, 1, 3, 1, 0, 0, 0, 0, 0, 0, 0, 1, 1, 0, 0, 1, 0, 0, 0, 1, 0, 0, 1, 0, 1, 0, 0, 0, 1, 0, 1, 0, 0, 0, 0, 1, 0, 0, 1, 1, 0, 0, 0, 0, 0, 0, 0, 0, 0, 0, 0, 0, 1, 0, 0, 1, 1, 0, 0, 0, 0, 0, 1, 1, 0, 0, 0, 1, 0, 0, 1, 1, 0, 0, 0, 0, 0, 0, 0, 1, 0, 0, 0, 0, 0, 0, 0, 0, 0, 0, 0, 0, 0, 0, 0, 0, 0, 0, 0, 0, 3, 0, 0, 0, 0, 0, 0, 0, 0, 0, 0, 0, 1, 1, 0, 0, 0, 0, 0, 0, 0, 0, 0, 0, 0, 0, 0, 0, 0, 0, 0, 0, 0, 0, 0, 0, 0, 0, 0, 0, 0, 0, 0, 1, 0, 0, 0, 0, 0, 0, 0, 1, 0, 1, 0, 0, 0, 4, 0, 0, 0, 1, 0, 0, 1, 0, 0, 4, 1, 0, 4, 0, 0, 0, 0, 0, 0, 0, 0, 0, 0, 0, 0, 0, 0, 0, 0, 4, 1, 0, 0, 1, 0, 1, 0, 1, 0, 0, 1, 0, 0, 0, 0, 0, 0, 0, 0, 0, 0, 0, 0, 0, 0, 0, 1, 1, 0, 0, 0, 0, 0, 1, 0, 0, 0, 0, 0, 1, 0, 0, 1, 0, 1, 1, 0, 0, 0, 0, 0, 1, 1, 0, 0, 0, 1, 0, 0, 0, 1, 0, 1, 0, 1, 0, 0, 0, 0, 0, 1, 0, 0, 1, 0, 0, 0, 0, 0, 1, 0, 0, 0, 0, 1, 0, 0, 0, 0, 0, 0, 0, 0, 1, 1, 1, 1, 0, 1, 0, 0, 0, 0, 0, 0, 0, 1, 1, 0, 0, 0, 0, 0, 0, 0, 0, 0, 1, 0, 0, 0, 0, 0, 0, 0, 0, 0, 1, 1, 0, 0, 1, 1, 0, 0, 0, 0, 0, 1, 1, 0, 0, 1, 0, 0, 0, 0, 0, 0, 0, 0, 0, 0, 1, 1, 0, 1, 0, 0, 0, 1, 0, 1, 1, 0, 0, 0, 0, 0, 1, 0, 0, 1, 0, 1, 0, 1, 0, 0, 0, 0, 2, 0, 0, 0, 3, 0, 0, 0, 0, 0, 0, 1, 0, 0, 0, 0, 0, 0, 0, 1, 0, 0, 0, 0, 0, 0, 0, 0, 1, 0, 0, 0, 0, 1, 0, 0, 0, 0, 0, 0, 0, 0, 0, 0, 0, 1, 0, 0, 1, 1, 0, 0, 1, 0, 0, 1, 0, 0, 0, 0, 0, 0, 0, 0, 0, 0, 1, 1, 0, 0, 3, 1, 0, 0, 0, 0, 0, 1, 0, 0, 1, 0, 0, 0, 0, 0, 0, 0, 0, 1, 0, 0, 0, 0, 3, 0, 0, 0, 0, 0, 0, 0, 0, 0, 0, 0, 1, 0, 0, 0, 0, 0, 0, 0, 1, 1, 0, 0, 0, 0, 0, 0, 0, 0, 0, 0, 0, 0, 1, 1, 1, 0, 0, 0, 1, 0, 1, 0, 0, 0, 0, 0, 1, 0, 0, 0, 0, 0, 0, 1, 0, 0, 0, 0, 0, 0, 0, 1, 0, 0, 0, 0, 0, 4, 0, 0, 0, 0, 0, 0, 1, 0, 0, 0, 0, 1, 1, 0, 0, 0, 0, 0, 0, 1, 0, 0, 0, 0, 1, 1, 0, 1, 0, 0, 1, 0, 0, 0, 0, 0, 0, 0, 1, 0, 0, 1, 0, 0, 0, 1, 1, 0, 2, 1, 0, 0, 0, 1, 0, 0, 0, 1, 0, 0, 0, 0, 0, 0, 0, 0, 0, 0, 0, 4, 0, 0, 0, 0, 1, 0, 1, 0, 1, 0, 0, 0, 3, 0, 1, 0, 1, 0, 4, 0, 0, 0, 0, 0, 0, 0, 0, 0, 0, 0, 0, 0, 0, 0, 0, 0, 0, 0, 0, 0, 0, 0, 0, 2, 0, 1, 0, 1, 1, 0, 0, 1, 0, 0, 0, 0, 1, 0, 0, 0, 0, 0, 1, 0, 0, 0, 1, 0, 1, 0, 0, 0, 0, 0, 0, 0, 0, 0, 1, 2, 1, 0, 0, 0, 0, 1, 0, 0, 0, 0, 1, 0, 0, 0, 0, 0, 0, 0, 0, 0, 0, 0, 0, 0, 0, 0, 0, 0, 1, 1, 0, 1, 0, 0, 0, 0, 1, 1, 0, 0, 0, 2, 0, 1, 0, 0, 2, 1, 1, 0, 0, 0, 1, 0, 0, 0, 0, 1, 1, 0, 0, 0, 0, 0, 0, 1, 0, 0, 0, 0, 1, 0, 0, 0, 0, 0, 1, 0, 1, 0, 0, 0, 0, 0, 0, 1, 1, 1, 0, 0, 1, 1, 1, 0, 0, 0, 0, 0, 0, 0, 0, 0, 0, 0, 0, 0, 0, 1, 1, 0, 0, 1, 0, 0, 0, 0, 0, 1, 1, 1, 0, 0, 0, 0, 1, 0, 0, 0, 1, 0, 1, 1, 1, 0, 0, 1, 0, 1, 0, 1, 0, 0, 0, 1, 0, 0, 0, 0, 0, 1, 1, 1, 1, 0, 0, 0, 0, 0, 0, 0, 0, 0, 1, 0, 0, 0, 0, 0, 0, 0, 0, 0, 1, 0, 0, 1, 0, 0, 0, 1, 0, 0, 0, 1, 0, 1, 0, 0, 0, 0, 1, 0, 1, 0, 1, 0, 0, 1, 0, 0, 0, 0, 1, 0, 0, 0, 0, 1, 0, 0, 0, 0, 1, 0, 0, 1, 1, 0, 0, 0, 0, 0, 1, 1, 0, 0, 0, 1, 0, 0, 0, 0, 1, 0, 0, 0, 1, 0, 0, 1, 1, 0, 0, 0, 1, 1, 1, 1, 0, 0, 0, 1, 1, 0, 0, 0, 0, 0, 0, 0, 0, 1, 0, 0, 0, 1, 0, 0, 0, 1, 1, 0, 0, 0, 1, 0, 0, 0, 1, 0, 0, 0, 0, 0, 0, 0, 0, 0, 0, 0, 0, 0, 1, 1, 0, 1, 0, 1, 0, 0, 0, 0, 0, 0, 1, 0, 1, 0, 0, 0, 0, 1, 1, 0, 0, 0, 0, 0, 0, 0, 0, 0, 0, 0, 0, 0, 1, 0, 1, 1, 1, 1, 1, 1, 0, 1, 1, 1, 0, 1, 0, 0, 0, 0, 0, 0, 1, 0, 0, 1, 0, 0, 0, 1, 1, 0, 0, 0, 0, 1, 0, 0, 0, 1, 0, 1, 1, 0, 0, 0, 0, 0, 0, 1, 0, 0, 0, 0, 0, 0, 0, 1, 0, 0, 0, 0, 0, 0, 1, 0, 1, 1, 1, 0, 0, 0, 0, 0, 1, 4, 1, 0, 0, 0, 0, 0, 0, 0, 0, 0, 0, 4, 0, 0, 1, 0, 0, 0, 0, 0, 2, 0, 0, 0, 0, 0, 0, 0, 0, 0, 0, 0, 1, 0, 0, 0, 1, 0, 1, 1, 1, 0, 1, 0, 0, 1, 0, 1, 0, 0, 0, 0, 1, 1, 0, 0, 0, 0, 0, 0, 0, 1, 0, 0, 0, 1, 0, 0, 1, 1, 0, 0, 0, 1, 1, 0, 0, 0, 0, 0, 0, 3, 0, 0, 0, 0, 0, 1, 0, 0, 0, 0, 0, 1, 0, 0, 0, 0, 0, 0, 1, 0, 0, 0, 2, 1, 0, 4, 1, 0, 0, 0, 1, 0, 1, 0, 0, 0, 0, 0, 0, 0, 0, 1, 0, 0, 0, 0, 0, 2, 0, 0, 0, 0, 0, 0, 0, 0, 0, 0, 1, 0, 0, 1, 1, 0, 1, 1, 0, 0, 0, 0, 0, 0, 1, 0, 1, 1, 0, 0, 0, 0, 1, 1, 0, 0, 0, 0, 0, 0, 0, 0, 0, 0, 0, 1, 4, 0, 0, 0, 0, 0, 0, 0, 0, 0, 0, 0, 0, 1, 0, 0, 0, 1, 0, 1, 0, 1, 1, 1, 0, 0, 0, 0, 0, 2, 1, 0, 1, 1, 0, 0, 0, 0, 0, 0, 0, 0, 0, 0, 0, 0, 1, 0, 0, 0, 0, 0, 0, 0, 0, 0, 1, 0, 0, 0, 1, 1, 1, 0, 0, 0, 0, 1, 0, 0, 0, 0, 0, 1, 1, 0, 0, 0, 0, 0, 0, 0, 1, 0, 0, 1, 0, 0, 0, 0, 0, 0, 0, 0, 0, 0, 1, 0, 0, 0, 0, 0, 0, 0, 0, 0, 0, 0, 0, 1, 1, 0, 0, 0, 0, 0, 1, 0, 0, 0, 0, 0, 0, 0, 0, 1, 1, 0, 0, 1, 0, 0, 0, 0, 0, 0, 0, 0, 0, 0, 0, 1, 0, 0, 0, 0, 1, 0, 0, 0, 0, 1, 0, 0, 1, 0, 0, 0, 0, 0, 0, 2, 1, 0, 0, 0, 1, 0, 0, 0, 0, 0, 0, 0, 1, 0, 0, 0, 0, 0, 0, 0, 0, 0, 0, 2, 1, 1, 0, 0, 0, 0, 0, 0, 1, 0, 0, 0, 0, 1, 1, 0, 1, 1, 1, 0, 0, 0, 0, 0, 0, 0, 0, 0, 0, 0, 0, 0, 0, 1, 0, 0, 0, 0, 0, 2, 0, 0, 0, 0, 0, 0, 1, 1, 1, 0, 1, 0, 0, 0, 0, 0, 0, 1, 1, 0, 0, 0, 0, 0, 0, 1, 0, 0, 0, 0, 0, 0, 1, 1, 0, 0, 0, 0, 0, 1, 0, 0, 0, 1, 0, 0, 0, 1, 0, 0, 0, 1, 0, 0, 0, 0, 0, 0, 0, 1, 0, 0, 0, 0, 0, 0, 0, 0, 0, 0, 0, 0, 0, 0, 0, 0, 0, 0, 1, 0, 0, 1, 0, 0, 0, 4, 1, 0, 1, 0, 0, 0, 0, 0, 0, 1, 0, 0, 0, 0, 0, 1, 0, 0, 0, 0, 0, 0, 0, 0, 0, 0, 0, 0, 0, 1, 0, 0, 0, 0, 1, 0, 0, 0, 0, 0, 0, 1, 0, 0, 1, 0, 0, 0, 1, 1, 0, 0, 1, 0, 0, 0, 0, 0, 0, 0, 1, 0, 0, 0, 0, 0, 0, 0, 0, 0, 0, 0, 0, 1, 0, 0, 0, 0, 1, 0, 0, 0, 0, 0, 0, 1, 0, 0, 0, 0, 0, 0, 1, 0, 0, 0, 0, 0, 4, 0, 0, 1, 0, 0, 0, 0, 0, 0, 0, 0, 0, 0, 0, 1, 0, 0, 0, 0, 0, 0, 0, 0, 0, 0, 0, 0, 0, 0, 0, 0, 1, 0, 1, 0, 0, 0, 0, 0, 1, 0, 0, 1, 0, 1, 0, 0, 1, 0, 0, 0, 0, 0, 0, 1, 0, 0, 0, 1, 0, 1, 0, 0, 1, 0, 0, 0, 0, 0, 0, 1, 0, 1, 0, 0, 0, 1, 0, 0, 0, 0, 1, 1, 1, 0, 0, 0, 0, 1, 0, 0, 0, 1, 0, 0, 1, 0, 0, 0, 1, 0, 0, 0, 1, 1, 0, 1, 1, 0, 1, 1, 1, 0, 0, 1, 1, 0, 0, 0, 0, 0, 1, 0, 0, 0, 1, 0, 0, 0, 0, 1, 0, 0, 0, 0, 0, 0, 1, 0, 0, 1, 1, 0, 0, 0, 0, 0, 0, 0, 0, 1, 1, 0, 0, 0, 0, 0, 0, 0, 1, 0, 0, 0, 0, 0, 0, 0, 0, 0, 1, 0, 0, 0, 1, 0, 1, 0, 0, 0, 2, 0, 0, 0, 0, 0, 0, 0, 0, 0, 0, 0, 0, 0, 0, 1, 0, 1, 1, 0, 1, 0, 3, 1, 1, 2, 0, 0, 0, 0, 1, 0, 1, 1, 0, 0, 0, 1, 0, 0, 0, 0, 0, 0, 0, 0, 1, 1, 0, 0, 1, 0, 0, 0, 0, 0, 0, 0, 0, 0, 0, 0, 0, 0, 1, 0, 1, 0, 0, 0, 0, 0, 0, 1, 1, 0, 0, 1, 1, 2, 0, 0, 0, 0, 0, 1, 0, 0, 0, 0, 0, 0, 0, 0, 0, 0, 0, 0, 0, 1, 0, 0, 0, 0, 0, 0, 0, 0, 0, 0, 0, 0, 0, 0, 0, 0, 1, 0, 0, 0, 1, 1, 3, 0, 0, 0, 0, 0, 0, 0, 0, 1, 0, 1, 1, 0, 0, 0, 0, 0, 0, 1, 0, 0, 1, 0, 0, 0, 0, 0, 0, 1, 1, 0, 1, 0, 1, 0, 1, 0, 0, 0, 1, 0, 0, 0, 0, 0, 1, 0, 1, 0, 0, 1, 0, 0, 0, 0, 0, 0, 0, 1, 0, 0, 0, 0, 0, 0, 0, 0, 0, 0, 0, 0, 0, 0, 0, 0, 1, 0, 0, 0, 0, 0, 0, 0, 0, 0, 0, 0, 0, 0, 1, 0, 0, 0, 0, 4, 1, 1, 0, 0, 0, 0, 0, 1, 1, 0, 0, 0, 1, 1, 0, 0, 0, 0, 0, 0, 0, 0, 0, 0, 0, 0, 1, 0, 1, 0, 0, 0, 0, 0, 0, 0, 1, 0, 0, 0, 0, 0, 0, 1, 0, 1, 0, 1, 0, 0, 0, 0, 0, 0, 0, 0, 0, 1, 0, 0, 0, 0, 1, 0, 0, 0, 1, 0, 0, 0, 0, 0, 0, 0, 1, 0, 1, 0, 0, 0, 1, 1, 0, 1, 0, 1, 0, 0, 0, 0, 0, 0, 0, 0, 0, 0, 0, 1, 0, 0, 0, 0, 0, 0, 0, 1, 0, 0, 0, 0, 0, 0, 1, 0, 0, 0, 0, 1, 0, 0, 0, 0, 0, 0, 0, 1, 0, 1, 1, 0, 0, 0, 0, 1, 0, 0, 1, 1, 0, 0, 0, 0, 0, 0, 0, 0, 0, 0, 0, 4, 0, 1, 0, 0, 1, 0, 0, 1, 0, 0, 0, 0, 0, 0, 0, 0, 1, 0, 0, 0, 1, 0, 0, 0, 0, 0, 0, 0, 0, 0, 0, 0, 0, 4, 0, 0, 1, 1, 0, 0, 0, 0, 0, 0, 1, 1, 1, 0, 0, 2, 1, 1, 1, 0, 0, 0, 1, 0, 0, 1, 0, 0, 0, 0, 0, 2, 0, 0, 1, 0, 4, 0, 0, 0, 0, 1, 1, 1, 0, 0, 0, 0, 1, 2, 0, 0, 1, 1, 3, 1, 0, 0, 0, 0, 0, 1, 1, 1, 0, 0, 0, 1, 0, 0, 0, 0, 0, 0, 0, 1, 1, 1, 0, 0, 1, 0, 0, 1, 0, 0, 1, 0, 0, 0, 0, 0, 0, 1, 0, 1, 0, 0, 0, 0, 1, 0, 0, 0, 0, 1, 0, 0, 0, 0, 0, 0, 0, 0, 0, 1, 0, 0, 1, 0, 0, 0, 0, 0, 1, 1, 0, 1, 0, 0, 4, 0, 3, 0, 4, 0, 1, 0, 0, 0, 2, 0, 0, 0, 0, 1, 1, 0, 1, 0, 0, 0, 0, 1, 0, 0, 0, 0, 0, 0, 0, 0, 0, 0, 0, 0, 0, 0, 1, 0, 0, 1, 0, 0, 0, 0, 1, 1, 0, 1, 0, 0, 0, 0, 0, 0, 3, 0, 1, 0, 0, 0, 0, 0, 0, 0, 1, 0, 1, 0, 4, 0, 0, 0, 0, 0, 0, 1, 0, 0, 1, 1, 1, 0, 1, 0, 0, 0, 0, 0, 0, 0, 1, 0, 1, 0, 1, 0, 0, 0, 0, 0, 1, 1, 0, 0, 0, 0, 0, 0, 0, 0, 0, 1, 0, 0, 0, 0, 0, 1, 0, 1, 2, 0, 0, 0, 0, 0, 1, 0, 0, 0, 0, 0, 1, 0, 0, 0, 1, 0, 0, 1, 0, 1, 0, 1, 0, 0, 0, 0, 1, 0, 0, 0, 0, 4, 0, 1, 0, 0, 0, 0, 0, 0, 1, 1, 0, 0, 1, 0, 1, 0, 0, 0, 0, 1, 1, 0, 0, 0, 0, 0, 1, 0, 0, 0, 0, 0, 1, 0, 0, 0, 0, 0, 0, 1, 0, 1, 0, 0, 1, 0, 0, 0, 1, 0, 0, 1, 0, 0, 0, 0, 0, 0, 0, 0, 0, 0, 1, 1, 0, 1, 0, 1, 0, 0, 1, 0, 0, 0, 0, 0, 0, 1, 0, 0, 0, 0, 0, 0, 0, 0, 0, 0, 0, 0, 0, 0, 0, 1, 0, 0, 1, 0, 0, 0, 0, 0, 0, 0, 0, 0, 0, 0, 0, 1, 0, 0, 0, 0, 1, 1, 1, 0, 1, 0, 0, 0, 0, 0, 0, 0, 0, 0, 0, 0, 0, 1, 0, 1, 0, 0, 0, 1, 0, 0, 0, 0, 0, 1, 0, 0, 0, 1, 1, 4, 1, 1, 0, 0, 1, 1, 0, 1, 0, 0, 0, 0, 0, 0, 0, 0, 0, 0, 0, 0, 1, 0, 0, 0, 0, 1, 0, 0, 0, 0, 0, 0, 1, 0, 0, 2, 0, 0, 0, 0, 4, 0, 0, 0, 0, 0, 0, 1, 0, 0, 0, 0, 1, 0, 0, 0, 0, 1, 0, 0, 0, 0, 0, 1, 0, 0, 0, 0, 0, 0, 1, 1, 0, 0, 0, 0, 0, 0, 0, 0, 1, 0, 0, 0, 0, 0, 0, 0, 0, 0, 0, 0, 0, 0, 0, 0, 0, 2, 0, 0, 1, 1, 0, 0, 0, 0, 0, 0, 1, 0, 0, 1, 0, 0, 1, 0, 0, 0, 0, 0, 0, 0, 0, 0, 0, 4, 1, 0, 0, 0, 0, 1, 0, 0, 0, 0, 1, 0, 0, 0, 0, 0, 0, 0, 0, 0, 0, 0, 0, 0, 0, 0, 0, 0, 0, 0, 0, 0, 0, 1, 0, 0, 0, 0, 0, 1, 0, 0, 0, 1, 0, 1, 1, 0, 1, 0, 0, 0, 0, 0, 0, 0, 0, 0, 1, 0, 1, 0, 1, 0, 0, 0, 0, 0, 0, 0, 2, 1, 0, 0, 0, 0, 0, 0, 0, 1, 0, 1, 0, 0, 4, 0, 0, 0, 2, 0, 0, 0, 0, 1, 0, 1, 0, 0, 0, 0, 1, 1, 0, 0, 0, 0, 1, 0, 0, 0, 0, 0, 0, 0, 0, 0, 0, 0, 0, 0, 0, 1, 0, 0, 0, 0, 0, 0, 1, 1, 0, 0, 0, 0, 0, 0, 0, 0, 0, 0, 0, 0, 0, 0, 0, 0, 0, 0, 0, 0, 0, 0, 0, 0, 0, 0, 0, 0, 1, 0, 1, 0, 0, 0, 0, 0, 0, 0, 0, 2, 1, 0, 0, 1, 0, 0, 0, 0, 0, 0, 0, 0, 0, 1, 0, 0, 2, 0, 0, 0, 1, 1, 0, 0, 0, 0, 0, 1, 0, 0, 0, 0, 1, 0, 0, 0, 0, 0, 0, 0, 1, 0, 0, 0, 0, 0, 0, 0, 0, 0, 0, 0, 0, 0, 0, 0, 0, 0, 0, 0, 0, 0, 1, 1, 1, 0, 0, 0, 0, 0, 1, 0, 0, 0, 0, 0, 0, 0, 0, 1, 0, 0, 0, 0, 0, 0, 0, 0, 0, 0, 1, 0, 0, 0, 0, 0, 0, 0, 1, 0, 0, 1, 0, 1, 0, 1, 1, 0, 1, 1, 0, 0, 1, 0, 0, 0, 1, 0, 1, 0, 0, 0, 0, 0, 0, 0, 0, 0, 0, 0, 2, 0, 0, 0, 0, 0, 0, 0, 1, 0, 0, 1, 0, 0, 0, 0, 0, 0, 0, 1, 0, 0, 0, 0, 0, 0, 0, 0, 0, 1, 0, 0, 1, 0, 0, 0, 0, 0, 0, 1, 0, 1, 0, 0, 0, 0, 1, 0, 0, 1, 1, 0, 0, 0, 0, 0, 0, 1, 0, 0, 0, 0, 0, 0, 0, 0, 0, 0, 1, 0, 2, 0, 0, 0, 0, 1, 0, 1, 0, 0, 0, 1, 0, 0, 0, 0, 0, 0, 0, 0, 0, 0, 0, 0, 0, 0, 1, 0, 0, 0, 1, 0, 1, 1, 0, 0, 0, 0, 0, 0, 0, 0, 1, 2, 0, 0, 0, 1, 0, 0, 0, 0, 0, 0, 0, 1, 0, 0, 1, 0, 0, 0, 1, 0, 1, 0, 1, 0, 0, 0, 0, 0, 0, 0, 0, 0, 0, 0, 0, 1, 1, 0, 0, 1, 0, 0, 0, 1, 0, 4, 0, 1, 0, 1, 0, 1, 0, 0, 0, 1, 0, 0, 2, 0, 0, 0, 0, 1, 0, 0, 0, 0, 0, 0, 1, 1, 1, 0, 0, 0, 0, 0, 0, 0, 0, 1, 0, 1, 0, 1, 0, 0, 0, 1, 0, 0, 0, 0, 0, 0, 0, 0, 0, 0, 1, 0, 0, 0, 0, 0, 0, 0, 0, 1, 0, 0, 0, 1, 0, 1, 1, 0, 1, 1, 0, 0, 0, 1, 0, 0, 0, 0, 0, 0, 1, 0, 0, 0, 1, 1, 1, 0, 3, 0, 0, 0, 1, 0, 1, 0, 1, 0, 0, 0, 0, 1, 0, 0, 0, 0, 0, 0, 0, 0, 0, 1, 0, 0, 0, 1, 1, 0, 0, 0, 0, 0, 0, 0, 0, 0, 0, 0, 1, 0, 0, 0, 0, 1, 0, 1, 1, 1, 0, 0, 0, 0, 0, 0, 0, 0, 0, 0, 0, 0, 0, 0, 1, 0, 0, 0, 1, 0, 0, 0, 0, 1, 0, 0, 0, 0, 0, 0, 0, 0, 0, 0, 0, 0, 0, 0, 0, 0, 0, 1, 0, 0, 0, 0, 0, 0, 0, 0, 0, 3, 0, 0, 0, 1, 0, 0, 0, 0, 0, 0, 0, 0, 0, 0, 0, 0, 1, 0, 0, 1, 1, 0, 0, 0, 0, 0, 0, 0, 0, 0, 0, 0, 1, 0, 0, 0, 0, 0, 1, 1, 0, 0, 1, 0, 0, 1, 0, 0, 0, 1, 0, 1, 0, 0, 0, 1, 0, 0, 0, 0, 0, 0, 0, 1, 0, 0, 0, 0, 0, 0, 0, 0, 0, 2, 0, 0, 0, 0, 1, 0, 1, 1, 0, 0, 1, 0, 0, 1, 0, 0, 0, 0, 0, 1, 0, 0, 0, 0, 1, 0, 1, 0, 0, 0, 0, 1, 0, 0, 0, 0, 0, 0, 0, 0, 1, 1, 0, 0, 0, 1, 0, 0, 1, 0, 2, 0, 0, 0, 0, 0, 0, 1, 0, 1, 0, 0, 0, 0, 0, 0, 0, 0, 0, 0, 0, 0, 0, 0, 1, 0, 0, 0, 0, 0, 4, 0, 0, 1, 0, 0, 0, 2, 0, 0, 0, 1, 0, 0, 0, 0, 0, 0, 0, 0, 2, 1, 0, 0, 0, 1, 0, 0, 0, 0, 0, 0, 0, 0, 0, 0, 0, 0, 0, 0, 1, 0, 1, 0, 0, 0, 0, 0, 0, 0, 1, 0, 0, 0, 0, 0, 0, 0, 0, 0, 0, 0, 1, 0, 1, 1, 0, 0, 0, 0, 1, 0, 0, 1, 0, 0, 0, 0, 0, 1, 1, 0, 0, 1, 0, 0, 0, 0, 0, 1, 0, 0, 0, 1, 0, 0, 0, 0, 0, 0, 0, 0, 0, 0, 0, 0, 0, 0, 1, 0, 0, 1, 0, 0, 0, 0, 0, 0, 1, 4, 1, 1, 0, 0, 0, 0, 0, 0, 1, 0, 0, 1, 0, 0, 0, 0, 0, 0, 0, 0, 0, 1, 2, 0, 1, 0, 0, 0, 0, 0, 0, 0, 0, 1, 0, 0, 1, 1, 0, 0, 1, 1, 0, 0, 1, 0, 0, 0, 0, 0, 0, 0, 1, 0, 0, 0, 0, 0, 0, 0, 1, 0, 0, 0, 0, 1, 0, 0, 0, 1, 0, 0, 0, 1, 0, 0, 0, 0, 1, 0, 0, 0, 0, 1, 0, 0, 0, 0, 0, 0, 0, 0, 0, 0, 1, 0, 0, 1, 0, 0, 0, 0, 1, 1, 0, 0, 1, 0, 0, 0, 0, 0, 0, 0, 0, 0, 1, 0, 0, 0, 0, 0, 1, 0, 0, 0, 0, 0, 1, 0, 0, 0, 0, 0, 0, 0, 0, 0, 1, 1, 0, 0, 1, 0, 0, 0, 0, 0, 0, 0, 0, 0, 0, 0, 0, 0, 1, 0, 0, 1, 0, 1, 0, 0, 1, 1, 0, 0, 0, 0, 0, 0, 4, 0, 0, 0, 0, 0, 0, 0, 0, 0, 0, 0, 0, 0, 0, 1, 0, 0, 0, 0, 0, 0, 0, 1, 1, 0, 0, 0, 1, 0, 0, 0, 0, 0, 0, 1, 0, 0, 0, 0, 0, 1, 3, 0, 0, 0, 0, 0, 1, 1, 0, 1, 0, 0, 0, 0, 4, 0, 0, 0, 0, 1, 0, 1, 0, 0, 0, 1, 0, 1, 0, 0, 0, 1, 0, 0, 1, 1, 0, 0, 0, 0, 0, 0, 0, 1, 0, 0, 0, 0, 0, 0, 1, 0, 0, 0, 0, 0, 0, 1, 1, 0, 0, 1, 0, 0, 0, 0, 0, 0, 0, 0, 0, 0, 0, 1, 0, 0, 0, 0, 0, 0, 1, 0, 0, 1, 0, 0, 0, 0, 0, 1, 0, 0, 0, 0, 1, 0, 0, 0, 2, 0, 0, 1, 1, 1, 0, 0, 0, 1, 0, 1, 0, 2, 0, 0, 0, 0, 0, 0, 0, 0, 0, 0, 4, 0, 0, 0, 0, 0, 0, 0, 0, 0, 0, 0, 0, 0, 0, 0, 0, 0, 1, 0, 1, 0, 0, 0, 0, 1, 0, 0, 0, 0, 1, 0, 0, 1, 0, 0, 1, 0, 0, 0, 1, 0, 0, 0, 0, 0, 0, 0, 0, 1, 0, 0, 0, 0, 1, 1, 0, 1, 0, 0, 0, 0, 0, 0, 0, 1, 0, 1, 0, 0, 0, 0, 0, 0, 0, 0, 0, 1, 1, 0, 1, 0, 0, 0, 0, 1, 0, 0, 0, 0, 0, 0, 0, 0, 1, 0, 1, 1, 0, 0, 0, 0, 0, 0, 0, 0, 1, 1, 2, 0, 0, 1, 0, 0, 0, 0, 0, 0, 0, 2, 1, 0, 0, 0, 0, 0, 0, 1, 0, 0, 0, 0, 1, 0, 0, 0, 0, 0, 0, 1, 0, 0, 0, 1, 0, 0, 1, 0, 0, 0, 0, 0, 1, 0, 1, 0, 0, 0, 0, 1, 0, 0, 0, 0, 0, 0, 0, 0, 0, 1, 0, 1, 0, 0, 0, 0, 1, 1, 4, 0, 0, 0, 0, 1, 1, 0, 0, 1, 0, 1, 0, 0, 0, 0, 0, 1, 0, 0, 1, 0, 0, 0, 0, 0, 0, 1, 0, 1, 1, 0, 0, 0, 0, 0, 0, 0, 0, 0, 0, 1, 4, 0, 1, 0, 0, 0, 0, 0, 0, 0, 0, 0, 0, 0, 0, 0, 0, 1, 0, 1, 1, 0, 0, 0, 0, 0, 0, 1, 0, 1, 0, 0, 0, 0, 0, 0, 1, 0, 1, 0, 0, 0, 1, 1, 0, 0, 0, 1, 0, 0, 0, 1, 0, 0, 0, 0, 1, 0, 0, 0, 0, 0, 0, 0, 0, 0, 0, 0, 0, 1, 0, 0, 0, 0, 0, 0, 1, 0, 0, 0, 0, 0, 1, 0, 0, 0, 0, 1, 1, 0, 0, 1, 0, 1, 0, 0, 0, 0, 0, 0, 0, 0, 0, 0, 1, 0, 1, 0, 0, 0, 1, 0, 0, 1, 0, 0, 1, 0, 0, 0, 0, 1, 1, 0, 0, 0, 1, 0, 0, 0, 0, 1, 0, 0, 0, 0, 0, 0, 0, 0, 3, 1, 0, 0, 0, 0, 0, 0, 1, 1, 0, 0, 0, 0, 0, 0, 1, 0, 0, 0, 0, 0, 0, 0, 1, 0, 0, 0, 1, 0, 0, 0, 0, 0, 0, 1, 0, 1, 0, 0, 0, 0, 0, 0, 0, 0, 0, 0, 1, 1, 0, 0, 0, 0, 0, 0, 0, 0, 1, 0, 0, 0, 1, 0, 0, 0, 0, 0, 0, 0, 0, 0, 0, 1, 1, 0, 0, 0, 0, 0, 0, 1, 0, 0, 0, 0, 0, 0, 0, 0, 0, 0, 0, 0, 0, 0, 1, 0, 0, 0, 0, 0, 0, 0, 1, 0, 1, 0, 0, 0, 0, 0, 0, 1, 1, 0, 0, 1, 1, 0, 0, 0, 0, 0, 0, 0, 0, 0, 1, 0, 1, 0, 0, 1, 0, 1, 0, 0, 0, 1, 0, 1, 0, 0, 1, 0, 0, 0, 0, 2, 1, 0, 0, 0, 0, 1, 1, 0, 0, 0, 0, 0, 0, 0, 0, 1, 0, 0, 0, 0, 1, 0, 0, 0, 0, 0, 0, 0, 0, 0, 0, 0, 0, 1, 0, 0, 0, 0, 0, 1, 0, 0, 0, 1, 3, 0, 0, 0, 0, 1, 0, 0, 0, 0, 0, 1, 0, 0, 1, 0, 0, 0, 0, 0, 0, 0, 1, 0, 1, 0, 1, 0, 0, 0, 0, 0, 0, 1, 0, 1, 0, 0, 1, 2, 0, 0, 1, 1, 1, 0, 0, 0, 1, 0, 0, 0, 1, 0, 0, 0, 0, 1, 1, 0, 0, 0, 0, 0, 1, 0, 0, 0, 0, 1, 0, 0, 0, 0, 0, 0, 1, 0, 1, 0, 0, 0, 0, 0, 0, 0, 0, 0, 0, 1, 0, 0, 0, 0, 0, 0, 0, 0, 0, 1, 0, 0, 0, 0, 0, 0, 0, 0, 0, 0, 0, 0, 1, 0, 0, 0, 0, 0, 0, 0, 0, 0, 0, 0, 0, 0, 0, 0, 1, 1, 0, 0, 0, 0, 1, 0, 0, 0, 1, 0, 1, 0, 0, 0, 0, 0, 1, 0, 0, 0, 1, 0, 0, 0, 0, 0, 0, 0, 1, 4, 0, 0, 1, 0, 1, 0, 3, 1, 0, 0, 0, 0, 0, 0, 1, 0, 0, 0, 0, 0, 0, 0, 0, 0, 0, 0, 0, 0, 0, 0, 0, 0, 0, 1, 0, 0, 0, 0, 0, 1, 0, 0, 1, 1, 1, 0, 0, 0, 0, 0, 1, 0, 0, 0, 0, 1, 0, 0, 0, 0, 0, 0, 0, 0, 0, 0, 1, 1, 0, 0, 0, 1, 0, 0, 1, 1, 0, 0, 0, 0, 0, 0, 1, 0, 0, 0, 1, 1, 0, 0, 0, 1, 0, 0, 0, 0, 0, 1, 0, 0, 0, 0, 0, 0, 0, 0, 1, 0, 0, 0, 0, 1, 0, 1, 0, 0, 0, 0, 0, 0, 1, 0, 1, 0, 0, 0, 0, 1, 0, 1, 0, 0, 0, 0, 0, 0, 0, 1, 0, 0, 0, 2, 0, 1, 0, 0, 0, 0, 0, 0, 1, 1, 0, 0, 0, 0, 0, 1, 2, 1, 0, 0, 1, 0, 0, 0, 1, 0, 0, 0, 0, 1, 0, 0, 1, 0, 0, 0, 0, 0, 0, 1, 1, 0, 1, 0, 1, 0, 1, 0, 0, 0, 0, 0, 0, 0, 1, 0, 0, 0, 1, 0, 0, 0, 0, 0, 0, 0, 1, 0, 0, 0, 0, 0, 1, 0, 1, 0, 0, 0, 0, 0, 0, 0, 0, 1, 0, 0, 0, 0, 0, 0, 0, 0, 0, 1, 0, 1, 0, 0, 1, 0, 1, 1, 0, 0, 0, 0, 1, 0, 0, 0, 0, 0, 1, 1, 0, 0, 0, 1, 0, 0, 0, 0, 0, 0, 1, 1, 1, 1, 0, 1, 0, 0, 0, 0, 1, 1, 1, 0, 0, 0, 0, 0, 0, 0, 1, 0, 0, 1, 0, 0, 0, 0, 0, 0, 0, 0, 0, 0, 0, 0, 0, 0, 1, 0, 1, 1, 1, 4, 0, 0, 1, 0, 0, 0, 0, 0, 0, 0, 0, 1, 0, 1, 1, 0, 0, 1, 1, 0, 0, 0, 0, 0, 0, 0, 1, 0, 0, 0, 1, 0, 0, 0, 1, 0, 0, 0, 0, 0, 0, 0, 0, 0, 1, 0, 1, 0, 0, 0, 0, 0, 0, 0, 0, 0, 0, 1, 0, 0, 0, 0, 1, 0, 0, 0, 0, 0, 3, 0, 0, 0, 0, 1, 1, 0, 0, 0, 0, 0, 0, 1, 0, 0, 1, 0, 0, 0, 1, 0, 1, 1, 0, 0, 0, 0, 0, 0, 0, 0, 0, 0, 0, 0, 0, 0, 1, 0, 0, 0, 0, 0, 0, 0, 0, 1, 0, 1, 1, 1, 0, 0, 0, 0, 1, 0, 0, 0, 1, 1, 0, 0, 1, 0, 0, 1, 0, 0, 0, 0, 0, 0, 3, 1, 0, 0, 1, 0, 0, 0, 0, 0, 0, 0, 0, 1, 1, 0, 0, 0, 0, 0, 0, 1, 0, 0, 0, 0, 0, 0, 0, 0, 0, 0, 0, 0, 0, 1, 2, 0, 0, 1, 0, 1, 0, 1, 0, 0, 0, 0, 0, 0, 1, 1, 0, 0, 1, 0, 0, 0, 0, 0, 0, 0, 0, 0, 1, 0, 0, 0, 0, 0, 0, 0, 0, 0, 0, 1, 0, 0, 0, 0, 0, 0, 0, 1, 0, 0, 0, 0, 0, 0, 0, 1, 0, 0, 1, 1, 0, 0, 0, 0, 2, 1, 0, 1, 1, 3, 4, 0, 0, 1, 0, 0, 0, 0, 1, 0, 0, 1, 1, 0, 0, 0, 0, 0, 0, 0, 0, 0, 0, 0, 1, 0, 0, 0, 0, 0, 1, 0, 1, 0, 0, 0, 0, 1, 1, 0, 1, 0, 0, 1, 1, 0, 0, 1, 0, 0, 1, 0, 0, 0, 0, 0, 0, 0, 0, 1, 0, 0, 0, 1, 0, 1, 0, 0, 0, 1, 1, 0, 0, 1, 0, 1, 0, 0, 0, 0, 0, 0, 1, 0, 1, 0, 0, 1, 0, 0, 0, 0, 1, 0, 0, 0, 0, 0, 0, 0, 0, 0, 0, 1, 0, 0, 0, 0, 0, 0, 0, 0, 0, 0, 0, 0, 0, 0, 0, 1, 0, 1, 0, 1, 1, 1, 0, 0, 0, 0, 0, 0, 0, 0, 0, 0, 0, 0, 0, 0, 0, 0, 0, 0, 0, 1, 0, 0, 0, 0, 0, 0, 1, 0, 1, 0, 0, 0, 0, 0, 0, 1, 0, 1, 0, 0, 0, 0, 0, 0, 0, 0, 0, 0, 0, 1, 0, 0, 0, 0, 0, 1, 0, 0, 0, 0, 0, 0, 0, 0, 0, 0, 0, 4, 0, 0, 1, 0, 0, 0, 0, 0, 0, 0, 1, 0, 0, 0, 0, 0, 1, 0, 1, 0, 0, 0, 0, 0, 0, 0, 1, 0, 0, 0, 0, 0, 1, 0, 0, 0, 0, 0, 1, 0, 0, 1, 0, 0, 1, 0, 1, 0, 0, 0, 0, 0, 1, 1, 0, 0, 0, 0, 0, 0, 0, 0, 1, 0, 0, 0, 0, 0, 0, 0, 0, 0, 0, 0, 0, 0, 1, 1, 0, 0, 0, 0, 0, 0, 0, 0, 1, 1, 0, 0, 0, 0, 1, 0, 1, 0, 0, 0, 1, 0, 0, 0, 0, 1, 0, 1, 0, 1, 0, 1, 0, 1, 0, 0, 0, 0, 0, 0, 1, 0, 0, 0, 0, 1, 0, 0, 0, 0, 0, 0, 0, 0, 0, 0, 1, 0, 0, 0, 1, 0, 1, 0, 1, 1, 0, 0, 0, 0, 0, 0, 0, 0, 1, 0, 0, 0, 1, 0, 0, 0, 0, 1, 0, 0, 1, 0, 1, 0, 0, 0, 0, 0, 0, 1, 0, 0, 0, 0, 0, 1, 1, 1, 0, 0, 0, 1, 0, 1, 1, 0, 0, 0, 0, 0, 0, 1, 0, 0, 1, 1, 0, 0, 1, 0, 0, 0, 0, 0, 1, 0, 0, 4, 0, 1, 0, 1, 0, 0, 0, 0, 0, 0, 0, 0, 0, 0, 2, 0, 0, 0, 0, 0, 0, 0, 0, 0, 0, 0, 1, 0, 0, 0, 0, 0, 0, 1, 0, 0, 0, 0, 0, 0, 1, 0, 0, 0, 0, 0, 0, 0, 0, 0, 0, 1, 0, 0, 1, 0, 1, 0, 1, 0, 0, 0, 0, 0, 1, 0, 1, 0, 0, 0, 0, 0, 0, 0, 0, 0, 0, 0, 1, 0, 0, 2, 0, 0, 0, 0, 0, 0, 0, 0, 0, 1, 0, 0, 0, 1, 0, 0, 0, 0, 0, 1, 0, 0, 0, 0, 0, 0, 1, 0, 0, 0, 0, 0, 0, 0, 0, 0, 0, 0, 1, 0, 0, 0, 0, 1, 1, 0, 0, 0, 0, 0, 0, 0, 0, 0, 0, 0, 0, 0, 0, 1, 0, 0, 0, 0, 0, 0, 0, 1, 0, 0, 0, 0, 0, 0, 0, 1, 0, 0, 0, 0, 1, 0, 0, 0, 0, 0, 0, 0, 0, 1, 0, 0, 0, 1, 0, 0, 0, 1, 1, 0, 0, 0, 0, 0, 1, 0, 0, 1, 0, 0, 1, 0, 0, 2, 0, 0, 0, 0, 0, 2, 1, 0, 0, 0, 0, 0, 1, 1, 0, 1, 1, 0, 0, 0, 0, 1, 0, 0, 0, 0, 0, 0, 0, 0, 0, 0, 0, 0, 0, 1, 1, 0, 1, 0, 0, 0, 0, 0, 1, 0, 0, 0, 0, 1, 0, 0, 1, 0, 1, 0, 0, 0, 0, 0, 0, 1, 0, 0, 0, 0, 0, 0, 0, 1, 1, 0, 0, 0, 1, 0, 0, 0, 0, 0, 0, 1, 0, 0, 0, 0, 0, 0, 1, 1, 0, 0, 0, 1, 1, 0, 1, 0, 0, 0, 0, 0, 1, 0, 0, 0, 0, 4, 0, 0, 0, 0, 0, 0, 1, 0, 0, 0, 0, 0, 0, 0, 0, 0, 4, 1, 0, 0, 0, 0, 0, 0, 0, 0, 1, 0, 0, 0, 1, 0, 0, 0, 1, 0, 0, 0, 0, 1, 0, 0, 0, 0, 0, 0, 0, 0, 0, 1, 1, 0, 0, 0, 1, 1, 0, 0, 0, 0, 0, 1, 1, 0, 3, 0, 0, 0, 0, 0, 0, 0, 1, 0, 0, 0, 0, 0, 0, 0, 0, 0, 0, 0, 0, 1, 1, 1, 2, 0, 0, 0, 0, 1, 1, 0, 0, 0, 0, 0, 0, 0, 0, 1, 4, 4, 0, 1, 1, 0, 0, 0, 0, 0, 0, 1, 4, 0, 1, 0, 0, 0, 0, 0, 1, 1, 0, 0, 0, 0, 0, 0, 0, 0, 0, 0, 0, 1, 0, 0, 0, 0, 0, 0, 0, 0, 1, 1, 0, 0, 1, 0, 1, 0, 1, 1, 0, 0, 0, 0, 0, 1, 0, 0, 0, 1, 1, 0, 0, 1, 0, 1, 0, 0, 1, 1, 0, 0, 0, 0, 0, 0, 0, 0, 0, 1, 0, 0, 1, 0, 4, 0, 1, 1, 0, 0, 0, 0, 0, 0, 0, 1, 0, 0, 0, 0, 0, 1, 0, 1, 4, 0, 0, 0, 1, 0, 0, 1, 0, 1, 0, 1, 1, 0, 0, 0, 0, 0, 1, 1, 0, 0, 0, 0, 0, 1, 1, 0, 3, 0, 0, 0, 0, 0, 0, 0, 0, 0, 0, 1, 0, 0, 1, 0, 1, 1, 0, 0, 3, 0, 0, 0, 0, 0, 0, 0, 1, 3, 1, 1, 1, 1, 1, 0, 0, 1, 0, 0, 0, 0, 1, 0, 1, 0, 0, 0, 0, 0, 1, 0, 1, 0, 1, 0, 1, 0, 0, 0, 0, 1, 1, 0, 0, 0, 0, 0, 0, 0, 1, 0, 1, 0, 0, 0, 0, 0, 0, 0, 0, 1, 0, 0, 0, 0, 0, 0, 0, 0, 0, 0, 0, 0, 0, 0, 0, 0, 0, 0, 1, 1, 0, 0, 0, 2, 1, 1, 0, 0, 0, 1, 0, 0, 1, 0, 0, 0, 1, 0, 0, 0, 1, 0, 1, 0, 0, 1, 1, 0, 0, 0, 0, 1, 0, 1, 0, 0, 0, 0, 1, 0, 0, 0, 0, 0, 0, 0, 0, 0, 0, 1, 0, 0, 0, 0, 1, 0, 0, 1, 0, 1, 1, 0, 1, 0, 0, 0, 0, 1, 0, 1, 0, 0, 0, 0, 0, 0, 0, 0, 0, 0, 0, 0, 0, 0, 0, 0, 1, 1, 0, 0, 1, 0, 0, 1, 0, 0, 0, 0, 0, 0, 0, 0, 0, 0, 1, 0, 0, 0, 1, 1, 0, 0, 0, 0, 0, 0, 0, 1, 0, 0, 0, 0, 0, 1, 0, 0, 0, 0, 0, 0, 0, 0, 0, 1, 0, 0, 1, 0, 0, 1, 0, 0, 1, 0, 0, 0, 0, 1, 1, 0, 1, 0, 0, 0, 0, 0, 0, 0, 0, 0, 0, 1, 0, 0, 0, 0, 0, 0, 1, 1, 0, 2, 0, 0, 0, 0, 0, 1, 0, 0, 0, 1, 0, 1, 1, 1, 0, 0, 0, 0, 1, 0, 0, 0, 0, 0, 0, 0, 0, 0, 1, 0, 0, 1, 0, 0, 1, 1, 0, 0, 0, 0, 0, 1, 0, 0, 1, 0, 0, 0, 0, 0, 0, 1, 0, 1, 0, 1, 1, 0, 0, 0, 0, 1, 0, 0, 0, 0, 0, 0, 0, 0, 0, 0, 0, 0, 1, 0, 0, 0, 0, 0, 0, 0, 0, 0, 0, 0, 1, 0, 0, 0, 0, 0, 0, 0, 0, 0, 0, 1, 0, 0, 0, 1, 0, 1, 0, 1, 0, 0, 1, 0, 0, 0, 0, 0, 0, 0, 0, 0, 0, 1, 0, 0, 1, 1, 0, 0, 0, 0, 0, 0, 0, 0, 0, 0, 0, 0, 0, 1, 0, 2, 0, 0, 1, 0, 0, 0, 0, 0, 0, 0, 0, 1, 0, 0, 0, 0, 0, 0, 0, 0, 0, 0, 0, 0, 0, 1, 0, 0, 0, 1, 0, 0, 0, 1, 1, 0, 0, 0, 1, 0, 0, 0, 0, 0, 0, 0, 1, 0, 0, 0, 2, 0, 1, 1, 1, 0, 0, 0, 0, 0, 0, 0, 0, 1, 0, 1, 1, 0, 0, 0, 0, 1, 1, 0, 0, 0, 0, 0, 0, 0, 0, 1, 0, 0, 0, 1, 0, 0, 1, 0, 0, 0, 0, 1, 0, 0, 0, 0, 0, 0, 0, 0, 0, 1, 0, 0, 0, 0, 0, 0, 0, 0, 0, 1, 1, 1, 1, 0, 1, 0, 0, 1, 0, 1, 0, 0, 0, 0, 0, 0, 0, 0, 0, 0, 0, 0, 0, 0, 1, 0, 0, 0, 0, 0, 1, 0, 0, 0, 0, 0, 0, 0, 1, 1, 0, 0, 0, 0, 0, 0, 0, 1, 0, 1, 0, 0, 0, 0, 0, 1, 1, 1, 0, 1, 0, 0, 0, 3, 0, 0, 0, 0, 0, 0, 0, 0, 1, 0, 0, 0, 0, 0, 0, 0, 0, 0, 0, 0, 1, 0, 0, 0, 0, 0, 0, 0, 0, 2, 1, 0, 1, 1, 0, 0, 1, 0, 1, 0, 0, 0, 0, 0, 1, 0, 0, 0, 0, 1, 0, 0, 0, 0, 1, 0, 0, 0, 0, 0, 0, 0, 0, 0, 1, 1, 0, 1, 0, 0, 0, 0, 0, 0, 0, 0, 0, 0, 0, 0, 0, 1, 0, 0, 0, 0, 0, 0, 0, 1, 0, 0, 0, 0, 0, 0, 0, 0, 0, 1, 3, 0, 0, 1, 0, 0, 0, 1, 1, 0, 0, 1, 1, 0, 1, 0, 0, 1, 0, 0, 0, 0, 0, 0, 1, 0, 0, 0, 0, 0, 0, 1, 0, 0, 0, 0, 0, 0, 0, 0, 4, 0, 0, 0, 0, 0, 0, 1, 0, 1, 0, 0, 0, 0, 0, 0, 1, 1, 0, 1, 0, 0, 0, 0, 0, 1, 0, 0, 0, 0, 0, 0, 0, 0, 1, 0, 0, 0, 0, 0, 0, 0, 1, 0, 0, 0, 1, 0, 0, 0, 1, 0, 0, 0, 0, 0, 0, 0, 0, 0, 0, 0, 0, 0, 0, 1, 0, 0, 0, 0, 1, 0, 0, 0, 1, 0, 0, 0, 0, 1, 0, 0, 0, 0, 1, 0, 1, 2, 4, 0, 1, 0, 0, 0, 0, 0, 0, 0, 2, 1, 0, 0, 0, 0, 0, 2, 0, 0, 1, 0, 0, 0, 1, 0, 1, 4, 0, 0, 0, 1, 0, 0, 0, 0, 0, 0, 0, 1, 0, 0, 1, 0, 0, 0, 0, 0, 0, 1, 0, 1, 1, 0, 1, 0, 0, 0, 0, 0, 0, 1, 0, 0, 0, 0, 0, 1, 0, 0, 0, 1, 0, 1, 0, 0, 1, 0, 0, 0, 0, 0, 0, 0, 1, 0, 1, 1, 1, 0, 0, 1, 0, 0, 1, 0, 1, 0, 1, 0, 0, 0, 0, 0, 0, 0, 2, 0, 0, 0, 0, 0, 2, 1, 1, 0, 0, 0, 0, 0, 0, 0, 0, 1, 1, 0, 4, 0, 0, 0, 1, 1, 0, 0, 0, 0, 0, 0, 0, 0, 0, 1, 0, 0, 0, 0, 0, 1, 0, 1, 0, 0, 1, 0, 1, 0, 0, 1, 0, 0, 0, 0, 0, 0, 1, 0, 0, 0, 0, 0, 0, 0, 0, 0, 0, 1, 0, 0, 0, 0, 0, 0, 1, 0, 0, 0, 0, 0, 0, 1, 0, 0, 0, 0, 1, 0, 0, 0, 0, 0, 0, 0, 0, 0, 0, 0, 0, 0, 0, 1, 0, 1, 0, 0, 0, 0, 0, 1, 0, 0, 0, 0, 0, 0, 0, 0, 0, 1, 0, 0, 0, 0, 0, 0, 1, 0, 0, 0, 0, 0, 0, 0, 0, 0, 1, 1, 0, 0, 1, 4, 0, 2, 0, 0, 1, 0, 0, 0, 0, 1, 0, 0, 0, 1, 0, 0, 1, 0, 0, 0, 0, 0, 1, 0, 0, 0, 0, 0, 0, 0, 0, 0, 0, 0, 0, 1, 0, 0, 0, 0, 0, 1, 0, 0, 1, 0, 1, 0, 1, 0, 0, 0, 0, 0, 0, 0, 0, 0, 0, 0, 0, 0, 0, 0, 0, 0, 0, 1, 0, 0, 1, 0, 2, 0, 1, 0, 0, 0, 0, 0, 0, 0, 0, 1, 0, 0, 0, 0, 0, 0, 0, 1, 0, 0, 0, 0, 0, 0, 1, 0, 0, 0, 1, 0, 1, 0, 1, 0, 0, 0, 0, 0, 0, 1, 0, 0, 0, 0, 0, 0, 0, 0, 0, 0, 0, 0, 0, 0, 0, 0, 0, 0, 0, 0, 0, 1, 0, 0, 0, 0, 0, 0, 1, 0, 1, 0, 0, 1, 0, 0, 1, 0, 0, 1, 0, 0, 0, 0, 0, 0, 1, 1, 0, 0, 1, 1, 0, 0, 0, 0, 0, 0, 0, 0, 0, 0, 1, 0, 0, 0, 0, 0, 1, 0, 1, 0, 0, 0, 0, 0, 0, 1, 1, 0, 0, 0, 0, 0, 0, 0, 0, 0, 1, 0, 1, 1, 0, 0, 0, 1, 0, 0, 1, 0, 0, 0, 0, 1, 0, 1, 0, 0, 1, 0, 0, 1, 1, 0, 0, 0, 0, 0, 0, 0, 0, 0, 0, 0, 0, 0, 1, 0, 0, 1, 0, 0, 0, 0, 0, 0, 0, 0, 0, 0, 1, 0, 0, 1, 0, 1, 1, 0, 1, 0, 0, 0, 0, 0, 0, 0, 0, 0, 0, 0, 0, 0, 0, 0, 0, 1, 1, 0, 0, 0, 0, 0, 0, 0, 0, 0, 0, 1, 0, 0, 0, 0, 1, 0, 0, 0, 0, 0, 0, 0, 0, 0, 0, 0, 0, 0, 0, 0, 0, 1, 0, 1, 0, 0, 0, 0, 1, 0, 0, 0, 1, 0, 0, 0, 0, 0, 0, 0, 0, 0, 0, 0, 0, 1, 0, 0, 0, 0, 0, 1, 1, 0, 0, 0, 0, 1, 0, 0, 1, 0, 1, 0, 0, 1, 0, 0, 1, 0, 0, 0, 0, 0, 1, 0, 0, 0, 0, 0, 0, 0, 0, 0, 0, 0, 1, 0, 0, 0, 0, 1, 0, 1, 0, 0, 0, 0, 0, 0, 0, 0, 0, 0, 0, 0, 3, 1, 0, 0, 0, 0, 1, 0, 0, 0, 1, 1, 0, 0, 0, 0, 0, 0, 0, 1, 0, 0, 0, 0, 0, 0, 0, 1, 0, 0, 0, 0, 0, 0, 1, 0, 0, 1, 1, 0, 0, 0, 0, 0, 1, 0, 0, 1, 1, 0, 0, 0, 0, 0, 0, 0, 0, 0, 0, 0, 0, 1, 0, 1, 0, 0, 0, 0, 1, 0, 1, 0, 0, 1, 0, 0, 0, 0, 0, 0, 1, 0, 1, 0, 0, 0, 1, 0, 0, 0, 1, 0, 0, 1, 1, 0, 0, 0, 0, 0, 0, 1, 0, 0, 1, 1, 0, 0, 0, 0, 0, 0, 0, 0, 0, 1, 0, 0, 0, 0, 1, 1, 0, 1, 1, 0, 0, 0, 0, 0, 0, 0, 0, 0, 0, 0, 0, 0, 1, 0, 1, 0, 1, 1, 0, 0, 1, 0, 0, 1, 0, 0, 0, 0, 0, 0, 0, 0, 0, 1, 1, 0, 0, 0, 1, 0, 0, 0, 0, 0, 0, 0, 0, 1, 0, 0, 0, 0, 1, 0, 1, 2, 0, 1, 1, 0, 0, 0, 0, 0, 0, 0, 0, 0, 0, 0, 1, 0, 0, 0, 0, 0, 0, 0, 0, 0, 0, 0, 0, 1, 0, 0, 0, 1, 0, 0, 0, 0, 1, 0, 0, 0, 0, 0, 0, 1, 0, 0, 0, 1, 0, 0, 0, 0, 0, 0, 0, 0, 0, 0, 0, 0, 0, 0, 0, 0, 0, 0, 0, 1, 0, 0, 0, 0, 0, 0, 0, 0, 1, 0, 0, 0, 0, 0, 0, 1, 0, 0, 1, 0, 0, 0, 1, 0, 4, 0, 0, 0, 0, 0, 0, 0, 0, 0, 0, 0, 0, 0, 0, 0, 0, 1, 1, 0, 0, 0, 0, 1, 0, 0, 0, 0, 0, 0, 0, 0, 1, 0, 0, 1, 1, 1, 1, 0, 0, 0, 1, 0, 0, 1, 0, 1, 1, 0, 2, 0, 1, 0, 0, 0, 0, 0, 1, 1, 0, 1, 0, 0, 0, 1, 0, 0, 0, 0, 0, 1, 1, 0, 0, 0, 0, 0, 0, 3, 0, 0, 0, 0, 0, 0, 0, 0, 0, 0, 0, 0, 0, 1, 0, 0, 0, 0, 0, 0, 1, 0, 0, 0, 0, 0, 0, 0, 0, 0, 0, 0, 0, 1, 0, 0, 3, 0, 1, 0, 1, 1, 1, 1, 0, 0, 1, 0, 1, 0, 1, 0, 0, 0, 1, 0, 0, 0, 1, 0, 0, 0, 0, 2, 0, 0, 0, 0, 0, 0, 0, 0, 0, 0, 0, 1, 0, 0, 0, 0, 0, 0, 0, 1, 0, 1, 0, 0, 1, 3, 0, 1, 0, 0, 1, 0, 0, 0, 1, 0, 1, 0, 0, 0, 0, 0, 0, 0, 1, 0, 1, 1, 2, 0, 0, 0, 0, 0, 0, 1, 0, 1, 0, 1, 0, 3, 0, 0, 0, 0, 0, 0, 0, 1, 0, 0, 0, 1, 1, 0, 0, 0, 1, 0, 0, 0, 0, 0, 0, 0, 0, 0, 0, 0, 0, 1, 1, 1, 3, 1, 0, 0, 0, 1, 0, 1, 0, 0, 0, 0, 0, 0, 1, 0, 0, 1, 0, 0, 0, 1, 0, 0, 0, 0, 0, 0, 0, 0, 1, 0, 0, 0, 0, 0, 0, 0, 0, 1, 0, 3, 1, 0, 0, 0, 1, 0, 1, 0, 1, 0, 0, 0, 0, 0, 0, 1, 0, 1, 0, 0, 0, 0, 1, 1, 0, 0, 0, 4, 0, 0, 1, 1, 0, 0, 0, 0, 0, 0, 0, 0, 0, 0, 0, 0, 0, 0, 0, 0, 0, 0, 0, 0, 0, 4, 0, 0, 0, 0, 0, 0, 0, 0, 0, 0, 1, 0, 1, 0, 0, 0, 1, 0, 0, 0, 0, 0, 0, 0, 0, 0, 0, 3, 1, 0, 1, 1, 0, 0, 0, 0, 0, 0, 1, 0, 1, 0, 0, 0, 0, 1, 0, 0, 0, 0, 1, 0, 0, 0, 1, 1, 1, 0, 0, 0, 2, 0, 0, 0, 1, 0, 0, 1, 0, 1, 0, 0, 0, 0, 0, 0, 0, 0, 0, 1, 0, 1, 0, 0, 1, 0, 0, 1, 0, 0, 0, 0, 0, 0, 0, 0, 1, 0, 0, 1, 1, 0, 0, 0, 0, 0, 1, 0, 1, 0, 1, 0, 0, 0, 0, 1, 0, 0, 0, 0, 1, 0, 0, 0, 4, 0, 0, 0, 0, 1, 0, 1, 0, 0, 0, 0, 0, 1, 0, 1, 0, 0, 0, 0, 0, 0, 0, 1, 0, 1, 0, 0, 0, 1, 0, 1, 0, 0, 0, 1, 0, 0, 1, 0, 0, 0, 1, 0, 0, 0, 0, 4, 0, 0, 1, 0, 0, 0, 0, 0, 1, 0, 0, 0, 0, 0, 0, 0, 0, 1, 0, 0, 0, 0, 0, 1, 1, 1, 1, 0, 0, 0, 1, 1, 0, 0, 0, 0, 1, 0, 0, 0, 0, 0, 1, 0, 0, 0, 0, 0, 0, 0, 0, 1, 0, 0, 0, 0, 0, 0, 3, 0, 0, 0, 1, 1, 1, 0, 0, 0, 0, 0, 0, 1, 0, 0, 0, 1, 1, 1, 0, 0, 0, 0, 0, 0, 1, 0, 0, 0, 0, 0, 1, 0, 0, 0, 0, 0, 0, 0, 1, 0, 4, 0, 0, 0, 0, 0, 0, 0, 0, 0, 0, 0, 0, 0, 0, 0, 0, 1, 0, 0, 1, 1, 0, 1, 1, 1, 0, 0, 1, 0, 0, 0, 0, 0, 0, 0, 0, 0, 0, 0, 1, 0, 0, 0, 0, 0, 0, 0, 0, 1, 0, 1, 0, 0, 0, 0, 0, 0, 0, 1, 0, 0, 0, 2, 0, 1, 1, 0, 0, 0, 0, 1, 0, 0, 0, 1, 0, 1, 0, 0, 0, 0, 1, 1, 1, 0, 0, 0, 0, 0, 0, 0, 0, 0, 0, 1, 0, 1, 0, 0, 1, 0, 1, 0, 0, 0, 0, 0, 0, 0, 0, 0, 0, 0, 0, 0, 0, 0, 0, 0, 0, 1, 0, 1, 1, 0, 1, 0, 0, 0, 1, 0, 0, 0, 0, 4, 0, 1, 0, 0, 0, 1, 0, 0, 0, 1, 0, 0, 0, 0, 1, 1, 1, 0, 1, 1, 0, 1, 1, 0, 1, 0, 0, 0, 0, 0, 0, 0, 0, 0, 0, 0, 0, 0, 0, 0, 0, 0, 1, 0, 0, 0, 0, 0, 0, 1, 1, 1, 0, 0, 0, 0, 0, 0, 1, 0, 0, 0, 0, 0, 0, 1, 0, 0, 1, 0, 1, 0, 0, 0, 0, 0, 1, 0, 0, 0, 0, 0, 0, 0, 0, 0, 0, 0, 0, 0, 0, 0, 0, 0, 0, 0, 0, 3, 1, 0, 1, 0, 1, 0, 0, 0, 0, 0, 0, 0, 0, 0, 1, 0, 0, 0, 0, 0, 0, 0, 0, 0, 0, 0, 1, 0, 0, 0, 1, 0, 0, 0, 1, 0, 0, 0, 0, 0, 0, 0, 0, 0, 0, 0, 0, 0, 0, 0, 1, 0, 1, 0, 0, 0, 0, 0, 0, 0, 1, 0, 0, 0, 0, 0, 0, 0, 0, 0, 0, 1, 0, 0, 0, 1, 0, 0, 4, 0, 0, 1, 0, 0, 0, 0, 0, 0, 0, 0, 0, 0, 1, 1, 1, 0, 0, 0, 4, 0, 0, 0, 0, 0, 0, 0, 0, 0, 0, 0, 0, 0, 3, 0, 0, 0, 0, 0, 0, 0, 2, 0, 0, 0, 0, 0, 0, 0, 0, 0, 0, 1, 0, 0, 0, 0, 1, 0, 0, 1, 0, 0, 0, 0, 0, 0, 0, 1, 0, 0, 0, 1, 0, 1, 0, 0, 0, 0, 1, 0, 0, 1, 1, 0, 0, 0, 0, 0, 0, 0, 0, 1, 1, 1, 1, 0, 0, 0, 0, 0, 0, 0, 0, 0, 1, 0, 0, 0, 0, 1, 0, 0, 0, 1, 0, 1, 0, 0, 0, 0, 0, 0, 0, 1, 0, 0, 0, 0, 0, 0, 0, 0, 1, 1, 0, 1, 0, 0, 0, 0, 0, 0, 0, 0, 0, 0, 0, 0, 0, 0, 0, 1, 0, 1, 0, 0, 0, 1, 0, 1, 0, 1, 1, 0, 1, 0, 0, 0, 0, 0, 0, 1, 0, 0, 0, 0, 0, 0, 0, 0, 0, 0, 0, 3, 0, 0, 0, 0, 0, 1, 0, 0, 0, 1, 0, 0, 0, 0, 1, 0, 0, 3, 0, 0, 1, 0, 0, 0, 0, 0, 1, 0, 0, 0, 1, 0, 0, 1, 1, 0, 0, 0, 0, 0, 1, 0, 1, 0, 0, 0, 0, 0, 0, 1, 0, 0, 0, 0, 0, 0, 0, 1, 0, 1, 1, 0, 0, 0, 0, 3, 0, 0, 0, 0, 0, 0, 0, 1, 1, 0, 0, 1, 0, 0, 0, 0, 0, 0, 0, 0, 0, 0, 0, 1, 0, 0, 1, 0, 2, 0, 0, 0, 0, 0, 1, 1, 0, 0, 1, 0, 0, 1, 1, 0, 0, 0, 1, 0, 0, 1, 0, 0, 0, 0, 1, 0, 0, 0, 0, 0, 0, 1, 0, 0, 0, 0, 0, 0, 0, 0, 0, 0, 0, 0, 0, 0, 0, 1, 0, 1, 0, 0, 0, 1, 0, 0, 0, 0, 3, 0, 0, 1, 0, 0, 0, 0, 0, 1, 0, 0, 0, 0, 0, 1, 0, 0, 0, 1, 0, 0, 0, 0, 1, 1, 0, 0, 0, 0, 0, 1, 1, 0, 0, 0, 0, 0, 0, 0, 0, 0, 0, 0, 0, 0, 0, 0, 0, 0, 0, 0, 0, 0, 1, 0, 0, 0, 2, 1, 0, 0, 0, 1, 0, 0, 0, 2, 0, 0, 0, 0, 1, 0, 1, 0, 0, 0, 0, 1, 0, 0, 0, 0, 0, 4, 1, 0, 0, 0, 0, 0, 0, 0, 0, 0, 0, 0, 0, 0, 1, 0, 1, 0, 0, 0, 0, 0, 1, 0, 1, 0, 0, 0, 0, 1, 0, 0, 0, 0, 0, 1, 0, 0, 0, 0, 0, 0, 0, 0, 1, 1, 0, 1, 0, 0, 0, 0, 0, 0, 0, 0, 0, 0, 0, 0, 1, 1, 0, 0, 0, 0, 0, 0, 0, 1, 0, 0, 0, 2, 0, 0, 0, 0, 0, 0, 0, 1, 1, 1, 0, 0, 0, 0, 0, 1, 0, 0, 0, 0, 1, 0, 3, 0, 0, 0, 0, 1, 0, 0, 0, 0, 0, 0, 0, 4, 0, 1, 0, 0, 0, 0, 0, 0, 0, 1, 0, 0, 0, 1, 1, 0, 0, 0, 0, 0, 0, 1, 1, 0, 1, 0, 0, 0, 0, 0, 0, 0, 1, 0, 0, 0, 0, 0, 1, 0, 1, 0, 1, 0, 0, 0, 1, 0, 0, 0, 0, 0, 0, 0, 1, 0, 0, 1, 0, 1, 0, 0, 0, 0, 0, 0, 0, 0, 0, 0, 1, 0, 0, 0, 0, 0, 1, 0, 0, 0, 0, 0, 1, 0, 0, 0, 0, 0, 0, 0, 0, 0, 1, 0, 0, 0, 0, 0, 0, 0, 0, 0, 0, 0, 0, 0, 0, 0, 0, 1, 4, 0, 1, 0, 0, 0, 0, 0, 0, 0, 0, 0, 0, 0, 1, 0, 0, 0, 1, 0, 0, 0, 0, 0, 0, 1, 1, 0, 0, 0, 1, 0, 1, 0, 0, 1, 0, 0, 0, 0, 0, 0, 0, 1, 0, 0, 0, 0, 1, 0, 0, 0, 0, 0, 1, 0, 1, 0, 0, 1, 0, 0, 0, 1, 0, 1, 0, 0, 0, 0, 0, 1, 0, 0, 0, 1, 0, 0, 1, 0, 0, 0, 0, 0, 0, 0, 0, 0, 0, 0, 0, 0, 0, 0, 0, 0, 0, 0, 1, 0, 0, 0, 0, 1, 0, 0, 1, 0, 0, 0, 0, 1, 1, 0, 0, 0, 1, 0, 0, 1, 1, 0, 0, 0, 0, 1, 0, 0, 0, 0, 0, 1, 0, 0, 0, 1, 0, 0, 0, 0, 0, 0, 0, 0, 0, 1, 0, 1, 1, 0, 0, 0, 0, 1, 1, 0, 0, 0, 0, 0, 0, 1, 0, 0, 0, 0, 1, 0, 1, 0, 0, 0, 0, 0, 0, 0, 0, 0, 0, 0, 1, 1, 0, 0, 0, 0, 0, 0, 0, 0, 0, 0, 0, 0, 0, 0, 0, 0, 0, 1, 1, 0, 0, 1, 1, 0, 0, 0, 0, 0, 0, 1, 0, 0, 0, 1, 0, 3, 0, 1, 1, 0, 0, 0, 0, 0, 0, 0, 0, 0, 0, 0, 0, 0, 0, 0, 0, 0, 0, 1, 1, 1, 0, 1, 0, 0, 0, 0, 0, 1, 0, 1, 0, 0, 2, 0, 0, 0, 0, 0, 0, 0, 0, 0, 1, 3, 0, 1, 1, 1, 1, 0, 0, 0, 0, 0, 0, 0, 0, 0, 0, 0, 1, 0, 0, 0, 1, 0, 0, 1, 0, 0, 0, 0, 0, 0, 0, 0, 0, 1, 0, 0, 0, 0, 0, 0, 0, 2, 0, 0, 1, 0, 0, 0, 1, 0, 0, 0, 0, 0, 0, 0, 0, 0, 0, 0, 1, 0, 0, 0, 1, 1, 0, 0, 0, 1, 0, 2, 0, 1, 0, 1, 0, 0, 0, 0, 0, 1, 0, 1, 0, 1, 1, 0, 0, 0, 0, 1, 0, 1, 0, 0, 0, 0, 0, 0, 0, 0, 0, 0, 0, 0, 0, 0, 0, 0, 1, 1, 0, 0, 0, 0, 0, 0, 1, 0, 0, 0, 0, 0, 0, 0, 1, 1, 0, 0, 0, 1, 0, 0, 0, 0, 2, 0, 2, 0, 1, 0, 0, 0, 0, 0, 0, 0, 0, 0, 0, 0, 0, 0, 1, 0, 0, 0, 0, 0, 0, 1, 1, 0, 1, 0, 1, 0, 0, 0, 0, 0, 0, 1, 0, 0, 0, 0, 0, 0, 0, 1, 1, 0, 0, 0, 0, 1, 0, 0, 0, 0, 0, 0, 0, 0, 0, 0, 1, 0, 0, 1, 0, 0, 0, 0, 0, 0, 0, 0, 0, 0, 0, 1, 0, 0, 0, 1, 0, 0, 0, 0, 0, 0, 0, 0, 0, 0, 0, 0, 1, 0, 0, 0, 0, 0, 0, 0, 0, 0, 1, 0, 0, 0, 0, 1, 0, 0, 0, 0, 1, 1, 0, 0, 0, 0, 0, 1, 0, 0, 0, 0, 0, 0, 0, 0, 0, 1, 1, 0, 0, 0, 0, 0, 1, 0, 0, 0, 0, 0, 0, 0, 0, 0, 0, 0, 0, 0, 0, 0, 0, 0, 0, 0, 0, 0, 0, 0, 0, 0, 0, 1, 0, 0, 0, 0, 0, 0, 0, 1, 0, 0, 0, 0, 0, 1, 0, 0, 1, 1, 0, 1, 0, 0, 0, 0, 0, 0, 0, 1, 0, 0, 0, 0, 0, 0, 1, 0, 0, 0, 0, 0, 0, 0, 0, 1, 1, 0, 0, 0, 0, 0, 0, 0, 0, 0, 0, 0, 0, 0, 0, 0, 0, 0, 1, 1, 1, 1, 1, 0, 0, 0, 0, 1, 0, 0, 1, 0, 0, 0, 1, 1, 1, 0, 0, 0, 0, 0, 1, 0, 0, 0, 0, 1, 0, 1, 0, 1, 0, 0, 0, 1, 0, 1, 0, 0, 0, 0, 0, 1, 0, 0, 2, 1, 0, 0, 0, 0, 0, 1, 0, 0, 0, 1, 2, 1, 0, 0, 0, 1, 1, 0, 1, 0, 0, 0, 1, 0, 0, 1, 0, 0, 0, 0, 0, 0, 0, 0, 0, 0, 0, 0, 0, 1, 0, 0, 1, 0, 0, 0, 1, 0, 0, 0, 0, 0, 0, 0, 0, 0, 0, 1, 1, 0, 0, 1, 0, 0, 0, 0, 0, 0, 0, 0, 1, 0, 0, 1, 1, 1, 1, 3, 0, 1, 1, 0, 1, 0, 1, 0, 0, 0, 0, 0, 0, 0, 0, 0, 0, 0, 0, 0, 0, 0, 1, 1, 0, 0, 0, 0, 0, 0, 1, 0, 0, 0, 0, 0, 0, 0, 0, 0, 0, 0, 0, 0, 1, 1, 0, 0, 0, 0, 1, 1, 0, 1, 0, 0, 0, 0, 0, 1, 0, 0, 0, 0, 0, 0, 0, 0, 0, 0, 1, 1, 0, 0, 0, 1, 0, 0, 0, 0, 0, 0, 0, 0, 0, 0, 1, 0, 0, 1, 1, 0, 0, 0, 1, 0, 0, 0, 0, 0, 1, 0, 0, 0, 0, 0, 0, 1, 0, 0, 1, 0, 0, 0, 0, 0, 0, 1, 0, 0, 0, 0, 0, 0, 2, 1, 0, 0, 1, 1, 0, 0, 0, 0, 0, 0, 1, 1, 0, 1, 4, 0, 1, 0, 0, 0, 0, 0, 1, 0, 0, 1, 0, 0, 0, 0, 0, 0, 1, 0, 0, 0, 0, 0, 0, 0, 0, 1, 0, 1, 0, 1, 0, 0, 0, 0, 0, 0, 0, 2, 0, 0, 0, 1, 0, 1, 0, 0, 1, 0, 0, 0, 1, 0, 0, 0, 1, 0, 0, 0, 1, 0, 0, 0, 0, 0, 0, 1, 0, 0, 0, 0, 0, 0, 1, 0, 0, 1, 1, 1, 0, 0, 0, 0, 0, 0, 0, 0, 0, 0, 0, 1, 1, 0, 1, 0, 4, 0, 0, 0, 0, 0, 0, 0, 0, 0, 0, 0, 0, 0, 0, 0, 0, 4, 0, 0, 0, 1, 0, 0, 0, 0, 1, 0, 0, 1, 0, 2, 0, 0, 0, 0, 0, 0, 0, 0, 0, 1, 0, 1, 0, 0, 0, 0, 1, 0, 1, 0, 0, 0, 0, 0, 0, 0, 0, 0, 0, 0, 0, 0, 0, 1, 0, 0, 0, 0, 0, 1, 1, 1, 0, 0, 0, 0, 0, 1, 0, 0, 0, 1, 0, 0, 0, 0, 0, 0, 0, 0, 0, 0, 0, 1, 1, 0, 0, 0, 1, 1, 1, 0, 0, 0, 0, 0, 0, 1, 0, 0, 0, 0, 1, 1, 1, 0, 0, 0, 0, 0, 0, 1, 0, 0, 0, 1, 0, 0, 1, 0, 0, 0, 0, 1, 0, 1, 0, 0, 0, 0, 0, 3, 0, 0, 0, 0, 0, 0, 0, 1, 0, 0, 0, 0, 0, 0, 0, 1, 0, 0, 0, 0, 0, 0, 0, 0, 0, 1, 0, 1, 0, 0, 0, 0, 1, 0, 1, 1, 0, 0, 0, 0, 0, 1, 0, 0, 0, 1, 0, 0, 0, 0, 0, 0, 0, 0, 0, 0, 0, 1, 0, 0, 0, 0, 0, 0, 1, 1, 0, 0, 0, 1, 0, 0, 0, 1, 0, 0, 0, 0, 1, 0, 0, 0, 0, 0, 0, 0, 0, 0, 1, 0, 0, 0, 0, 1, 0, 0, 1, 0, 1, 0, 0, 1, 1, 0, 0, 0, 0, 0, 0, 1, 0, 0, 0, 0, 0, 0, 0, 3, 0, 1, 0, 0, 0, 0, 0, 0, 0, 1, 0, 1, 0, 0, 0, 1, 3, 0, 0, 0, 0, 0, 0, 0, 0, 0, 0, 0, 0, 0, 0, 0, 0, 0, 1, 0, 0, 0, 1, 0, 0, 0, 0, 0, 0, 1, 0, 0, 0, 0, 0, 2, 0, 0, 1, 1, 1, 0, 0, 0, 0, 0, 0, 1, 0, 1, 0, 0, 0, 0, 1, 0, 0, 0, 1, 0, 1, 1, 1, 1, 0, 1, 0, 0, 0, 1, 0, 0, 0, 0, 0, 1, 0, 0, 1, 0, 0, 0, 0, 0, 0, 0, 0, 0, 0, 1, 0, 0, 0, 0, 0, 1, 0, 2, 0, 0, 0, 1, 0, 0, 0, 1, 0, 0, 4, 0, 1, 0, 0, 1, 0, 0, 0, 0, 0, 1, 0, 0, 0, 0, 0, 1, 0, 0, 0, 0, 0, 0, 0, 0, 0, 1, 1, 0, 0, 0, 1, 0, 1, 0, 1, 1, 0, 0, 1, 1, 1, 0, 0, 0, 0, 0, 0, 0, 0, 0, 0, 0, 0, 0, 1, 0, 0, 0, 0, 1, 0, 0, 0, 0, 1, 0, 0, 0, 0, 0, 0, 0, 0, 0, 0, 0, 0, 0, 0, 1, 0, 0, 0, 0, 0, 0, 1, 1, 0, 0, 0, 1, 1, 0, 0, 0, 0, 1, 1, 0, 1, 1, 0, 0, 0, 0, 0, 0, 0, 0, 1, 0, 0, 0, 0, 0, 0, 0, 0, 0, 0, 1, 4, 0, 0, 0, 1, 0, 0, 0, 1, 0, 0, 0, 0, 0, 0, 1, 0, 0, 0, 0, 0, 0, 0, 0, 0, 0, 1, 0, 0, 1, 0, 1, 0, 0, 0, 0, 0, 0, 1, 0, 0, 0, 0, 0, 1, 0, 0, 0, 0, 0, 0, 1, 0, 0, 0, 0, 0, 0, 1, 0, 1, 0, 1, 1, 1, 0, 0, 0, 0, 0, 0, 0, 1, 0, 0, 3, 0, 0, 1, 0, 1, 0, 0, 0, 0, 0, 0, 0, 0, 0, 0, 0, 1, 1, 0, 0, 0, 0, 0, 0, 0, 0, 4, 1, 0, 0, 0, 0, 0, 1, 0, 4, 1, 0, 1, 0, 2, 0, 0, 0, 0, 0, 0, 1, 0, 0, 0, 0, 0, 0, 0, 0, 0, 1, 0, 0, 0, 1, 1, 0, 1, 0, 0, 0, 0, 0, 0, 0, 0, 0, 0, 0, 0, 1, 1, 0, 0, 0, 0, 0, 0, 0, 0, 0, 0, 0, 0, 0, 0, 3, 0, 0, 0, 1, 0, 0, 0, 0, 0, 0, 0, 0, 1, 0, 1, 0, 0, 0, 4, 0, 1, 1, 0, 0, 0, 1, 0, 0, 0, 0, 0, 0, 0, 0, 0, 0, 1, 0, 0, 0, 0, 0, 0, 1, 1, 0, 0, 0, 1, 0, 0, 0, 0, 1, 0, 0, 0, 0, 1, 1, 0, 0, 0, 0, 0, 0, 1, 0, 1, 0, 0, 0, 0, 0, 0, 0, 1, 1, 0, 0, 1, 0, 0, 0, 0, 0, 0, 1, 0, 1, 0, 0, 0, 0, 0, 0, 1, 0, 0, 0, 1, 0, 0, 0, 0, 0, 0, 1, 0, 0, 1, 0, 0, 0, 0, 0, 0, 0, 2, 1, 1, 0, 0, 0, 0, 0, 0, 0, 0, 0, 0, 0, 0, 0, 0, 0, 0, 1, 1, 0, 0, 0, 0, 0, 0, 1, 0, 1, 0, 0, 0, 0, 0, 0, 0, 0, 0, 0, 0, 0, 0, 0, 0, 1, 1, 0, 1, 0, 0, 0, 1, 0, 0, 0, 4, 0, 0, 1, 0, 0, 0, 1, 0, 1, 0, 1, 0, 0, 0, 0, 0, 0, 0, 1, 0, 0, 0, 0, 0, 1, 0, 0, 0, 0, 0, 0, 0, 0, 1, 0, 0, 1, 0, 0, 1, 0, 0, 0, 0, 0, 0, 0, 0, 1, 0, 0, 0, 0, 0, 1, 0, 0, 0, 1, 0, 1, 0, 0, 0, 0, 0, 0, 0, 0, 0, 1, 1, 0, 1, 0, 0, 0, 0, 1, 0, 0, 0, 0, 0, 1, 0, 1, 0, 0, 0, 0, 0, 0, 0, 0, 2, 1, 0, 0, 0, 1, 0, 0, 0, 1, 0, 1, 1, 0, 1, 0, 0, 1, 0, 0, 0, 1, 1, 0, 0, 0, 0, 1, 0, 0, 0, 1, 4, 0, 0, 0, 0, 1, 0, 0, 0, 0, 0, 0, 0, 0, 0, 0, 0, 0, 0, 1, 0, 1, 0, 0, 1, 0, 0, 0, 0, 0, 0, 0, 0, 0, 0, 1, 0, 1, 0, 0, 1, 0, 1, 0, 1, 1, 0, 0, 0, 0, 0, 1, 0, 0, 0, 1, 0, 1, 1, 0, 0, 0, 0, 0, 0, 1, 1, 0, 0, 0, 0, 0, 0, 0, 0, 1, 0, 0, 0, 0, 0, 0, 0, 0, 1, 0, 0, 0, 0, 0, 0, 0, 0, 0, 0, 0, 0, 1, 0, 0, 0, 0, 0, 1, 0, 0, 1, 1, 0, 0, 0, 1, 0, 0, 0, 0, 0, 0, 0, 1, 0, 0, 0, 0, 0, 0, 0, 1, 0, 1, 0, 0, 0, 1, 0, 0, 1, 0, 0, 1, 0, 0, 0, 1, 0, 0, 0, 0, 1, 0, 0, 0, 0, 0, 0, 0, 0, 0, 0, 1, 0, 0, 0, 0, 0, 1, 0, 0, 0, 0, 0, 1, 0, 0, 0, 0, 1, 1, 1, 0, 0, 1, 0, 0, 0, 0, 1, 1, 0, 1, 0, 0, 0, 1, 0, 1, 0, 0, 1, 0, 0, 0, 0, 0, 0, 0, 0, 0, 0, 0, 0, 0, 0, 0, 0, 0, 1, 0, 0, 2, 0, 1, 0, 0, 0, 1, 0, 0, 0, 0, 0, 0, 0, 1, 0, 0, 0, 1, 0, 0, 1, 0, 0, 1, 0, 0, 1, 1, 1, 0, 0, 0, 1, 1, 0, 0, 0, 0, 0, 0, 0, 1, 1, 0, 0, 0, 0, 1, 1, 0, 0, 0, 0, 0, 1, 0, 1, 0, 0, 0, 0, 1, 0, 0, 1, 0, 0, 0, 0, 0, 0, 0, 1, 0, 0, 0, 0, 0, 0, 0, 0, 0, 0, 0, 0, 0, 1, 1, 0, 0, 0, 1, 0, 1, 0, 1, 0, 0, 0, 0, 0, 0, 0, 0, 0, 0, 0, 0, 0, 0, 0, 0, 0, 0, 0, 0, 0, 0, 0, 0, 1, 0, 0, 0, 0, 0, 0, 0, 0, 0, 0, 0, 0, 0, 0, 0, 0, 0, 0, 1, 1, 1, 0, 0, 0, 0, 0, 0, 0, 0, 0, 1, 0, 0, 1, 0, 1, 0, 0, 0, 0, 0, 0, 1, 0, 0, 0, 0, 0, 0, 0, 0, 1, 0, 0, 0, 0, 0, 1, 0, 1, 1, 1, 1, 0, 2, 0, 0, 0, 0, 0, 0, 0, 1, 1, 1, 1, 0, 0, 1, 0, 0, 0, 0, 0, 0, 0, 0, 1, 0, 1, 0, 0, 1, 0, 0, 0, 0, 0, 0, 0, 0, 0, 0, 1, 0, 0, 0, 0, 0, 0, 1, 0, 0, 0, 0, 0, 1, 0, 0, 0, 0, 0, 0, 0, 0, 1, 0, 0, 0, 1, 0, 0, 0, 0, 1, 1, 1, 0, 0, 0, 0, 0, 0, 0, 0, 0, 1, 1, 0, 0, 1, 0, 1, 0, 0, 1, 0, 0, 0, 1, 0, 0, 1, 1, 0, 0, 0, 0, 0, 0, 2, 2, 0, 0, 0, 0, 0, 0, 0, 0, 0, 0, 0, 0, 0, 1, 0, 0, 0, 1, 1, 1, 1, 0, 0, 0, 1, 0, 0, 1, 0, 0, 0, 0, 0, 0, 0, 1, 0, 1, 0, 0, 0, 1, 0, 0, 0, 1, 0, 1, 4, 0, 0, 0, 1, 0, 0, 1, 0, 0, 1, 0, 2, 0, 0, 1, 0, 0, 0, 0, 0, 0, 2, 0, 0, 1, 0, 0, 0, 0, 0, 0, 3, 0, 0, 0, 0, 0, 1, 0, 0, 0, 0, 0, 0, 0, 0, 0, 0, 0, 0, 0, 1, 0, 0, 0, 1, 0, 0, 0, 0, 1, 1, 0, 0, 0, 0, 0, 0, 0, 0, 0, 0, 0, 0, 0, 0, 0, 0, 1, 0, 1, 0, 0, 0, 0, 1, 0, 0, 0, 1, 0, 1, 0, 0, 0, 0, 0, 1, 1, 0, 1, 0, 0, 0, 0, 1, 0, 0, 0, 0, 0, 0, 0, 0, 0, 0, 0, 0, 0, 0, 0, 0, 1, 1, 1, 0, 0, 0, 0, 0, 0, 0, 0, 0, 0, 0, 0, 0, 0, 0, 0, 0, 0, 0, 0, 0, 0, 0, 1, 0, 1, 0, 0, 0, 0, 0, 1, 2, 0, 1, 0, 0, 0, 1, 0, 0, 0, 0, 0, 0, 1, 4, 1, 0, 0, 0, 0, 0, 0, 0, 0, 0, 0, 0, 0, 0, 1, 0, 0, 0, 1, 0, 0, 0, 0, 0, 0, 0, 0, 0, 1, 0, 1, 0, 0, 0, 0, 0, 0, 1, 0, 0, 0, 0, 0, 0, 0, 0, 0, 1, 0, 1, 1, 1, 1, 0, 1, 0, 1, 1, 0, 0, 0, 1, 1, 0, 0, 0, 0, 0, 1, 0, 0, 0, 0, 0, 0, 1, 0, 0, 0, 1, 0, 0, 1, 0, 0, 0, 0, 0, 0, 0, 0, 0, 1, 0, 0, 0, 0, 0, 1, 1, 0, 1, 0, 0, 1, 0, 0, 1, 0, 0, 1, 1, 0, 0, 0, 1, 0, 0, 0, 0, 0, 1, 0, 0, 0, 0, 1, 0, 1, 0, 0, 1, 2, 1, 0, 0, 0, 1, 0, 1, 0, 0, 0, 0, 1, 0, 0, 1, 0, 0, 0, 0, 0, 2, 0, 0, 0, 0, 1, 0, 0, 0, 0, 0, 1, 0, 0, 0, 0, 0, 0, 1, 0, 0, 1, 1, 0, 1, 1, 0, 0, 0, 0, 0, 1, 1, 0, 0, 0, 0, 0, 0, 1, 1, 0, 0, 1, 1, 0, 0, 0, 0, 0, 1, 0, 1, 1, 4, 0, 0, 0, 0, 1, 0, 1, 0, 1, 1, 0, 3, 1, 0, 0, 0, 1, 1, 0, 0, 0, 0, 0, 1, 1, 0, 0, 0, 0, 0, 0, 1, 0, 0, 0, 0, 0, 2, 0, 0, 1, 0, 0, 1, 0, 0, 0, 0, 0, 0, 0, 0, 0, 0, 0, 0, 1, 0, 1, 2, 0, 0, 0, 0, 0, 0, 0, 0, 0, 0, 0, 0, 0, 0, 0, 0, 1, 0, 1, 1, 0, 1, 0, 0, 0, 1, 0, 0, 0, 0, 0, 0, 0, 0, 0, 0, 0, 0, 0, 0, 1, 0, 0, 0, 0, 0, 1, 1, 0, 1, 0, 0, 0, 0, 1, 0, 0, 0, 0, 0, 0, 0, 0, 0, 0, 1, 0, 1, 1, 0, 0, 1, 0, 0, 0, 0, 0, 0, 0, 0, 0, 0, 1, 0, 0, 0, 0, 0, 1, 1, 0, 0, 0, 0, 1, 0, 1, 0, 0, 1, 0, 0, 0, 0, 0, 0, 1, 0, 0, 0, 0, 0, 0, 0, 0, 1, 0, 0, 0, 0, 0, 0, 1, 1, 0, 0, 0, 0, 1, 0, 0, 0, 0, 0, 0, 0, 1, 1, 0, 3, 0, 1, 0, 0, 0, 0, 0, 1, 0, 0, 0, 0, 0, 0, 0, 0, 0, 0, 0, 0, 1, 0, 0, 1, 0, 0, 0, 0, 0, 0, 0, 0, 0, 1, 0, 0, 0, 0, 0, 1, 1, 0, 0, 0, 0, 0, 0, 0, 1, 0, 1, 0, 0, 0, 0, 0, 0, 0, 0, 0, 1, 1, 0, 0, 1, 0, 0, 0, 0, 1, 0, 0, 0, 0, 0, 0, 0, 0, 0, 0, 0, 0, 2, 0, 1, 1, 1, 0, 0, 1, 0, 0, 0, 0, 0, 0, 0, 0, 0, 0, 1, 0, 0, 0, 0, 0, 0, 1, 0, 0, 1, 1, 0, 1, 0, 0, 0, 0, 0, 1, 0, 0, 0, 0, 0, 0, 0, 0, 0, 0, 1, 0, 1, 0, 1, 0, 0, 1, 0, 0, 0, 1, 0, 0, 0, 0, 0, 1, 1, 0, 0, 0, 0, 0, 0, 0, 0, 1, 0, 0, 0, 0, 3, 0, 0, 0, 0, 0, 0, 0, 0, 0, 0, 0, 0, 1, 0, 0, 0, 1, 1, 1, 1, 1, 0, 1, 1, 1, 0, 0, 0, 0, 0, 0, 0, 0, 0, 0, 0, 1, 0, 1, 0, 0, 0, 0, 0, 0, 0, 0, 0, 0, 0, 0, 0, 0, 0, 0, 0, 0, 0, 0, 0, 0, 0, 0, 0, 0, 2, 0, 0, 0, 1, 1, 1, 0, 0, 0, 0, 0, 0, 0, 0, 0, 0, 0, 0, 0, 0, 0, 0, 0, 0, 0, 0, 1, 0, 0, 0, 0, 4, 1, 0, 0, 0, 0, 0, 0, 0, 1, 0, 0, 0, 0, 3, 0, 0, 0, 0, 0, 0, 0, 0, 0, 0, 1, 0, 0, 0, 0, 0, 0, 1, 0, 0, 1, 0, 0, 0, 0, 0, 0, 1, 0, 1, 1, 0, 0, 0, 0, 1, 0, 1, 2, 1, 0, 1, 0, 0, 0, 0, 0, 0, 0, 0, 0, 0, 0, 0, 0, 0, 1, 3, 0, 0, 0, 0, 0, 0, 0, 0, 0, 0, 0, 0, 0, 0, 0, 1, 0, 0, 0, 0, 0, 0, 0, 0, 0, 0, 0, 2, 0, 1, 0, 0, 0, 0, 0, 0, 0, 0, 1, 0, 0, 0, 0, 0, 0, 1, 0, 1, 0, 0, 1, 0, 0, 0, 0, 1, 0, 0, 0, 0, 1, 1, 0, 0, 1, 0, 1, 0, 1, 0, 1, 1, 0, 0, 0, 1, 0, 0, 4, 0, 0, 1, 1, 0, 0, 0, 0, 0, 0, 0, 0, 1, 0, 1, 1, 0, 0, 0, 1, 0, 1, 0, 0, 0, 0, 0, 1, 0, 0, 0, 0, 0, 1, 0, 0, 0, 0, 0, 1, 0, 0, 0, 1, 0, 0, 0, 0, 0, 0, 0, 1, 0, 0, 0, 0, 0, 0, 0, 1, 0, 0, 1, 0, 0, 0, 2, 0, 0, 0, 0, 0, 0, 0, 0, 0, 0, 0, 0, 0, 0, 0, 1, 0, 0, 0, 1, 0, 0, 0, 1, 0, 1, 0, 0, 0, 0, 0, 1, 0, 1, 0, 1, 0, 0, 1, 0, 0, 0, 0, 0, 1, 0, 0, 0, 0, 0, 0, 0, 0, 0, 0, 0, 0, 0, 0, 0, 0, 0, 0, 0, 0, 0, 0, 0, 0, 0, 0, 0, 0, 0, 0, 0, 0, 1, 0, 0, 0, 0, 1, 0, 0, 1, 0, 0, 0, 0, 0, 1, 0, 0, 0, 0, 0, 1, 0, 0, 0, 0, 0, 0, 0, 1, 1, 0, 1, 1, 0, 0, 0, 0, 0, 0, 1, 0, 0, 0, 0, 0, 0, 1, 1, 1, 0, 1, 0, 1, 0, 0, 0, 0, 0, 0, 1, 0, 0, 0, 0, 0, 0, 0, 1, 0, 0, 0, 0, 1, 0, 0, 0, 0, 0, 0, 0, 0, 0, 1, 0, 0, 1, 0, 0, 0, 0, 0, 0, 1, 0, 1, 0, 0, 0, 0, 0, 0, 0, 1, 0, 0, 0, 0, 0, 2, 0, 0, 0, 1, 0, 0, 1, 0, 0, 0, 0, 0, 1, 1, 1, 0, 0, 0, 0, 1, 1, 1, 1, 0, 0, 0, 1, 0, 0, 1, 0, 2, 1, 1, 0, 1, 0, 1, 0, 0, 0, 1, 1, 1, 0, 0, 0, 0, 0, 0, 0, 0, 0, 0, 0, 0, 0, 0, 0, 0, 0, 1, 0, 0, 1, 0, 0, 1, 0, 1, 0, 0, 0, 0, 0, 0, 0, 0, 0, 0, 0, 0, 0, 0, 0, 0, 0, 0, 1, 2, 0, 0, 0, 0, 0, 0, 0, 1, 0, 0, 1, 0, 1, 0, 0, 0, 1, 0, 0, 0, 1, 0, 0, 0, 0, 0, 0, 0, 0, 1, 0, 0, 0, 0, 0, 1, 1, 1, 0, 0, 0, 2, 0, 0, 0, 0, 0, 0, 0, 0, 0, 2, 0, 1, 0, 1, 0, 0, 1, 0, 0, 0, 0, 0, 3, 1, 0, 0, 1, 0, 0, 0, 1, 1, 0, 1, 0, 1, 0, 0, 0, 0, 1, 0, 1, 0, 0, 0, 0, 0, 0, 1, 1, 1, 0, 0, 0, 0, 0, 1, 0, 1, 0, 0, 0, 1, 0, 0, 0, 0, 0, 0, 0, 1, 0, 0, 0, 0, 0, 0, 0, 0, 0, 0, 0, 0, 0, 0, 0, 0, 0, 0, 0, 0, 0, 0, 1, 2, 0, 0, 0, 0, 0, 0, 0, 0, 0, 1, 0, 0, 0, 0, 0, 0, 0, 0, 0, 0, 0, 0, 0, 0, 1, 0, 0, 0, 0, 0, 0, 0, 1, 0, 0, 0, 0, 0, 0, 1, 0, 0, 1, 0, 1, 0, 0, 0, 0, 1, 1, 0, 1, 0, 0, 1, 0, 0, 1, 1, 1, 0, 0, 0, 1, 0, 0, 0, 0, 1, 0, 0, 1, 1, 1, 0, 0, 0, 0, 0, 0, 0, 0, 0, 0, 0, 0, 0, 0, 0, 0, 0, 0, 0, 0, 0, 0, 0, 0, 0, 0, 0, 0, 0, 3, 0, 0, 0, 0, 0, 0, 1, 0, 0, 1, 0, 0, 0, 1, 0, 0, 3, 0, 0, 0, 0, 0, 0, 1, 0, 0, 0, 1, 0, 0, 0, 0, 0, 0, 0, 0, 0, 1, 0, 3, 0, 0, 0, 0, 0, 0, 0, 0, 0, 0, 0, 0, 0, 0, 0, 0, 0, 0, 0, 0, 0, 0, 0, 0, 0, 0, 0, 1, 0, 3, 0, 0, 0, 0, 0, 0, 0, 0, 0, 0, 0, 0, 0, 0, 1, 0, 0, 0, 0, 0, 0, 0, 0, 0, 0, 0, 1, 0, 0, 0, 1, 1, 0, 0, 0, 0, 0, 0, 1, 0, 0, 0, 0, 0, 0, 0, 0, 0, 0, 0, 0, 0, 1, 0, 4, 0, 1, 0, 0, 0, 0, 0, 2, 0, 0, 1, 0, 1, 1, 0, 0, 0, 0, 0, 1, 0, 0, 1, 1, 0, 0, 0, 1, 1, 0, 0, 0, 0, 0, 1, 0, 0, 0, 0, 0, 0, 0, 0, 0, 3, 0, 0, 1, 0, 0, 0, 0, 0, 0, 0, 3, 0, 1, 0, 0, 1, 0, 0, 0, 1, 0, 0, 0, 0, 0, 0, 0, 0, 0, 0, 0, 0, 1, 0, 1, 0, 0, 1, 0, 0, 0, 0, 0, 0, 0, 0, 2, 1, 0, 0, 0, 0, 0, 0, 1, 0, 0, 0, 0, 0, 1, 0, 1, 0, 0, 0, 0, 0, 0, 0, 1, 0, 1, 0, 1, 0, 3, 1, 1, 1, 0, 0, 0, 0, 1, 0, 0, 0, 0, 0, 0, 0, 0, 0, 0, 0, 0, 0, 0, 0, 0, 0, 0, 0, 0, 0, 1, 0, 0, 1, 0, 0, 1, 0, 0, 1, 0, 0, 0, 0, 0, 0, 0, 3, 0, 0, 1, 0, 4, 1, 0, 0, 0, 1, 0, 0, 0, 0, 0, 0, 1, 1, 0, 0, 0, 0, 1, 0, 0, 0, 1, 0, 0, 0, 0, 0, 0, 1, 0, 0, 0, 0, 0, 0, 0, 0, 0, 0, 0, 1, 1, 0, 0, 1, 1, 0, 2, 0, 0, 0, 0, 1, 0, 0, 0, 0, 0, 1, 0, 0, 0, 0, 0, 0, 0, 1, 0, 0, 1, 0, 0, 0, 0, 1, 0, 0, 0, 0, 0, 0, 2, 0, 0, 0, 0, 1, 3, 1, 0, 0, 0, 0, 0, 1, 0, 1, 0, 0, 0, 0, 0, 0, 0, 0, 0, 0, 0, 0, 0, 0, 0, 0, 1, 0, 0, 0, 0, 1, 0, 0, 1, 0, 0, 0, 0, 0, 0, 0, 1, 0, 0, 0, 0, 0, 0, 0, 0, 0, 0, 0, 0, 0, 0, 0, 0, 0, 0, 0, 0, 0, 0, 0, 0, 1, 0, 0, 0, 0, 0, 0, 0, 1, 0, 0, 0, 0, 2, 1, 2, 0, 0, 0, 0, 0, 4, 0, 1, 0, 0, 0, 0, 1, 0, 1, 0, 0, 0, 0, 0, 0, 0, 0, 0, 0, 0, 0, 1, 1, 0, 0, 0, 0, 1, 0, 0, 0, 0, 1, 0, 0, 0, 0, 0, 0, 0, 0, 1, 0, 0, 0, 0, 0, 0, 0, 0, 0, 1, 0, 0, 0, 1, 1, 1, 0, 1, 0, 0, 0, 0, 0, 0, 0, 0, 0, 0, 0, 0, 0, 0, 0, 0, 0, 0, 0, 0, 0, 1, 0, 1, 0, 0, 0, 0, 0, 1, 0, 0, 0, 1, 0, 0, 0, 0, 0, 0, 0, 0, 0, 1, 0, 0, 0, 0, 1, 0, 0, 1, 1, 0, 0, 0, 1, 0, 1, 0, 0, 0, 1, 0, 0, 0, 0, 1, 1, 0, 0, 0, 0, 0, 0, 0, 1, 0, 0, 1, 0, 0, 0, 0, 1, 1, 0, 0, 1, 0, 0, 0, 0, 0, 0, 2, 0, 0, 0, 0, 0, 0, 0, 0, 0, 1, 0, 0, 0, 0, 1, 0, 1, 0, 0, 0, 0, 0, 0, 0, 0, 1, 1, 0, 0, 0, 0, 0, 0, 1, 1, 0, 1, 0, 0, 0, 1, 1, 0, 1, 0, 0, 0, 1, 1, 1, 0, 0, 0, 1, 1, 0, 0, 0, 0, 0, 0, 1, 0, 0, 1, 0, 0, 0, 1, 0, 0, 1, 1, 0, 0, 0, 0, 0, 0, 0, 0, 0, 1, 0, 0, 0, 0, 0, 0, 0, 0, 0, 0, 0, 0, 0, 0, 0, 0, 1, 0, 0, 1, 0, 0, 0, 0, 0, 1, 0, 0, 0, 1, 0, 0, 1, 1, 1, 0, 1, 0, 0, 0, 2, 0, 0, 0, 0, 0, 0, 0, 0, 0, 0, 0, 0, 0, 0, 0, 0, 0, 0, 0, 1, 0, 0, 0, 0, 0, 0, 0, 0, 0, 0, 0, 0, 0, 0, 1, 0, 0, 1, 1, 1, 0, 1, 0, 0, 0, 1, 0, 1, 0, 0, 0, 0, 1, 0, 0, 0, 0, 0, 0, 0, 1, 0, 0, 0, 0, 0, 0, 0, 1, 0, 1, 2, 0, 0, 0, 0, 0, 0, 0, 0, 0, 0, 0, 0, 1, 1, 0, 0, 0, 0, 0, 1, 0, 0, 0, 0, 0, 0, 0, 0, 0, 0, 0, 0, 0, 0, 1, 1, 1, 0, 0, 0, 0, 1, 1, 0, 0, 0, 0, 0, 1, 0, 0, 0, 0, 0, 0, 0, 0, 1, 1, 0, 0, 0, 0, 0, 0, 1, 0, 0, 0, 0, 1, 0, 0, 0, 0, 0, 1, 0, 0, 0, 0, 1, 0, 0, 0, 0, 0, 1, 0, 1, 0, 1, 0, 1, 0, 0, 0, 3, 0, 0, 0, 0, 0, 0, 0, 0, 0, 0, 0, 0, 0, 0, 0, 1, 0, 1, 0, 0, 1, 0, 0, 0, 0, 0, 1, 0, 1, 0, 1, 0, 0, 0, 0, 1, 0, 0, 0, 0, 0, 1, 1, 1, 1, 0, 1, 0, 1, 1, 0, 0, 0, 0, 0, 0, 0, 0, 1, 1, 0, 0, 0, 0, 0, 1, 0, 0, 1, 0, 1, 0, 0, 0, 1, 0, 0, 1, 0, 0, 0, 0, 0, 0, 0, 0, 0, 2, 0, 0, 0, 1, 1, 0, 1, 0, 0, 0, 0, 0, 0, 0, 0, 0, 0, 0, 1, 0, 0, 0, 0, 0, 1, 0, 0, 0, 0, 0, 0, 1, 1, 0, 0, 0, 0, 0, 0, 0, 1, 1, 1, 0, 0, 0, 0, 0, 0, 0, 0, 0, 1, 0, 0, 1, 1, 0, 0, 0, 1, 1, 0, 0, 0, 0, 0, 0, 0, 1, 0, 1, 0, 1, 0, 0, 0, 1, 0, 1, 0, 0, 1, 1, 0, 0, 0, 0, 1, 1, 1, 0, 0, 0, 0, 0, 0, 2, 1, 0, 0, 0, 0, 1, 0, 1, 0, 1, 0, 0, 0, 0, 1, 1, 1, 0, 0, 0, 1, 0, 0, 0, 0, 3, 0, 0, 0, 0, 0, 0, 0, 0, 0, 0, 0, 0, 0, 0, 0, 0, 0, 0, 0, 0, 0, 1, 0, 1, 0, 0, 0, 0, 0, 0, 0, 0, 1, 0, 1, 1, 0, 0, 0, 0, 0, 1, 0, 0, 0, 0, 0, 1, 0, 0, 0, 0, 1, 0, 0, 1, 0, 0, 0, 0, 0, 1, 0, 1, 0, 1, 0, 0, 0, 0, 0, 1, 1, 0, 0, 0, 0, 0, 0, 1, 0, 1, 4, 0, 1, 0, 1, 0, 0, 0, 0, 0, 0, 0, 2, 0, 0, 1, 0, 0, 0, 0, 0, 0, 0, 0, 0, 0, 0, 0, 0, 1, 0, 0, 0, 0, 0, 1, 0, 0, 0, 1, 1, 0, 1, 0, 0, 1, 1, 0, 0, 0, 0, 0, 0, 0, 0, 0, 0, 0, 1, 1, 0, 1, 0, 1, 0, 0, 0, 0, 0, 0, 0, 1, 0, 1, 1, 0, 0, 0, 1, 0, 0, 0, 1, 0, 0, 0, 0, 0, 0, 1, 1, 0, 0, 0, 0, 1, 0, 0, 0, 0, 0, 0, 0, 1, 0, 0, 1, 0, 0, 0, 0, 0, 1, 0, 0, 0, 0, 0, 0, 0, 1, 1, 0, 0, 1, 0, 1, 0, 0, 0, 1, 0, 0, 0, 0, 0, 1, 0, 0, 0, 0, 0, 0, 0, 0, 0, 1, 0, 0, 0, 0, 0, 0, 0, 0, 0, 0, 0, 0, 0, 0, 0, 0, 0, 0, 0, 1, 0, 0, 1, 0, 0, 0, 0, 0, 0, 0, 0, 0, 0, 0, 0, 0, 0, 0, 1, 0, 0, 1, 0, 0, 0, 0, 0, 0, 0, 0, 1, 0, 0, 0, 0, 0, 0, 1, 0, 0, 0, 0, 1, 0, 0, 0, 0, 0, 1, 0, 1, 1, 0, 1, 0, 0, 1, 0, 0, 0, 0, 0, 1, 0, 1, 0, 0, 0, 1, 0, 0, 0, 1, 0, 1, 0, 0, 1, 0, 0, 1, 1, 0, 0, 0, 0, 0, 0, 0, 1, 0, 0, 0, 0, 0, 1, 0, 1, 0, 1, 0, 0, 0, 0, 1, 2, 0, 0, 0]\n"
     ]
    }
   ],
   "source": [
    "print(resultvalidationSVM)"
   ]
  },
  {
   "cell_type": "code",
   "execution_count": 30,
   "metadata": {
    "collapsed": false
   },
   "outputs": [
    {
     "name": "stdout",
     "output_type": "stream",
     "text": [
      "74.08\n"
     ]
    }
   ],
   "source": [
    "test_correct = [(a == b) for a,b in zip(resultvalidationSVM, yvalidationSVM8)]\n",
    "#print(yvalidationSVM8)\n",
    "print(sum(test_correct) * 1.0 / len(test_correct) * 100)"
   ]
  },
  {
   "cell_type": "code",
   "execution_count": null,
   "metadata": {
    "collapsed": false
   },
   "outputs": [],
   "source": []
  },
  {
   "cell_type": "code",
   "execution_count": 31,
   "metadata": {
    "collapsed": false
   },
   "outputs": [],
   "source": [
    "#Testing on test data\n",
    "xtrainingSVMF = []\n",
    "ytrainingSVMF = []\n",
    "\n",
    "for d in readGz(\"train.json.gz\"):\n",
    "        svmWordCount = defaultdict(int)\n",
    "        for e in words:\n",
    "            svmWordCount[e] = 0\n",
    "        if(d['categoryID'] == 0):\n",
    "            r = ''.join([c for c in d['reviewText'].lower() if not c in punctuation])\n",
    "            for w in r.split():\n",
    "                if(svmWordCount.has_key(w)):\n",
    "                    svmWordCount[w] = 1\n",
    "            xtrainingSVMF.append(svmWordCount.values())\n",
    "            ytrainingSVMF.append(0)\n",
    "        elif(d['categoryID'] == 1):\n",
    "            r = ''.join([c for c in d['reviewText'].lower() if not c in punctuation])\n",
    "            for w in r.split():\n",
    "                if(svmWordCount.has_key(w)):\n",
    "                    svmWordCount[w] = 1\n",
    "            xtrainingSVMF.append(svmWordCount.values())\n",
    "            ytrainingSVMF.append(1)\n",
    "        elif(d['categoryID'] == 2):\n",
    "            r = ''.join([c for c in d['reviewText'].lower() if not c in punctuation])\n",
    "            for w in r.split():\n",
    "                if(svmWordCount.has_key(w)):\n",
    "                    svmWordCount[w] = 1\n",
    "            xtrainingSVMF.append(svmWordCount.values())\n",
    "            ytrainingSVMF.append(2)\n",
    "        elif(d['categoryID'] == 3):\n",
    "            r = ''.join([c for c in d['reviewText'].lower() if not c in punctuation])\n",
    "            for w in r.split():\n",
    "                if(svmWordCount.has_key(w)):\n",
    "                    svmWordCount[w] = 1\n",
    "            xtrainingSVMF.append(svmWordCount.values())\n",
    "            ytrainingSVMF.append(3)\n",
    "        elif(d['categoryID'] == 4):\n",
    "            r = ''.join([c for c in d['reviewText'].lower() if not c in punctuation])\n",
    "            for w in r.split():\n",
    "                if(svmWordCount.has_key(w)):\n",
    "                    svmWordCount[w] = 1\n",
    "            xtrainingSVMF.append(svmWordCount.values())\n",
    "            ytrainingSVMF.append(4)\n",
    "    "
   ]
  },
  {
   "cell_type": "code",
   "execution_count": 32,
   "metadata": {
    "collapsed": false
   },
   "outputs": [
    {
     "data": {
      "text/plain": [
       "LinearSVC(C=1e-48, class_weight=None, dual=True, fit_intercept=True,\n",
       "     intercept_scaling=1, loss='squared_hinge', max_iter=1000,\n",
       "     multi_class='ovr', penalty='l2', random_state=None, tol=0.0001,\n",
       "     verbose=0)"
      ]
     },
     "execution_count": 32,
     "metadata": {},
     "output_type": "execute_result"
    }
   ],
   "source": [
    "clf = svm.LinearSVC(C= 0.000000000000000000000000000000000000000000000001)\n",
    "clf.fit(xtrainingSVMF, ytrainingSVMF)\n"
   ]
  },
  {
   "cell_type": "code",
   "execution_count": 33,
   "metadata": {
    "collapsed": false
   },
   "outputs": [],
   "source": [
    "xtestSVMF = []\n",
    "\n",
    "for d in readGz(\"test_Category.json.gz\"):\n",
    "        svmWordCount = defaultdict(int)\n",
    "        for e in words:\n",
    "            svmWordCount[e] = 0\n",
    "        r = ''.join([c for c in d['reviewText'].lower() if not c in punctuation])\n",
    "        for w in r.split():\n",
    "             if(svmWordCount.has_key(w)):\n",
    "                svmWordCount[w] = 1\n",
    "        xtestSVMF.append(svmWordCount.values())\n",
    "        \n",
    "    "
   ]
  },
  {
   "cell_type": "code",
   "execution_count": 34,
   "metadata": {
    "collapsed": true
   },
   "outputs": [],
   "source": [
    "test_decision = clf.decision_function(xvalidationSVM8)"
   ]
  },
  {
   "cell_type": "code",
   "execution_count": 35,
   "metadata": {
    "collapsed": false
   },
   "outputs": [],
   "source": [
    "resulttestSVM = []\n",
    "for d in test_decision:\n",
    "    d = list(d)\n",
    "    m = d.index(max(d))\n",
    "    if(m == 0):\n",
    "        resulttestSVM.append(0)\n",
    "    elif(m == 1):\n",
    "         resulttestSVM.append(1)\n",
    "    elif(m == 2):\n",
    "         resulttestSVM.append(2)\n",
    "    elif(m == 3):\n",
    "         resulttestSVM.append(3)\n",
    "    elif(m == 4):\n",
    "         resulttestSVM.append(4)\n",
    "            "
   ]
  },
  {
   "cell_type": "code",
   "execution_count": 36,
   "metadata": {
    "collapsed": false
   },
   "outputs": [
    {
     "name": "stdout",
     "output_type": "stream",
     "text": [
      "[0, 0, 0, 0, 0, 0, 0, 0, 0, 0, 0, 0, 0, 0, 0, 0, 0, 0, 0, 0, 0, 0, 0, 0, 0, 0, 0, 0, 0, 0, 0, 0, 0, 0, 0, 0, 0, 0, 0, 0, 0, 0, 0, 0, 0, 0, 0, 0, 0, 0, 0, 0, 0, 0, 0, 0, 0, 0, 0, 0, 0, 0, 0, 0, 0, 0, 0, 0, 0, 0, 0, 0, 0, 0, 0, 0, 0, 0, 0, 0, 0, 0, 0, 0, 0, 0, 0, 0, 0, 0, 0, 0, 0, 0, 0, 0, 0, 0, 0, 0, 0, 0, 0, 0, 0, 0, 0, 0, 0, 0, 0, 0, 0, 0, 0, 0, 0, 0, 0, 0, 0, 0, 0, 0, 0, 0, 0, 0, 0, 0, 0, 0, 0, 0, 0, 0, 0, 0, 0, 0, 0, 0, 0, 0, 0, 0, 0, 0, 0, 0, 0, 0, 0, 0, 0, 0, 0, 0, 0, 0, 0, 0, 0, 0, 0, 0, 0, 0, 0, 0, 0, 0, 0, 0, 0, 0, 0, 0, 0, 0, 0, 0, 0, 0, 0, 0, 0, 0, 0, 0, 0, 0, 0, 0, 0, 0, 0, 0, 0, 0, 0, 0, 0, 0, 0, 0, 0, 0, 0, 0, 0, 0, 0, 0, 0, 0, 0, 0, 0, 0, 0, 0, 0, 0, 0, 0, 0, 0, 0, 0, 0, 0, 0, 0, 0, 0, 0, 0, 0, 0, 0, 0, 0, 0, 0, 0, 0, 0, 0, 0, 0, 0, 0, 0, 0, 0, 0, 0, 0, 0, 0, 0, 0, 0, 0, 0, 0, 0, 0, 0, 0, 0, 0, 0, 0, 0, 0, 0, 0, 0, 0, 0, 0, 0, 0, 0, 0, 0, 0, 0, 0, 0, 0, 0, 0, 0, 0, 0, 0, 0, 0, 0, 0, 0, 0, 0, 0, 0, 0, 0, 0, 0, 0, 0, 0, 0, 0, 0, 0, 0, 0, 0, 0, 0, 0, 0, 0, 0, 0, 0, 0, 0, 0, 0, 0, 0, 0, 0, 0, 0, 0, 0, 0, 0, 0, 0, 0, 0, 0, 0, 0, 0, 0, 0, 0, 0, 0, 0, 0, 0, 0, 0, 0, 0, 0, 0, 0, 0, 0, 0, 0, 0, 0, 0, 0, 0, 0, 0, 0, 0, 0, 0, 0, 0, 0, 0, 0, 0, 0, 0, 0, 0, 0, 0, 0, 0, 0, 0, 0, 0, 0, 0, 0, 0, 0, 0, 0, 0, 0, 0, 0, 0, 0, 0, 0, 0, 0, 0, 0, 0, 0, 0, 0, 0, 0, 0, 0, 0, 0, 0, 0, 0, 0, 0, 0, 0, 0, 0, 0, 0, 0, 0, 0, 0, 0, 0, 0, 0, 0, 0, 0, 0, 0, 0, 0, 0, 0, 0, 0, 0, 0, 0, 0, 0, 0, 0, 0, 0, 0, 0, 0, 0, 0, 0, 0, 0, 0, 0, 0, 0, 0, 0, 0, 0, 0, 0, 0, 0, 0, 0, 0, 0, 0, 0, 0, 0, 0, 0, 0, 0, 0, 0, 0, 0, 0, 0, 0, 0, 0, 0, 0, 0, 0, 0, 0, 0, 0, 0, 0, 0, 0, 0, 0, 0, 0, 0, 0, 0, 0, 0, 0, 0, 0, 0, 0, 0, 0, 0, 0, 0, 0, 0, 0, 0, 0, 0, 0, 0, 0, 0, 0, 0, 0, 0, 0, 0, 0, 0, 0, 0, 0, 0, 0, 0, 0, 0, 0, 0, 0, 0, 0, 0, 0, 0, 0, 0, 0, 0, 0, 0, 0, 0, 0, 0, 0, 0, 0, 0, 0, 0, 0, 0, 0, 0, 0, 0, 0, 0, 0, 0, 0, 0, 0, 0, 0, 0, 0, 0, 0, 0, 0, 0, 0, 0, 0, 0, 0, 0, 0, 0, 0, 0, 0, 0, 0, 0, 0, 0, 0, 0, 0, 0, 0, 0, 0, 0, 0, 0, 0, 0, 0, 0, 0, 0, 0, 0, 0, 0, 0, 0, 0, 0, 0, 0, 0, 0, 0, 0, 0, 0, 0, 0, 0, 0, 0, 0, 0, 0, 0, 0, 0, 0, 0, 0, 0, 0, 0, 0, 0, 0, 0, 0, 0, 0, 0, 0, 0, 0, 0, 0, 0, 0, 0, 0, 0, 0, 0, 0, 0, 0, 0, 0, 0, 0, 0, 0, 0, 0, 0, 0, 0, 0, 0, 0, 0, 0, 0, 0, 0, 0, 0, 0, 0, 0, 0, 0, 0, 0, 0, 0, 0, 0, 0, 0, 0, 0, 0, 0, 0, 0, 0, 0, 0, 0, 0, 0, 0, 0, 0, 0, 0, 0, 0, 0, 0, 0, 0, 0, 0, 0, 0, 0, 0, 0, 0, 0, 0, 0, 0, 0, 0, 0, 0, 0, 0, 0, 0, 0, 0, 0, 0, 0, 0, 0, 0, 0, 0, 0, 0, 0, 0, 0, 0, 0, 0, 0, 0, 0, 0, 0, 0, 0, 0, 0, 0, 0, 0, 0, 0, 0, 0, 0, 0, 0, 0, 0, 0, 0, 0, 0, 0, 0, 0, 0, 0, 0, 0, 0, 0, 0, 0, 0, 0, 0, 0, 0, 0, 0, 0, 0, 0, 0, 0, 0, 0, 0, 0, 0, 0, 0, 0, 0, 0, 0, 0, 0, 0, 0, 0, 0, 0, 0, 0, 0, 0, 0, 0, 0, 0, 0, 0, 0, 0, 0, 0, 0, 0, 0, 0, 0, 0, 0, 0, 0, 0, 0, 0, 0, 0, 0, 0, 0, 0, 0, 0, 0, 0, 0, 0, 0, 0, 0, 0, 0, 0, 0, 0, 0, 0, 0, 0, 0, 0, 0, 0, 0, 0, 0, 0, 0, 0, 0, 0, 0, 0, 0, 0, 0, 0, 0, 0, 0, 0, 0, 0, 0, 0, 0, 0, 0, 0, 0, 0, 0, 0, 0, 0, 0, 0, 0, 0, 0, 0, 0, 0, 0, 0, 0, 0, 0, 0, 0, 0, 0, 0, 0, 0, 0, 0, 0, 0, 0, 0, 0, 0, 0, 0, 0, 0, 0, 0, 0, 0, 0, 0, 0, 0, 0, 0, 0, 0, 0, 0, 0, 0, 0, 0, 0, 0, 0, 0, 0, 0, 0, 0, 0, 0, 0, 0, 0, 0, 0, 0, 0, 0, 0, 0, 0, 0, 0, 0, 0, 0, 0, 0, 0, 0, 0, 0, 0, 0, 0, 0, 0, 0, 0, 0, 0, 0, 0, 0, 0, 0, 0, 0, 0, 0, 0, 0, 0, 0, 0, 0, 0, 0, 0, 0, 0, 0, 0, 0, 0, 0, 0, 0, 0, 0, 0, 0, 0, 0, 0, 0, 0, 0, 0, 0, 0, 0, 0, 0, 0, 0, 0, 0, 0, 0, 0, 0, 0, 0, 0, 0, 0, 0, 0, 0, 0, 0, 0, 0, 0, 0, 0, 0, 0, 0, 0, 0, 0, 0, 0, 0, 0, 0, 0, 0, 0, 0, 0, 0, 0, 0, 0, 0, 0, 0, 0, 0, 0, 0, 0, 0, 0, 0, 0, 0, 0, 0, 0, 0, 0, 0, 0, 0, 0, 0, 0, 0, 0, 0, 0, 0, 0, 0, 0, 0, 0, 0, 0, 0, 0, 0, 0, 0, 0, 0, 0, 0, 0, 0, 0, 0, 0, 0, 0, 0, 0, 0, 0, 0, 0, 0, 0, 0, 0, 0, 0, 0, 0, 0, 0, 0, 0, 0, 0, 0, 0, 0, 0, 0, 0, 0, 0, 0, 0, 0, 0, 0, 0, 0, 0, 0, 0, 0, 0, 0, 0, 0, 0, 0, 0, 0, 0, 0, 0, 0, 0, 0, 0, 0, 0, 0, 0, 0, 0, 0, 0, 0, 0, 0, 0, 0, 0, 0, 0, 0, 0, 0, 0, 0, 0, 0, 0, 0, 0, 0, 0, 0, 0, 0, 0, 0, 0, 0, 0, 0, 0, 0, 0, 0, 0, 0, 0, 0, 0, 0, 0, 0, 0, 0, 0, 0, 0, 0, 0, 0, 0, 0, 0, 0, 0, 0, 0, 0, 0, 0, 0, 0, 0, 0, 0, 0, 0, 0, 0, 0, 0, 0, 0, 0, 0, 0, 0, 0, 0, 0, 0, 0, 0, 0, 0, 0, 0, 0, 0, 0, 0, 0, 0, 0, 0, 0, 0, 0, 0, 0, 0, 0, 0, 0, 0, 0, 0, 0, 0, 0, 0, 0, 0, 0, 0, 0, 0, 0, 0, 0, 0, 0, 0, 0, 0, 0, 0, 0, 0, 0, 0, 0, 0, 0, 0, 0, 0, 0, 0, 0, 0, 0, 0, 0, 0, 0, 0, 0, 0, 0, 0, 0, 0, 0, 0, 0, 0, 0, 0, 0, 0, 0, 0, 0, 0, 0, 0, 0, 0, 0, 0, 0, 0, 0, 0, 0, 0, 0, 0, 0, 0, 0, 0, 0, 0, 0, 0, 0, 0, 0, 0, 0, 0, 0, 0, 0, 0, 0, 0, 0, 0, 0, 0, 0, 0, 0, 0, 0, 0, 0, 0, 0, 0, 0, 0, 0, 0, 0, 0, 0, 0, 0, 0, 0, 0, 0, 0, 0, 0, 0, 0, 0, 0, 0, 0, 0, 0, 0, 0, 0, 0, 0, 0, 0, 0, 0, 0, 0, 0, 0, 0, 0, 0, 0, 0, 0, 0, 0, 0, 0, 0, 0, 0, 0, 0, 0, 0, 0, 0, 0, 0, 0, 0, 0, 0, 0, 0, 0, 0, 0, 0, 0, 0, 0, 0, 0, 0, 0, 0, 0, 0, 0, 0, 0, 0, 0, 0, 0, 0, 0, 0, 0, 0, 0, 0, 0, 0, 0, 0, 0, 0, 0, 0, 0, 0, 0, 0, 0, 0, 0, 0, 0, 0, 0, 0, 0, 0, 0, 0, 0, 0, 0, 0, 0, 0, 0, 0, 0, 0, 0, 0, 0, 0, 0, 0, 0, 0, 0, 0, 0, 0, 0, 0, 0, 0, 0, 0, 0, 0, 0, 0, 0, 0, 0, 0, 0, 0, 0, 0, 0, 0, 0, 0, 0, 0, 0, 0, 0, 0, 0, 0, 0, 0, 0, 0, 0, 0, 0, 0, 0, 0, 0, 0, 0, 0, 0, 0, 0, 0, 0, 0, 0, 0, 0, 0, 0, 0, 0, 0, 0, 0, 0, 0, 0, 0, 0, 0, 0, 0, 0, 0, 0, 0, 0, 0, 0, 0, 0, 0, 0, 0, 0, 0, 0, 0, 0, 0, 0, 0, 0, 0, 0, 0, 0, 0, 0, 0, 0, 0, 0, 0, 0, 0, 0, 0, 0, 0, 0, 0, 0, 0, 0, 0, 0, 0, 0, 0, 0, 0, 0, 0, 0, 0, 0, 0, 0, 0, 0, 0, 0, 0, 0, 0, 0, 0, 0, 0, 0, 0, 0, 0, 0, 0, 0, 0, 0, 0, 0, 0, 0, 0, 0, 0, 0, 0, 0, 0, 0, 0, 0, 0, 0, 0, 0, 0, 0, 0, 0, 0, 0, 0, 0, 0, 0, 0, 0, 0, 0, 0, 0, 0, 0, 0, 0, 0, 0, 0, 0, 0, 0, 0, 0, 0, 0, 0, 0, 0, 0, 0, 0, 0, 0, 0, 0, 0, 0, 0, 0, 0, 0, 0, 0, 0, 0, 0, 0, 0, 0, 0, 0, 0, 0, 0, 0, 0, 0, 0, 0, 0, 0, 0, 0, 0, 0, 0, 0, 0, 0, 0, 0, 0, 0, 0, 0, 0, 0, 0, 0, 0, 0, 0, 0, 0, 0, 0, 0, 0, 0, 0, 0, 0, 0, 0, 0, 0, 0, 0, 0, 0, 0, 0, 0, 0, 0, 0, 0, 0, 0, 0, 0, 0, 0, 0, 0, 0, 0, 0, 0, 0, 0, 0, 0, 0, 0, 0, 0, 0, 0, 0, 0, 0, 0, 0, 0, 0, 0, 0, 0, 0, 0, 0, 0, 0, 0, 0, 0, 0, 0, 0, 0, 0, 0, 0, 0, 0, 0, 0, 0, 0, 0, 0, 0, 0, 0, 0, 0, 0, 0, 0, 0, 0, 0, 0, 0, 0, 0, 0, 0, 0, 0, 0, 0, 0, 0, 0, 0, 0, 0, 0, 0, 0, 0, 0, 0, 0, 0, 0, 0, 0, 0, 0, 0, 0, 0, 0, 0, 0, 0, 0, 0, 0, 0, 0, 0, 0, 0, 0, 0, 0, 0, 0, 0, 0, 0, 0, 0, 0, 0, 0, 0, 0, 0, 0, 0, 0, 0, 0, 0, 0, 0, 0, 0, 0, 0, 0, 0, 0, 0, 0, 0, 0, 0, 0, 0, 0, 0, 0, 0, 0, 0, 0, 0, 0, 0, 0, 0, 0, 0, 0, 0, 0, 0, 0, 0, 0, 0, 0, 0, 0, 0, 0, 0, 0, 0, 0, 0, 0, 0, 0, 0, 0, 0, 0, 0, 0, 0, 0, 0, 0, 0, 0, 0, 0, 0, 0, 0, 0, 0, 0, 0, 0, 0, 0, 0, 0, 0, 0, 0, 0, 0, 0, 0, 0, 0, 0, 0, 0, 0, 0, 0, 0, 0, 0, 0, 0, 0, 0, 0, 0, 0, 0, 0, 0, 0, 0, 0, 0, 0, 0, 0, 0, 0, 0, 0, 0, 0, 0, 0, 0, 0, 0, 0, 0, 0, 0, 0, 0, 0, 0, 0, 0, 0, 0, 0, 0, 0, 0, 0, 0, 0, 0, 0, 0, 0, 0, 0, 0, 0, 0, 0, 0, 0, 0, 0, 0, 0, 0, 0, 0, 0, 0, 0, 0, 0, 0, 0, 0, 0, 0, 0, 0, 0, 0, 0, 0, 0, 0, 0, 0, 0, 0, 0, 0, 0, 0, 0, 0, 0, 0, 0, 0, 0, 0, 0, 0, 0, 0, 0, 0, 0, 0, 0, 0, 0, 0, 0, 0, 0, 0, 0, 0, 0, 0, 0, 0, 0, 0, 0, 0, 0, 0, 0, 0, 0, 0, 0, 0, 0, 0, 0, 0, 0, 0, 0, 0, 0, 0, 0, 0, 0, 0, 0, 0, 0, 0, 0, 0, 0, 0, 0, 0, 0, 0, 0, 0, 0, 0, 0, 0, 0, 0, 0, 0, 0, 0, 0, 0, 0, 0, 0, 0, 0, 0, 0, 0, 0, 0, 0, 0, 0, 0, 0, 0, 0, 0, 0, 0, 0, 0, 0, 0, 0, 0, 0, 0, 0, 0, 0, 0, 0, 0, 0, 0, 0, 0, 0, 0, 0, 0, 0, 0, 0, 0, 0, 0, 0, 0, 0, 0, 0, 0, 0, 0, 0, 0, 0, 0, 0, 0, 0, 0, 0, 0, 0, 0, 0, 0, 0, 0, 0, 0, 0, 0, 0, 0, 0, 0, 0, 0, 0, 0, 0, 0, 0, 0, 0, 0, 0, 0, 0, 0, 0, 0, 0, 0, 0, 0, 0, 0, 0, 0, 0, 0, 0, 0, 0, 0, 0, 0, 0, 0, 0, 0, 0, 0, 0, 0, 0, 0, 0, 0, 0, 0, 0, 0, 0, 0, 0, 0, 0, 0, 0, 0, 0, 0, 0, 0, 0, 0, 0, 0, 0, 0, 0, 0, 0, 0, 0, 0, 0, 0, 0, 0, 0, 0, 0, 0, 0, 0, 0, 0, 0, 0, 0, 0, 0, 0, 0, 0, 0, 0, 0, 0, 0, 0, 0, 0, 0, 0, 0, 0, 0, 0, 0, 0, 0, 0, 0, 0, 0, 0, 0, 0, 0, 0, 0, 0, 0, 0, 0, 0, 0, 0, 0, 0, 0, 0, 0, 0, 0, 0, 0, 0, 0, 0, 0, 0, 0, 0, 0, 0, 0, 0, 0, 0, 0, 0, 0, 0, 0, 0, 0, 0, 0, 0, 0, 0, 0, 0, 0, 0, 0, 0, 0, 0, 0, 0, 0, 0, 0, 0, 0, 0, 0, 0, 0, 0, 0, 0, 0, 0, 0, 0, 0, 0, 0, 0, 0, 0, 0, 0, 0, 0, 0, 0, 0, 0, 0, 0, 0, 0, 0, 0, 0, 0, 0, 0, 0, 0, 0, 0, 0, 0, 0, 0, 0, 0, 0, 0, 0, 0, 0, 0, 0, 0, 0, 0, 0, 0, 0, 0, 0, 0, 0, 0, 0, 0, 0, 0, 0, 0, 0, 0, 0, 0, 0, 0, 0, 0, 0, 0, 0, 0, 0, 0, 0, 0, 0, 0, 0, 0, 0, 0, 0, 0, 0, 0, 0, 0, 0, 0, 0, 0, 0, 0, 0, 0, 0, 0, 0, 0, 0, 0, 0, 0, 0, 0, 0, 0, 0, 0, 0, 0, 0, 0, 0, 0, 0, 0, 0, 0, 0, 0, 0, 0, 0, 0, 0, 0, 0, 0, 0, 0, 0, 0, 0, 0, 0, 0, 0, 0, 0, 0, 0, 0, 0, 0, 0, 0, 0, 0, 0, 0, 0, 0, 0, 0, 0, 0, 0, 0, 0, 0, 0, 0, 0, 0, 0, 0, 0, 0, 0, 0, 0, 0, 0, 0, 0, 0, 0, 0, 0, 0, 0, 0, 0, 0, 0, 0, 0, 0, 0, 0, 0, 0, 0, 0, 0, 0, 0, 0, 0, 0, 0, 0, 0, 0, 0, 0, 0, 0, 0, 0, 0, 0, 0, 0, 0, 0, 0, 0, 0, 0, 0, 0, 0, 0, 0, 0, 0, 0, 0, 0, 0, 0, 0, 0, 0, 0, 0, 0, 0, 0, 0, 0, 0, 0, 0, 0, 0, 0, 0, 0, 0, 0, 0, 0, 0, 0, 0, 0, 0, 0, 0, 0, 0, 0, 0, 0, 0, 0, 0, 0, 0, 0, 0, 0, 0, 0, 0, 0, 0, 0, 0, 0, 0, 0, 0, 0, 0, 0, 0, 0, 0, 0, 0, 0, 0, 0, 0, 0, 0, 0, 0, 0, 0, 0, 0, 0, 0, 0, 0, 0, 0, 0, 0, 0, 0, 0, 0, 0, 0, 0, 0, 0, 0, 0, 0, 0, 0, 0, 0, 0, 0, 0, 0, 0, 0, 0, 0, 0, 0, 0, 0, 0, 0, 0, 0, 0, 0, 0, 0, 0, 0, 0, 0, 0, 0, 0, 0, 0, 0, 0, 0, 0, 0, 0, 0, 0, 0, 0, 0, 0, 0, 0, 0, 0, 0, 0, 0, 0, 0, 0, 0, 0, 0, 0, 0, 0, 0, 0, 0, 0, 0, 0, 0, 0, 0, 0, 0, 0, 0, 0, 0, 0, 0, 0, 0, 0, 0, 0, 0, 0, 0, 0, 0, 0, 0, 0, 0, 0, 0, 0, 0, 0, 0, 0, 0, 0, 0, 0, 0, 0, 0, 0, 0, 0, 0, 0, 0, 0, 0, 0, 0, 0, 0, 0, 0, 0, 0, 0, 0, 0, 0, 0, 0, 0, 0, 0, 0, 0, 0, 0, 0, 0, 0, 0, 0, 0, 0, 0, 0, 0, 0, 0, 0, 0, 0, 0, 0, 0, 0, 0, 0, 0, 0, 0, 0, 0, 0, 0, 0, 0, 0, 0, 0, 0, 0, 0, 0, 0, 0, 0, 0, 0, 0, 0, 0, 0, 0, 0, 0, 0, 0, 0, 0, 0, 0, 0, 0, 0, 0, 0, 0, 0, 0, 0, 0, 0, 0, 0, 0, 0, 0, 0, 0, 0, 0, 0, 0, 0, 0, 0, 0, 0, 0, 0, 0, 0, 0, 0, 0, 0, 0, 0, 0, 0, 0, 0, 0, 0, 0, 0, 0, 0, 0, 0, 0, 0, 0, 0, 0, 0, 0, 0, 0, 0, 0, 0, 0, 0, 0, 0, 0, 0, 0, 0, 0, 0, 0, 0, 0, 0, 0, 0, 0, 0, 0, 0, 0, 0, 0, 0, 0, 0, 0, 0, 0, 0, 0, 0, 0, 0, 0, 0, 0, 0, 0, 0, 0, 0, 0, 0, 0, 0, 0, 0, 0, 0, 0, 0, 0, 0, 0, 0, 0, 0, 0, 0, 0, 0, 0, 0, 0, 0, 0, 0, 0, 0, 0, 0, 0, 0, 0, 0, 0, 0, 0, 0, 0, 0, 0, 0, 0, 0, 0, 0, 0, 0, 0, 0, 0, 0, 0, 0, 0, 0, 0, 0, 0, 0, 0, 0, 0, 0, 0, 0, 0, 0, 0, 0, 0, 0, 0, 0, 0, 0, 0, 0, 0, 0, 0, 0, 0, 0, 0, 0, 0, 0, 0, 0, 0, 0, 0, 0, 0, 0, 0, 0, 0, 0, 0, 0, 0, 0, 0, 0, 0, 0, 0, 0, 0, 0, 0, 0, 0, 0, 0, 0, 0, 0, 0, 0, 0, 0, 0, 0, 0, 0, 0, 0, 0, 0, 0, 0, 0, 0, 0, 0, 0, 0, 0, 0, 0, 0, 0, 0, 0, 0, 0, 0, 0, 0, 0, 0, 0, 0, 0, 0, 0, 0, 0, 0, 0, 0, 0, 0, 0, 0, 0, 0, 0, 0, 0, 0, 0, 0, 0, 0, 0, 0, 0, 0, 0, 0, 0, 0, 0, 0, 0, 0, 0, 0, 0, 0, 0, 0, 0, 0, 0, 0, 0, 0, 0, 0, 0, 0, 0, 0, 0, 0, 0, 0, 0, 0, 0, 0, 0, 0, 0, 0, 0, 0, 0, 0, 0, 0, 0, 0, 0, 0, 0, 0, 0, 0, 0, 0, 0, 0, 0, 0, 0, 0, 0, 0, 0, 0, 0, 0, 0, 0, 0, 0, 0, 0, 0, 0, 0, 0, 0, 0, 0, 0, 0, 0, 0, 0, 0, 0, 0, 0, 0, 0, 0, 0, 0, 0, 0, 0, 0, 0, 0, 0, 0, 0, 0, 0, 0, 0, 0, 0, 0, 0, 0, 0, 0, 0, 0, 0, 0, 0, 0, 0, 0, 0, 0, 0, 0, 0, 0, 0, 0, 0, 0, 0, 0, 0, 0, 0, 0, 0, 0, 0, 0, 0, 0, 0, 0, 0, 0, 0, 0, 0, 0, 0, 0, 0, 0, 0, 0, 0, 0, 0, 0, 0, 0, 0, 0, 0, 0, 0, 0, 0, 0, 0, 0, 0, 0, 0, 0, 0, 0, 0, 0, 0, 0, 0, 0, 0, 0, 0, 0, 0, 0, 0, 0, 0, 0, 0, 0, 0, 0, 0, 0, 0, 0, 0, 0, 0, 0, 0, 0, 0, 0, 0, 0, 0, 0, 0, 0, 0, 0, 0, 0, 0, 0, 0, 0, 0, 0, 0, 0, 0, 0, 0, 0, 0, 0, 0, 0, 0, 0, 0, 0, 0, 0, 0, 0, 0, 0, 0, 0, 0, 0, 0, 0, 0, 0, 0, 0, 0, 0, 0, 0, 0, 0, 0, 0, 0, 0, 0, 0, 0, 0, 0, 0, 0, 0, 0, 0, 0, 0, 0, 0, 0, 0, 0, 0, 0, 0, 0, 0, 0, 0, 0, 0, 0, 0, 0, 0, 0, 0, 0, 0, 0, 0, 0, 0, 0, 0, 0, 0, 0, 0, 0, 0, 0, 0, 0, 0, 0, 0, 0, 0, 0, 0, 0, 0, 0, 0, 0, 0, 0, 0, 0, 0, 0, 0, 0, 0, 0, 0, 0, 0, 0, 0, 0, 0, 0, 0, 0, 0, 0, 0, 0, 0, 0, 0, 0, 0, 0, 0, 0, 0, 0, 0, 0, 0, 0, 0, 0, 0, 0, 0, 0, 0, 0, 0, 0, 0, 0, 0, 0, 0, 0, 0, 0, 0, 0, 0, 0, 0, 0, 0, 0, 0, 0, 0, 0, 0, 0, 0, 0, 0, 0, 0, 0, 0, 0, 0, 0, 0, 0, 0, 0, 0, 0, 0, 0, 0, 0, 0, 0, 0, 0, 0, 0, 0, 0, 0, 0, 0, 0, 0, 0, 0, 0, 0, 0, 0, 0, 0, 0, 0, 0, 0, 0, 0, 0, 0, 0, 0, 0, 0, 0, 0, 0, 0, 0, 0, 0, 0, 0, 0, 0, 0, 0, 0, 0, 0, 0, 0, 0, 0, 0, 0, 0, 0, 0, 0, 0, 0, 0, 0, 0, 0, 0, 0, 0, 0, 0, 0, 0, 0, 0, 0, 0, 0, 0, 0, 0, 0, 0, 0, 0, 0, 0, 0, 0, 0, 0, 0, 0, 0, 0, 0, 0, 0, 0, 0, 0, 0, 0, 0, 0, 0, 0, 0, 0, 0, 0, 0, 0, 0, 0, 0, 0, 0, 0, 0, 0, 0, 0, 0, 0, 0, 0, 0, 0, 0, 0, 0, 0, 0, 0, 0, 0, 0, 0, 0, 0, 0, 0, 0, 0, 0, 0, 0, 0, 0, 0, 0, 0, 0, 0, 0, 0, 0, 0, 0, 0, 0, 0, 0, 0, 0, 0, 0, 0, 0, 0, 0, 0, 0, 0, 0, 0, 0, 0, 0, 0, 0, 0, 0, 0, 0, 0, 0, 0, 0, 0, 0, 0, 0, 0, 0, 0, 0, 0, 0, 0, 0, 0, 0, 0, 0, 0, 0, 0, 0, 0, 0, 0, 0, 0, 0, 0, 0, 0, 0, 0, 0, 0, 0, 0, 0, 0, 0, 0, 0, 0, 0, 0, 0, 0, 0, 0, 0, 0, 0, 0, 0, 0, 0, 0, 0, 0, 0, 0, 0, 0, 0, 0, 0, 0, 0, 0, 0, 0, 0, 0, 0, 0, 0, 0, 0, 0, 0, 0, 0, 0, 0, 0, 0, 0, 0, 0, 0, 0, 0, 0, 0, 0, 0, 0, 0, 0, 0, 0, 0, 0, 0, 0, 0, 0, 0, 0, 0, 0, 0, 0, 0, 0, 0, 0, 0, 0, 0, 0, 0, 0, 0, 0, 0, 0, 0, 0, 0, 0, 0, 0, 0, 0, 0, 0, 0, 0, 0, 0, 0, 0, 0, 0, 0, 0, 0, 0, 0, 0, 0, 0, 0, 0, 0, 0, 0, 0, 0, 0, 0, 0, 0, 0, 0, 0, 0, 0, 0, 0, 0, 0, 0, 0, 0, 0, 0, 0, 0, 0, 0, 0, 0, 0, 0, 0, 0, 0, 0, 0, 0, 0, 0, 0, 0, 0, 0, 0, 0, 0, 0, 0, 0, 0, 0, 0, 0, 0, 0, 0, 0, 0, 0, 0, 0, 0, 0, 0, 0, 0, 0, 0, 0, 0, 0, 0, 0, 0, 0, 0, 0, 0, 0, 0, 0, 0, 0, 0, 0, 0, 0, 0, 0, 0, 0, 0, 0, 0, 0, 0, 0, 0, 0, 0, 0, 0, 0, 0, 0, 0, 0, 0, 0, 0, 0, 0, 0, 0, 0, 0, 0, 0, 0, 0, 0, 0, 0, 0, 0, 0, 0, 0, 0, 0, 0, 0, 0, 0, 0, 0, 0, 0, 0, 0, 0, 0, 0, 0, 0, 0, 0, 0, 0, 0, 0, 0, 0, 0, 0, 0, 0, 0, 0, 0, 0, 0, 0, 0, 0, 0, 0, 0, 0, 0, 0, 0, 0, 0, 0, 0, 0, 0, 0, 0, 0, 0, 0, 0, 0, 0, 0, 0, 0, 0, 0, 0, 0, 0, 0, 0, 0, 0, 0, 0, 0, 0, 0, 0, 0, 0, 0, 0, 0, 0, 0, 0, 0, 0, 0, 0, 0, 0, 0, 0, 0, 0, 0, 0, 0, 0, 0, 0, 0, 0, 0, 0, 0, 0, 0, 0, 0, 0, 0, 0, 0, 0, 0, 0, 0, 0, 0, 0, 0, 0, 0, 0, 0, 0, 0, 0, 0, 0, 0, 0, 0, 0, 0, 0, 0, 0, 0, 0, 0, 0, 0, 0, 0, 0, 0, 0, 0, 0, 0, 0, 0, 0, 0, 0, 0, 0, 0, 0, 0, 0, 0, 0, 0, 0, 0, 0, 0, 0, 0, 0, 0, 0, 0, 0, 0, 0, 0, 0, 0, 0, 0, 0, 0, 0, 0, 0, 0, 0, 0, 0, 0, 0, 0, 0, 0, 0, 0, 0, 0, 0, 0, 0, 0, 0, 0, 0, 0, 0, 0, 0, 0, 0, 0, 0, 0, 0, 0, 0, 0, 0, 0, 0, 0, 0, 0, 0, 0, 0, 0, 0, 0, 0, 0, 0, 0, 0, 0, 0, 0, 0, 0, 0, 0, 0, 0, 0, 0, 0, 0, 0, 0, 0, 0, 0, 0, 0, 0, 0, 0, 0, 0, 0, 0, 0, 0, 0, 0, 0, 0, 0, 0, 0, 0, 0, 0, 0, 0, 0, 0, 0, 0, 0, 0, 0, 0, 0, 0, 0, 0, 0, 0, 0, 0, 0, 0, 0, 0, 0, 0, 0, 0, 0, 0, 0, 0, 0, 0, 0, 0, 0, 0, 0, 0, 0, 0, 0, 0, 0, 0, 0, 0, 0, 0, 0, 0, 0, 0, 0, 0, 0, 0, 0, 0, 0, 0, 0, 0, 0, 0, 0, 0, 0, 0, 0, 0, 0, 0, 0, 0, 0, 0, 0, 0, 0, 0, 0, 0, 0, 0, 0, 0, 0, 0, 0, 0, 0, 0, 0, 0, 0, 0, 0, 0, 0, 0, 0, 0, 0, 0, 0, 0, 0, 0, 0, 0, 0, 0, 0, 0, 0, 0, 0, 0, 0, 0, 0, 0, 0, 0, 0, 0, 0, 0, 0, 0, 0, 0, 0, 0, 0, 0, 0, 0, 0, 0, 0, 0, 0, 0, 0, 0, 0, 0, 0, 0, 0, 0, 0, 0, 0, 0, 0, 0, 0, 0, 0, 0, 0, 0, 0, 0, 0, 0, 0, 0, 0, 0, 0, 0, 0, 0, 0, 0, 0, 0, 0, 0, 0, 0, 0, 0, 0, 0, 0, 0, 0, 0, 0, 0, 0, 0, 0, 0, 0, 0, 0, 0, 0, 0, 0, 0, 0, 0, 0, 0, 0, 0, 0, 0, 0, 0, 0, 0, 0, 0, 0, 0, 0, 0, 0, 0, 0, 0, 0, 0, 0, 0, 0, 0, 0, 0, 0, 0, 0, 0, 0, 0, 0, 0, 0, 0, 0, 0, 0, 0, 0, 0, 0, 0, 0, 0, 0, 0, 0, 0, 0, 0, 0, 0, 0, 0, 0, 0, 0, 0, 0, 0, 0, 0, 0, 0, 0, 0, 0, 0, 0, 0, 0, 0, 0, 0, 0, 0, 0, 0, 0, 0, 0, 0, 0, 0, 0, 0, 0, 0, 0, 0, 0, 0, 0, 0, 0, 0, 0, 0, 0, 0, 0, 0, 0, 0, 0, 0, 0, 0, 0, 0, 0, 0, 0, 0, 0, 0, 0, 0, 0, 0, 0, 0, 0, 0, 0, 0, 0, 0, 0, 0, 0, 0, 0, 0, 0, 0, 0, 0, 0, 0, 0, 0, 0, 0, 0, 0, 0, 0, 0, 0, 0, 0, 0, 0, 0, 0, 0, 0, 0, 0, 0, 0, 0, 0, 0, 0, 0, 0, 0, 0, 0, 0, 0, 0, 0, 0, 0, 0, 0, 0, 0, 0, 0, 0, 0, 0, 0, 0, 0, 0, 0, 0, 0, 0, 0, 0, 0, 0, 0, 0, 0, 0, 0, 0, 0, 0, 0, 0, 0, 0, 0, 0, 0, 0, 0, 0, 0, 0, 0, 0, 0, 0, 0, 0, 0, 0, 0, 0, 0, 0, 0, 0, 0, 0, 0, 0, 0, 0, 0, 0, 0, 0, 0, 0, 0, 0, 0, 0, 0, 0, 0, 0, 0, 0, 0, 0, 0, 0, 0, 0, 0, 0, 0, 0, 0, 0, 0, 0, 0, 0, 0, 0, 0, 0, 0, 0, 0, 0, 0, 0, 0, 0, 0, 0, 0, 0, 0, 0, 0, 0, 0, 0, 0, 0, 0, 0, 0, 0, 0, 0, 0, 0, 0, 0, 0, 0, 0, 0, 0, 0, 0, 0, 0, 0, 0, 0, 0, 0, 0, 0, 0, 0, 0, 0, 0, 0, 0, 0, 0, 0, 0, 0, 0, 0, 0, 0, 0, 0, 0, 0, 0, 0, 0, 0, 0, 0, 0, 0, 0, 0, 0, 0, 0, 0, 0, 0, 0, 0, 0, 0, 0, 0, 0, 0, 0, 0, 0, 0, 0, 0, 0, 0, 0, 0, 0, 0, 0, 0, 0, 0, 0, 0, 0, 0, 0, 0, 0, 0, 0, 0, 0, 0, 0, 0, 0, 0, 0, 0, 0, 0, 0, 0, 0, 0, 0, 0, 0, 0, 0, 0, 0, 0, 0, 0, 0, 0, 0, 0, 0, 0, 0, 0, 0, 0, 0, 0, 0, 0, 0, 0, 0, 0, 0, 0, 0, 0, 0, 0, 0, 0, 0, 0, 0, 0, 0, 0, 0, 0, 0, 0, 0, 0, 0, 0, 0, 0, 0, 0, 0, 0, 0, 0, 0, 0, 0, 0, 0, 0, 0, 0, 0, 0, 0, 0, 0, 0, 0, 0, 0, 0, 0, 0, 0, 0, 0, 0, 0, 0, 0, 0, 0, 0, 0, 0, 0, 0, 0, 0, 0, 0, 0, 0, 0, 0, 0, 0, 0, 0, 0, 0, 0, 0, 0, 0, 0, 0, 0, 0, 0, 0, 0, 0, 0, 0, 0, 0, 0, 0, 0, 0, 0, 0, 0, 0, 0, 0, 0, 0, 0, 0, 0, 0, 0, 0, 0, 0, 0, 0, 0, 0, 0, 0, 0, 0, 0, 0, 0, 0, 0, 0, 0, 0, 0, 0, 0, 0, 0, 0, 0, 0, 0, 0, 0, 0, 0, 0, 0, 0, 0, 0, 0, 0, 0, 0, 0, 0, 0, 0, 0, 0, 0, 0, 0, 0, 0, 0, 0, 0, 0, 0, 0, 0, 0, 0, 0, 0, 0, 0, 0, 0, 0, 0, 0, 0, 0, 0, 0, 0, 0, 0, 0, 0, 0, 0, 0, 0, 0, 0, 0, 0, 0, 0, 0, 0, 0, 0, 0, 0, 0, 0, 0, 0, 0, 0, 0, 0, 0, 0, 0, 0, 0, 0, 0, 0, 0, 0, 0, 0, 0, 0, 0, 0, 0, 0, 0, 0, 0, 0, 0, 0, 0, 0, 0, 0, 0, 0, 0, 0, 0, 0, 0, 0, 0, 0, 0, 0, 0, 0, 0, 0, 0, 0, 0, 0, 0, 0, 0, 0, 0, 0, 0, 0, 0, 0, 0, 0, 0, 0, 0, 0, 0, 0, 0, 0, 0, 0, 0, 0, 0, 0, 0, 0, 0, 0, 0, 0, 0, 0, 0, 0, 0, 0, 0, 0, 0, 0, 0, 0, 0, 0, 0, 0, 0, 0, 0, 0, 0, 0, 0, 0, 0, 0, 0, 0, 0, 0, 0, 0, 0, 0, 0, 0, 0, 0, 0, 0, 0, 0, 0, 0, 0, 0, 0, 0, 0, 0, 0, 0, 0, 0, 0, 0, 0, 0, 0, 0, 0, 0, 0, 0, 0, 0, 0, 0, 0, 0, 0, 0, 0, 0, 0, 0, 0, 0, 0, 0, 0, 0, 0, 0, 0, 0, 0, 0, 0, 0, 0, 0, 0, 0, 0, 0, 0, 0, 0, 0, 0, 0, 0, 0, 0, 0, 0, 0, 0, 0, 0, 0, 0, 0, 0, 0, 0, 0, 0, 0, 0, 0, 0, 0, 0, 0, 0, 0, 0, 0, 0, 0, 0, 0, 0, 0, 0, 0, 0, 0, 0, 0, 0, 0, 0, 0, 0, 0, 0, 0, 0, 0, 0, 0, 0, 0, 0, 0, 0, 0, 0, 0, 0, 0, 0, 0, 0, 0, 0, 0, 0, 0, 0, 0, 0, 0, 0, 0, 0, 0, 0, 0, 0, 0, 0, 0, 0, 0, 0, 0, 0, 0, 0, 0, 0, 0, 0, 0, 0, 0, 0, 0, 0, 0, 0, 0, 0, 0, 0, 0, 0, 0, 0, 0, 0, 0, 0, 0, 0, 0, 0, 0, 0, 0, 0, 0, 0, 0, 0, 0, 0, 0, 0, 0, 0, 0, 0, 0, 0, 0, 0, 0, 0, 0, 0, 0, 0, 0, 0, 0, 0, 0, 0, 0, 0, 0, 0, 0, 0, 0, 0, 0, 0, 0, 0, 0, 0, 0, 0, 0, 0, 0, 0, 0, 0, 0, 0, 0, 0, 0, 0, 0, 0, 0, 0, 0, 0, 0, 0, 0, 0, 0, 0, 0, 0, 0, 0, 0, 0, 0, 0, 0, 0, 0, 0, 0, 0, 0, 0, 0, 0, 0, 0, 0, 0, 0, 0, 0, 0, 0, 0, 0, 0, 0, 0, 0, 0, 0, 0, 0, 0, 0, 0, 0, 0, 0, 0, 0, 0, 0, 0, 0, 0, 0, 0, 0, 0, 0, 0, 0, 0, 0, 0, 0, 0, 0, 0, 0, 0, 0, 0, 0, 0, 0, 0, 0, 0, 0, 0, 0, 0, 0, 0, 0, 0, 0, 0, 0, 0, 0, 0, 0, 0, 0, 0, 0, 0, 0, 0, 0, 0, 0, 0, 0, 0, 0, 0, 0, 0, 0, 0, 0, 0, 0, 0, 0, 0, 0, 0, 0, 0, 0, 0, 0, 0, 0, 0, 0, 0, 0, 0, 0, 0, 0, 0, 0, 0, 0, 0, 0, 0, 0, 0, 0, 0, 0, 0, 0, 0, 0, 0, 0, 0, 0, 0, 0, 0, 0, 0, 0, 0, 0, 0, 0, 0, 0, 0, 0, 0, 0, 0, 0, 0, 0, 0, 0, 0, 0, 0, 0, 0, 0, 0, 0, 0, 0, 0, 0, 0, 0, 0, 0, 0, 0, 0, 0, 0, 0, 0, 0, 0, 0, 0, 0, 0, 0, 0, 0, 0, 0, 0, 0, 0, 0, 0, 0, 0, 0, 0, 0, 0, 0, 0, 0, 0, 0, 0, 0, 0, 0, 0, 0, 0, 0, 0, 0, 0, 0, 0, 0, 0, 0, 0, 0, 0, 0, 0, 0, 0, 0, 0, 0, 0, 0, 0, 0, 0, 0, 0, 0, 0, 0, 0, 0, 0, 0, 0, 0, 0, 0, 0, 0, 0, 0, 0, 0, 0, 0, 0, 0, 0, 0, 0, 0, 0, 0, 0, 0, 0, 0, 0, 0, 0, 0, 0, 0, 0, 0, 0, 0, 0, 0, 0, 0, 0, 0, 0, 0, 0, 0, 0, 0, 0, 0, 0, 0, 0, 0, 0, 0, 0, 0, 0, 0, 0, 0, 0, 0, 0, 0, 0, 0, 0, 0, 0, 0, 0, 0, 0, 0, 0, 0, 0, 0, 0, 0, 0, 0, 0, 0, 0, 0, 0, 0, 0, 0, 0, 0, 0, 0, 0, 0, 0, 0, 0, 0, 0, 0, 0, 0, 0, 0, 0, 0, 0, 0, 0, 0, 0, 0, 0, 0, 0, 0, 0, 0, 0, 0, 0, 0, 0, 0, 0, 0, 0, 0, 0, 0, 0, 0, 0, 0, 0, 0, 0, 0, 0, 0, 0, 0, 0, 0, 0, 0, 0, 0, 0, 0, 0, 0, 0, 0, 0, 0, 0, 0, 0, 0, 0, 0, 0, 0, 0, 0, 0, 0, 0, 0, 0, 0, 0, 0, 0, 0, 0, 0, 0, 0, 0, 0, 0, 0, 0, 0, 0, 0, 0, 0, 0, 0, 0, 0, 0, 0, 0, 0, 0, 0, 0, 0, 0, 0, 0, 0, 0, 0, 0, 0, 0, 0, 0, 0, 0, 0, 0, 0, 0, 0, 0, 0, 0, 0, 0, 0, 0, 0, 0, 0, 0, 0, 0, 0, 0, 0, 0, 0, 0, 0, 0, 0, 0, 0, 0, 0, 0, 0, 0, 0, 0, 0, 0, 0, 0, 0, 0, 0, 0, 0, 0, 0, 0, 0, 0, 0, 0, 0, 0, 0, 0, 0, 0, 0, 0, 0, 0, 0, 0, 0, 0, 0, 0, 0, 0, 0, 0, 0, 0, 0, 0, 0, 0, 0, 0, 0, 0, 0, 0, 0, 0, 0, 0, 0, 0, 0, 0, 0, 0, 0, 0, 0, 0, 0, 0, 0, 0, 0, 0, 0, 0, 0, 0, 0, 0, 0, 0, 0, 0, 0, 0, 0, 0, 0, 0, 0, 0, 0, 0, 0, 0, 0, 0, 0, 0, 0, 0, 0, 0, 0, 0, 0, 0, 0, 0, 0, 0, 0, 0, 0, 0, 0, 0, 0, 0, 0, 0, 0, 0, 0, 0, 0, 0, 0, 0, 0, 0, 0, 0, 0, 0, 0, 0, 0, 0, 0, 0, 0, 0, 0, 0, 0, 0, 0, 0, 0, 0, 0, 0, 0, 0, 0, 0, 0, 0, 0, 0, 0, 0, 0, 0, 0, 0, 0, 0, 0, 0, 0, 0, 0, 0, 0, 0, 0, 0, 0, 0, 0, 0, 0, 0, 0, 0, 0, 0, 0, 0, 0, 0, 0, 0, 0, 0, 0, 0, 0, 0, 0, 0, 0, 0, 0, 0, 0, 0, 0, 0, 0, 0, 0, 0, 0, 0, 0, 0, 0, 0, 0, 0, 0, 0, 0, 0, 0, 0, 0, 0, 0, 0, 0, 0, 0, 0, 0, 0, 0, 0, 0, 0, 0, 0, 0, 0, 0, 0, 0, 0, 0, 0, 0, 0, 0, 0, 0, 0, 0, 0, 0, 0, 0, 0, 0, 0, 0, 0, 0, 0, 0, 0, 0, 0, 0, 0, 0, 0, 0, 0, 0, 0, 0, 0, 0, 0, 0, 0, 0, 0, 0, 0, 0, 0, 0, 0, 0, 0, 0, 0, 0, 0, 0, 0, 0, 0, 0, 0, 0, 0, 0, 0, 0, 0, 0, 0, 0, 0, 0, 0, 0, 0, 0, 0, 0, 0, 0, 0, 0, 0, 0, 0, 0, 0, 0, 0, 0, 0, 0, 0, 0, 0, 0, 0, 0, 0, 0, 0, 0, 0, 0, 0, 0, 0, 0, 0, 0, 0, 0, 0, 0, 0, 0, 0, 0, 0, 0, 0, 0, 0, 0, 0, 0, 0, 0, 0, 0, 0, 0, 0, 0, 0, 0, 0, 0, 0, 0, 0, 0, 0, 0, 0, 0, 0, 0, 0, 0, 0, 0, 0, 0, 0, 0, 0, 0, 0, 0, 0, 0, 0, 0, 0, 0, 0, 0, 0, 0, 0, 0, 0, 0, 0, 0, 0, 0, 0, 0, 0, 0, 0, 0, 0, 0, 0, 0, 0, 0, 0, 0, 0, 0, 0, 0, 0, 0, 0, 0, 0, 0, 0, 0, 0, 0, 0, 0, 0, 0, 0, 0, 0, 0, 0, 0, 0, 0, 0, 0, 0, 0, 0, 0, 0, 0, 0, 0, 0, 0, 0, 0, 0, 0, 0, 0, 0, 0, 0, 0, 0, 0, 0, 0, 0, 0, 0, 0, 0, 0, 0, 0, 0, 0, 0, 0, 0, 0, 0, 0, 0, 0, 0, 0, 0, 0, 0, 0, 0, 0, 0, 0, 0, 0, 0, 0, 0, 0, 0, 0, 0, 0, 0, 0, 0, 0, 0, 0, 0, 0, 0, 0, 0, 0, 0, 0, 0, 0, 0, 0, 0, 0, 0, 0, 0, 0, 0, 0, 0, 0, 0, 0, 0, 0, 0, 0, 0, 0, 0, 0, 0, 0, 0, 0, 0, 0, 0, 0, 0, 0, 0, 0, 0, 0, 0, 0, 0, 0, 0, 0, 0, 0, 0, 0, 0, 0, 0, 0, 0, 0, 0, 0, 0, 0, 0, 0, 0, 0, 0, 0, 0, 0, 0, 0, 0, 0, 0, 0, 0, 0, 0, 0, 0, 0, 0, 0, 0, 0, 0, 0, 0, 0, 0, 0, 0, 0, 0, 0, 0, 0, 0, 0, 0, 0, 0, 0, 0, 0, 0, 0, 0, 0, 0, 0, 0, 0, 0, 0, 0, 0, 0, 0, 0, 0, 0, 0, 0, 0, 0, 0, 0, 0, 0, 0, 0, 0, 0, 0, 0, 0, 0, 0, 0, 0, 0, 0, 0, 0, 0, 0, 0, 0, 0, 0, 0, 0, 0, 0, 0, 0, 0, 0, 0, 0, 0, 0, 0, 0, 0, 0, 0, 0, 0, 0, 0, 0, 0, 0, 0, 0, 0, 0, 0, 0, 0, 0, 0, 0, 0, 0, 0, 0, 0, 0, 0, 0, 0, 0, 0, 0, 0, 0, 0, 0, 0, 0, 0, 0, 0, 0, 0, 0, 0, 0, 0, 0, 0, 0, 0, 0, 0, 0, 0, 0, 0, 0, 0, 0, 0, 0, 0, 0, 0, 0, 0, 0, 0, 0, 0, 0, 0, 0, 0, 0, 0, 0, 0, 0, 0, 0, 0, 0, 0, 0, 0, 0, 0, 0, 0, 0, 0, 0, 0, 0, 0, 0, 0, 0, 0, 0, 0, 0, 0, 0, 0, 0, 0, 0, 0, 0, 0, 0, 0, 0, 0, 0, 0, 0, 0, 0, 0, 0, 0, 0, 0, 0, 0, 0, 0, 0, 0, 0, 0, 0, 0, 0, 0, 0, 0, 0, 0, 0, 0, 0, 0, 0, 0, 0, 0, 0, 0, 0, 0, 0, 0, 0, 0, 0, 0, 0, 0, 0, 0, 0, 0, 0, 0, 0, 0, 0, 0, 0, 0, 0, 0, 0, 0, 0, 0, 0, 0, 0, 0, 0, 0, 0, 0, 0, 0, 0, 0, 0, 0, 0, 0, 0, 0, 0, 0, 0, 0, 0, 0, 0, 0, 0, 0, 0, 0, 0, 0, 0, 0, 0, 0, 0, 0, 0, 0, 0, 0, 0, 0, 0, 0, 0, 0, 0, 0, 0, 0, 0, 0, 0, 0, 0, 0, 0, 0, 0, 0, 0, 0, 0, 0, 0, 0, 0, 0, 0, 0, 0, 0, 0, 0, 0, 0, 0, 0, 0, 0, 0, 0, 0, 0, 0, 0, 0, 0, 0, 0, 0, 0, 0, 0, 0, 0, 0, 0, 0, 0, 0, 0, 0, 0, 0, 0, 0, 0, 0, 0, 0, 0, 0, 0, 0, 0, 0, 0, 0, 0, 0, 0, 0, 0, 0, 0, 0, 0, 0, 0, 0, 0, 0, 0, 0, 0, 0, 0, 0, 0, 0, 0, 0, 0, 0, 0, 0, 0, 0, 0, 0, 0, 0, 0, 0, 0, 0, 0, 0, 0, 0, 0, 0, 0, 0, 0, 0, 0, 0, 0, 0, 0, 0, 0, 0, 0, 0, 0, 0, 0, 0, 0, 0, 0, 0, 0, 0, 0, 0, 0, 0, 0, 0, 0, 0, 0, 0, 0, 0, 0, 0, 0, 0, 0, 0, 0, 0, 0, 0, 0, 0, 0, 0, 0, 0, 0, 0, 0, 0, 0, 0, 0, 0, 0, 0, 0, 0, 0, 0, 0, 0, 0, 0, 0, 0, 0, 0, 0, 0, 0, 0, 0, 0, 0, 0, 0, 0, 0, 0, 0, 0, 0, 0, 0, 0, 0, 0, 0, 0, 0, 0, 0, 0, 0, 0, 0, 0, 0, 0, 0, 0, 0, 0, 0, 0, 0, 0, 0, 0, 0, 0, 0, 0, 0, 0, 0, 0, 0, 0, 0, 0, 0, 0, 0, 0, 0, 0, 0, 0, 0, 0, 0, 0, 0, 0, 0, 0, 0, 0, 0, 0, 0, 0, 0, 0, 0, 0, 0, 0, 0, 0, 0, 0, 0, 0, 0, 0, 0, 0, 0, 0, 0, 0, 0, 0, 0, 0, 0, 0, 0, 0, 0, 0, 0, 0, 0, 0, 0, 0, 0, 0, 0, 0, 0, 0, 0, 0, 0, 0, 0, 0, 0, 0, 0, 0, 0, 0, 0, 0, 0, 0, 0, 0, 0, 0, 0, 0, 0, 0, 0, 0, 0, 0, 0, 0, 0, 0, 0, 0, 0, 0, 0, 0, 0, 0, 0, 0, 0, 0, 0, 0, 0, 0, 0, 0, 0, 0, 0, 0, 0, 0, 0, 0, 0, 0, 0, 0, 0, 0, 0, 0, 0, 0, 0, 0, 0, 0, 0, 0, 0, 0, 0, 0, 0, 0, 0, 0, 0, 0, 0, 0, 0, 0, 0, 0, 0, 0, 0, 0, 0, 0, 0, 0, 0, 0, 0, 0, 0, 0, 0, 0, 0, 0, 0, 0, 0, 0, 0, 0, 0, 0, 0, 0, 0, 0, 0, 0, 0, 0, 0, 0, 0, 0, 0, 0, 0, 0, 0, 0, 0, 0, 0, 0, 0, 0, 0, 0, 0, 0, 0, 0, 0, 0, 0, 0, 0, 0, 0, 0, 0, 0, 0, 0, 0, 0, 0, 0, 0, 0, 0, 0, 0, 0, 0, 0, 0, 0, 0, 0, 0, 0, 0, 0, 0, 0, 0, 0, 0, 0, 0, 0, 0, 0, 0, 0, 0, 0, 0, 0, 0, 0, 0, 0, 0, 0, 0, 0, 0, 0, 0, 0, 0, 0, 0, 0, 0, 0, 0, 0, 0, 0, 0, 0, 0, 0, 0, 0, 0, 0, 0, 0, 0, 0, 0, 0, 0, 0, 0, 0, 0, 0, 0, 0, 0, 0, 0, 0, 0, 0, 0, 0, 0, 0, 0, 0, 0, 0, 0, 0, 0, 0, 0, 0, 0, 0, 0, 0, 0, 0, 0, 0, 0, 0, 0, 0, 0, 0, 0, 0, 0, 0, 0, 0, 0, 0, 0, 0, 0, 0, 0, 0, 0, 0, 0, 0, 0, 0, 0, 0, 0, 0, 0, 0, 0, 0, 0, 0, 0, 0, 0, 0, 0, 0, 0, 0, 0, 0, 0, 0, 0, 0, 0, 0, 0, 0, 0, 0, 0, 0, 0, 0, 0, 0, 0, 0, 0, 0, 0, 0, 0, 0, 0, 0, 0, 0, 0, 0, 0, 0, 0, 0, 0, 0, 0, 0, 0, 0, 0, 0, 0, 0, 0, 0, 0, 0, 0, 0, 0, 0, 0, 0, 0, 0, 0, 0, 0, 0, 0, 0, 0, 0, 0, 0, 0, 0, 0, 0, 0, 0, 0, 0, 0, 0, 0, 0, 0, 0, 0, 0, 0, 0, 0, 0, 0, 0, 0, 0, 0, 0, 0, 0, 0, 0, 0, 0, 0, 0, 0, 0, 0, 0, 0, 0, 0, 0, 0, 0, 0, 0, 0, 0, 0, 0, 0, 0, 0, 0, 0, 0, 0, 0, 0, 0, 0, 0, 0, 0, 0, 0, 0, 0, 0, 0, 0, 0, 0, 0, 0, 0, 0, 0, 0, 0, 0, 0, 0, 0, 0, 0, 0, 0, 0, 0, 0, 0, 0, 0, 0, 0, 0, 0, 0, 0, 0, 0, 0, 0, 0, 0, 0, 0, 0, 0, 0, 0, 0, 0, 0, 0, 0, 0, 0, 0, 0, 0, 0, 0, 0, 0, 0, 0, 0, 0, 0, 0, 0, 0, 0, 0, 0, 0, 0, 0, 0, 0, 0, 0, 0, 0, 0, 0, 0, 0, 0, 0, 0, 0, 0, 0, 0, 0, 0, 0, 0, 0, 0, 0, 0, 0, 0, 0, 0, 0, 0, 0, 0, 0, 0, 0, 0, 0, 0, 0, 0, 0, 0, 0, 0, 0, 0, 0, 0, 0, 0, 0, 0, 0, 0, 0, 0, 0, 0, 0, 0, 0, 0, 0, 0, 0, 0, 0, 0, 0, 0, 0, 0, 0, 0, 0, 0, 0, 0, 0, 0, 0, 0, 0, 0, 0, 0, 0, 0, 0, 0, 0, 0, 0, 0, 0, 0, 0, 0, 0, 0, 0, 0, 0, 0, 0, 0, 0, 0, 0, 0, 0, 0, 0, 0, 0, 0, 0, 0, 0, 0, 0, 0, 0, 0, 0, 0, 0, 0, 0, 0, 0, 0, 0, 0, 0, 0, 0, 0, 0, 0, 0, 0, 0, 0, 0, 0, 0, 0, 0, 0, 0, 0, 0, 0, 0, 0, 0, 0, 0, 0, 0, 0, 0, 0, 0, 0, 0, 0, 0, 0, 0, 0, 0, 0, 0, 0, 0, 0, 0, 0, 0, 0, 0, 0, 0, 0, 0, 0, 0, 0, 0, 0, 0, 0, 0, 0, 0, 0, 0, 0, 0, 0, 0, 0, 0, 0, 0, 0, 0, 0, 0, 0, 0, 0, 0, 0, 0, 0, 0, 0, 0, 0, 0, 0, 0, 0, 0, 0, 0, 0, 0, 0, 0, 0, 0, 0, 0, 0, 0, 0, 0, 0, 0, 0, 0, 0, 0, 0, 0, 0, 0, 0, 0, 0, 0, 0, 0, 0, 0, 0, 0, 0, 0, 0, 0, 0, 0, 0, 0, 0, 0, 0, 0, 0, 0, 0, 0, 0, 0, 0, 0, 0, 0, 0, 0, 0, 0, 0, 0, 0, 0, 0, 0, 0, 0, 0, 0, 0, 0, 0, 0, 0, 0, 0, 0, 0, 0, 0, 0, 0, 0, 0, 0, 0, 0, 0, 0, 0, 0, 0, 0, 0, 0, 0, 0, 0, 0, 0, 0, 0, 0, 0, 0, 0, 0, 0, 0, 0, 0, 0, 0, 0, 0, 0, 0, 0, 0, 0, 0, 0, 0, 0, 0, 0, 0, 0, 0, 0, 0, 0, 0, 0, 0, 0, 0, 0, 0, 0, 0, 0, 0, 0, 0, 0, 0, 0, 0, 0, 0, 0, 0, 0, 0, 0, 0, 0, 0, 0, 0, 0, 0, 0, 0, 0, 0, 0, 0, 0, 0, 0, 0, 0, 0, 0, 0, 0, 0, 0, 0, 0, 0, 0, 0, 0, 0, 0, 0, 0, 0, 0, 0, 0, 0, 0, 0, 0, 0, 0, 0, 0, 0, 0, 0, 0, 0, 0, 0, 0, 0, 0, 0, 0, 0, 0, 0, 0, 0, 0, 0, 0, 0, 0, 0, 0, 0, 0, 0, 0, 0, 0, 0, 0, 0, 0, 0, 0, 0, 0, 0, 0, 0, 0, 0, 0, 0, 0, 0, 0, 0, 0, 0, 0, 0, 0, 0, 0, 0, 0, 0, 0, 0, 0, 0, 0, 0, 0, 0, 0, 0, 0, 0, 0, 0, 0, 0, 0, 0, 0, 0, 0, 0, 0, 0, 0, 0, 0, 0, 0, 0, 0, 0, 0, 0, 0, 0, 0, 0, 0, 0, 0, 0, 0, 0, 0, 0, 0, 0, 0, 0, 0, 0, 0, 0, 0, 0, 0, 0, 0, 0, 0, 0, 0, 0, 0, 0, 0, 0, 0, 0, 0, 0, 0, 0, 0, 0, 0, 0, 0, 0, 0, 0, 0, 0, 0, 0, 0, 0, 0, 0, 0, 0, 0, 0, 0, 0, 0, 0, 0, 0, 0, 0, 0, 0, 0, 0, 0, 0, 0, 0, 0, 0, 0, 0, 0, 0, 0, 0, 0, 0, 0, 0, 0, 0, 0, 0, 0, 0, 0, 0, 0, 0, 0, 0, 0, 0, 0, 0, 0, 0, 0, 0, 0, 0, 0, 0, 0, 0, 0, 0, 0, 0, 0, 0, 0, 0, 0, 0, 0, 0, 0, 0, 0, 0, 0, 0, 0, 0, 0, 0, 0, 0, 0, 0, 0, 0, 0, 0, 0, 0, 0, 0, 0, 0, 0, 0, 0, 0, 0, 0, 0, 0, 0, 0, 0, 0, 0, 0, 0, 0, 0, 0, 0, 0, 0, 0, 0, 0, 0, 0, 0, 0, 0, 0, 0, 0, 0, 0, 0, 0, 0, 0, 0, 0, 0, 0, 0, 0, 0, 0, 0, 0, 0, 0, 0, 0, 0, 0, 0, 0, 0, 0, 0, 0, 0, 0, 0, 0, 0, 0, 0, 0, 0, 0, 0, 0, 0, 0, 0, 0, 0, 0, 0, 0, 0, 0, 0, 0, 0, 0, 0, 0, 0, 0, 0, 0, 0, 0, 0, 0, 0, 0, 0, 0, 0, 0, 0, 0, 0, 0, 0, 0, 0, 0, 0, 0, 0, 0, 0, 0, 0, 0, 0, 0, 0, 0, 0, 0, 0, 0, 0, 0, 0, 0, 0, 0, 0, 0, 0, 0, 0, 0, 0, 0, 0, 0, 0, 0, 0, 0, 0, 0, 0, 0, 0, 0, 0, 0, 0, 0, 0, 0, 0, 0, 0, 0, 0, 0, 0, 0, 0, 0, 0, 0, 0, 0, 0, 0, 0, 0, 0, 0, 0, 0, 0, 0, 0, 0, 0, 0, 0, 0, 0, 0, 0, 0, 0, 0, 0, 0, 0, 0, 0, 0, 0, 0, 0, 0, 0, 0, 0, 0, 0, 0, 0, 0, 0, 0, 0, 0, 0, 0, 0, 0, 0, 0, 0, 0, 0, 0, 0, 0, 0, 0, 0, 0, 0, 0, 0, 0, 0, 0, 0, 0, 0, 0, 0, 0, 0, 0, 0, 0, 0, 0, 0, 0, 0, 0, 0, 0, 0, 0, 0, 0, 0, 0, 0, 0, 0, 0, 0, 0, 0, 0, 0, 0, 0, 0, 0, 0, 0, 0, 0, 0, 0, 0, 0, 0, 0, 0, 0, 0, 0, 0, 0, 0, 0, 0, 0, 0, 0, 0, 0, 0, 0, 0, 0, 0, 0, 0, 0, 0, 0, 0, 0, 0, 0, 0, 0, 0, 0, 0, 0, 0, 0, 0, 0, 0, 0, 0, 0, 0, 0, 0, 0, 0, 0, 0, 0, 0, 0, 0, 0, 0, 0, 0, 0, 0, 0, 0, 0, 0, 0, 0, 0, 0, 0, 0, 0, 0, 0, 0, 0, 0, 0, 0, 0, 0, 0, 0, 0, 0, 0, 0, 0, 0, 0, 0, 0, 0, 0, 0, 0, 0, 0, 0, 0, 0, 0, 0, 0, 0, 0, 0, 0, 0, 0, 0, 0, 0, 0, 0, 0, 0, 0, 0, 0, 0, 0, 0, 0, 0, 0, 0, 0, 0, 0, 0, 0, 0, 0, 0, 0, 0, 0, 0, 0, 0, 0, 0, 0, 0, 0, 0, 0, 0, 0, 0, 0, 0, 0, 0, 0, 0, 0, 0, 0, 0, 0, 0, 0, 0, 0, 0, 0, 0, 0, 0, 0, 0, 0, 0, 0, 0, 0, 0, 0, 0, 0, 0, 0, 0, 0, 0, 0, 0, 0, 0, 0, 0, 0, 0, 0, 0, 0, 0, 0, 0, 0, 0, 0, 0, 0, 0, 0, 0, 0, 0, 0, 0, 0, 0, 0, 0, 0, 0, 0, 0, 0, 0, 0, 0, 0, 0, 0, 0, 0, 0, 0, 0, 0, 0, 0, 0, 0, 0, 0, 0, 0, 0, 0, 0, 0, 0, 0, 0, 0, 0, 0, 0, 0, 0, 0, 0, 0, 0, 0, 0, 0, 0, 0, 0, 0, 0, 0, 0, 0, 0, 0, 0, 0, 0, 0, 0, 0, 0, 0, 0, 0, 0, 0, 0, 0, 0, 0, 0, 0, 0, 0, 0, 0, 0, 0, 0, 0, 0, 0, 0, 0, 0, 0, 0, 0, 0, 0, 0, 0, 0, 0, 0, 0, 0, 0, 0, 0, 0, 0, 0, 0, 0, 0, 0, 0, 0, 0, 0, 0, 0, 0, 0, 0, 0, 0, 0, 0, 0, 0, 0, 0, 0, 0, 0, 0, 0, 0, 0, 0, 0, 0, 0, 0, 0, 0, 0, 0, 0, 0, 0, 0, 0, 0, 0, 0, 0, 0, 0, 0, 0, 0, 0, 0, 0, 0, 0, 0, 0, 0, 0, 0, 0, 0, 0, 0, 0, 0, 0, 0, 0, 0, 0, 0, 0, 0, 0, 0, 0, 0, 0, 0, 0, 0, 0, 0, 0, 0, 0, 0, 0, 0, 0, 0, 0, 0, 0, 0, 0, 0, 0, 0, 0, 0, 0, 0, 0, 0, 0, 0, 0, 0, 0, 0, 0, 0, 0, 0, 0, 0, 0, 0, 0, 0, 0, 0, 0, 0, 0, 0, 0, 0, 0, 0, 0, 0, 0, 0, 0, 0, 0, 0, 0, 0, 0, 0, 0, 0, 0, 0, 0, 0, 0, 0, 0, 0, 0, 0, 0, 0, 0, 0, 0, 0, 0, 0, 0, 0, 0, 0, 0, 0, 0, 0, 0, 0, 0, 0, 0, 0, 0, 0, 0, 0, 0, 0, 0, 0, 0, 0, 0, 0, 0, 0, 0, 0, 0, 0, 0, 0, 0, 0, 0, 0, 0, 0, 0, 0, 0, 0, 0, 0, 0, 0, 0, 0, 0, 0, 0, 0, 0, 0, 0, 0, 0, 0, 0, 0, 0, 0, 0, 0, 0, 0, 0, 0, 0, 0, 0, 0, 0, 0, 0, 0, 0, 0, 0, 0, 0, 0, 0, 0, 0, 0, 0, 0, 0, 0, 0, 0, 0, 0, 0, 0, 0, 0, 0, 0, 0, 0, 0, 0, 0, 0, 0, 0, 0, 0, 0, 0, 0, 0, 0, 0, 0, 0, 0, 0, 0, 0, 0, 0, 0, 0, 0, 0, 0, 0, 0, 0, 0, 0, 0, 0, 0, 0, 0, 0, 0, 0, 0, 0, 0, 0, 0, 0, 0, 0, 0, 0, 0, 0, 0, 0, 0, 0, 0, 0, 0, 0, 0, 0, 0, 0, 0, 0, 0, 0, 0, 0, 0, 0, 0, 0, 0, 0, 0, 0, 0, 0, 0, 0, 0, 0, 0, 0, 0, 0, 0, 0, 0, 0, 0, 0, 0, 0, 0, 0, 0, 0, 0, 0, 0, 0, 0, 0, 0, 0, 0, 0, 0, 0, 0, 0, 0, 0, 0, 0, 0, 0, 0, 0, 0, 0, 0, 0, 0, 0, 0, 0, 0, 0, 0, 0, 0, 0, 0, 0, 0, 0, 0, 0, 0, 0, 0, 0, 0, 0, 0, 0, 0, 0, 0, 0, 0, 0, 0, 0, 0, 0, 0, 0, 0, 0, 0, 0, 0, 0, 0, 0, 0, 0, 0, 0, 0, 0, 0, 0, 0, 0, 0, 0, 0, 0, 0, 0, 0, 0, 0, 0, 0, 0, 0, 0, 0, 0, 0, 0, 0, 0, 0, 0, 0, 0, 0, 0, 0, 0, 0, 0, 0, 0, 0, 0, 0, 0, 0, 0, 0, 0, 0, 0, 0, 0, 0, 0, 0, 0, 0, 0, 0, 0, 0, 0, 0, 0, 0, 0, 0, 0, 0, 0, 0, 0, 0, 0, 0, 0, 0, 0, 0, 0, 0, 0, 0, 0, 0, 0, 0, 0, 0, 0, 0, 0, 0, 0, 0, 0, 0, 0, 0, 0, 0, 0, 0, 0, 0, 0, 0, 0, 0, 0, 0, 0, 0, 0, 0, 0, 0, 0, 0, 0, 0, 0, 0, 0, 0, 0, 0, 0, 0, 0, 0, 0, 0, 0, 0, 0, 0, 0, 0, 0, 0, 0, 0, 0, 0, 0, 0, 0, 0, 0, 0, 0, 0, 0, 0, 0, 0, 0, 0, 0, 0, 0, 0, 0, 0, 0, 0, 0, 0, 0, 0, 0, 0, 0, 0, 0, 0, 0, 0, 0, 0, 0, 0, 0, 0, 0, 0, 0, 0, 0, 0, 0, 0, 0, 0, 0, 0, 0, 0, 0, 0, 0, 0, 0, 0, 0, 0, 0, 0, 0, 0, 0, 0, 0, 0, 0, 0, 0, 0, 0, 0, 0, 0, 0, 0, 0, 0, 0, 0, 0, 0, 0, 0, 0, 0, 0, 0, 0, 0, 0, 0, 0, 0, 0, 0, 0, 0, 0, 0, 0, 0, 0, 0, 0, 0, 0, 0, 0, 0, 0, 0, 0, 0, 0, 0, 0, 0, 0, 0, 0, 0, 0, 0, 0, 0, 0, 0, 0, 0, 0, 0, 0, 0, 0, 0, 0, 0, 0, 0, 0, 0, 0, 0, 0, 0, 0, 0, 0, 0, 0, 0, 0, 0, 0, 0, 0, 0, 0, 0, 0, 0, 0, 0, 0, 0, 0, 0, 0, 0, 0, 0, 0, 0, 0, 0, 0, 0, 0, 0, 0, 0, 0, 0, 0, 0, 0, 0, 0, 0, 0, 0, 0, 0, 0, 0, 0, 0, 0, 0, 0, 0, 0, 0, 0, 0, 0, 0, 0, 0, 0, 0, 0, 0, 0, 0, 0, 0, 0, 0, 0, 0, 0, 0, 0, 0, 0, 0, 0, 0, 0, 0, 0, 0, 0, 0, 0, 0, 0, 0, 0, 0, 0, 0, 0, 0, 0, 0, 0, 0, 0, 0, 0, 0, 0, 0, 0, 0, 0, 0, 0, 0, 0, 0, 0, 0, 0, 0, 0, 0, 0, 0, 0, 0, 0, 0, 0, 0, 0, 0, 0, 0, 0, 0, 0, 0, 0, 0, 0, 0, 0, 0, 0, 0, 0, 0, 0, 0, 0, 0, 0, 0, 0, 0, 0, 0, 0, 0, 0, 0, 0, 0, 0, 0, 0, 0, 0, 0, 0, 0, 0, 0, 0, 0, 0, 0, 0, 0, 0, 0, 0, 0, 0, 0, 0, 0, 0, 0, 0, 0, 0, 0, 0, 0, 0, 0, 0, 0, 0, 0, 0, 0, 0, 0, 0, 0, 0, 0, 0, 0, 0, 0, 0, 0, 0, 0, 0, 0, 0, 0, 0, 0, 0, 0, 0, 0, 0, 0, 0, 0, 0, 0, 0, 0, 0, 0, 0, 0, 0, 0, 0, 0, 0, 0, 0, 0, 0, 0, 0, 0, 0, 0, 0, 0, 0, 0, 0, 0, 0, 0, 0, 0, 0, 0, 0, 0, 0, 0, 0, 0, 0, 0, 0, 0, 0, 0, 0, 0, 0, 0, 0, 0, 0, 0, 0, 0, 0, 0, 0, 0, 0, 0, 0, 0, 0, 0, 0, 0, 0, 0, 0, 0, 0, 0, 0, 0, 0, 0, 0, 0, 0, 0, 0, 0, 0, 0, 0, 0, 0, 0, 0, 0, 0, 0, 0, 0, 0, 0, 0, 0, 0, 0, 0, 0, 0, 0, 0, 0, 0, 0, 0, 0, 0, 0, 0, 0, 0, 0, 0, 0, 0, 0, 0, 0, 0, 0, 0, 0, 0, 0, 0, 0, 0, 0, 0, 0, 0, 0, 0, 0, 0, 0, 0, 0, 0, 0, 0, 0, 0, 0, 0, 0, 0, 0, 0, 0, 0, 0, 0, 0, 0, 0, 0, 0, 0, 0, 0, 0, 0, 0, 0, 0, 0, 0, 0, 0, 0, 0, 0, 0, 0, 0, 0, 0, 0, 0, 0, 0, 0, 0, 0, 0, 0, 0, 0, 0, 0, 0, 0, 0, 0, 0, 0, 0, 0, 0, 0, 0, 0, 0, 0, 0, 0, 0, 0, 0, 0, 0, 0, 0, 0, 0, 0, 0, 0, 0, 0, 0, 0, 0, 0, 0, 0, 0, 0, 0, 0, 0, 0, 0, 0, 0, 0, 0, 0, 0, 0, 0, 0, 0, 0, 0, 0, 0, 0, 0, 0, 0, 0, 0, 0, 0, 0, 0, 0, 0, 0, 0, 0, 0, 0, 0, 0, 0, 0, 0, 0, 0, 0, 0, 0, 0, 0, 0, 0, 0, 0, 0, 0, 0, 0, 0, 0, 0, 0, 0, 0, 0, 0, 0, 0, 0, 0, 0, 0, 0, 0, 0, 0, 0, 0, 0, 0, 0, 0, 0, 0, 0, 0, 0, 0, 0, 0, 0, 0, 0, 0, 0, 0, 0, 0, 0, 0, 0, 0, 0, 0, 0, 0, 0, 0, 0, 0, 0, 0, 0, 0, 0, 0, 0, 0, 0, 0, 0, 0, 0, 0, 0, 0, 0, 0, 0, 0, 0, 0, 0, 0, 0, 0, 0, 0, 0, 0, 0, 0, 0, 0, 0, 0, 0, 0, 0, 0, 0, 0, 0, 0, 0, 0, 0, 0, 0, 0, 0, 0, 0, 0, 0, 0, 0, 0, 0, 0, 0, 0, 0, 0, 0, 0, 0, 0, 0, 0, 0, 0, 0, 0, 0, 0, 0, 0, 0, 0, 0, 0, 0, 0, 0, 0, 0, 0, 0, 0, 0, 0, 0, 0, 0, 0, 0, 0, 0, 0, 0, 0, 0, 0, 0, 0, 0, 0, 0, 0, 0, 0, 0, 0, 0, 0, 0, 0, 0, 0, 0, 0, 0, 0, 0, 0, 0, 0, 0, 0, 0, 0, 0, 0, 0, 0, 0, 0, 0, 0, 0, 0, 0, 0, 0, 0, 0, 0, 0, 0, 0, 0, 0, 0, 0, 0, 0, 0, 0, 0, 0, 0, 0, 0, 0, 0, 0, 0, 0, 0, 0, 0, 0, 0, 0, 0, 0, 0, 0, 0, 0, 0, 0, 0, 0, 0, 0, 0, 0, 0, 0, 0, 0, 0, 0, 0, 0, 0, 0, 0, 0, 0, 0, 0, 0, 0, 0, 0, 0, 0, 0, 0, 0, 0, 0, 0, 0, 0, 0, 0, 0, 0, 0, 0, 0, 0, 0, 0, 0, 0, 0, 0, 0, 0, 0, 0, 0, 0, 0, 0, 0, 0, 0, 0, 0, 0, 0, 0, 0, 0, 0, 0, 0, 0, 0, 0, 0, 0, 0, 0, 0, 0, 0, 0, 0, 0, 0, 0, 0, 0, 0, 0, 0, 0, 0, 0, 0, 0, 0, 0, 0, 0, 0, 0, 0, 0, 0, 0, 0, 0, 0, 0, 0, 0, 0, 0, 0, 0, 0, 0, 0, 0, 0, 0, 0, 0, 0, 0, 0, 0, 0, 0, 0, 0, 0, 0, 0, 0, 0, 0, 0, 0, 0, 0, 0, 0, 0, 0, 0, 0, 0, 0, 0, 0, 0, 0, 0, 0, 0, 0, 0, 0, 0, 0, 0, 0, 0, 0, 0, 0, 0, 0, 0, 0, 0, 0, 0, 0, 0, 0, 0, 0, 0, 0, 0, 0, 0, 0, 0, 0, 0, 0, 0, 0, 0, 0, 0, 0, 0, 0, 0, 0, 0, 0, 0, 0, 0, 0, 0, 0, 0, 0, 0, 0, 0, 0, 0, 0, 0, 0, 0, 0, 0, 0, 0, 0, 0, 0, 0, 0, 0, 0, 0, 0, 0, 0, 0, 0, 0, 0, 0, 0, 0, 0, 0, 0, 0, 0, 0, 0, 0, 0, 0, 0, 0, 0, 0, 0, 0, 0, 0, 0, 0, 0, 0, 0, 0, 0, 0, 0, 0, 0, 0, 0, 0, 0, 0, 0, 0, 0, 0, 0, 0, 0, 0, 0, 0, 0, 0, 0, 0, 0, 0, 0, 0, 0, 0, 0, 0, 0, 0, 0, 0, 0, 0, 0, 0, 0, 0, 0, 0, 0, 0, 0, 0, 0, 0, 0, 0, 0, 0, 0, 0, 0, 0, 0, 0, 0, 0, 0, 0, 0, 0, 0, 0, 0, 0, 0, 0, 0, 0, 0, 0, 0, 0, 0, 0, 0, 0, 0, 0, 0, 0, 0, 0, 0, 0, 0, 0, 0, 0, 0, 0, 0, 0, 0, 0, 0, 0, 0, 0, 0, 0, 0, 0, 0, 0, 0, 0, 0, 0, 0, 0, 0, 0, 0, 0, 0, 0, 0, 0, 0, 0, 0, 0, 0, 0, 0, 0, 0, 0, 0, 0, 0, 0, 0, 0, 0, 0, 0, 0, 0, 0, 0, 0, 0, 0, 0, 0, 0, 0, 0, 0, 0, 0, 0, 0, 0, 0, 0, 0, 0, 0, 0, 0, 0, 0, 0, 0, 0, 0, 0, 0, 0, 0, 0, 0, 0, 0, 0, 0, 0, 0, 0, 0, 0, 0, 0, 0, 0, 0, 0, 0, 0, 0, 0, 0, 0, 0, 0, 0, 0, 0, 0, 0, 0, 0, 0, 0, 0, 0, 0, 0, 0, 0, 0, 0, 0, 0, 0, 0, 0, 0, 0, 0, 0, 0, 0, 0, 0, 0, 0, 0, 0, 0, 0, 0, 0, 0, 0, 0, 0, 0, 0, 0, 0, 0, 0, 0, 0, 0, 0, 0, 0, 0, 0, 0, 0, 0, 0, 0, 0, 0, 0, 0, 0, 0, 0, 0, 0, 0, 0, 0, 0, 0, 0, 0, 0, 0, 0, 0, 0, 0, 0, 0, 0, 0, 0, 0, 0, 0, 0, 0, 0, 0, 0, 0, 0, 0, 0, 0, 0, 0, 0, 0, 0, 0, 0, 0, 0, 0, 0, 0, 0, 0, 0, 0, 0, 0, 0, 0, 0, 0, 0, 0, 0, 0, 0, 0, 0, 0, 0, 0, 0, 0, 0, 0, 0, 0, 0, 0, 0, 0, 0, 0, 0, 0, 0, 0, 0, 0, 0, 0, 0, 0, 0, 0, 0, 0, 0, 0, 0, 0, 0, 0, 0, 0, 0, 0, 0, 0, 0, 0, 0, 0, 0, 0, 0, 0, 0, 0, 0, 0, 0, 0, 0, 0, 0, 0, 0, 0, 0, 0, 0, 0, 0, 0, 0, 0, 0, 0, 0, 0, 0, 0, 0, 0, 0, 0, 0, 0, 0, 0, 0, 0, 0, 0, 0, 0, 0, 0, 0, 0, 0, 0, 0, 0, 0, 0, 0, 0, 0, 0, 0, 0, 0, 0, 0, 0, 0, 0, 0, 0, 0, 0, 0, 0, 0, 0, 0, 0, 0, 0, 0, 0, 0, 0, 0, 0, 0, 0, 0, 0, 0, 0, 0, 0, 0, 0, 0, 0, 0, 0, 0, 0, 0, 0, 0, 0, 0, 0, 0, 0, 0, 0, 0, 0, 0, 0, 0, 0, 0, 0, 0, 0, 0, 0, 0, 0, 0, 0, 0, 0, 0, 0, 0, 0, 0, 0, 0, 0, 0, 0, 0, 0, 0, 0, 0, 0, 0, 0, 0, 0, 0, 0, 0, 0, 0, 0, 0, 0, 0, 0, 0, 0, 0, 0, 0, 0, 0, 0, 0, 0, 0, 0, 0, 0, 0, 0, 0, 0, 0, 0, 0, 0, 0, 0, 0, 0, 0, 0, 0, 0, 0, 0, 0, 0, 0, 0, 0, 0, 0, 0, 0, 0, 0, 0, 0, 0, 0, 0, 0, 0, 0, 0, 0, 0, 0, 0, 0, 0, 0, 0, 0, 0, 0, 0, 0, 0, 0, 0, 0, 0, 0, 0, 0, 0, 0, 0, 0, 0, 0, 0, 0, 0, 0, 0, 0, 0, 0, 0, 0, 0, 0, 0, 0, 0, 0, 0, 0, 0, 0, 0, 0, 0, 0, 0, 0, 0, 0, 0, 0, 0, 0, 0, 0, 0, 0, 0, 0, 0, 0, 0, 0, 0, 0, 0, 0, 0, 0, 0, 0, 0, 0, 0, 0, 0, 0, 0, 0, 0, 0, 0, 0, 0, 0, 0, 0, 0, 0, 0, 0, 0, 0, 0, 0, 0, 0, 0, 0, 0, 0, 0, 0, 0, 0, 0, 0, 0, 0, 0, 0, 0, 0, 0, 0, 0, 0, 0, 0, 0, 0, 0, 0, 0, 0, 0, 0, 0, 0, 0, 0, 0, 0, 0, 0, 0, 0, 0, 0, 0, 0, 0, 0, 0, 0, 0, 0, 0, 0, 0, 0, 0, 0, 0, 0, 0, 0, 0, 0, 0, 0, 0, 0, 0, 0, 0, 0, 0, 0, 0, 0, 0, 0, 0, 0, 0, 0, 0, 0, 0, 0, 0, 0, 0, 0, 0, 0, 0, 0, 0, 0, 0, 0, 0, 0, 0, 0, 0, 0, 0, 0, 0, 0, 0, 0, 0, 0, 0, 0, 0, 0, 0, 0, 0, 0, 0, 0, 0, 0, 0, 0, 0, 0, 0, 0, 0, 0, 0, 0, 0, 0, 0, 0, 0, 0, 0, 0, 0, 0, 0, 0, 0, 0, 0, 0, 0, 0, 0, 0, 0, 0, 0, 0, 0, 0, 0, 0, 0, 0, 0, 0, 0, 0, 0, 0, 0, 0, 0, 0, 0, 0, 0, 0, 0, 0, 0, 0, 0, 0, 0, 0, 0, 0, 0, 0, 0, 0, 0, 0, 0, 0, 0, 0, 0, 0, 0, 0, 0, 0, 0, 0, 0, 0, 0, 0, 0, 0, 0, 0, 0, 0, 0, 0, 0, 0, 0, 0, 0, 0, 0, 0, 0, 0, 0, 0, 0, 0, 0, 0, 0, 0, 0, 0, 0, 0, 0, 0, 0, 0, 0, 0, 0, 0, 0, 0, 0, 0, 0, 0, 0, 0, 0, 0, 0, 0, 0, 0, 0, 0, 0, 0, 0, 0, 0, 0, 0, 0, 0, 0, 0, 0, 0, 0, 0, 0, 0, 0, 0, 0, 0, 0, 0, 0, 0, 0, 0, 0, 0, 0, 0, 0, 0, 0, 0, 0, 0, 0, 0, 0, 0, 0, 0, 0, 0, 0, 0, 0, 0, 0, 0, 0, 0, 0, 0, 0, 0, 0, 0, 0, 0, 0, 0, 0, 0, 0, 0, 0, 0, 0, 0, 0, 0, 0, 0, 0, 0, 0, 0, 0, 0, 0, 0, 0, 0, 0, 0, 0, 0, 0, 0, 0, 0, 0, 0, 0, 0, 0, 0, 0, 0, 0, 0, 0, 0, 0, 0, 0, 0, 0, 0, 0, 0, 0, 0, 0, 0, 0, 0, 0, 0, 0, 0, 0, 0, 0, 0, 0, 0, 0, 0, 0, 0, 0, 0, 0, 0, 0, 0, 0, 0, 0, 0, 0, 0, 0, 0, 0, 0, 0, 0, 0, 0, 0, 0, 0, 0, 0, 0, 0, 0, 0, 0, 0, 0, 0, 0, 0, 0, 0, 0, 0, 0, 0, 0, 0, 0, 0, 0, 0, 0, 0, 0, 0, 0, 0, 0, 0, 0, 0, 0, 0, 0, 0, 0, 0, 0, 0, 0, 0, 0, 0, 0, 0, 0, 0, 0, 0, 0, 0, 0, 0, 0, 0, 0, 0, 0, 0, 0, 0, 0, 0, 0, 0, 0, 0, 0, 0, 0, 0, 0, 0, 0, 0, 0, 0, 0, 0, 0, 0, 0, 0, 0, 0, 0, 0, 0, 0, 0, 0, 0, 0, 0, 0, 0, 0, 0, 0, 0, 0, 0, 0, 0, 0, 0, 0, 0, 0, 0, 0, 0, 0, 0, 0, 0, 0, 0, 0, 0, 0, 0, 0, 0, 0, 0, 0, 0, 0, 0, 0, 0, 0, 0, 0, 0, 0, 0, 0, 0, 0, 0, 0, 0, 0, 0, 0, 0, 0, 0, 0, 0, 0, 0, 0, 0, 0, 0, 0, 0, 0, 0, 0, 0, 0, 0, 0, 0, 0, 0, 0, 0, 0, 0, 0, 0, 0, 0, 0, 0, 0, 0, 0, 0, 0, 0, 0, 0, 0, 0, 0, 0, 0, 0, 0, 0, 0, 0, 0, 0, 0, 0, 0, 0, 0, 0, 0, 0, 0, 0, 0, 0, 0, 0, 0, 0, 0, 0, 0, 0, 0, 0, 0, 0, 0, 0, 0, 0, 0, 0, 0, 0, 0, 0, 0, 0, 0, 0, 0, 0, 0, 0, 0, 0, 0, 0, 0, 0, 0, 0, 0, 0, 0, 0, 0, 0, 0, 0, 0, 0, 0, 0, 0, 0, 0, 0, 0, 0, 0, 0, 0, 0, 0, 0, 0, 0, 0, 0, 0, 0, 0, 0, 0, 0, 0, 0, 0, 0, 0, 0, 0, 0, 0, 0, 0, 0, 0, 0, 0, 0, 0, 0, 0, 0, 0, 0, 0, 0, 0, 0, 0, 0, 0, 0, 0, 0, 0, 0, 0, 0, 0, 0, 0, 0, 0, 0, 0, 0, 0, 0, 0, 0, 0, 0, 0, 0, 0, 0, 0, 0, 0, 0, 0, 0, 0, 0, 0, 0, 0, 0, 0, 0, 0, 0, 0, 0, 0, 0, 0, 0, 0, 0, 0, 0, 0, 0, 0, 0, 0, 0, 0, 0, 0, 0, 0, 0, 0, 0, 0, 0, 0, 0, 0, 0, 0, 0, 0, 0, 0, 0, 0, 0, 0, 0, 0, 0, 0, 0, 0, 0, 0, 0, 0, 0, 0, 0, 0, 0, 0, 0, 0, 0, 0, 0, 0, 0, 0, 0, 0, 0, 0, 0, 0, 0, 0, 0, 0, 0, 0, 0, 0, 0, 0, 0, 0, 0, 0, 0, 0, 0, 0, 0, 0, 0, 0, 0, 0, 0, 0, 0, 0, 0, 0, 0, 0, 0, 0, 0, 0, 0, 0, 0, 0, 0, 0, 0, 0, 0, 0, 0, 0, 0, 0, 0, 0, 0, 0, 0, 0, 0, 0, 0, 0, 0, 0, 0, 0, 0, 0, 0, 0, 0, 0, 0, 0, 0, 0, 0, 0, 0, 0, 0, 0, 0, 0, 0, 0, 0, 0, 0, 0, 0, 0, 0, 0, 0, 0, 0, 0, 0, 0, 0, 0, 0, 0, 0, 0, 0, 0, 0, 0, 0, 0, 0, 0, 0, 0, 0, 0, 0, 0, 0, 0, 0, 0, 0, 0, 0, 0, 0, 0, 0, 0, 0, 0, 0, 0, 0, 0, 0, 0, 0, 0, 0, 0, 0, 0, 0, 0, 0, 0, 0, 0, 0, 0, 0, 0, 0, 0, 0, 0, 0, 0, 0, 0, 0, 0, 0, 0, 0, 0, 0, 0, 0, 0, 0, 0, 0, 0, 0, 0, 0, 0, 0, 0, 0, 0, 0, 0, 0, 0, 0, 0, 0, 0, 0, 0, 0, 0, 0, 0, 0, 0, 0, 0, 0, 0, 0, 0, 0, 0, 0, 0, 0, 0, 0, 0, 0, 0, 0, 0, 0, 0, 0, 0, 0, 0, 0, 0, 0, 0, 0, 0, 0, 0, 0, 0, 0, 0, 0, 0, 0, 0, 0, 0, 0, 0, 0, 0, 0, 0, 0, 0, 0, 0, 0, 0, 0, 0, 0, 0, 0, 0, 0, 0, 0, 0, 0, 0, 0, 0, 0, 0, 0, 0, 0, 0, 0, 0, 0, 0, 0, 0, 0, 0, 0, 0, 0, 0, 0, 0, 0, 0, 0, 0, 0, 0, 0, 0, 0, 0, 0, 0, 0, 0, 0, 0, 0, 0, 0, 0, 0, 0, 0, 0, 0, 0, 0, 0, 0, 0, 0, 0, 0, 0, 0, 0, 0, 0, 0, 0, 0, 0, 0, 0, 0, 0, 0, 0, 0, 0, 0, 0, 0, 0, 0, 0, 0, 0, 0, 0, 0, 0, 0, 0, 0, 0, 0, 0, 0, 0, 0, 0, 0, 0, 0, 0, 0, 0, 0, 0, 0, 0, 0, 0, 0, 0, 0, 0, 0, 0, 0, 0, 0, 0, 0, 0, 0, 0, 0, 0, 0, 0, 0, 0, 0, 0, 0, 0, 0, 0, 0, 0, 0, 0, 0, 0, 0, 0, 0, 0, 0, 0, 0, 0, 0, 0, 0, 0, 0, 0, 0, 0, 0, 0, 0, 0, 0, 0, 0, 0, 0, 0, 0, 0, 0, 0, 0, 0, 0, 0, 0, 0, 0, 0, 0, 0, 0, 0, 0, 0, 0, 0, 0, 0, 0, 0, 0, 0, 0, 0, 0, 0, 0, 0, 0, 0, 0, 0, 0, 0, 0, 0, 0, 0, 0, 0, 0, 0, 0, 0, 0, 0, 0, 0, 0, 0, 0, 0, 0, 0, 0, 0, 0, 0, 0, 0, 0, 0, 0, 0, 0, 0, 0, 0, 0, 0, 0, 0, 0, 0, 0, 0, 0, 0, 0, 0, 0, 0, 0, 0, 0, 0, 0, 0, 0, 0, 0, 0, 0, 0, 0, 0, 0, 0, 0, 0, 0, 0, 0, 0, 0, 0, 0, 0, 0, 0, 0, 0, 0, 0, 0, 0, 0, 0, 0, 0, 0, 0, 0, 0, 0, 0, 0, 0, 0, 0, 0, 0, 0, 0, 0, 0, 0, 0, 0, 0, 0, 0, 0, 0, 0, 0, 0, 0, 0, 0, 0, 0, 0, 0, 0, 0, 0, 0, 0, 0, 0, 0, 0, 0, 0, 0, 0, 0, 0, 0, 0, 0, 0, 0, 0, 0, 0, 0, 0, 0, 0, 0, 0, 0, 0, 0, 0, 0, 0, 0, 0, 0, 0, 0, 0, 0, 0, 0, 0, 0, 0, 0, 0, 0, 0, 0, 0, 0, 0, 0, 0, 0, 0, 0, 0, 0, 0, 0, 0, 0, 0, 0, 0, 0, 0, 0, 0, 0, 0, 0, 0, 0, 0, 0, 0, 0, 0, 0, 0, 0, 0, 0, 0, 0, 0, 0, 0, 0, 0, 0, 0, 0, 0, 0, 0, 0, 0, 0, 0, 0, 0, 0, 0, 0, 0, 0, 0, 0, 0, 0, 0, 0, 0, 0, 0, 0, 0, 0, 0, 0, 0, 0, 0, 0, 0, 0, 0, 0, 0, 0, 0, 0, 0, 0, 0, 0, 0, 0, 0, 0, 0, 0, 0, 0, 0, 0, 0, 0, 0, 0, 0, 0, 0, 0, 0, 0, 0, 0, 0, 0, 0, 0, 0, 0, 0, 0, 0, 0, 0, 0, 0, 0, 0, 0, 0, 0, 0, 0, 0, 0, 0, 0, 0, 0, 0, 0, 0, 0, 0, 0, 0, 0, 0, 0, 0, 0, 0, 0, 0, 0, 0, 0, 0, 0, 0, 0, 0, 0, 0, 0, 0, 0, 0, 0, 0, 0, 0, 0, 0, 0, 0, 0, 0, 0, 0, 0, 0, 0, 0, 0, 0, 0, 0, 0, 0, 0, 0, 0, 0, 0, 0, 0, 0, 0, 0, 0, 0, 0, 0, 0, 0, 0, 0, 0, 0, 0, 0, 0, 0, 0, 0, 0, 0, 0, 0, 0, 0, 0, 0, 0, 0, 0, 0, 0, 0, 0, 0, 0, 0, 0, 0, 0, 0, 0, 0, 0, 0, 0, 0, 0, 0, 0, 0, 0, 0, 0, 0, 0, 0, 0, 0, 0, 0, 0, 0, 0, 0, 0, 0, 0, 0, 0, 0, 0, 0, 0, 0, 0, 0, 0, 0, 0, 0, 0, 0, 0, 0, 0, 0, 0, 0, 0, 0, 0, 0, 0, 0, 0, 0, 0, 0, 0, 0, 0, 0, 0, 0, 0, 0, 0, 0, 0, 0, 0, 0, 0, 0, 0, 0, 0, 0, 0, 0, 0, 0, 0, 0, 0, 0, 0, 0, 0, 0, 0, 0, 0, 0, 0, 0, 0, 0, 0, 0, 0, 0, 0, 0, 0, 0, 0, 0, 0, 0, 0, 0, 0, 0, 0, 0, 0, 0, 0, 0, 0, 0, 0, 0, 0, 0, 0, 0, 0, 0, 0, 0, 0, 0, 0, 0, 0, 0, 0, 0, 0, 0, 0, 0, 0, 0, 0, 0, 0, 0, 0, 0, 0, 0, 0, 0, 0, 0, 0, 0, 0, 0, 0, 0, 0, 0, 0, 0, 0, 0, 0, 0, 0, 0, 0, 0, 0, 0, 0, 0, 0, 0, 0, 0, 0, 0, 0, 0, 0, 0, 0, 0, 0, 0, 0, 0, 0, 0, 0, 0, 0, 0, 0, 0, 0, 0, 0, 0, 0, 0, 0, 0, 0, 0, 0, 0, 0, 0, 0, 0, 0, 0, 0, 0, 0, 0, 0, 0, 0, 0, 0, 0, 0, 0, 0, 0, 0, 0, 0, 0, 0, 0, 0, 0, 0, 0, 0, 0, 0, 0, 0, 0, 0, 0, 0, 0, 0, 0, 0, 0, 0, 0, 0, 0, 0, 0, 0, 0, 0, 0, 0, 0, 0, 0, 0, 0, 0, 0, 0, 0, 0, 0, 0, 0, 0, 0, 0, 0, 0, 0, 0, 0, 0, 0, 0, 0, 0, 0, 0, 0, 0, 0, 0, 0, 0, 0, 0, 0, 0, 0, 0, 0, 0, 0, 0, 0, 0, 0, 0, 0, 0, 0, 0, 0, 0, 0, 0, 0, 0, 0, 0, 0, 0, 0, 0, 0, 0, 0, 0, 0, 0, 0, 0, 0, 0, 0, 0, 0, 0, 0, 0, 0, 0, 0, 0, 0, 0, 0, 0, 0, 0, 0, 0, 0, 0, 0, 0, 0, 0, 0, 0, 0, 0, 0, 0, 0, 0, 0, 0, 0, 0, 0, 0, 0, 0, 0, 0, 0, 0, 0, 0, 0, 0, 0, 0, 0, 0, 0, 0, 0, 0, 0, 0, 0, 0, 0, 0, 0, 0, 0, 0, 0, 0, 0, 0, 0, 0, 0, 0, 0, 0, 0, 0, 0, 0, 0, 0, 0, 0, 0, 0, 0, 0, 0, 0, 0, 0, 0, 0, 0, 0, 0, 0, 0, 0, 0, 0, 0, 0, 0, 0, 0, 0, 0, 0, 0, 0, 0, 0, 0, 0, 0, 0, 0, 0, 0, 0, 0, 0, 0, 0, 0, 0, 0, 0, 0, 0, 0, 0, 0, 0, 0, 0, 0, 0, 0, 0, 0, 0, 0, 0, 0, 0, 0, 0, 0, 0, 0, 0, 0, 0, 0, 0, 0, 0, 0, 0, 0, 0, 0, 0, 0, 0, 0, 0, 0, 0, 0, 0, 0, 0, 0, 0, 0, 0, 0, 0, 0, 0, 0, 0, 0, 0, 0, 0, 0, 0, 0, 0, 0, 0, 0, 0, 0, 0, 0, 0, 0, 0, 0, 0, 0, 0, 0, 0, 0, 0, 0, 0, 0, 0, 0, 0, 0, 0, 0, 0, 0, 0, 0, 0, 0, 0, 0, 0, 0, 0, 0, 0, 0, 0, 0, 0, 0, 0, 0, 0, 0, 0, 0, 0, 0, 0, 0, 0, 0, 0, 0, 0, 0, 0, 0, 0, 0, 0, 0, 0, 0, 0, 0, 0, 0, 0, 0, 0, 0, 0, 0, 0, 0, 0, 0, 0, 0, 0, 0, 0, 0, 0, 0, 0, 0, 0, 0, 0, 0, 0, 0, 0, 0, 0, 0, 0, 0, 0, 0, 0, 0, 0, 0, 0, 0, 0, 0, 0, 0, 0, 0, 0, 0, 0, 0, 0, 0, 0, 0, 0, 0, 0, 0, 0, 0, 0, 0, 0, 0, 0, 0, 0, 0, 0, 0, 0, 0, 0, 0, 0, 0, 0, 0, 0, 0, 0, 0, 0, 0, 0, 0, 0, 0, 0, 0, 0, 0, 0, 0, 0, 0, 0, 0, 0, 0, 0, 0, 0, 0, 0, 0, 0, 0, 0, 0, 0, 0, 0, 0, 0, 0, 0, 0, 0, 0, 0, 0, 0, 0, 0, 0, 0, 0, 0, 0, 0, 0, 0, 0, 0, 0, 0, 0, 0, 0, 0, 0, 0, 0, 0, 0, 0, 0, 0, 0, 0, 0, 0, 0, 0, 0, 0, 0, 0, 0, 0, 0, 0, 0, 0, 0, 0, 0, 0, 0, 0, 0, 0, 0, 0, 0, 0, 0, 0, 0, 0, 0, 0, 0, 0, 0, 0, 0, 0, 0, 0, 0, 0, 0, 0, 0, 0, 0, 0, 0, 0, 0, 0, 0, 0, 0, 0, 0, 0, 0, 0, 0, 0, 0, 0, 0, 0, 0, 0, 0, 0, 0, 0, 0, 0, 0, 0, 0, 0, 0, 0, 0, 0, 0, 0, 0, 0, 0, 0, 0, 0, 0, 0, 0, 0, 0, 0, 0, 0, 0, 0, 0, 0, 0, 0, 0, 0, 0, 0, 0, 0, 0, 0, 0, 0, 0, 0, 0, 0, 0, 0, 0, 0, 0, 0, 0, 0, 0, 0, 0, 0, 0, 0, 0, 0, 0, 0, 0, 0, 0, 0, 0, 0, 0, 0, 0, 0, 0, 0, 0, 0, 0, 0, 0, 0, 0, 0, 0, 0, 0, 0, 0, 0, 0, 0, 0, 0, 0, 0, 0, 0, 0, 0, 0, 0, 0, 0, 0, 0, 0, 0, 0, 0, 0, 0, 0, 0, 0, 0, 0, 0, 0, 0, 0, 0, 0, 0, 0, 0, 0, 0, 0, 0, 0, 0, 0, 0, 0, 0, 0, 0, 0, 0, 0, 0, 0, 0, 0, 0, 0, 0, 0, 0, 0, 0, 0, 0, 0, 0, 0, 0, 0, 0, 0, 0, 0, 0, 0, 0, 0, 0, 0, 0, 0, 0, 0, 0, 0, 0, 0, 0, 0, 0, 0, 0, 0, 0, 0, 0, 0, 0, 0, 0, 0, 0, 0, 0, 0, 0, 0, 0, 0, 0, 0, 0, 0, 0, 0, 0, 0, 0, 0, 0, 0, 0, 0, 0, 0, 0, 0, 0, 0, 0, 0, 0, 0, 0, 0, 0, 0, 0, 0, 0, 0, 0, 0, 0, 0, 0, 0, 0, 0, 0, 0, 0, 0, 0, 0, 0, 0, 0, 0, 0, 0, 0, 0, 0, 0, 0, 0, 0, 0, 0, 0, 0, 0, 0, 0, 0, 0, 0, 0, 0, 0, 0, 0, 0, 0, 0, 0, 0, 0, 0, 0, 0, 0, 0, 0, 0, 0, 0, 0, 0, 0, 0, 0, 0, 0, 0, 0, 0, 0, 0, 0, 0, 0, 0, 0, 0, 0, 0, 0, 0, 0, 0, 0, 0, 0, 0, 0, 0, 0, 0, 0, 0, 0, 0, 0, 0, 0, 0, 0, 0, 0, 0, 0, 0, 0, 0, 0, 0, 0, 0, 0, 0, 0, 0, 0, 0, 0, 0, 0, 0, 0, 0, 0, 0, 0, 0, 0, 0, 0, 0, 0, 0, 0, 0, 0, 0, 0, 0, 0, 0, 0, 0, 0, 0, 0, 0, 0, 0, 0, 0, 0, 0, 0, 0, 0, 0, 0, 0, 0, 0, 0, 0, 0, 0, 0, 0, 0, 0, 0, 0, 0, 0, 0, 0, 0, 0, 0, 0, 0, 0, 0, 0, 0, 0, 0, 0, 0, 0, 0, 0, 0, 0, 0, 0, 0, 0, 0, 0, 0, 0, 0, 0, 0, 0, 0, 0, 0, 0, 0, 0, 0, 0, 0, 0, 0, 0, 0, 0, 0, 0, 0, 0, 0, 0, 0, 0, 0, 0, 0, 0, 0, 0, 0, 0, 0, 0, 0, 0, 0, 0, 0, 0, 0, 0, 0, 0, 0, 0, 0, 0, 0, 0, 0, 0, 0, 0, 0, 0, 0, 0, 0, 0, 0, 0, 0, 0, 0, 0, 0, 0, 0, 0, 0, 0, 0, 0, 0, 0, 0, 0, 0, 0, 0, 0, 0, 0, 0, 0, 0, 0, 0, 0, 0, 0, 0, 0, 0, 0, 0, 0, 0, 0, 0, 0, 0, 0, 0, 0, 0, 0, 0, 0, 0, 0, 0, 0, 0, 0, 0, 0, 0, 0, 0, 0, 0, 0, 0, 0, 0, 0, 0, 0, 0, 0, 0, 0, 0, 0, 0, 0, 0, 0, 0, 0, 0, 0, 0, 0, 0, 0, 0, 0, 0, 0, 0, 0, 0, 0, 0, 0, 0, 0, 0, 0, 0, 0, 0, 0, 0, 0, 0, 0, 0, 0, 0, 0, 0, 0, 0, 0, 0, 0, 0, 0, 0, 0, 0, 0, 0, 0, 0, 0, 0, 0, 0, 0, 0, 0, 0, 0, 0, 0, 0, 0, 0, 0, 0, 0, 0, 0, 0, 0, 0, 0, 0, 0, 0, 0, 0, 0, 0, 0, 0, 0, 0, 0, 0, 0, 0, 0, 0, 0, 0, 0, 0, 0, 0, 0, 0, 0, 0, 0, 0, 0, 0, 0, 0, 0, 0, 0, 0, 0, 0, 0, 0, 0, 0, 0, 0, 0, 0, 0, 0, 0, 0, 0, 0, 0, 0, 0, 0, 0, 0, 0, 0, 0, 0, 0, 0, 0, 0, 0, 0, 0, 0, 0, 0, 0, 0, 0, 0, 0, 0, 0, 0, 0, 0, 0, 0, 0, 0, 0, 0, 0, 0, 0, 0, 0, 0, 0, 0, 0, 0, 0, 0, 0, 0, 0, 0, 0, 0, 0, 0, 0, 0, 0, 0, 0, 0, 0, 0, 0, 0, 0, 0, 0, 0, 0, 0, 0, 0, 0, 0, 0, 0, 0, 0, 0, 0, 0, 0, 0, 0, 0, 0, 0, 0, 0, 0, 0, 0, 0, 0, 0, 0, 0, 0, 0, 0, 0, 0, 0, 0, 0, 0, 0, 0, 0, 0, 0, 0, 0, 0, 0, 0, 0, 0, 0, 0, 0, 0, 0, 0, 0, 0, 0, 0, 0, 0, 0, 0, 0, 0, 0, 0, 0, 0, 0, 0, 0, 0, 0, 0, 0, 0, 0, 0, 0, 0, 0, 0, 0, 0, 0, 0, 0, 0, 0, 0, 0, 0, 0, 0, 0, 0, 0, 0, 0, 0, 0, 0, 0, 0, 0, 0, 0, 0, 0, 0, 0, 0, 0, 0, 0, 0, 0, 0, 0, 0, 0, 0, 0, 0, 0, 0, 0, 0, 0, 0, 0, 0, 0, 0, 0, 0, 0, 0, 0, 0, 0, 0, 0, 0, 0, 0, 0, 0, 0, 0, 0, 0, 0, 0, 0, 0, 0, 0, 0, 0, 0, 0, 0, 0, 0, 0, 0, 0, 0, 0, 0, 0, 0, 0, 0, 0, 0, 0, 0, 0, 0, 0, 0, 0, 0, 0, 0, 0, 0, 0, 0, 0, 0, 0, 0, 0, 0, 0, 0, 0, 0, 0, 0, 0, 0, 0, 0, 0, 0, 0, 0, 0, 0, 0, 0, 0, 0, 0, 0, 0, 0, 0, 0, 0, 0, 0, 0, 0, 0, 0, 0, 0, 0, 0, 0, 0, 0, 0, 0, 0, 0, 0, 0, 0, 0, 0, 0, 0, 0, 0, 0, 0, 0, 0, 0, 0, 0, 0, 0, 0, 0, 0, 0, 0, 0, 0, 0, 0, 0, 0, 0, 0, 0, 0, 0, 0, 0, 0, 0, 0, 0, 0, 0, 0, 0, 0, 0, 0, 0, 0, 0, 0, 0, 0, 0, 0, 0, 0, 0, 0, 0, 0, 0, 0, 0, 0, 0, 0, 0, 0, 0, 0, 0, 0, 0, 0, 0, 0, 0, 0, 0, 0, 0, 0, 0, 0, 0, 0, 0, 0, 0, 0, 0, 0, 0, 0, 0, 0, 0, 0, 0, 0, 0, 0, 0, 0, 0, 0, 0, 0, 0, 0, 0, 0, 0, 0, 0, 0, 0, 0, 0, 0, 0, 0, 0, 0, 0, 0, 0, 0, 0, 0, 0, 0, 0, 0, 0, 0, 0, 0, 0, 0, 0, 0, 0, 0, 0, 0, 0, 0, 0, 0, 0, 0, 0, 0, 0, 0, 0, 0, 0, 0, 0, 0, 0, 0, 0, 0, 0, 0, 0, 0, 0, 0, 0, 0, 0, 0, 0, 0, 0, 0, 0, 0, 0, 0, 0, 0, 0, 0, 0, 0, 0, 0, 0, 0, 0, 0, 0, 0, 0, 0, 0, 0, 0, 0, 0, 0, 0, 0, 0, 0, 0, 0, 0, 0, 0, 0, 0, 0, 0, 0, 0, 0, 0, 0, 0, 0, 0, 0, 0, 0, 0, 0, 0, 0, 0, 0, 0, 0, 0, 0, 0, 0, 0, 0, 0, 0, 0, 0, 0, 0, 0, 0, 0, 0, 0, 0, 0, 0, 0, 0, 0, 0, 0, 0, 0, 0, 0, 0, 0, 0, 0, 0, 0, 0, 0, 0, 0, 0, 0, 0, 0, 0, 0, 0, 0, 0, 0, 0, 0, 0, 0, 0, 0, 0, 0, 0, 0, 0, 0, 0, 0, 0, 0, 0, 0, 0, 0, 0, 0, 0, 0, 0, 0, 0, 0, 0, 0, 0, 0, 0, 0, 0, 0, 0, 0, 0, 0, 0, 0, 0, 0, 0, 0, 0, 0, 0, 0, 0, 0, 0, 0, 0, 0, 0, 0, 0, 0, 0, 0, 0, 0, 0, 0, 0, 0, 0, 0, 0, 0, 0, 0, 0, 0, 0, 0, 0, 0, 0, 0, 0, 0, 0, 0, 0, 0, 0, 0, 0, 0, 0, 0, 0, 0, 0, 0, 0, 0, 0, 0, 0, 0, 0, 0, 0, 0, 0, 0, 0, 0, 0, 0, 0, 0, 0, 0, 0, 0, 0, 0, 0, 0, 0, 0, 0, 0, 0, 0, 0, 0, 0, 0, 0, 0, 0, 0, 0, 0, 0, 0, 0, 0, 0, 0, 0, 0, 0, 0, 0, 0, 0, 0, 0, 0, 0, 0, 0, 0, 0, 0, 0, 0, 0, 0, 0, 0, 0, 0, 0, 0, 0, 0, 0, 0, 0, 0, 0, 0, 0, 0, 0, 0, 0, 0, 0, 0, 0, 0, 0, 0, 0, 0, 0, 0, 0, 0, 0, 0, 0, 0, 0, 0, 0, 0, 0, 0, 0, 0, 0, 0, 0, 0, 0, 0, 0, 0, 0, 0, 0, 0, 0, 0, 0, 0, 0, 0, 0, 0, 0, 0, 0, 0, 0, 0, 0, 0, 0, 0, 0, 0, 0, 0, 0, 0, 0, 0, 0, 0, 0, 0, 0, 0, 0, 0, 0, 0, 0, 0, 0, 0, 0, 0, 0, 0, 0, 0, 0, 0, 0, 0, 0, 0, 0, 0, 0, 0, 0, 0, 0, 0, 0, 0, 0, 0, 0, 0, 0, 0, 0, 0, 0, 0, 0, 0, 0, 0, 0, 0, 0, 0, 0, 0, 0, 0, 0, 0, 0, 0, 0, 0, 0, 0, 0, 0, 0, 0, 0, 0, 0, 0, 0, 0, 0, 0, 0, 0, 0, 0, 0, 0, 0, 0, 0, 0, 0, 0, 0, 0, 0, 0, 0, 0, 0, 0, 0, 0, 0, 0, 0, 0, 0, 0, 0, 0, 0, 0, 0, 0, 0, 0, 0, 0, 0, 0, 0, 0, 0, 0, 0, 0, 0, 0, 0, 0, 0, 0, 0, 0, 0, 0, 0, 0, 0, 0, 0, 0, 0, 0, 0, 0, 0, 0, 0, 0, 0, 0, 0, 0, 0, 0, 0, 0, 0, 0, 0, 0, 0, 0, 0, 0, 0, 0, 0, 0, 0, 0, 0, 0, 0, 0, 0, 0, 0, 0, 0, 0, 0, 0, 0, 0, 0, 0, 0, 0, 0, 0, 0, 0, 0, 0, 0, 0, 0, 0, 0, 0, 0, 0, 0, 0, 0, 0, 0, 0, 0, 0, 0, 0, 0, 0, 0, 0, 0, 0, 0, 0, 0, 0, 0, 0, 0, 0, 0, 0, 0, 0, 0, 0, 0, 0, 0, 0, 0, 0, 0, 0, 0, 0, 0, 0, 0, 0, 0, 0, 0, 0, 0, 0, 0, 0, 0, 0, 0, 0, 0, 0, 0, 0, 0, 0, 0, 0, 0, 0, 0, 0, 0, 0, 0, 0, 0, 0, 0, 0, 0, 0, 0, 0, 0, 0, 0, 0, 0, 0, 0, 0, 0, 0, 0, 0, 0, 0, 0, 0, 0, 0, 0, 0, 0, 0, 0, 0, 0, 0, 0, 0, 0, 0, 0, 0, 0, 0, 0, 0, 0, 0, 0, 0, 0, 0, 0, 0, 0, 0, 0, 0, 0, 0, 0, 0, 0, 0, 0, 0, 0, 0, 0, 0, 0, 0, 0, 0, 0, 0, 0, 0, 0, 0, 0, 0, 0, 0, 0, 0, 0, 0, 0, 0, 0, 0, 0, 0, 0, 0, 0, 0, 0, 0, 0, 0, 0, 0, 0, 0, 0, 0, 0, 0, 0, 0, 0, 0, 0, 0, 0, 0, 0, 0, 0, 0, 0, 0, 0, 0, 0, 0, 0, 0, 0, 0, 0, 0, 0, 0, 0, 0, 0, 0, 0, 0, 0, 0, 0, 0, 0, 0, 0, 0, 0, 0, 0, 0, 0, 0, 0, 0, 0, 0, 0, 0, 0, 0, 0, 0, 0, 0, 0, 0, 0, 0, 0, 0, 0, 0, 0, 0, 0, 0, 0, 0, 0, 0, 0, 0, 0, 0, 0, 0, 0, 0, 0, 0, 0, 0, 0, 0, 0, 0, 0, 0, 0, 0, 0, 0, 0, 0, 0, 0, 0, 0, 0, 0, 0, 0, 0, 0, 0, 0, 0, 0, 0, 0, 0, 0, 0, 0, 0, 0, 0, 0, 0, 0, 0, 0, 0, 0, 0, 0, 0, 0, 0, 0, 0, 0, 0, 0, 0, 0, 0, 0, 0, 0, 0, 0, 0, 0, 0, 0, 0, 0, 0, 0, 0, 0, 0, 0, 0, 0, 0, 0, 0, 0, 0, 0, 0, 0, 0, 0, 0, 0, 0, 0, 0, 0, 0, 0, 0, 0, 0, 0, 0, 0, 0, 0, 0, 0, 0, 0, 0, 0, 0, 0, 0, 0, 0, 0, 0, 0, 0, 0, 0, 0, 0, 0, 0, 0, 0, 0, 0, 0, 0, 0, 0, 0, 0, 0, 0, 0, 0, 0, 0, 0, 0, 0, 0, 0, 0, 0, 0, 0, 0, 0, 0, 0, 0, 0, 0, 0, 0, 0, 0, 0, 0, 0, 0, 0, 0, 0, 0, 0, 0, 0, 0, 0, 0, 0, 0, 0, 0, 0, 0, 0, 0, 0, 0, 0, 0, 0, 0, 0, 0, 0, 0, 0, 0, 0, 0, 0, 0, 0, 0, 0, 0, 0, 0, 0, 0, 0, 0, 0, 0, 0, 0, 0, 0, 0, 0, 0, 0, 0, 0, 0, 0, 0, 0, 0, 0, 0, 0, 0, 0, 0, 0, 0, 0, 0, 0, 0, 0, 0, 0, 0, 0, 0, 0, 0, 0, 0, 0, 0, 0, 0, 0, 0, 0, 0, 0, 0, 0, 0, 0, 0, 0, 0, 0, 0, 0, 0, 0, 0, 0, 0, 0, 0, 0, 0, 0, 0, 0, 0, 0, 0, 0, 0, 0, 0, 0, 0, 0, 0, 0, 0, 0, 0, 0, 0, 0, 0, 0, 0, 0, 0, 0, 0, 0, 0, 0, 0, 0, 0, 0, 0, 0, 0, 0, 0, 0, 0, 0, 0, 0, 0, 0, 0, 0, 0, 0, 0, 0, 0, 0, 0, 0, 0, 0, 0, 0, 0, 0, 0, 0, 0, 0, 0, 0, 0, 0, 0, 0, 0, 0, 0, 0, 0, 0, 0, 0, 0, 0, 0, 0, 0, 0, 0, 0, 0, 0, 0, 0, 0, 0, 0, 0, 0, 0, 0, 0, 0, 0, 0, 0, 0, 0, 0, 0, 0, 0, 0, 0, 0, 0, 0, 0, 0, 0, 0, 0, 0, 0, 0, 0, 0, 0, 0, 0, 0, 0, 0, 0, 0, 0, 0, 0, 0, 0, 0, 0, 0, 0, 0, 0, 0, 0, 0, 0, 0, 0, 0, 0, 0, 0, 0, 0, 0, 0, 0, 0, 0, 0, 0, 0, 0, 0, 0, 0, 0, 0, 0, 0, 0, 0, 0, 0, 0, 0, 0, 0, 0, 0, 0, 0, 0, 0, 0, 0, 0, 0, 0, 0, 0, 0, 0, 0, 0, 0, 0, 0, 0, 0, 0, 0, 0, 0, 0, 0, 0, 0, 0, 0, 0, 0, 0, 0, 0, 0, 0, 0, 0, 0, 0, 0, 0, 0, 0, 0, 0, 0, 0, 0, 0, 0, 0, 0, 0, 0, 0, 0, 0, 0, 0, 0, 0, 0, 0, 0, 0, 0, 0, 0, 0, 0, 0, 0, 0, 0, 0, 0, 0, 0, 0, 0, 0, 0, 0, 0, 0, 0, 0, 0, 0, 0, 0, 0, 0, 0, 0, 0, 0, 0, 0, 0, 0, 0, 0, 0, 0, 0, 0, 0, 0, 0, 0, 0, 0, 0, 0, 0, 0, 0, 0, 0, 0, 0, 0, 0, 0, 0, 0, 0, 0, 0, 0, 0, 0, 0, 0, 0, 0, 0, 0, 0, 0, 0, 0, 0, 0, 0, 0, 0, 0, 0, 0, 0, 0, 0, 0, 0, 0, 0, 0, 0, 0, 0, 0, 0, 0, 0, 0, 0, 0, 0, 0, 0, 0, 0, 0, 0, 0, 0, 0, 0, 0, 0, 0, 0, 0, 0, 0, 0, 0, 0, 0, 0, 0, 0, 0, 0, 0, 0, 0, 0, 0, 0, 0, 0, 0, 0, 0, 0, 0, 0, 0, 0, 0, 0, 0, 0, 0, 0, 0, 0, 0, 0, 0, 0, 0, 0, 0, 0, 0, 0, 0, 0, 0, 0, 0, 0, 0, 0, 0, 0, 0, 0, 0, 0, 0, 0, 0, 0, 0, 0, 0, 0, 0, 0, 0, 0, 0, 0, 0, 0, 0, 0, 0, 0, 0, 0, 0, 0, 0, 0, 0, 0, 0, 0, 0, 0, 0, 0, 0, 0, 0, 0, 0, 0, 0, 0, 0, 0, 0, 0, 0, 0, 0, 0, 0, 0, 0, 0, 0, 0, 0, 0, 0, 0, 0, 0, 0, 0, 0, 0, 0, 0, 0, 0, 0, 0, 0, 0, 0, 0, 0, 0, 0, 0, 0, 0, 0, 0, 0, 0, 0, 0, 0, 0, 0, 0, 0, 0, 0, 0, 0, 0, 0, 0, 0, 0, 0, 0, 0, 0, 0, 0, 0, 0, 0, 0, 0, 0, 0, 0, 0, 0, 0, 0, 0, 0, 0, 0, 0, 0, 0, 0, 0, 0, 0, 0, 0, 0, 0, 0, 0, 0, 0, 0, 0, 0, 0, 0, 0, 0, 0, 0, 0, 0, 0, 0, 0, 0, 0, 0, 0, 0, 0, 0, 0, 0, 0, 0, 0, 0, 0, 0, 0, 0, 0, 0, 0, 0, 0, 0, 0, 0, 0, 0, 0, 0, 0, 0, 0, 0, 0, 0, 0, 0, 0, 0, 0, 0, 0, 0, 0, 0, 0, 0, 0, 0, 0, 0, 0, 0, 0, 0, 0, 0, 0, 0, 0, 0, 0, 0, 0, 0, 0, 0, 0, 0, 0, 0, 0, 0, 0, 0, 0, 0, 0, 0, 0, 0, 0, 0, 0, 0, 0, 0, 0, 0, 0, 0, 0, 0, 0, 0, 0, 0, 0, 0, 0, 0, 0, 0, 0, 0, 0, 0, 0, 0, 0, 0, 0, 0, 0, 0, 0, 0, 0, 0, 0, 0, 0, 0, 0, 0, 0, 0, 0, 0, 0, 0, 0, 0, 0, 0, 0, 0, 0, 0, 0, 0, 0, 0, 0, 0, 0, 0, 0, 0, 0, 0, 0, 0, 0, 0, 0, 0, 0, 0, 0, 0, 0, 0, 0, 0, 0, 0, 0, 0, 0, 0, 0, 0, 0, 0, 0, 0, 0, 0, 0, 0, 0, 0, 0, 0, 0, 0, 0, 0, 0, 0, 0, 0, 0, 0, 0, 0, 0, 0, 0, 0, 0, 0, 0, 0, 0, 0, 0, 0, 0, 0, 0, 0, 0, 0, 0, 0, 0, 0, 0, 0, 0, 0, 0, 0, 0, 0, 0, 0, 0, 0, 0, 0, 0, 0, 0, 0, 0, 0, 0, 0, 0, 0, 0, 0, 0, 0, 0, 0, 0, 0, 0, 0, 0, 0, 0, 0, 0, 0, 0, 0, 0, 0, 0, 0, 0, 0, 0, 0, 0, 0, 0, 0, 0, 0, 0, 0, 0, 0, 0, 0, 0, 0, 0, 0, 0, 0, 0, 0, 0, 0, 0, 0, 0, 0, 0, 0, 0, 0, 0, 0, 0, 0, 0, 0, 0, 0, 0, 0, 0, 0, 0, 0, 0, 0, 0, 0, 0, 0, 0, 0, 0, 0, 0, 0, 0, 0, 0, 0, 0, 0, 0, 0, 0, 0, 0, 0, 0, 0, 0, 0, 0, 0, 0, 0, 0, 0, 0, 0, 0, 0, 0, 0, 0, 0, 0, 0, 0, 0, 0, 0, 0, 0, 0, 0, 0, 0, 0, 0, 0, 0, 0, 0, 0, 0, 0, 0, 0, 0, 0, 0, 0, 0, 0, 0, 0, 0, 0, 0, 0, 0, 0, 0, 0, 0, 0, 0, 0, 0, 0, 0, 0, 0, 0, 0, 0, 0, 0, 0, 0, 0, 0, 0, 0, 0, 0, 0, 0, 0, 0, 0, 0, 0, 0, 0, 0, 0, 0, 0, 0, 0, 0, 0, 0, 0, 0, 0, 0, 0, 0, 0, 0, 0, 0, 0, 0, 0, 0, 0, 0, 0, 0, 0, 0, 0, 0, 0, 0, 0, 0, 0, 0, 0, 0, 0, 0, 0, 0, 0, 0, 0, 0, 0, 0, 0, 0, 0, 0, 0, 0, 0, 0, 0, 0, 0, 0, 0, 0, 0, 0, 0, 0, 0, 0, 0, 0, 0, 0, 0, 0, 0, 0, 0, 0, 0, 0, 0, 0, 0, 0, 0, 0, 0, 0, 0, 0, 0, 0, 0, 0, 0, 0, 0, 0, 0, 0, 0, 0, 0, 0, 0, 0, 0, 0, 0, 0, 0, 0, 0, 0, 0, 0, 0, 0, 0, 0, 0, 0, 0, 0, 0, 0, 0, 0, 0, 0, 0, 0, 0, 0, 0, 0, 0, 0, 0, 0, 0, 0, 0, 0, 0, 0, 0, 0, 0, 0, 0, 0, 0, 0, 0, 0, 0, 0, 0, 0, 0, 0, 0, 0, 0, 0, 0, 0, 0, 0, 0, 0, 0, 0, 0, 0, 0, 0, 0, 0, 0, 0, 0, 0, 0, 0, 0, 0, 0, 0, 0, 0, 0, 0, 0, 0, 0, 0, 0, 0, 0, 0, 0, 0, 0, 0, 0, 0, 0, 0, 0, 0, 0, 0, 0, 0, 0, 0, 0, 0, 0, 0, 0, 0, 0, 0, 0, 0, 0, 0, 0, 0, 0, 0, 0, 0, 0, 0, 0, 0, 0, 0, 0, 0, 0, 0, 0, 0, 0, 0, 0, 0, 0, 0, 0, 0, 0, 0, 0, 0, 0, 0, 0, 0, 0, 0, 0, 0, 0, 0, 0, 0, 0, 0, 0, 0, 0, 0, 0, 0, 0, 0, 0, 0, 0, 0, 0, 0, 0, 0, 0, 0, 0, 0, 0, 0, 0, 0, 0, 0, 0, 0, 0, 0, 0, 0, 0, 0, 0, 0, 0, 0, 0, 0, 0, 0, 0, 0, 0, 0, 0, 0, 0, 0, 0, 0, 0, 0, 0, 0, 0, 0, 0, 0, 0, 0, 0, 0, 0, 0, 0, 0, 0, 0, 0, 0, 0, 0, 0, 0, 0, 0, 0, 0, 0, 0, 0, 0, 0, 0, 0, 0, 0, 0, 0, 0, 0, 0, 0, 0, 0, 0, 0, 0, 0, 0, 0, 0, 0, 0, 0, 0, 0, 0, 0, 0, 0, 0, 0, 0, 0, 0, 0, 0, 0, 0, 0, 0, 0, 0, 0, 0, 0, 0, 0, 0, 0, 0, 0, 0, 0, 0, 0, 0, 0, 0, 0, 0, 0, 0, 0, 0, 0, 0, 0, 0, 0, 0, 0, 0, 0, 0, 0, 0, 0, 0, 0, 0, 0, 0, 0, 0, 0, 0, 0, 0, 0, 0, 0, 0, 0, 0, 0, 0, 0, 0, 0, 0, 0, 0, 0, 0, 0, 0, 0, 0, 0, 0, 0, 0, 0, 0, 0, 0, 0, 0, 0, 0, 0, 0, 0, 0, 0, 0, 0, 0, 0, 0, 0, 0, 0, 0, 0, 0, 0, 0, 0, 0, 0, 0, 0, 0, 0, 0, 0, 0, 0, 0, 0, 0, 0, 0, 0, 0, 0, 0, 0, 0, 0, 0, 0, 0, 0, 0, 0, 0, 0, 0, 0, 0, 0, 0, 0, 0, 0, 0, 0, 0, 0, 0, 0, 0, 0, 0, 0, 0, 0, 0, 0, 0, 0, 0, 0, 0, 0, 0, 0, 0, 0, 0, 0, 0, 0, 0, 0, 0, 0, 0, 0, 0, 0, 0, 0, 0, 0, 0, 0, 0, 0, 0, 0, 0, 0, 0, 0, 0, 0, 0, 0, 0, 0, 0, 0, 0, 0, 0, 0, 0, 0, 0, 0, 0, 0, 0, 0, 0, 0, 0, 0, 0, 0, 0, 0, 0, 0, 0, 0, 0, 0, 0, 0, 0, 0, 0, 0, 0, 0, 0, 0, 0, 0, 0, 0, 0, 0, 0, 0, 0, 0, 0, 0, 0, 0, 0, 0, 0, 0, 0, 0, 0, 0, 0, 0, 0, 0, 0, 0, 0, 0, 0, 0, 0, 0, 0, 0, 0, 0, 0, 0, 0, 0, 0, 0, 0, 0, 0, 0, 0, 0, 0, 0, 0, 0, 0, 0, 0, 0, 0, 0, 0, 0, 0, 0, 0, 0, 0, 0, 0, 0, 0, 0, 0, 0, 0, 0, 0, 0, 0, 0, 0, 0, 0, 0, 0, 0, 0, 0, 0, 0, 0, 0, 0, 0, 0, 0, 0, 0, 0, 0, 0, 0, 0, 0, 0, 0, 0, 0, 0, 0, 0, 0, 0, 0, 0, 0, 0, 0, 0, 0, 0, 0, 0, 0, 0, 0, 0, 0, 0, 0, 0, 0, 0, 0, 0, 0, 0, 0, 0, 0, 0, 0, 0, 0, 0, 0, 0, 0, 0, 0, 0, 0, 0, 0, 0, 0, 0, 0, 0, 0, 0, 0, 0, 0, 0, 0, 0, 0, 0, 0, 0, 0, 0, 0, 0, 0, 0, 0, 0, 0, 0, 0, 0, 0, 0, 0, 0, 0, 0, 0, 0, 0, 0, 0, 0, 0, 0, 0, 0, 0, 0, 0, 0, 0, 0, 0, 0, 0, 0, 0, 0, 0, 0, 0, 0, 0, 0, 0, 0, 0, 0, 0, 0, 0, 0, 0, 0, 0, 0, 0, 0, 0, 0, 0, 0, 0, 0, 0, 0, 0, 0, 0, 0, 0, 0, 0, 0, 0, 0, 0, 0, 0, 0, 0, 0, 0, 0, 0, 0, 0, 0, 0, 0, 0, 0, 0, 0, 0, 0, 0, 0, 0, 0, 0, 0, 0, 0, 0, 0, 0, 0, 0, 0, 0, 0, 0, 0, 0, 0, 0, 0, 0, 0, 0, 0, 0, 0, 0, 0, 0, 0, 0, 0, 0, 0, 0, 0, 0, 0, 0, 0, 0, 0, 0, 0, 0, 0, 0, 0, 0, 0, 0, 0, 0, 0, 0, 0, 0, 0, 0, 0, 0, 0, 0, 0, 0, 0, 0, 0, 0, 0, 0, 0, 0, 0, 0, 0, 0, 0, 0, 0, 0, 0, 0, 0, 0, 0, 0, 0, 0, 0, 0, 0, 0, 0, 0, 0, 0, 0, 0, 0, 0, 0, 0, 0, 0, 0, 0, 0, 0, 0, 0, 0, 0, 0, 0, 0, 0, 0, 0, 0, 0, 0, 0, 0, 0, 0, 0, 0, 0, 0, 0, 0, 0, 0, 0, 0, 0, 0, 0, 0, 0, 0, 0, 0, 0, 0, 0, 0, 0, 0, 0, 0, 0, 0, 0, 0, 0, 0, 0, 0, 0, 0, 0, 0, 0, 0, 0, 0, 0, 0, 0, 0, 0, 0, 0, 0, 0, 0, 0, 0, 0, 0, 0, 0, 0, 0, 0, 0, 0, 0, 0, 0, 0, 0, 0, 0, 0, 0, 0, 0, 0, 0, 0, 0, 0, 0, 0, 0, 0, 0, 0, 0, 0, 0, 0, 0, 0, 0, 0, 0, 0, 0, 0, 0, 0, 0, 0, 0, 0, 0, 0, 0, 0, 0, 0, 0, 0, 0, 0, 0, 0, 0, 0, 0, 0, 0, 0, 0, 0, 0, 0, 0, 0, 0, 0, 0, 0, 0, 0, 0, 0, 0, 0, 0, 0, 0, 0, 0, 0, 0, 0, 0, 0, 0, 0, 0, 0, 0, 0, 0, 0, 0, 0, 0, 0, 0, 0, 0, 0, 0, 0, 0, 0, 0, 0, 0, 0, 0, 0, 0, 0, 0, 0, 0, 0, 0, 0, 0, 0, 0, 0, 0, 0, 0, 0, 0, 0, 0, 0, 0, 0, 0, 0, 0, 0, 0, 0, 0, 0, 0, 0, 0, 0, 0, 0, 0, 0, 0, 0, 0, 0, 0, 0, 0, 0, 0, 0, 0, 0, 0, 0, 0, 0, 0, 0, 0, 0, 0, 0, 0, 0, 0, 0, 0, 0, 0, 0, 0, 0, 0, 0, 0, 0, 0, 0, 0, 0, 0, 0, 0, 0, 0, 0, 0, 0, 0, 0, 0, 0, 0, 0, 0, 0, 0, 0, 0, 0, 0, 0, 0, 0, 0, 0, 0, 0, 0, 0, 0, 0, 0, 0, 0, 0, 0, 0, 0, 0, 0, 0, 0, 0, 0, 0, 0, 0, 0, 0, 0, 0, 0, 0, 0, 0, 0, 0, 0, 0, 0, 0, 0, 0, 0, 0, 0, 0, 0, 0, 0, 0, 0, 0, 0, 0, 0, 0, 0, 0, 0, 0, 0, 0, 0, 0, 0, 0, 0, 0, 0, 0, 0, 0, 0, 0, 0, 0, 0, 0, 0, 0, 0, 0, 0, 0, 0, 0, 0, 0, 0, 0, 0, 0, 0, 0, 0, 0, 0, 0, 0, 0, 0, 0, 0, 0, 0, 0, 0, 0, 0, 0, 0, 0, 0, 0, 0, 0, 0, 0, 0, 0, 0, 0, 0, 0, 0, 0, 0, 0, 0, 0, 0, 0, 0, 0, 0, 0, 0, 0, 0, 0, 0, 0, 0, 0, 0, 0, 0, 0, 0, 0, 0, 0, 0, 0, 0, 0, 0, 0, 0, 0, 0, 0, 0, 0, 0, 0, 0, 0, 0, 0, 0, 0, 0, 0, 0, 0, 0, 0, 0, 0, 0, 0, 0, 0, 0, 0, 0, 0, 0, 0, 0, 0, 0, 0, 0, 0, 0, 0, 0, 0, 0, 0, 0, 0, 0, 0, 0, 0, 0, 0, 0, 0, 0, 0, 0, 0, 0, 0, 0, 0, 0, 0, 0, 0, 0, 0, 0, 0, 0, 0, 0, 0, 0, 0, 0, 0, 0, 0, 0, 0, 0, 0, 0, 0, 0, 0, 0, 0, 0, 0, 0, 0, 0, 0, 0, 0, 0, 0, 0, 0, 0, 0, 0, 0, 0, 0, 0, 0, 0, 0, 0, 0, 0, 0, 0, 0, 0, 0, 0, 0, 0, 0, 0, 0, 0, 0, 0, 0, 0, 0, 0, 0, 0, 0, 0, 0, 0, 0, 0, 0, 0, 0, 0, 0, 0, 0, 0, 0, 0, 0, 0, 0, 0, 0, 0, 0, 0, 0, 0, 0, 0, 0, 0, 0, 0, 0, 0, 0, 0, 0, 0, 0, 0, 0, 0, 0, 0, 0, 0, 0, 0, 0, 0, 0, 0, 0, 0, 0, 0, 0, 0, 0, 0, 0, 0, 0, 0, 0, 0, 0, 0, 0, 0, 0, 0, 0, 0, 0, 0, 0, 0, 0, 0, 0, 0, 0, 0, 0, 0, 0, 0, 0, 0, 0, 0, 0, 0, 0, 0, 0, 0, 0, 0, 0, 0, 0, 0, 0, 0, 0, 0, 0, 0, 0, 0, 0, 0, 0, 0, 0, 0, 0, 0, 0, 0, 0, 0, 0, 0, 0, 0, 0, 0, 0, 0, 0, 0, 0, 0, 0, 0, 0, 0, 0, 0, 0, 0, 0, 0, 0, 0, 0, 0, 0, 0, 0, 0, 0, 0, 0, 0, 0, 0, 0, 0, 0, 0, 0, 0, 0, 0, 0, 0, 0, 0, 0, 0, 0, 0, 0, 0, 0, 0, 0, 0, 0, 0, 0, 0, 0, 0, 0, 0, 0, 0, 0, 0, 0, 0, 0, 0, 0, 0, 0, 0, 0, 0, 0, 0, 0, 0, 0, 0, 0, 0, 0, 0, 0, 0, 0, 0, 0, 0, 0, 0, 0, 0, 0, 0, 0, 0, 0, 0, 0, 0, 0, 0, 0, 0, 0, 0, 0, 0, 0, 0, 0, 0, 0, 0, 0, 0, 0, 0, 0, 0, 0, 0, 0, 0, 0, 0, 0, 0, 0, 0, 0, 0, 0, 0, 0, 0, 0, 0, 0, 0, 0, 0, 0, 0, 0, 0, 0, 0, 0, 0, 0, 0, 0, 0, 0, 0, 0, 0, 0, 0, 0, 0, 0, 0, 0, 0, 0, 0, 0, 0, 0, 0, 0, 0, 0, 0, 0, 0, 0, 0, 0, 0, 0, 0, 0, 0, 0, 0, 0, 0, 0, 0, 0, 0, 0, 0, 0, 0, 0, 0, 0, 0, 0, 0, 0, 0, 0, 0, 0, 0, 0, 0, 0, 0, 0, 0, 0, 0, 0, 0, 0, 0, 0, 0, 0, 0, 0, 0, 0, 0, 0, 0, 0, 0, 0, 0, 0, 0, 0, 0, 0, 0, 0, 0, 0, 0, 0, 0, 0, 0, 0, 0, 0, 0, 0, 0, 0, 0, 0, 0, 0, 0, 0, 0, 0, 0, 0, 0, 0, 0, 0, 0, 0, 0, 0, 0, 0, 0, 0, 0, 0, 0, 0, 0, 0, 0, 0, 0, 0, 0, 0, 0, 0, 0, 0, 0, 0, 0, 0, 0, 0, 0, 0, 0, 0, 0, 0, 0, 0, 0, 0, 0, 0, 0, 0, 0, 0, 0, 0, 0, 0, 0, 0, 0, 0, 0, 0, 0, 0, 0, 0, 0, 0, 0, 0, 0, 0, 0, 0, 0, 0, 0, 0, 0, 0, 0, 0, 0, 0, 0, 0, 0, 0, 0, 0, 0, 0, 0, 0, 0, 0, 0, 0, 0, 0, 0, 0, 0, 0, 0, 0, 0, 0, 0, 0, 0, 0, 0, 0, 0, 0, 0, 0, 0, 0, 0, 0, 0, 0, 0, 0, 0, 0, 0, 0, 0, 0, 0, 0, 0, 0, 0, 0, 0, 0, 0, 0, 0, 0, 0, 0, 0, 0, 0, 0, 0, 0, 0, 0, 0, 0, 0, 0, 0, 0, 0, 0, 0, 0, 0, 0, 0, 0, 0, 0, 0, 0, 0, 0, 0, 0, 0, 0, 0, 0, 0, 0, 0, 0, 0, 0, 0, 0, 0, 0, 0, 0, 0, 0, 0, 0, 0, 0, 0, 0, 0, 0, 0, 0, 0, 0, 0, 0, 0, 0, 0, 0, 0, 0, 0, 0, 0, 0, 0, 0, 0, 0, 0, 0, 0, 0, 0, 0, 0, 0, 0, 0, 0, 0, 0, 0, 0, 0, 0, 0, 0, 0, 0, 0, 0, 0, 0, 0, 0, 0, 0, 0, 0, 0, 0, 0, 0, 0, 0, 0, 0, 0, 0, 0, 0, 0, 0, 0, 0, 0, 0, 0, 0, 0, 0, 0, 0, 0, 0, 0, 0, 0, 0, 0, 0, 0, 0, 0, 0, 0, 0, 0, 0, 0, 0, 0, 0, 0, 0, 0, 0, 0, 0, 0, 0, 0, 0, 0, 0, 0, 0, 0, 0, 0, 0, 0, 0, 0, 0, 0, 0, 0, 0, 0, 0, 0, 0, 0, 0, 0, 0, 0, 0, 0, 0, 0, 0, 0, 0, 0, 0, 0, 0, 0, 0, 0, 0, 0, 0, 0, 0, 0, 0, 0, 0, 0, 0, 0, 0, 0, 0, 0, 0, 0, 0, 0, 0, 0, 0, 0, 0, 0, 0, 0, 0, 0, 0, 0, 0, 0, 0, 0, 0, 0, 0, 0, 0, 0, 0, 0, 0, 0, 0, 0, 0, 0, 0, 0, 0, 0, 0, 0, 0, 0, 0, 0, 0, 0, 0, 0, 0, 0, 0, 0, 0, 0, 0, 0, 0, 0, 0, 0, 0, 0, 0, 0, 0, 0, 0, 0, 0, 0, 0]\n"
     ]
    }
   ],
   "source": [
    "print(resulttestSVM)"
   ]
  },
  {
   "cell_type": "code",
   "execution_count": 37,
   "metadata": {
    "collapsed": false
   },
   "outputs": [],
   "source": [
    "counter = 0\n",
    "predictions = open(\"predictions_Category.txt\", 'w')\n",
    "for l in open(\"pairs_Category.txt\"):\n",
    "    if l.startswith(\"userID\"):\n",
    "        #header\n",
    "        predictions.write(l)\n",
    "        continue\n",
    "    u,i = l.strip().split('-')\n",
    "    \n",
    "    predictions.write(u + '-' + i +',' + str(resulttestSVM[counter]) + '\\n')\n",
    "    counter += 1\n",
    "\n",
    "\n",
    "predictions.close()"
   ]
  },
  {
   "cell_type": "code",
   "execution_count": null,
   "metadata": {
    "collapsed": true
   },
   "outputs": [],
   "source": []
  }
 ],
 "metadata": {
  "anaconda-cloud": {},
  "kernelspec": {
   "display_name": "Python 2",
   "language": "python",
   "name": "python2"
  },
  "language_info": {
   "codemirror_mode": {
    "name": "ipython",
    "version": 2
   },
   "file_extension": ".py",
   "mimetype": "text/x-python",
   "name": "python",
   "nbconvert_exporter": "python",
   "pygments_lexer": "ipython2",
   "version": "2.7.13"
  }
 },
 "nbformat": 4,
 "nbformat_minor": 1
}
